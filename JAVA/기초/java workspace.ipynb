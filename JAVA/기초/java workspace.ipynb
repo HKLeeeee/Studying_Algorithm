{
 "cells": [
  {
   "cell_type": "code",
   "execution_count": 1,
   "id": "45fd7a33",
   "metadata": {},
   "outputs": [
    {
     "name": "stdout",
     "output_type": "stream",
     "text": [
      "false\n",
      "true\n"
     ]
    }
   ],
   "source": [
    "char c = 'a';\n",
    "\n",
    "System.out.println(Character.isUpperCase(c));\n",
    "System.out.println(Character.isLowerCase(c));"
   ]
  },
  {
   "cell_type": "code",
   "execution_count": 3,
   "id": "dd754543",
   "metadata": {},
   "outputs": [
    {
     "data": {
      "text/plain": "true"
     },
     "execution_count": 3,
     "metadata": {},
     "output_type": "execute_result"
    }
   ],
   "source": [
    "Character.isLowerCase(c);"
   ]
  },
  {
   "cell_type": "code",
   "execution_count": 10,
   "id": "d6acdc63",
   "metadata": {},
   "outputs": [
    {
     "name": "stdout",
     "output_type": "stream",
     "text": [
      "!@#$%^&*(\\'\"<>?:;\n"
     ]
    }
   ],
   "source": [
    "System.out.println(\"!@#$%^&*(\\\\\\'\\\"<>?:;\");"
   ]
  },
  {
   "cell_type": "code",
   "execution_count": 11,
   "id": "d748b3a9",
   "metadata": {},
   "outputs": [
    {
     "data": {
      "text/plain": [
       "100"
      ]
     },
     "execution_count": 11,
     "metadata": {},
     "output_type": "execute_result"
    }
   ],
   "source": [
    "100 // 2"
   ]
  },
  {
   "cell_type": "code",
   "execution_count": 12,
   "id": "c54f4dff",
   "metadata": {},
   "outputs": [
    {
     "data": {
      "text/plain": [
       "50"
      ]
     },
     "execution_count": 12,
     "metadata": {},
     "output_type": "execute_result"
    }
   ],
   "source": [
    "100/2"
   ]
  },
  {
   "cell_type": "code",
   "execution_count": 13,
   "id": "19e8755e",
   "metadata": {},
   "outputs": [
    {
     "data": {
      "text/plain": [
       "5"
      ]
     },
     "execution_count": 13,
     "metadata": {},
     "output_type": "execute_result"
    }
   ],
   "source": [
    "11/2"
   ]
  },
  {
   "cell_type": "code",
   "execution_count": 14,
   "id": "ab1c3b8a",
   "metadata": {},
   "outputs": [
    {
     "data": {
      "text/plain": [
       "1"
      ]
     },
     "execution_count": 14,
     "metadata": {},
     "output_type": "execute_result"
    }
   ],
   "source": [
    "11%2"
   ]
  },
  {
   "cell_type": "code",
   "execution_count": 18,
   "id": "8acbeb53",
   "metadata": {},
   "outputs": [],
   "source": [
    "String my_string =\"He11oWor1d\";\n",
    "String overwrite_string = \"lloWorl\";\n",
    "int s = 2;"
   ]
  },
  {
   "cell_type": "code",
   "execution_count": 19,
   "id": "021ffde4",
   "metadata": {},
   "outputs": [
    {
     "name": "stdout",
     "output_type": "stream",
     "text": [
      "He\n",
      "HelloWorl\n"
     ]
    }
   ],
   "source": [
    "String answer = \"\";\n",
    "int idx = 0;\n",
    "for(int i = idx; i<s; i++){\n",
    "    answer += my_string.charAt(i);\n",
    "}\n",
    "System.out.println(answer);\n",
    "answer += overwrite_string;\n",
    "System.out.println(answer);\n"
   ]
  },
  {
   "cell_type": "code",
   "execution_count": 25,
   "id": "232c8bc3",
   "metadata": {},
   "outputs": [],
   "source": [
    "idx = answer.length();\n",
    "for(int i = idx; i<my_string.length(); i++){\n",
    "    answer += my_string.charAt(i);\n",
    "}"
   ]
  },
  {
   "cell_type": "code",
   "execution_count": 26,
   "id": "780cc06d",
   "metadata": {},
   "outputs": [
    {
     "data": {
      "text/plain": [
       "HelloWorld"
      ]
     },
     "execution_count": 26,
     "metadata": {},
     "output_type": "execute_result"
    }
   ],
   "source": [
    "answer"
   ]
  },
  {
   "cell_type": "code",
   "execution_count": 30,
   "id": "e9fcfc49",
   "metadata": {},
   "outputs": [
    {
     "name": "stdout",
     "output_type": "stream",
     "text": [
      "012\n",
      "3456789\n",
      "78\n",
      "789\n"
     ]
    }
   ],
   "source": [
    "String str = \"0123456789\";\n",
    "System.out.println(str.substring(0, 3));\n",
    "System.out.println(str.substring(3));\n",
    "System.out.println(str.substring(7, 9));\n",
    "System.out.println(str.substring(7));"
   ]
  },
  {
   "cell_type": "code",
   "execution_count": 32,
   "id": "f185b9f3",
   "metadata": {},
   "outputs": [],
   "source": [
    "String a = str.substring(10)"
   ]
  },
  {
   "cell_type": "code",
   "execution_count": 33,
   "id": "cef48e91",
   "metadata": {},
   "outputs": [
    {
     "data": {
      "text/plain": []
     },
     "execution_count": 33,
     "metadata": {},
     "output_type": "execute_result"
    }
   ],
   "source": [
    "a"
   ]
  },
  {
   "cell_type": "code",
   "execution_count": 34,
   "id": "c1d2733e",
   "metadata": {},
   "outputs": [
    {
     "data": {
      "text/plain": [
       "0"
      ]
     },
     "execution_count": 34,
     "metadata": {},
     "output_type": "execute_result"
    }
   ],
   "source": [
    "a.length()"
   ]
  },
  {
   "cell_type": "code",
   "execution_count": null,
   "id": "fcd51ffd",
   "metadata": {},
   "outputs": [],
   "source": []
  }
 ],
 "metadata": {
  "kernelspec": {
   "display_name": "Java",
   "language": "java",
   "name": "java"
  },
  "language_info": {
   "codemirror_mode": "java",
   "file_extension": ".jshell",
   "mimetype": "text/x-java-source",
   "name": "Java",
   "pygments_lexer": "java",
   "version": "11.0.18+0"
  }
 },
 "nbformat": 4,
 "nbformat_minor": 5
}
