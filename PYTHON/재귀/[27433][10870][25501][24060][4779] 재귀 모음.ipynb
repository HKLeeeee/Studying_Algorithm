{
 "cells": [
  {
   "cell_type": "markdown",
   "source": [
    "# 팩토리얼 2"
   ],
   "metadata": {
    "collapsed": false
   }
  },
  {
   "cell_type": "code",
   "execution_count": 1,
   "outputs": [
    {
     "name": "stdout",
     "output_type": "stream",
     "text": [
      "6\n"
     ]
    }
   ],
   "source": [
    "N = int(input())\n",
    "\n",
    "def factorial(n):\n",
    "    if n == 0:\n",
    "        return 1\n",
    "    return n*factorial(n-1)\n",
    "\n",
    "print(factorial(N))"
   ],
   "metadata": {
    "collapsed": false
   }
  },
  {
   "cell_type": "markdown",
   "source": [
    "# 피보나치수 5"
   ],
   "metadata": {
    "collapsed": false
   }
  },
  {
   "cell_type": "code",
   "execution_count": 4,
   "outputs": [
    {
     "name": "stdout",
     "output_type": "stream",
     "text": [
      "55\n"
     ]
    }
   ],
   "source": [
    "N = int(input())\n",
    "\n",
    "def fibonacci(n):\n",
    "    if n == 0 :\n",
    "        return 0\n",
    "    if n==1 :\n",
    "        return 1\n",
    "    return fibonacci(n-1) + fibonacci(n-2)\n",
    "print(fibonacci(N))"
   ],
   "metadata": {
    "collapsed": false
   }
  },
  {
   "cell_type": "markdown",
   "source": [
    "# 재귀의 귀재"
   ],
   "metadata": {
    "collapsed": false
   }
  },
  {
   "cell_type": "code",
   "execution_count": 7,
   "outputs": [
    {
     "name": "stdout",
     "output_type": "stream",
     "text": [
      "1 2\n",
      "1 2\n",
      "0 3\n",
      "0 2\n",
      "1 4\n"
     ]
    }
   ],
   "source": [
    "N = int(input())\n",
    "\n",
    "def is_palindrome(cnt, char, start, end):\n",
    "    cnt += 1\n",
    "    if start >= end :\n",
    "        return 1, cnt\n",
    "    if char[start] != char[end] :\n",
    "        return 0, cnt\n",
    "    return is_palindrome(cnt, char, start+1, end-1)\n",
    "\n",
    "for _ in range(N):\n",
    "    s = input()\n",
    "    tf, cnt = is_palindrome(0, s, 0, len(s)-1)\n",
    "    print(tf, cnt)"
   ],
   "metadata": {
    "collapsed": false
   }
  },
  {
   "cell_type": "markdown",
   "source": [
    "# 알고리즘 수업 - 병합 정렬 1"
   ],
   "metadata": {
    "collapsed": false
   }
  },
  {
   "cell_type": "code",
   "execution_count": 8,
   "outputs": [],
   "source": [
    "N, K = map(int, input().split())\n",
    "array = list(map(int, input().split()))"
   ],
   "metadata": {
    "collapsed": false
   }
  },
  {
   "cell_type": "code",
   "execution_count": 44,
   "outputs": [],
   "source": [
    "store = []\n",
    "def merge_sort(arr):\n",
    "    if len(arr) < 2:\n",
    "        return arr\n",
    "    mid = (len(arr)+1)//2\n",
    "    left = merge_sort(arr[:mid])\n",
    "    right = merge_sort(arr[mid:])\n",
    "\n",
    "    new_arr = merge(left, right)\n",
    "    return new_arr\n",
    "\n",
    "def merge(left, right):\n",
    "    global store\n",
    "    new_arr = []\n",
    "    i = 0\n",
    "    j = 0\n",
    "    while(i < len(left)) and (j<len(right)):\n",
    "        if left[i] <= right[j] :\n",
    "            new_arr.append(left[i])\n",
    "            store.append(left[i])\n",
    "            i += 1\n",
    "        else :\n",
    "            new_arr.append(right[j])\n",
    "            store.append(right[j])\n",
    "            j += 1\n",
    "\n",
    "    new_arr += left[i:]\n",
    "    store += left[i:]\n",
    "    new_arr += right[j:]\n",
    "    store += right[j:]\n",
    "    return new_arr"
   ],
   "metadata": {
    "collapsed": false
   }
  },
  {
   "cell_type": "code",
   "execution_count": 49,
   "outputs": [
    {
     "name": "stdout",
     "output_type": "stream",
     "text": [
      "3\n"
     ]
    }
   ],
   "source": [
    "merge_sort([4,5,1,3,2])\n",
    "if len(store) < K :\n",
    "    print(-1)\n",
    "else :\n",
    "    print(store[K-1])"
   ],
   "metadata": {
    "collapsed": false
   }
  },
  {
   "cell_type": "markdown",
   "source": [
    "# 칸토어 집합"
   ],
   "metadata": {
    "collapsed": false
   }
  },
  {
   "cell_type": "code",
   "execution_count": 3,
   "outputs": [
    {
     "name": "stdout",
     "output_type": "stream",
     "text": [
      "- -   - -         - -   - -\n",
      "- -   - -\n",
      "- -\n",
      "-\n"
     ]
    }
   ],
   "source": [
    "import sys\n",
    "# input = sys.stdin.readline\n",
    "\n",
    "def cantorian(num):\n",
    "    if num == 1:\n",
    "        return '-'\n",
    "    l = num//3\n",
    "    str = cantorian(l)\n",
    "    return str + ' '*l + str\n",
    "\n",
    "while True:\n",
    "    try:\n",
    "        n = int(input())\n",
    "        num = 3**n\n",
    "        print(cantorian(num))\n",
    "    except:\n",
    "        break"
   ],
   "metadata": {
    "collapsed": false
   }
  },
  {
   "cell_type": "code",
   "execution_count": null,
   "outputs": [],
   "source": [],
   "metadata": {
    "collapsed": false
   }
  }
 ],
 "metadata": {
  "kernelspec": {
   "display_name": "Python 3",
   "language": "python",
   "name": "python3"
  },
  "language_info": {
   "codemirror_mode": {
    "name": "ipython",
    "version": 2
   },
   "file_extension": ".py",
   "mimetype": "text/x-python",
   "name": "python",
   "nbconvert_exporter": "python",
   "pygments_lexer": "ipython2",
   "version": "2.7.6"
  }
 },
 "nbformat": 4,
 "nbformat_minor": 0
}
