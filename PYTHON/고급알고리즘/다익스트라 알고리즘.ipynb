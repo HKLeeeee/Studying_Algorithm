{
 "cells": [
  {
   "cell_type": "markdown",
   "metadata": {
    "collapsed": true,
    "pycharm": {
     "name": "#%% md\n"
    }
   },
   "source": [
    "https://justkode.kr/algorithm/python-dijkstra"
   ]
  },
  {
   "cell_type": "code",
   "execution_count": 13,
   "outputs": [],
   "source": [
    "import heapq\n",
    "\n",
    "# 시작노드에서 그래프에있는 모들 노드에 가는 최단거리 구하기\n",
    "def dijkstra(graph, start):\n",
    "    distances = {node : float('inf') for node in graph}\n",
    "    distances[start] = 0\n",
    "    queue = []\n",
    "    heapq.heappush(queue, [start, distances[start]])\n",
    "\n",
    "    while queue :\n",
    "        curr_node, curr_distance = heapq.heappop(queue)\n",
    "\n",
    "        if distances[curr_node] < curr_distance :\n",
    "            continue\n",
    "\n",
    "        for new_node, new_distance in graph[curr_node].items() :\n",
    "            distance = new_distance + curr_distance\n",
    "            if distances[new_node] > distance :\n",
    "                distances[new_node] = distance\n",
    "                heapq.heappush(queue, [new_node, distance])\n",
    "\n",
    "    return distances"
   ],
   "metadata": {
    "collapsed": false,
    "pycharm": {
     "name": "#%%\n"
    }
   }
  },
  {
   "cell_type": "code",
   "execution_count": 11,
   "outputs": [],
   "source": [
    "graph = {\n",
    "    'A' : {'B':8, 'C':1, 'D':2},\n",
    "    'B' : {},\n",
    "    'C' : {'B':5, 'D':2},\n",
    "    'D' : {'E':3, 'F':5},\n",
    "    'E' : {'F':1},\n",
    "    'F' : {'A':5}\n",
    "}"
   ],
   "metadata": {
    "collapsed": false,
    "pycharm": {
     "name": "#%%\n"
    }
   }
  },
  {
   "cell_type": "code",
   "execution_count": 3,
   "outputs": [
    {
     "data": {
      "text/plain": "{'A': inf, 'B': inf, 'C': inf, 'D': inf, 'E': inf, 'F': inf}"
     },
     "execution_count": 3,
     "metadata": {},
     "output_type": "execute_result"
    }
   ],
   "source": [
    "distances = {node : float('inf') for node in graph}\n",
    "distances"
   ],
   "metadata": {
    "collapsed": false,
    "pycharm": {
     "name": "#%%\n"
    }
   }
  },
  {
   "cell_type": "code",
   "execution_count": 8,
   "outputs": [
    {
     "name": "stdout",
     "output_type": "stream",
     "text": [
      "('B', 8)\n",
      "('C', 1)\n",
      "('D', 2)\n"
     ]
    }
   ],
   "source": [
    "for i in graph['A'].items() :\n",
    "    print(i)"
   ],
   "metadata": {
    "collapsed": false,
    "pycharm": {
     "name": "#%%\n"
    }
   }
  },
  {
   "cell_type": "code",
   "execution_count": 2,
   "outputs": [
    {
     "data": {
      "text/plain": "{'B': 8, 'C': 1, 'D': 2}"
     },
     "execution_count": 2,
     "metadata": {},
     "output_type": "execute_result"
    }
   ],
   "source": [
    "graph['A']"
   ],
   "metadata": {
    "collapsed": false,
    "pycharm": {
     "name": "#%%\n"
    }
   }
  },
  {
   "cell_type": "code",
   "execution_count": 14,
   "outputs": [
    {
     "name": "stdout",
     "output_type": "stream",
     "text": [
      "{'A': 0, 'B': 6, 'C': 1, 'D': 2, 'E': 5, 'F': 6}\n"
     ]
    }
   ],
   "source": [
    "print(dijkstra(graph, 'A'))"
   ],
   "metadata": {
    "collapsed": false,
    "pycharm": {
     "name": "#%%\n"
    }
   }
  },
  {
   "cell_type": "code",
   "execution_count": null,
   "outputs": [],
   "source": [],
   "metadata": {
    "collapsed": false,
    "pycharm": {
     "name": "#%%\n"
    }
   }
  },
  {
   "cell_type": "code",
   "execution_count": null,
   "outputs": [],
   "source": [],
   "metadata": {
    "collapsed": false,
    "pycharm": {
     "name": "#%%\n"
    }
   }
  }
 ],
 "metadata": {
  "kernelspec": {
   "display_name": "Python 3",
   "language": "python",
   "name": "python3"
  },
  "language_info": {
   "codemirror_mode": {
    "name": "ipython",
    "version": 2
   },
   "file_extension": ".py",
   "mimetype": "text/x-python",
   "name": "python",
   "nbconvert_exporter": "python",
   "pygments_lexer": "ipython2",
   "version": "2.7.6"
  }
 },
 "nbformat": 4,
 "nbformat_minor": 0
}