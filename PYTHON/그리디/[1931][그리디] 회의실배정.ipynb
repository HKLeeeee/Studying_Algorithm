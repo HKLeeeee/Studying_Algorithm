{
 "cells": [
  {
   "cell_type": "markdown",
   "source": [
    "# 회의실 배정\n",
    "\n",
    "문제\n",
    "한 개의 회의실이 있는데 이를 사용하고자 하는 N개의 회의에 대하여 회의실 사용표를 만들려고 한다. 각 회의 I에 대해 시작시간과 끝나는 시간이 주어져 있고, 각 회의가 겹치지 않게 하면서 회의실을 사용할 수 있는 회의의 최대 개수를 찾아보자. 단, 회의는 한번 시작하면 중간에 중단될 수 없으며 한 회의가 끝나는 것과 동시에 다음 회의가 시작될 수 있다. 회의의 시작시간과 끝나는 시간이 같을 수도 있다. 이 경우에는 시작하자마자 끝나는 것으로 생각하면 된다.\n",
    "\n",
    "입력\n",
    "첫째 줄에 회의의 수 N(1 ≤ N ≤ 100,000)이 주어진다. 둘째 줄부터 N+1 줄까지 각 회의의 정보가 주어지는데 이것은 공백을 사이에 두고 회의의 시작시간과 끝나는 시간이 주어진다. 시작 시간과 끝나는 시간은 231-1보다 작거나 같은 자연수 또는 0이다.\n",
    "\n",
    "출력\n",
    "첫째 줄에 최대 사용할 수 있는 회의의 최대 개수를 출력한다."
   ],
   "metadata": {
    "collapsed": false
   }
  },
  {
   "cell_type": "code",
   "execution_count": null,
   "metadata": {
    "collapsed": true
   },
   "outputs": [],
   "source": [
    "n = int(input())\n",
    "meeting_list = []\n",
    "for _ in range(n):\n",
    "    meeting_list.append(list(map(int, input().split())))\n",
    "meeting_list.sort()\n",
    "print(meeting_list)"
   ]
  },
  {
   "cell_type": "code",
   "execution_count": null,
   "outputs": [],
   "source": [
    "def DFS(start):\n",
    "    checked[start] = True\n",
    "    print(start, end=' ')\n",
    "    ## stack\n",
    "    for idx in range(len(mat[start])):\n",
    "        if (mat[start][idx] == 1) and checked[idx] == False:\n",
    "            # 연결되어있고, # 방문한적 없으면\n",
    "            DFS(idx)\n",
    "\n",
    "def dfs(idx):\n",
    "    if idx >= len(meeting_list) :\n",
    "        return\n",
    "    while idx < len(meeting_list) :\n",
    "        next = idx+1\n",
    "        if meeting_list[idx][1] > meeting_list[next][0] :\n",
    "            next += 1\n",
    "            continue\n",
    "        else :\n",
    "\n",
    "\n",
    "    # if 현재 노드의 인덱스가 meeting list의 마지막이면 return\n",
    "\n",
    "from collections import deque\n",
    "q = deque([])\n",
    "maximum = 0\n"
   ],
   "metadata": {
    "collapsed": false,
    "pycharm": {
     "name": "#%%\n"
    }
   }
  }
 ],
 "metadata": {
  "kernelspec": {
   "display_name": "Python 3",
   "language": "python",
   "name": "python3"
  },
  "language_info": {
   "codemirror_mode": {
    "name": "ipython",
    "version": 2
   },
   "file_extension": ".py",
   "mimetype": "text/x-python",
   "name": "python",
   "nbconvert_exporter": "python",
   "pygments_lexer": "ipython2",
   "version": "2.7.6"
  }
 },
 "nbformat": 4,
 "nbformat_minor": 0
}