{
 "cells": [
  {
   "cell_type": "markdown",
   "source": [
    "# 나무자르기"
   ],
   "metadata": {
    "collapsed": false
   }
  },
  {
   "cell_type": "code",
   "execution_count": 50,
   "outputs": [
    {
     "name": "stdout",
     "output_type": "stream",
     "text": [
      "15\n",
      "time :  7.4654693603515625\n"
     ]
    }
   ],
   "source": [
    "# import sys\n",
    "# input = sys.stdin.readline\n",
    "# print = sys.stdout.write\n",
    "import time\n",
    "s = time.time()\n",
    "n, m = map(int, input().split())\n",
    "trees = list(map(int, input().split()))\n",
    "\n",
    "start = 1\n",
    "end = max(trees)\n",
    "while start<=end :\n",
    "    mid = (start + end) // 2\n",
    "\n",
    "    wood = 0\n",
    "    for t in trees :\n",
    "        if t >= mid :\n",
    "            wood += (t - mid)\n",
    "\n",
    "    if wood >= m :\n",
    "        start = mid + 1\n",
    "    elif wood < m :\n",
    "        end = mid - 1\n",
    "\n",
    "print('{}'.format(end))\n",
    "print('time : ',time.time() - s)"
   ],
   "metadata": {
    "collapsed": false,
    "pycharm": {
     "name": "#%%\n"
    }
   }
  },
  {
   "cell_type": "markdown",
   "source": [
    "=> 시간초과"
   ],
   "metadata": {
    "collapsed": false
   }
  },
  {
   "cell_type": "code",
   "execution_count": 51,
   "outputs": [
    {
     "name": "stdout",
     "output_type": "stream",
     "text": [
      "15\n",
      "time :  5.707326650619507\n"
     ]
    }
   ],
   "source": [
    "import time\n",
    "s = time.time()\n",
    "n, m = map(int, input().split())\n",
    "trees = list(map(int, input().split()))\n",
    "\n",
    "start = 1\n",
    "end = max(trees)\n",
    "while start<=end :\n",
    "    mid = (start + end) // 2\n",
    "\n",
    "    total = [tree-mid if tree>mid else 0 for tree in trees ]\n",
    "    wood = sum(total)\n",
    "\n",
    "    if wood >= m :\n",
    "        start = mid + 1\n",
    "    elif wood < m :\n",
    "        end = mid - 1\n",
    "\n",
    "print('{}'.format(end))\n",
    "print('time : ',time.time() - s)"
   ],
   "metadata": {
    "collapsed": false,
    "pycharm": {
     "name": "#%%\n"
    }
   }
  },
  {
   "cell_type": "markdown",
   "source": [
    "1.처음 구현코드\n",
    "```python\n",
    "wood = 0\n",
    "for t in trees :\n",
    "    if t >= mid :\n",
    "        wood += (t - mid)\n",
    "```\n",
    "2.list comprehension\n",
    "```python\n",
    "total = [tree-mid if tree>mid else 0 for tree in trees ]\n",
    "wood = sum(total)\n",
    "```"
   ],
   "metadata": {
    "collapsed": false
   }
  },
  {
   "cell_type": "code",
   "execution_count": 53,
   "outputs": [
    {
     "name": "stdout",
     "output_type": "stream",
     "text": [
      "499999500000\n",
      "0.11768388748168945\n"
     ]
    }
   ],
   "source": [
    "sum =0\n",
    "start = time.time()\n",
    "for i in range(0, 1000000):\n",
    "    sum += i\n",
    "# O(N) : 시간복잡도\n",
    "print(sum)\n",
    "print(time.time()-start)"
   ],
   "metadata": {
    "collapsed": false,
    "pycharm": {
     "name": "#%%\n"
    }
   }
  },
  {
   "cell_type": "code",
   "execution_count": 58,
   "outputs": [],
   "source": [
    "%reset"
   ],
   "metadata": {
    "collapsed": false,
    "pycharm": {
     "name": "#%%\n"
    }
   }
  },
  {
   "cell_type": "markdown",
   "source": [
    "list comprehension, 기본 제공 함수를 이용하는게 훨~씬 빠르다"
   ],
   "metadata": {
    "collapsed": false
   }
  },
  {
   "cell_type": "code",
   "execution_count": 60,
   "outputs": [
    {
     "name": "stdout",
     "output_type": "stream",
     "text": [
      "499999500000\n",
      "0.04000067710876465\n"
     ]
    }
   ],
   "source": [
    "import time\n",
    "lst = list(range(0, 1000000))\n",
    "\n",
    "start = time.time()\n",
    "s = sum(lst)\n",
    "print(s)\n",
    "print(time.time()-start)"
   ],
   "metadata": {
    "collapsed": false,
    "pycharm": {
     "name": "#%%\n"
    }
   }
  },
  {
   "cell_type": "code",
   "execution_count": 61,
   "outputs": [
    {
     "name": "stdout",
     "output_type": "stream",
     "text": [
      "499999500000\n",
      "0.07126402854919434\n"
     ]
    }
   ],
   "source": [
    "start = time.time()\n",
    "total = [i for i in lst]\n",
    "s = sum(total)\n",
    "print(s)\n",
    "print(time.time()-start)"
   ],
   "metadata": {
    "collapsed": false,
    "pycharm": {
     "name": "#%%\n"
    }
   }
  }
 ],
 "metadata": {
  "kernelspec": {
   "display_name": "Python 3",
   "language": "python",
   "name": "python3"
  },
  "language_info": {
   "codemirror_mode": {
    "name": "ipython",
    "version": 2
   },
   "file_extension": ".py",
   "mimetype": "text/x-python",
   "name": "python",
   "nbconvert_exporter": "python",
   "pygments_lexer": "ipython2",
   "version": "2.7.6"
  }
 },
 "nbformat": 4,
 "nbformat_minor": 0
}