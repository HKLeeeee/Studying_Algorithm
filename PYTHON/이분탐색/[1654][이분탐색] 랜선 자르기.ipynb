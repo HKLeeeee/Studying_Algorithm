{
 "cells": [
  {
   "cell_type": "markdown",
   "source": [
    "# 랜선 자르기\n",
    "parametric search\n",
    "\n",
    "- 최적화 문제를 결정 문제로 바꾸어 생각할 수 있는가"
   ],
   "metadata": {
    "collapsed": false
   }
  },
  {
   "cell_type": "code",
   "execution_count": 42,
   "metadata": {
    "collapsed": true,
    "pycharm": {
     "name": "#%%\n"
    }
   },
   "outputs": [
    {
     "name": "stdout",
     "output_type": "stream",
     "text": [
      "s : 1, e: 27\n",
      "m : 14\n",
      "8 // mid = 0\n",
      "15 // mid = 1\n",
      "27 // mid = 1\n",
      "total : 2\n",
      "s : 1, e: 13\n",
      "m : 7\n",
      "8 // mid = 1\n",
      "15 // mid = 2\n",
      "27 // mid = 3\n",
      "total : 6\n",
      "s : 8, e: 13\n",
      "m : 10\n",
      "8 // mid = 0\n",
      "15 // mid = 1\n",
      "27 // mid = 2\n",
      "total : 3\n",
      "s : 8, e: 9\n",
      "m : 8\n",
      "8 // mid = 1\n",
      "15 // mid = 1\n",
      "27 // mid = 3\n",
      "total : 5\n",
      "s : 9, e: 9\n",
      "m : 9\n",
      "8 // mid = 0\n",
      "15 // mid = 1\n",
      "27 // mid = 3\n",
      "total : 4\n",
      "8\n"
     ]
    }
   ],
   "source": [
    "k, n = map(int, input().split())\n",
    "lst =[]\n",
    "anw = 0\n",
    "for i in range(k) :\n",
    "    lst.append(int(input()))\n",
    "\n",
    "start = 1\n",
    "end = max(lst)\n",
    "while start <= end :\n",
    "    print('s : {}, e: {}'.format(start, end))\n",
    "    mid = (start + end) // 2\n",
    "    print('m : {}'.format(mid))\n",
    "    total = 0\n",
    "    for l in lst :\n",
    "        print('{} // mid = {}'.format(l, l//mid))\n",
    "        total += l // mid\n",
    "    print('total : {}'.format(total))\n",
    "\n",
    "    if total >= n :\n",
    "        start = mid + 1\n",
    "    else :\n",
    "        end = mid - 1\n",
    "\n",
    "print(end)\n",
    "### mid 값이아니라,,, end값을 return 해야했다...."
   ]
  }
 ],
 "metadata": {
  "kernelspec": {
   "display_name": "Python 3",
   "language": "python",
   "name": "python3"
  },
  "language_info": {
   "codemirror_mode": {
    "name": "ipython",
    "version": 2
   },
   "file_extension": ".py",
   "mimetype": "text/x-python",
   "name": "python",
   "nbconvert_exporter": "python",
   "pygments_lexer": "ipython2",
   "version": "2.7.6"
  }
 },
 "nbformat": 4,
 "nbformat_minor": 0
}