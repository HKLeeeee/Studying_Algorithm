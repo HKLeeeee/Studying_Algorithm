{
 "cells": [
  {
   "cell_type": "code",
   "execution_count": 30,
   "id": "daab4e4e",
   "metadata": {},
   "outputs": [
    {
     "name": "stdout",
     "output_type": "stream",
     "text": [
      "10 2\n",
      "1\n",
      "1 : -6\n",
      "2 : -13\n",
      "3 : -9\n",
      "4 : 3\n",
      "5 : 10\n",
      "6 : 20\n",
      "7 : 21\n",
      "8 : 5\n",
      "21\n"
     ]
    }
   ],
   "source": [
    "N, K = map(int, input().split())\n",
    "\n",
    "#tmp = list(map(int, input().split()))\n",
    "#      0.  1.  2. 3.  4. 5. 6. 7.  8.  9\n",
    "tmp = [3, -2, -4, -9, 0, 3, 7, 13, 8, -3]\n",
    "summation = sum(tmp[0:K])\n",
    "max_tmp = summation\n",
    "print(max_tmp)\n",
    "for i in range(1, N-K+1):\n",
    "    summation = summation - tmp[i-1] + tmp[i+K-1]\n",
    "    print(i, \":\", summation)\n",
    "    max_tmp = max(max_tmp, summation)\n",
    "print(max_tmp)"
   ]
  },
  {
   "cell_type": "code",
   "execution_count": 21,
   "id": "ac1e10d6",
   "metadata": {},
   "outputs": [
    {
     "data": {
      "text/plain": [
       "16"
      ]
     },
     "execution_count": 21,
     "metadata": {},
     "output_type": "execute_result"
    }
   ],
   "source": [
    "sum(tmp)"
   ]
  },
  {
   "cell_type": "code",
   "execution_count": null,
   "id": "6cc9152c",
   "metadata": {},
   "outputs": [],
   "source": []
  }
 ],
 "metadata": {
  "kernelspec": {
   "display_name": "Python 3 (ipykernel)",
   "language": "python",
   "name": "python3"
  },
  "language_info": {
   "codemirror_mode": {
    "name": "ipython",
    "version": 3
   },
   "file_extension": ".py",
   "mimetype": "text/x-python",
   "name": "python",
   "nbconvert_exporter": "python",
   "pygments_lexer": "ipython3",
   "version": "3.11.3"
  }
 },
 "nbformat": 4,
 "nbformat_minor": 5
}
