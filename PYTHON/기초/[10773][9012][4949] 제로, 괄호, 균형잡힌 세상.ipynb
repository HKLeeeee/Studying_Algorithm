{
 "cells": [
  {
   "cell_type": "markdown",
   "source": [
    "# 제로\n",
    "\n",
    "첫 번째 줄에 정수 K가 주어진다. (1 ≤ K ≤ 100,000)\n",
    "\n",
    "이후 K개의 줄에 정수가 1개씩 주어진다. 정수는 0에서 1,000,000 사이의 값을 가지며, 정수가 \"0\" 일 경우에는 가장 최근에 쓴 수를 지우고, 아닐 경우 해당 수를 쓴다.\n",
    "\n",
    "정수가 \"0\"일 경우에 지울 수 있는 수가 있음을 보장할 수 있다.\n",
    "\n",
    "재민이가 최종적으로 적어 낸 수의 합을 출력한다. 최종적으로 적어낸 수의 합은 231-1보다 작거나 같은 정수이다."
   ],
   "metadata": {
    "collapsed": false
   }
  },
  {
   "cell_type": "code",
   "execution_count": 3,
   "metadata": {
    "collapsed": true
   },
   "outputs": [
    {
     "name": "stdout",
     "output_type": "stream",
     "text": [
      "7\n"
     ]
    }
   ],
   "source": [
    "n = int(input())\n",
    "lst = []\n",
    "for i in range(n):\n",
    "    t = int(input())\n",
    "    if t == 0 :\n",
    "        lst.pop()\n",
    "    else :\n",
    "        lst.append(t)\n",
    "print(sum(lst))"
   ]
  },
  {
   "cell_type": "markdown",
   "source": [
    "# 괄호"
   ],
   "metadata": {
    "collapsed": false
   }
  },
  {
   "cell_type": "code",
   "execution_count": 7,
   "outputs": [],
   "source": [
    "def vps(ps):\n",
    "    stack = []\n",
    "\n",
    "    for v in ps :\n",
    "        if v == \"(\" :\n",
    "            stack.append(v)\n",
    "        else :\n",
    "            try:\n",
    "                stack.pop()\n",
    "            except :\n",
    "                return False\n",
    "            # if len(stack) == 0 :\n",
    "            #     return False\n",
    "            # else :\n",
    "            #     stack.pop()\n",
    "\n",
    "    if len(stack) != 0 :\n",
    "        return False\n",
    "\n",
    "    return True"
   ],
   "metadata": {
    "collapsed": false,
    "pycharm": {
     "name": "#%%\n"
    }
   }
  },
  {
   "cell_type": "code",
   "execution_count": 9,
   "outputs": [
    {
     "name": "stdout",
     "output_type": "stream",
     "text": [
      "NO\n",
      "NO\n",
      "YES\n",
      "NO\n",
      "YES\n",
      "NO\n"
     ]
    }
   ],
   "source": [
    "n = int(input())\n",
    "\n",
    "for i in range(n):\n",
    "    t = input()\n",
    "    print(\"YES\" if vps(t) else \"NO\")"
   ],
   "metadata": {
    "collapsed": false,
    "pycharm": {
     "name": "#%%\n"
    }
   }
  },
  {
   "cell_type": "markdown",
   "source": [
    "sys.stdin.readline() => 틀렸습니다\n",
    "\n",
    "이유는 입출력 조건이 표준입출력 input, print를 사용하는 것이기 때문"
   ],
   "metadata": {
    "collapsed": false
   }
  },
  {
   "cell_type": "markdown",
   "source": [
    "# 균형잡힌 세상"
   ],
   "metadata": {
    "collapsed": false,
    "pycharm": {
     "name": "#%% md\n"
    }
   }
  },
  {
   "cell_type": "code",
   "execution_count": null,
   "outputs": [],
   "source": [
    "import sys\n",
    "\n",
    "def vps(ps):\n",
    "    stack = []\n",
    "\n",
    "    for v in ps :\n",
    "        if v == \"(\" or v == \"[\":\n",
    "            stack.append(v)\n",
    "        elif v == \")\":\n",
    "            if len(stack) == 0 :\n",
    "                return False\n",
    "            else :\n",
    "                if stack[-1] == \"(\" :\n",
    "                    stack.pop()\n",
    "                else :\n",
    "                    return False\n",
    "        elif v == \"]\":\n",
    "            if len(stack) == 0 :\n",
    "                return False\n",
    "            else :\n",
    "                if stack[-1] == \"[\" :\n",
    "                    stack.pop()\n",
    "                else :\n",
    "                    return False\n",
    "\n",
    "    if len(stack) != 0 :\n",
    "        return False\n",
    "\n",
    "    return True\n",
    "\n",
    "\n",
    "if __name__ == '__main__':\n",
    "\n",
    "    while True:\n",
    "        t = sys.stdin.readline()\n",
    "        if t == \".\\n\" or t == \".\": ### readline은 개행문자까지 입력받는다.\n",
    "            break\n",
    "        print(\"yes\" if vps(t) else \"no\")"
   ],
   "metadata": {
    "collapsed": false,
    "pycharm": {
     "name": "#%%\n"
    }
   }
  }
 ],
 "metadata": {
  "kernelspec": {
   "display_name": "Python 3",
   "language": "python",
   "name": "python3"
  },
  "language_info": {
   "codemirror_mode": {
    "name": "ipython",
    "version": 2
   },
   "file_extension": ".py",
   "mimetype": "text/x-python",
   "name": "python",
   "nbconvert_exporter": "python",
   "pygments_lexer": "ipython2",
   "version": "2.7.6"
  }
 },
 "nbformat": 4,
 "nbformat_minor": 0
}