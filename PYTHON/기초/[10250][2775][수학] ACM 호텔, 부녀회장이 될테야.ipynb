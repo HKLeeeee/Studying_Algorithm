{
 "cells": [
  {
   "cell_type": "markdown",
   "source": [
    "# ACM 호텔"
   ],
   "metadata": {
    "collapsed": false,
    "pycharm": {
     "name": "#%% md\n"
    }
   }
  },
  {
   "cell_type": "code",
   "execution_count": 27,
   "metadata": {
    "collapsed": true,
    "pycharm": {
     "name": "#%%\n"
    }
   },
   "outputs": [
    {
     "name": "stdout",
     "output_type": "stream",
     "text": [
      "402\n",
      "1203\n"
     ]
    }
   ],
   "source": [
    "T = int(input())\n",
    "# 호텔의 층 수, 각 층의 방 수, 몇 번째 손님\n",
    "for _ in range(T):\n",
    "    H, W, N = map(int, input().split())\n",
    "    print('{}{:02d}'.format((N-1)%H + 1, (N-1)//H +1)) # => 표준입출력"
   ]
  },
  {
   "cell_type": "markdown",
   "source": [
    "# 부녀회장이 될테야"
   ],
   "metadata": {
    "collapsed": false
   }
  },
  {
   "cell_type": "code",
   "execution_count": 32,
   "outputs": [
    {
     "name": "stdout",
     "output_type": "stream",
     "text": [
      "6\n",
      "10\n"
     ]
    }
   ],
   "source": [
    "def people(f, h):\n",
    "    if f == 0 or h == 1 :\n",
    "        return h\n",
    "    return people(f-1, h) + people(f, h-1)\n",
    "\n",
    "T = int(input())\n",
    "\n",
    "for _ in range(T):\n",
    "    floor = int(input())\n",
    "    ho = int(input())\n",
    "    cache = [[0 for _ in range(floor)] for _ in range(ho)]\n",
    "    print(people(floor, ho))"
   ],
   "metadata": {
    "collapsed": false,
    "pycharm": {
     "name": "#%%\n"
    }
   }
  },
  {
   "cell_type": "markdown",
   "source": [
    "=> 시간초과 // pypy 통과"
   ],
   "metadata": {
    "collapsed": false
   }
  },
  {
   "cell_type": "code",
   "execution_count": 34,
   "outputs": [
    {
     "name": "stdout",
     "output_type": "stream",
     "text": [
      "6\n",
      "10\n"
     ]
    }
   ],
   "source": [
    "## DP 동적계획법\n",
    "\n",
    "T = int(input())\n",
    "\n",
    "for _ in range(T):\n",
    "    k = int(input())\n",
    "    n = int(input())\n",
    "    floor = [i for i in range(1, n+1)]\n",
    "\n",
    "    for _ in range(k):\n",
    "        for i in range(1,n):\n",
    "            floor[i] += floor[i-1]\n",
    "    print(floor[-1])"
   ],
   "metadata": {
    "collapsed": false,
    "pycharm": {
     "name": "#%%\n"
    }
   }
  },
  {
   "cell_type": "code",
   "execution_count": null,
   "outputs": [],
   "source": [],
   "metadata": {
    "collapsed": false,
    "pycharm": {
     "name": "#%%\n"
    }
   }
  }
 ],
 "metadata": {
  "kernelspec": {
   "display_name": "Python 3",
   "language": "python",
   "name": "python3"
  },
  "language_info": {
   "codemirror_mode": {
    "name": "ipython",
    "version": 2
   },
   "file_extension": ".py",
   "mimetype": "text/x-python",
   "name": "python",
   "nbconvert_exporter": "python",
   "pygments_lexer": "ipython2",
   "version": "2.7.6"
  }
 },
 "nbformat": 4,
 "nbformat_minor": 0
}