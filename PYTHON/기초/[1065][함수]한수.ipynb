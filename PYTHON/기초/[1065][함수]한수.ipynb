{
 "cells": [
  {
   "cell_type": "markdown",
   "id": "d03c43d1",
   "metadata": {},
   "source": [
    "## 한수\n",
    "자연수의 각 자리가 등차수열인 수를 한수라고 한다. N이 주어졌을 때 1보다 크고 N보다 작은 한수의 개수를 구하시오  \n",
    "N은 1000보다 작거나 같다  \n",
    "1000은 한수가 될 수 없다.=1000은 고려하지 않아도 됨"
   ]
  },
  {
   "cell_type": "code",
   "execution_count": 3,
   "id": "26965822",
   "metadata": {},
   "outputs": [],
   "source": [
    "def count(n, k, j, i, li) :\n",
    "    num = k*100 + j*10 + i\n",
    "    if num < n and num > 0 :\n",
    "        li.append(num)"
   ]
  },
  {
   "cell_type": "code",
   "execution_count": null,
   "id": "0d759126",
   "metadata": {},
   "outputs": [],
   "source": [
    "n = int(input())\n",
    "answer = []\n",
    "\n",
    " # i = 1의 자리수, j = 10의 자리수, k = 100의 자리수\n",
    "## 등차가 양수\n",
    "for i in range(10) :\n",
    "    for d in range(1, 10) :\n",
    "        j = i+d\n",
    "        k = j+d\n",
    "        if j >= 10 :\n",
    "            j = 0\n",
    "        if k >= 10 :\n",
    "            k = 0\n",
    "        count(n, k, j, i, answer)\n",
    "        \n",
    "## 등차가 0       \n",
    "for i in range(1, 10) :            \n",
    "    j = i\n",
    "    k = i\n",
    "    count(n, 0, j, i, answer) ##두자리수\n",
    "    count(n, k, j, i, answer) ##세자리수\n",
    "    \n",
    "for i in range(10) :        \n",
    "    ## 등차가 음수\n",
    "    \n",
    "    \n",
    "cnt = set(answer)\n",
    "print(len(cnt))"
   ]
  },
  {
   "cell_type": "markdown",
   "id": "75c21a9a",
   "metadata": {},
   "source": [
    "시작값(1의 자리수 0~9), 등차(-9 ~ 9; 음수, 0, 양수), n\n",
    "<0>\n",
    "\n",
    "<1>\n",
    "9 8 7 6 5 4 3 2 1 0  \n",
    "8 7 6 5 4 3 2 1 0\n",
    "7 6 5 4 3 2 1 0\n",
    "6 5 4 3 2 1 0\n",
    "5 4 3 2 1 0\n",
    "\n",
    "<2>\n",
    "9 7 5 3 1  \n",
    "8 6 4 2 0  \n",
    "7 5 3 1  \n",
    "6 4 2 0\n",
    "5 3 1  \n",
    "4 2 0 \n",
    "\n",
    "<3>\n",
    "9 6 3 0 \n",
    "9 5 1  \n",
    "9 4\n",
    "\n",
    ".\n",
    ".\n",
    ".\n",
    "\n",
    "<9>\n",
    "9 0"
   ]
  },
  {
   "cell_type": "markdown",
   "source": [
    "# RE"
   ],
   "metadata": {
    "collapsed": false
   }
  },
  {
   "cell_type": "code",
   "execution_count": 32,
   "outputs": [
    {
     "name": "stdout",
     "output_type": "stream",
     "text": [
      "99\n"
     ]
    }
   ],
   "source": [
    "N = int(input())\n",
    "\n",
    "def isTrue(lst) : # 한 수인지 판단하는 함수\n",
    "    if len(lst) == 1 or len(lst) == 2 :\n",
    "        return True\n",
    "    dif = lst[0] - lst[1]\n",
    "    for i in range(1, len(lst)-1) :\n",
    "        if (lst[i] - lst[i+1]) != dif :\n",
    "            return False\n",
    "    return True\n",
    "\n",
    "def my_func(n) :\n",
    "    cnt = 0\n",
    "    for num in range(1, n+1) :\n",
    "        lst = list(map(int, list(str(num))))\n",
    "        if isTrue(lst) : # 한수인가요?\n",
    "            cnt += 1\n",
    "    return cnt\n",
    "\n",
    "print(my_func(N))"
   ],
   "metadata": {
    "collapsed": false,
    "pycharm": {
     "name": "#%%\n"
    }
   }
  },
  {
   "cell_type": "code",
   "execution_count": 23,
   "outputs": [
    {
     "ename": "NameError",
     "evalue": "name 'cnt' is not defined",
     "output_type": "error",
     "traceback": [
      "\u001B[1;31m---------------------------------------------------------------------------\u001B[0m",
      "\u001B[1;31mNameError\u001B[0m                                 Traceback (most recent call last)",
      "\u001B[1;32m~\\AppData\\Local\\Temp\\ipykernel_17428\\2350771211.py\u001B[0m in \u001B[0;36m<module>\u001B[1;34m\u001B[0m\n\u001B[1;32m----> 1\u001B[1;33m \u001B[0mcnt\u001B[0m\u001B[1;33m\u001B[0m\u001B[1;33m\u001B[0m\u001B[0m\n\u001B[0m\u001B[0;32m      2\u001B[0m \u001B[0mprint\u001B[0m\u001B[1;33m(\u001B[0m\u001B[0mlst\u001B[0m\u001B[1;33m)\u001B[0m\u001B[1;33m\u001B[0m\u001B[1;33m\u001B[0m\u001B[0m\n",
      "\u001B[1;31mNameError\u001B[0m: name 'cnt' is not defined"
     ]
    }
   ],
   "source": [
    "cnt"
   ],
   "metadata": {
    "collapsed": false,
    "pycharm": {
     "name": "#%%\n"
    }
   }
  },
  {
   "cell_type": "code",
   "execution_count": 7,
   "outputs": [],
   "source": [
    "num = 123\n",
    "lst = [num // 10*i for i in range(len(str(num)))]"
   ],
   "metadata": {
    "collapsed": false,
    "pycharm": {
     "name": "#%%\n"
    }
   }
  },
  {
   "cell_type": "code",
   "execution_count": 13,
   "outputs": [
    {
     "data": {
      "text/plain": "[1, 2, 3]"
     },
     "execution_count": 13,
     "metadata": {},
     "output_type": "execute_result"
    }
   ],
   "source": [
    "lst"
   ],
   "metadata": {
    "collapsed": false,
    "pycharm": {
     "name": "#%%\n"
    }
   }
  },
  {
   "cell_type": "code",
   "execution_count": 15,
   "outputs": [],
   "source": [
    "dif = lst[0] - lst[1]"
   ],
   "metadata": {
    "collapsed": false,
    "pycharm": {
     "name": "#%%\n"
    }
   }
  },
  {
   "cell_type": "code",
   "execution_count": 18,
   "outputs": [
    {
     "data": {
      "text/plain": "True"
     },
     "execution_count": 18,
     "metadata": {},
     "output_type": "execute_result"
    }
   ],
   "source": [
    "(lst[1] - lst[2]) == dif"
   ],
   "metadata": {
    "collapsed": false,
    "pycharm": {
     "name": "#%%\n"
    }
   }
  },
  {
   "cell_type": "code",
   "execution_count": null,
   "outputs": [],
   "source": [],
   "metadata": {
    "collapsed": false,
    "pycharm": {
     "name": "#%%\n"
    }
   }
  }
 ],
 "metadata": {
  "kernelspec": {
   "display_name": "Python 3",
   "language": "python",
   "name": "python3"
  },
  "language_info": {
   "codemirror_mode": {
    "name": "ipython",
    "version": 3
   },
   "file_extension": ".py",
   "mimetype": "text/x-python",
   "name": "python",
   "nbconvert_exporter": "python",
   "pygments_lexer": "ipython3",
   "version": "3.8.8"
  }
 },
 "nbformat": 4,
 "nbformat_minor": 5
}