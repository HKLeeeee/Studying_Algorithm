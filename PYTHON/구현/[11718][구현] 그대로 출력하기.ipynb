{
 "cells": [
  {
   "cell_type": "markdown",
   "source": [
    "# 그대로 출력하기 1,2"
   ],
   "metadata": {
    "collapsed": false
   }
  },
  {
   "cell_type": "code",
   "execution_count": null,
   "metadata": {
    "collapsed": true
   },
   "outputs": [],
   "source": [
    "while True :\n",
    "    try:\n",
    "        print(input())\n",
    "    except :\n",
    "        break"
   ]
  },
  {
   "cell_type": "markdown",
   "source": [
    "입력이 몇 번 주어질 지 알려주지 않고 더 이상 읽을 내용이 없을때 종료하는 문제.\n",
    "읽을내용이 없을때 End of File : EOF error가 발생되고,\n",
    "break되어 종료된다.\n",
    "파이참에서 표준 입력으로는 테스트가 안되고 파일입출력을 할때 가능해보임"
   ],
   "metadata": {
    "collapsed": false
   }
  }
 ],
 "metadata": {
  "kernelspec": {
   "display_name": "Python 3",
   "language": "python",
   "name": "python3"
  },
  "language_info": {
   "codemirror_mode": {
    "name": "ipython",
    "version": 2
   },
   "file_extension": ".py",
   "mimetype": "text/x-python",
   "name": "python",
   "nbconvert_exporter": "python",
   "pygments_lexer": "ipython2",
   "version": "2.7.6"
  }
 },
 "nbformat": 4,
 "nbformat_minor": 0
}