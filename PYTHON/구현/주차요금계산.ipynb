{
 "cells": [
  {
   "cell_type": "code",
   "execution_count": null,
   "metadata": {
    "collapsed": true
   },
   "outputs": [],
   "source": []
  },
  {
   "cell_type": "code",
   "execution_count": 3,
   "outputs": [],
   "source": [
    "def calc_fees (time_in, time_out = '23:59') :\n",
    "        hour_in, min_in = map(int, time_in.split(':'))\n",
    "        hour_out, min_out = map(int, time_out.split(':'))\n",
    "\n",
    "        if min_out < min_in :\n",
    "                min_out += 60\n",
    "                hour_out -= 1\n",
    "        hour = hour_out - hour_in\n",
    "        minute = min_out - min_in\n",
    "        return hour*60 + minute"
   ],
   "metadata": {
    "collapsed": false,
    "pycharm": {
     "name": "#%%\n"
    }
   }
  },
  {
   "cell_type": "code",
   "execution_count": 6,
   "outputs": [
    {
     "data": {
      "text/plain": "145"
     },
     "execution_count": 6,
     "metadata": {},
     "output_type": "execute_result"
    }
   ],
   "source": [
    "calc_fees('05:34', '07:59')"
   ],
   "metadata": {
    "collapsed": false,
    "pycharm": {
     "name": "#%%\n"
    }
   }
  },
  {
   "cell_type": "code",
   "execution_count": 7,
   "outputs": [
    {
     "data": {
      "text/plain": "34"
     },
     "execution_count": 7,
     "metadata": {},
     "output_type": "execute_result"
    }
   ],
   "source": [
    "calc_fees('06:00', '06:34')"
   ],
   "metadata": {
    "collapsed": false,
    "pycharm": {
     "name": "#%%\n"
    }
   }
  },
  {
   "cell_type": "code",
   "execution_count": 8,
   "outputs": [
    {
     "data": {
      "text/plain": "300"
     },
     "execution_count": 8,
     "metadata": {},
     "output_type": "execute_result"
    }
   ],
   "source": [
    "calc_fees('18:59')"
   ],
   "metadata": {
    "collapsed": false,
    "pycharm": {
     "name": "#%%\n"
    }
   }
  },
  {
   "cell_type": "code",
   "execution_count": 9,
   "outputs": [
    {
     "data": {
      "text/plain": "670"
     },
     "execution_count": 9,
     "metadata": {},
     "output_type": "execute_result"
    }
   ],
   "source": [
    "calc_fees('07:59', '19:09')"
   ],
   "metadata": {
    "collapsed": false,
    "pycharm": {
     "name": "#%%\n"
    }
   }
  },
  {
   "cell_type": "code",
   "execution_count": 10,
   "outputs": [],
   "source": [
    "records =[\"05:34 5961 IN\",\n",
    " \"06:00 0000 IN\",\n",
    " \"06:34 0000 OUT\",\n",
    " \"07:59 5961 OUT\",\n",
    " \"07:59 0148 IN\",\n",
    " \"18:59 0000 IN\",\n",
    " \"19:09 0148 OUT\",\n",
    " \"22:59 5961 IN\",\n",
    " \"23:00 5961 OUT\"]\n",
    "\n",
    "record = [list(r.split()) for r in records]"
   ],
   "metadata": {
    "collapsed": false,
    "pycharm": {
     "name": "#%%\n"
    }
   }
  },
  {
   "cell_type": "code",
   "execution_count": 11,
   "outputs": [
    {
     "data": {
      "text/plain": "[['05:34', '5961', 'IN'],\n ['06:00', '0000', 'IN'],\n ['06:34', '0000', 'OUT'],\n ['07:59', '5961', 'OUT'],\n ['07:59', '0148', 'IN'],\n ['18:59', '0000', 'IN'],\n ['19:09', '0148', 'OUT'],\n ['22:59', '5961', 'IN'],\n ['23:00', '5961', 'OUT']]"
     },
     "execution_count": 11,
     "metadata": {},
     "output_type": "execute_result"
    }
   ],
   "source": [
    "record"
   ],
   "metadata": {
    "collapsed": false,
    "pycharm": {
     "name": "#%%\n"
    }
   }
  },
  {
   "cell_type": "code",
   "execution_count": null,
   "outputs": [],
   "source": [],
   "metadata": {
    "collapsed": false,
    "pycharm": {
     "name": "#%%\n"
    }
   }
  },
  {
   "cell_type": "code",
   "execution_count": 16,
   "outputs": [],
   "source": [
    "from collections import defaultdict\n",
    "record_dict = defaultdict(list)\n"
   ],
   "metadata": {
    "collapsed": false,
    "pycharm": {
     "name": "#%%\n"
    }
   }
  },
  {
   "cell_type": "code",
   "execution_count": 17,
   "outputs": [],
   "source": [
    "for r in record :\n",
    "    record_dict[r[1]].append(r[0])"
   ],
   "metadata": {
    "collapsed": false,
    "pycharm": {
     "name": "#%%\n"
    }
   }
  },
  {
   "cell_type": "code",
   "execution_count": 18,
   "outputs": [
    {
     "data": {
      "text/plain": "defaultdict(list,\n            {'5961': ['05:34', '07:59', '22:59', '23:00'],\n             '0000': ['06:00', '06:34', '18:59'],\n             '0148': ['07:59', '19:09']})"
     },
     "execution_count": 18,
     "metadata": {},
     "output_type": "execute_result"
    }
   ],
   "source": [
    "record_dict"
   ],
   "metadata": {
    "collapsed": false,
    "pycharm": {
     "name": "#%%\n"
    }
   }
  },
  {
   "cell_type": "code",
   "execution_count": 22,
   "outputs": [],
   "source": [
    "cars = list(record_dict.keys())"
   ],
   "metadata": {
    "collapsed": false,
    "pycharm": {
     "name": "#%%\n"
    }
   }
  },
  {
   "cell_type": "code",
   "execution_count": 23,
   "outputs": [
    {
     "data": {
      "text/plain": "'0000'"
     },
     "execution_count": 23,
     "metadata": {},
     "output_type": "execute_result"
    }
   ],
   "source": [
    "cars[1]"
   ],
   "metadata": {
    "collapsed": false,
    "pycharm": {
     "name": "#%%\n"
    }
   }
  },
  {
   "cell_type": "code",
   "execution_count": 24,
   "outputs": [
    {
     "name": "stdout",
     "output_type": "stream",
     "text": [
      "5961\n",
      "['05:34', '07:59', '22:59', '23:00']\n",
      "0000\n",
      "['06:00', '06:34', '18:59']\n",
      "0148\n",
      "['07:59', '19:09']\n"
     ]
    }
   ],
   "source": [
    "for carnum, times in record_dict.items():\n",
    "    print(carnum)\n",
    "    print(times)"
   ],
   "metadata": {
    "collapsed": false,
    "pycharm": {
     "name": "#%%\n"
    }
   }
  },
  {
   "cell_type": "code",
   "execution_count": 25,
   "outputs": [
    {
     "name": "stdout",
     "output_type": "stream",
     "text": [
      "34\n",
      "334\n"
     ]
    }
   ],
   "source": [
    "\n",
    "def calc_min (time_in, time_out = '23:59') :\n",
    "    hour_in, min_in = map(int, time_in.split(':'))\n",
    "    hour_out, min_out = map(int, time_out.split(':'))\n",
    "    if min_out < min_in :\n",
    "            min_out += 60\n",
    "            hour_out -= 1\n",
    "    hour = hour_out - hour_in\n",
    "    minute = min_out - min_in\n",
    "    return hour*60 + minute\n",
    "\n",
    "times=['06:00', '06:34', '18:59']\n",
    "time = 0\n",
    "for i in range(0, len(times), 2) :\n",
    "    try :\n",
    "        time += calc_min(times[i], times[i+1])\n",
    "    except :\n",
    "        time += calc_min(times[i])"
   ],
   "metadata": {
    "collapsed": false,
    "pycharm": {
     "name": "#%%\n"
    }
   }
  },
  {
   "cell_type": "code",
   "execution_count": 26,
   "outputs": [
    {
     "data": {
      "text/plain": "['0000', '0148', '5961']"
     },
     "execution_count": 26,
     "metadata": {},
     "output_type": "execute_result"
    }
   ],
   "source": [
    "sorted(record_dict)"
   ],
   "metadata": {
    "collapsed": false,
    "pycharm": {
     "name": "#%%\n"
    }
   }
  },
  {
   "cell_type": "code",
   "execution_count": 36,
   "outputs": [
    {
     "ename": "AttributeError",
     "evalue": "'list' object has no attribute 'items'",
     "output_type": "error",
     "traceback": [
      "\u001B[1;31m---------------------------------------------------------------------------\u001B[0m",
      "\u001B[1;31mAttributeError\u001B[0m                            Traceback (most recent call last)",
      "\u001B[1;32mC:\\Users\\ADMINI~1\\AppData\\Local\\Temp/ipykernel_3088/2651321021.py\u001B[0m in \u001B[0;36m<module>\u001B[1;34m\u001B[0m\n\u001B[1;32m----> 1\u001B[1;33m \u001B[1;32mfor\u001B[0m \u001B[0mcarnum\u001B[0m\u001B[1;33m,\u001B[0m \u001B[0mtimes\u001B[0m \u001B[1;32min\u001B[0m \u001B[0msorted_dict\u001B[0m\u001B[1;33m.\u001B[0m\u001B[0mitems\u001B[0m\u001B[1;33m(\u001B[0m\u001B[1;33m)\u001B[0m\u001B[1;33m:\u001B[0m\u001B[1;33m\u001B[0m\u001B[1;33m\u001B[0m\u001B[0m\n\u001B[0m\u001B[0;32m      2\u001B[0m     \u001B[0mprint\u001B[0m\u001B[1;33m(\u001B[0m\u001B[0mcarnum\u001B[0m\u001B[1;33m)\u001B[0m\u001B[1;33m\u001B[0m\u001B[1;33m\u001B[0m\u001B[0m\n\u001B[0;32m      3\u001B[0m     \u001B[0mprint\u001B[0m\u001B[1;33m(\u001B[0m\u001B[0mtimes\u001B[0m\u001B[1;33m)\u001B[0m\u001B[1;33m\u001B[0m\u001B[1;33m\u001B[0m\u001B[0m\n",
      "\u001B[1;31mAttributeError\u001B[0m: 'list' object has no attribute 'items'"
     ]
    }
   ],
   "source": [
    "for carnum, times in sorted_dict.items():\n",
    "    print(carnum)\n",
    "    print(times)"
   ],
   "metadata": {
    "collapsed": false,
    "pycharm": {
     "name": "#%%\n"
    }
   }
  },
  {
   "cell_type": "code",
   "execution_count": 40,
   "outputs": [],
   "source": [
    "from collections import defaultdict\n",
    "import math\n",
    "def solution(fees, records):\n",
    "    def calc_min (time_in, time_out = '23:59') :\n",
    "        hour_in, min_in = map(int, time_in.split(':'))\n",
    "        hour_out, min_out = map(int, time_out.split(':'))\n",
    "        if min_out < min_in :\n",
    "                min_out += 60\n",
    "                hour_out -= 1\n",
    "        hour = hour_out - hour_in\n",
    "        minute = min_out - min_in\n",
    "        return hour*60 + minute\n",
    "\n",
    "    record_dict = defaultdict(list)\n",
    "\n",
    "    for line in records :\n",
    "        r = line.split()\n",
    "        record_dict[r[1]].append(r[0])\n",
    "\n",
    "    fee_per_car = defaultdict(int)\n",
    "    for car, times in record_dict.items():\n",
    "        time = 0\n",
    "        fee = fees[1]\n",
    "        for i in range(0, len(times), 2) :\n",
    "            try :\n",
    "                time += calc_min(times[i], times[i+1])\n",
    "            except :\n",
    "                time += calc_min(times[i])\n",
    "        if time > fees[0] :\n",
    "            time -= fees[0]\n",
    "            fee += math.ceil(time/fees[2]) * fees[3]\n",
    "        fee_per_car[car] += fee\n",
    "\n",
    "    answer = []\n",
    "    for car in sorted(record_dict.keys()) :\n",
    "        answer.append(fee_per_car[car])\n",
    "\n",
    "    return answer"
   ],
   "metadata": {
    "collapsed": false,
    "pycharm": {
     "name": "#%%\n"
    }
   }
  },
  {
   "cell_type": "code",
   "execution_count": 41,
   "outputs": [
    {
     "data": {
      "text/plain": "[14600, 34400, 5000]"
     },
     "execution_count": 41,
     "metadata": {},
     "output_type": "execute_result"
    }
   ],
   "source": [
    "solution([180, 5000, 10, 600], [\"05:34 5961 IN\", \"06:00 0000 IN\", \"06:34 0000 OUT\", \"07:59 5961 OUT\", \"07:59 0148 IN\", \"18:59 0000 IN\", \"19:09 0148 OUT\", \"22:59 5961 IN\", \"23:00 5961 OUT\"])"
   ],
   "metadata": {
    "collapsed": false,
    "pycharm": {
     "name": "#%%\n"
    }
   }
  },
  {
   "cell_type": "code",
   "execution_count": null,
   "outputs": [],
   "source": [],
   "metadata": {
    "collapsed": false,
    "pycharm": {
     "name": "#%%\n"
    }
   }
  }
 ],
 "metadata": {
  "kernelspec": {
   "display_name": "Python 3",
   "language": "python",
   "name": "python3"
  },
  "language_info": {
   "codemirror_mode": {
    "name": "ipython",
    "version": 2
   },
   "file_extension": ".py",
   "mimetype": "text/x-python",
   "name": "python",
   "nbconvert_exporter": "python",
   "pygments_lexer": "ipython2",
   "version": "2.7.6"
  }
 },
 "nbformat": 4,
 "nbformat_minor": 0
}