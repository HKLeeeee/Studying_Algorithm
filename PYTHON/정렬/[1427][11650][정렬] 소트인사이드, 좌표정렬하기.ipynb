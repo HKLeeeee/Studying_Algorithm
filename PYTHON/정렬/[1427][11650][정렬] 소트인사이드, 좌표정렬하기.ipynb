{
 "cells": [
  {
   "cell_type": "markdown",
   "metadata": {},
   "source": [
    "# [1427] 소트인사이드"
   ]
  },
  {
   "cell_type": "code",
   "execution_count": 1,
   "metadata": {},
   "outputs": [],
   "source": [
    "n = '2143'\n",
    "lst = [i for i in n]"
   ]
  },
  {
   "cell_type": "code",
   "execution_count": 2,
   "metadata": {
    "pycharm": {
     "name": "#%%\n"
    }
   },
   "outputs": [],
   "source": [
    "lst.sort(reverse=True)"
   ]
  },
  {
   "cell_type": "code",
   "execution_count": 3,
   "metadata": {
    "pycharm": {
     "name": "#%%\n"
    }
   },
   "outputs": [
    {
     "name": "stdout",
     "output_type": "stream",
     "text": [
      "4321"
     ]
    }
   ],
   "source": [
    "for i in lst :\n",
    "    print(i, end='')"
   ]
  },
  {
   "cell_type": "markdown",
   "metadata": {},
   "source": [
    "# [11650] 좌표정렬하기"
   ]
  },
  {
   "cell_type": "markdown",
   "metadata": {},
   "source": [
    "Quick Sort 구현해보기\n",
    "<a href='https://stop-thinking-start-now.tistory.com/77'> 블로그 </a>"
   ]
  },
  {
   "cell_type": "code",
   "execution_count": 4,
   "metadata": {
    "pycharm": {
     "name": "#%%\n"
    }
   },
   "outputs": [],
   "source": [
    "def qsort(v : list) :\n",
    "    if len(v) == 1 :\n",
    "        return [v[0]]\n",
    "    elif len(v) < 1 :\n",
    "        return\n",
    "    # else\n",
    "    pivot = v[0]\n",
    "    left = []\n",
    "    right = []\n",
    "\n",
    "    for i in range(1, len(v)) :\n",
    "        if v[i] <= pivot:\n",
    "            left.append(v[i])\n",
    "        else :\n",
    "            right.append(v[i])\n",
    "    l = qsort(left)\n",
    "    r = qsort(right)\n",
    "\n",
    "    # merge\n",
    "    result = []\n",
    "    if l is not None :\n",
    "        for i in l :\n",
    "            result.append(i)\n",
    "    result.append(pivot)\n",
    "    if r is not None :\n",
    "        for j in r :\n",
    "            result.append(j)\n",
    "\n",
    "    return result"
   ]
  },
  {
   "cell_type": "code",
   "execution_count": 5,
   "metadata": {
    "pycharm": {
     "name": "#%%\n"
    }
   },
   "outputs": [
    {
     "data": {
      "text/plain": [
       "[1, 2, 2, 2, 3, 6, 78]"
      ]
     },
     "execution_count": 5,
     "metadata": {},
     "output_type": "execute_result"
    }
   ],
   "source": [
    "l = [2,3,6,2,78,1,2]\n",
    "l = qsort(l)\n",
    "l"
   ]
  },
  {
   "cell_type": "markdown",
   "metadata": {},
   "source": [
    "### 문제 풀이\n",
    "1. x 좌표 기준 정렬\n",
    "2. x 좌표 같은 것끼리(..) 정렬"
   ]
  },
  {
   "cell_type": "code",
   "execution_count": 6,
   "metadata": {
    "pycharm": {
     "name": "#%%\n"
    }
   },
   "outputs": [],
   "source": [
    "def qsort_x(v : list):\n",
    "    if len(v) == 1 :\n",
    "        return [v[0]]\n",
    "    elif len(v) < 1 :\n",
    "        return\n",
    "    # else\n",
    "    pivot = v[0][0]\n",
    "    left = []\n",
    "    right = []\n",
    "\n",
    "    for i in range(1, len(v)) :\n",
    "        if v[i][0] <= pivot:\n",
    "            left.append(v[i])\n",
    "        else :\n",
    "            right.append(v[i])\n",
    "    l = qsort(left)\n",
    "    r = qsort(right)\n",
    "\n",
    "    # merge\n",
    "    result = []\n",
    "    if l is not None :\n",
    "        for i in l :\n",
    "            result.append(i)\n",
    "    result.append(v[0])\n",
    "    if r is not None :\n",
    "        for j in r :\n",
    "            result.append(j)\n",
    "\n",
    "    return result\n",
    "\n",
    "def qsort_y(v) :\n",
    "    if len(v) == 1 :\n",
    "        return [v[0]]\n",
    "    elif len(v) < 1 :\n",
    "        return\n",
    "    # else\n",
    "    pivot = v[0][1]\n",
    "    left = []\n",
    "    right = []\n",
    "\n",
    "    for i in range(1, len(v)) :\n",
    "        if v[i][1] <= pivot:\n",
    "            left.append(v[i])\n",
    "        else :\n",
    "            right.append(v[i])\n",
    "    l = qsort(left)\n",
    "    r = qsort(right)\n",
    "\n",
    "    # merge\n",
    "    result = []\n",
    "    if l is not None :\n",
    "        for i in l :\n",
    "            result.append(i)\n",
    "    result.append(v[0])\n",
    "    if r is not None :\n",
    "        for j in r :\n",
    "            result.append(j)\n",
    "\n",
    "    return result"
   ]
  },
  {
   "cell_type": "code",
   "execution_count": 8,
   "metadata": {
    "pycharm": {
     "name": "#%%\n"
    }
   },
   "outputs": [
    {
     "name": "stdout",
     "output_type": "stream",
     "text": [
      "5\n",
      "1 1\n",
      "1 -1\n",
      "2 2\n",
      "3 4\n",
      "3 3\n",
      "1 -1 \n",
      "1 1 \n",
      "2 2 \n",
      "3 3 \n",
      "3 4 \n"
     ]
    }
   ],
   "source": [
    "if __name__ == '__main__' :\n",
    "    n = int(input())\n",
    "    lst = []\n",
    "\n",
    "    for _ in range(n):\n",
    "        lst.append(list(map(int, input().split())))\n",
    "    lst = qsort_x(lst)\n",
    "    i = 0\n",
    "    while i < len(lst)-1 :\n",
    "        j = i + 1\n",
    "        if lst[i] == lst[j] :\n",
    "            temp = [lst[i]]\n",
    "            while lst[i] != lst[j] :\n",
    "                # x 좌표가 같을때\n",
    "                temp.append(lst[j])\n",
    "                j +=1\n",
    "            temp = qsort_y(temp)\n",
    "            for t in temp :\n",
    "                lst[i] = t\n",
    "                i += 1\n",
    "        else :\n",
    "            i = j\n",
    "\n",
    "    for v in lst:\n",
    "        for s in v :\n",
    "            print(s, end=' ')\n",
    "        print()"
   ]
  },
  {
   "cell_type": "markdown",
   "metadata": {},
   "source": [
    "=> Name Error,,,,??"
   ]
  },
  {
   "cell_type": "markdown",
   "metadata": {},
   "source": [
    "### Quick sort 안쓰고 파이썬 내장함수 이용하기\n",
    "<a href=\"https://stop-thinking-start-now.tistory.com/78\">안정정렬, 불안정정렬</a>"
   ]
  },
  {
   "cell_type": "code",
   "execution_count": 10,
   "metadata": {
    "pycharm": {
     "name": "#%%\n"
    },
    "scrolled": true
   },
   "outputs": [
    {
     "name": "stdout",
     "output_type": "stream",
     "text": [
      "5\n",
      "1 5\n",
      "1 4\n",
      "1 3\n",
      "1 2\n",
      "1 1\n",
      "1 1 \n",
      "1 2 \n",
      "1 3 \n",
      "1 4 \n",
      "1 5 \n"
     ]
    }
   ],
   "source": [
    "from operator import itemgetter\n",
    "n = int(input())\n",
    "lst = []\n",
    "\n",
    "for _ in range(n):\n",
    "    lst.append(list(map(int, input().split())))\n",
    "\n",
    "lst = sorted(lst, key=itemgetter(0))\n",
    "\n",
    "i = 0\n",
    "while i < len(lst)-1 :\n",
    "    j = i + 1\n",
    "    while True :\n",
    "        if lst[i][0] == lst[j][0] :\n",
    "            if j == len(lst)-1:\n",
    "                break\n",
    "            j +=1\n",
    "        else :\n",
    "            break\n",
    "    lst[i:j+1] = sorted(lst[i:j+1], key=itemgetter(1))\n",
    "    i = j+1\n",
    "\n",
    "for v in lst:\n",
    "    for s in v :\n",
    "        print(s, end=' ')\n",
    "    print()"
   ]
  },
  {
   "cell_type": "markdown",
   "metadata": {},
   "source": [
    "-> 틀렸습니다...?  \n",
    "백준 틀렸습니다가 가장 당황스럽다  \n",
    "주어진 입력예시, 추가로 해본 입력예시는 맞게 나오는데  \n",
    "예외를 찾기가 힘들다..."
   ]
  },
  {
   "cell_type": "markdown",
   "metadata": {},
   "source": [
    "---\n",
    "찾아보니,,, 파이썬 sorted를 쓰면 바로 해결될 문제였다...\n",
    "### 제출"
   ]
  },
  {
   "cell_type": "code",
   "execution_count": 11,
   "metadata": {},
   "outputs": [
    {
     "name": "stdout",
     "output_type": "stream",
     "text": [
      "5\n",
      "1 1\n",
      "1 -1\n",
      "2 2\n",
      "3 4\n",
      "3 3\n",
      "1 -1\n",
      "1 1\n",
      "2 2\n",
      "3 3\n",
      "3 4\n"
     ]
    }
   ],
   "source": [
    "n = int(input())\n",
    "lst = []\n",
    "\n",
    "for _ in range(n):\n",
    "    lst.append(list(map(int, input().split())))\n",
    "\n",
    "lst = sorted(lst)\n",
    "\n",
    "for v in lst:\n",
    "    print(v[0], v[1])"
   ]
  },
  {
   "cell_type": "markdown",
   "metadata": {},
   "source": [
    "### MORE\n",
    "참고 : https://dailyheumsi.tistory.com/67\n",
    "\n",
    "sort, sorted 키가 여러개일때,  \n",
    "key옵션에 차례로 넣어주면된다."
   ]
  },
  {
   "cell_type": "markdown",
   "metadata": {},
   "source": [
    "비교할 아이템의 요소가 복수 개일 경우, 튜플로 그 순서를 내보내주면 된다.  \n",
    "- ex. sorted(e, key = lambda x : (x[0], -x[1]))  \n",
    "\n",
    "\n",
    "-를 붙이면, 현재 정렬차순과 반대로 하게 된다.  "
   ]
  },
  {
   "cell_type": "code",
   "execution_count": 14,
   "metadata": {
    "pycharm": {
     "name": "#%%\n"
    }
   },
   "outputs": [
    {
     "data": {
      "text/plain": [
       "[(0, 3), (0, 1), (1, 5), (1, 4), (1, 3), (2, 4)]"
      ]
     },
     "execution_count": 14,
     "metadata": {},
     "output_type": "execute_result"
    }
   ],
   "source": [
    "e = [(1, 3), (0, 3), (1, 4), (1, 5), (0, 1), (2, 4)]\n",
    "f = sorted(e, key = lambda x : (x[0], -x[1]))\n",
    "f"
   ]
  }
 ],
 "metadata": {
  "kernelspec": {
   "display_name": "Python 3 (ipykernel)",
   "language": "python",
   "name": "python3"
  },
  "language_info": {
   "codemirror_mode": {
    "name": "ipython",
    "version": 3
   },
   "file_extension": ".py",
   "mimetype": "text/x-python",
   "name": "python",
   "nbconvert_exporter": "python",
   "pygments_lexer": "ipython3",
   "version": "3.9.7"
  }
 },
 "nbformat": 4,
 "nbformat_minor": 1
}