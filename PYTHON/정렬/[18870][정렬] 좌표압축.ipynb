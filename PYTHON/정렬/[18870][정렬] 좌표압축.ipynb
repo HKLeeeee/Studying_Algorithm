{
 "cells": [
  {
   "cell_type": "markdown",
   "source": [
    "# 좌표 압축\n",
    "수직선 위에 N개의 좌표 X1, X2, ..., XN이 있다. 이 좌표에 좌표 압축을 적용하려고 한다.\n",
    "\n",
    "Xi를 좌표 압축한 결과 X'i의 값은 Xi > Xj를 만족하는 서로 다른 좌표의 개수와 같아야 한다.\n",
    "\n",
    "X1, X2, ..., XN에 좌표 압축을 적용한 결과 X'1, X'2, ..., X'N를 출력해보자."
   ],
   "metadata": {
    "collapsed": false
   }
  },
  {
   "cell_type": "code",
   "execution_count": null,
   "metadata": {
    "collapsed": true
   },
   "outputs": [],
   "source": [
    "import sys\n",
    "n = int(sys.stdin.readline())\n",
    "\n",
    "lst = list(map(int, sys.stdin.readline().split()))\n",
    "\n",
    "num = list(set(lst))\n",
    "num.sort()\n",
    "\n",
    "for x in lst :\n",
    "    sys.stdout.write(str(num.index(x))+ \" \")"
   ]
  },
  {
   "cell_type": "code",
   "execution_count": null,
   "outputs": [],
   "source": [
    "import sys\n",
    "\n",
    "if __name__ == '__main__':\n",
    "    n = int(sys.stdin.readline())\n",
    "\n",
    "    lst = list(map(int, sys.stdin.readline().split()))\n",
    "\n",
    "    num = list(set(lst))\n",
    "    num.sort()\n",
    "\n",
    "    for x in lst:\n",
    "        sys.stdout.write(str(num.index(x)) + \" \")"
   ],
   "metadata": {
    "collapsed": false,
    "pycharm": {
     "name": "#%%\n"
    }
   }
  },
  {
   "cell_type": "markdown",
   "source": [
    "### -> 시간초과"
   ],
   "metadata": {
    "collapsed": false
   }
  },
  {
   "cell_type": "code",
   "execution_count": 38,
   "outputs": [
    {
     "name": "stdout",
     "output_type": "stream",
     "text": [
      "2 3 0 3 1 "
     ]
    }
   ],
   "source": [
    "n = int(input())\n",
    "lst = list(map(int, input().split()))\n",
    "s = list(set(lst))\n",
    "s.sort()\n",
    "\n",
    "dic = {s[i] : i for i in range(len(s))}\n",
    "for l in lst :\n",
    "     print('{}'.format(dic[l]), end=' ')"
   ],
   "metadata": {
    "collapsed": false,
    "pycharm": {
     "name": "#%%\n"
    }
   }
  },
  {
   "cell_type": "code",
   "execution_count": 39,
   "outputs": [
    {
     "name": "stdout",
     "output_type": "stream",
     "text": [
      "2 3 0 3 1 "
     ]
    }
   ],
   "source": [
    "lst = [2, 4, -10, 4, -9]\n",
    "s = list(set(lst))\n",
    "s.sort()\n",
    "dic = {}\n",
    "# dic = {s[i] : i for i in range(len(s))}\n",
    "for i, l in enumerate(s):\n",
    "    dic[l] = i\n",
    "for l in lst :\n",
    "     print('{}'.format(dic[l]), end=' ')"
   ],
   "metadata": {
    "collapsed": false,
    "pycharm": {
     "name": "#%%\n"
    }
   }
  },
  {
   "cell_type": "markdown",
   "source": [
    "### -> 둘 다 성공"
   ],
   "metadata": {
    "collapsed": false
   }
  },
  {
   "cell_type": "markdown",
   "source": [
    "이유는 list의 .index의 시간복잡도가 O(N)이기 때문!!\n",
    "dictionary[key]로 탐색하는 것은 시간복잡도가 O(N)이다."
   ],
   "metadata": {
    "collapsed": false,
    "pycharm": {
     "name": "#%% md\n"
    }
   }
  }
 ],
 "metadata": {
  "kernelspec": {
   "display_name": "Python 3",
   "language": "python",
   "name": "python3"
  },
  "language_info": {
   "codemirror_mode": {
    "name": "ipython",
    "version": 2
   },
   "file_extension": ".py",
   "mimetype": "text/x-python",
   "name": "python",
   "nbconvert_exporter": "python",
   "pygments_lexer": "ipython2",
   "version": "2.7.6"
  }
 },
 "nbformat": 4,
 "nbformat_minor": 0
}