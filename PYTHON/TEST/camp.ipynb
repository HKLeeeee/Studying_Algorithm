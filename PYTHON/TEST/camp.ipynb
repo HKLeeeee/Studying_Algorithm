{
 "cells": [
  {
   "cell_type": "markdown",
   "id": "8bff479e",
   "metadata": {},
   "source": [
    "# 유형 1"
   ]
  },
  {
   "cell_type": "code",
   "execution_count": 21,
   "id": "2c03dbbf",
   "metadata": {},
   "outputs": [],
   "source": [
    "from collections import Counter\n",
    "\n",
    "def solution(arr) :\n",
    "    c = Counter(arr)\n",
    "    print(c)\n",
    "    answer = [k for k in c.values() if k > 1]\n",
    "    return answer if len(answer) > 0 else [-1]"
   ]
  },
  {
   "cell_type": "code",
   "execution_count": 18,
   "id": "7e4b2040",
   "metadata": {},
   "outputs": [
    {
     "data": {
      "text/plain": [
       "[5, 4, 2]"
      ]
     },
     "execution_count": 18,
     "metadata": {},
     "output_type": "execute_result"
    }
   ],
   "source": [
    "solution([1,1,1,1,1,2,3,3,3,3,4,4])"
   ]
  },
  {
   "cell_type": "code",
   "execution_count": 19,
   "id": "27bbf61c",
   "metadata": {},
   "outputs": [
    {
     "data": {
      "text/plain": [
       "[-1]"
      ]
     },
     "execution_count": 19,
     "metadata": {},
     "output_type": "execute_result"
    }
   ],
   "source": [
    "solution([3,5,7,9,1])"
   ]
  },
  {
   "cell_type": "code",
   "execution_count": 22,
   "id": "90f7a480",
   "metadata": {},
   "outputs": [
    {
     "name": "stdout",
     "output_type": "stream",
     "text": [
      "Counter({2: 3, 5: 3, 4: 2, 3: 1})\n"
     ]
    },
    {
     "data": {
      "text/plain": [
       "[3, 2, 3]"
      ]
     },
     "execution_count": 22,
     "metadata": {},
     "output_type": "execute_result"
    }
   ],
   "source": [
    "solution([3,2,4,4,2,5,2,5,5])"
   ]
  },
  {
   "cell_type": "code",
   "execution_count": 26,
   "id": "64cbb680",
   "metadata": {},
   "outputs": [
    {
     "name": "stdout",
     "output_type": "stream",
     "text": [
      "Counter({2: 3, 5: 3, 4: 2, 1: 1, 3: 1})\n",
      "key:  1 value: 1\n",
      "key:  3 value: 1\n",
      "key:  2 value: 3\n",
      "key:  4 value: 2\n",
      "key:  5 value: 3\n"
     ]
    }
   ],
   "source": [
    "c = Counter([1, 3,2,4,4,2,5,2,5,5])\n",
    "print(c)\n",
    "for k, v in c.items():\n",
    "    print('key: ', k, 'value:', v)"
   ]
  },
  {
   "cell_type": "markdown",
   "id": "92e3c7d7",
   "metadata": {},
   "source": [
    "# 유형 2"
   ]
  },
  {
   "cell_type": "code",
   "execution_count": 113,
   "id": "42ddffb2",
   "metadata": {},
   "outputs": [],
   "source": [
    "# 메모리 할당\n",
    "def solution(param0):\n",
    "    type_size = {'BOOL' : 1,\n",
    "                'SHORT': 2,\n",
    "                'FLOAT': 4,\n",
    "                'INT': 8,\n",
    "                'LONG': 16}\n",
    "    byte ='#'\n",
    "    padding = '.'\n",
    "    limit = int(128 / 8)\n",
    "    \n",
    "    answer = ['' for _ in range(limit)]\n",
    "    \n",
    "    param_idx = 0\n",
    "    byte_idx = 0\n",
    "    \n",
    "    while(param_idx < len(param0) and byte_idx < limit) :\n",
    "#         print('param_idx : ', param_idx, '\\n', answer)\n",
    "        param = param0[param_idx]\n",
    "        param_size = type_size[param]\n",
    "        start = len(answer[byte_idx])\n",
    "        \n",
    "        if param == 'LONG' :\n",
    "            if start != 0 :\n",
    "                answer[byte_idx] += (8-start) * padding\n",
    "                byte_idx += 1\n",
    "                start = 0\n",
    "            try : \n",
    "                answer[byte_idx] = byte * 8\n",
    "                answer[byte_idx + 1] = byte * 8\n",
    "                byte_idx += 2\n",
    "            except IndexError :\n",
    "                return 'HALT'\n",
    "        else :    \n",
    "            if start % param_size != 0:\n",
    "                padding_len = param_size - start % param_size\n",
    "                start += padding_len\n",
    "                answer[byte_idx] += padding * padding_len\n",
    "\n",
    "            if start >=7 :\n",
    "                byte_idx += 1\n",
    "                start = 0\n",
    "\n",
    "            answer[byte_idx] += param_size * '#'\n",
    "\n",
    "        param_idx += 1\n",
    "    \n",
    "#     print(f'while 끝 param_idx : {param_idx}, byte_idx{byte_idx}')\n",
    "    if param_idx < len(param0) - 1 and byte_idx == limit :\n",
    "        return 'HALT'\n",
    "    \n",
    "    answer = [a for a in answer if a != '']\n",
    "    if len(answer[-1]) < 8 :\n",
    "        answer[-1] += (8-len(answer[-1])) * padding\n",
    "    return ','.join(answer)  \n",
    "    "
   ]
  },
  {
   "cell_type": "code",
   "execution_count": 104,
   "id": "530ab917",
   "metadata": {
    "scrolled": true
   },
   "outputs": [
    {
     "data": {
      "text/plain": [
       "'########,########,#.##....,########,########'"
      ]
     },
     "execution_count": 104,
     "metadata": {},
     "output_type": "execute_result"
    }
   ],
   "source": [
    "solution([\"INT\", \"INT\",\"BOOL\", \"SHORT\", 'LONG'])"
   ]
  },
  {
   "cell_type": "code",
   "execution_count": 105,
   "id": "0d7fb464",
   "metadata": {},
   "outputs": [
    {
     "data": {
      "text/plain": [
       "'HALT'"
      ]
     },
     "execution_count": 105,
     "metadata": {},
     "output_type": "execute_result"
    }
   ],
   "source": [
    "solution(['LONG'] * 17)"
   ]
  },
  {
   "cell_type": "code",
   "execution_count": 106,
   "id": "fb3e5c82",
   "metadata": {},
   "outputs": [
    {
     "data": {
      "text/plain": [
       "'HALT'"
      ]
     },
     "execution_count": 106,
     "metadata": {},
     "output_type": "execute_result"
    }
   ],
   "source": [
    "solution(['BOOL', 'LONG', 'SHORT', 'LONG', 'BOOL', 'LONG', 'BOOL', 'LONG'\n",
    "         , 'SHORT', 'LONG', 'LONG'])"
   ]
  },
  {
   "cell_type": "code",
   "execution_count": 116,
   "id": "515dded4",
   "metadata": {},
   "outputs": [
    {
     "data": {
      "text/plain": [
       "'#.......,########,##......,########,#.......,########,#.......,########,#.......,########,########,##......,########,########,####....'"
      ]
     },
     "execution_count": 116,
     "metadata": {},
     "output_type": "execute_result"
    }
   ],
   "source": [
    "solution(['BOOL', 'INT', 'SHORT', 'INT', 'BOOL', 'INT','BOOL', 'INT', 'BOOL'\n",
    "          , 'LONG', 'SHORT', 'LONG', 'FLOAT'])"
   ]
  },
  {
   "cell_type": "code",
   "execution_count": 112,
   "id": "eee861a0",
   "metadata": {},
   "outputs": [
    {
     "data": {
      "text/plain": [
       "72"
      ]
     },
     "execution_count": 112,
     "metadata": {},
     "output_type": "execute_result"
    }
   ],
   "source": [
    "8 * 9"
   ]
  },
  {
   "cell_type": "code",
   "execution_count": 117,
   "id": "ecc6f651",
   "metadata": {},
   "outputs": [
    {
     "data": {
      "text/plain": [
       "'#.######'"
      ]
     },
     "execution_count": 117,
     "metadata": {},
     "output_type": "execute_result"
    }
   ],
   "source": [
    "solution(['BOOL', 'SHORT', 'FLOAT'])"
   ]
  },
  {
   "cell_type": "code",
   "execution_count": null,
   "id": "ca865209",
   "metadata": {},
   "outputs": [],
   "source": []
  }
 ],
 "metadata": {
  "kernelspec": {
   "display_name": "Python 3 (ipykernel)",
   "language": "python",
   "name": "python3"
  },
  "language_info": {
   "codemirror_mode": {
    "name": "ipython",
    "version": 3
   },
   "file_extension": ".py",
   "mimetype": "text/x-python",
   "name": "python",
   "nbconvert_exporter": "python",
   "pygments_lexer": "ipython3",
   "version": "3.11.3"
  }
 },
 "nbformat": 4,
 "nbformat_minor": 5
}
