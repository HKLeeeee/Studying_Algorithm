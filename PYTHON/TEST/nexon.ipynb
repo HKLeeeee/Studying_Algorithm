{
 "cells": [
  {
   "cell_type": "code",
   "execution_count": 12,
   "id": "ced9c60a",
   "metadata": {},
   "outputs": [],
   "source": [
    "def findMaxDistinctItems(n, k, arr):\n",
    "    # Write your code here\n",
    "    max_item = 0\n",
    "    item_list = [i+1 for i in range(n)]\n",
    "    item_list = list(set(item_list) - set(arr))\n",
    "    N = len(item_list)\n",
    "    # [2,4,5,6,7,9,10]\n",
    "    print(item_list)\n",
    "    for i, item in enumerate(item_list):\n",
    "        item_sum = item\n",
    "        item_num = 1\n",
    "        \n",
    "        if item>k:\n",
    "            max_item = max(max_item, item_num)\n",
    "            break\n",
    "            \n",
    "        for j in range(i+1, N):\n",
    "            this_item = item_list[j]\n",
    "            if item_sum + this_item >= k:\n",
    "                break\n",
    "            else:\n",
    "                item_sum += this_item\n",
    "                item_num += 1\n",
    "                \n",
    "        max_item = max(max_item, item_num)\n",
    "    \n",
    "    return len(arr) + max_item"
   ]
  },
  {
   "cell_type": "code",
   "execution_count": 13,
   "id": "aad0c635",
   "metadata": {},
   "outputs": [
    {
     "name": "stdout",
     "output_type": "stream",
     "text": [
      "[2, 4, 5, 6, 7, 9, 10]\n"
     ]
    },
    {
     "data": {
      "text/plain": [
       "5"
      ]
     },
     "execution_count": 13,
     "metadata": {},
     "output_type": "execute_result"
    }
   ],
   "source": [
    "findMaxDistinctItems(10,10,[1,3,8])"
   ]
  },
  {
   "cell_type": "code",
   "execution_count": 14,
   "id": "a89980a0",
   "metadata": {},
   "outputs": [],
   "source": [
    "a = 57 \n",
    "b = 1134 \n",
    "c = [9445, 8772, 81, 3447, 629, 3497, 7202, 7775, 4325, 3982, 4784, 8417, 2156, 1932, 5902, 5728, 8537, 3857, 739, 6918, 9211, 9679, 8506, 3340, 6568, 1868, 16, 7940, 6263, 4593, 1449, 6991, 310, 3355, 7068, 1431, 8580, 1757, 9218, 4934, 4328, 3676, 9355, 6221, 9080, 5922, 1545, 8511, 4067, 5467, 8674, 4691, 6504, 9835, 2034, 4965, 9980, 1221, 5895, 2501, 8152, 8325, 7731, 9302, 8153, 9896, 9022, 7489, 8399, 607, 6466, 4432, 1502, 3968, 8333, 7475, 3792, 84, 7010, 9694, 7328, 7354, 4712, 8409, 6480, 2643, 8121, 1951, 3492, 4420, 8197, 8607, 7925, 2167, 717, 3438, 9200, 6986, 6104, 6483, 3620, 9806, 881, 6858, 5559, 6553, 8502, 3554, 2962, 2325, 7435, 9279, 464, 7327, 2549, 9832, 6595, 8200, 8720, 7658, 639, 9992, 9130, 6467, 8989, 7958, 2581, 6600, 7466, 1473, 1929, 9775, 2581, 9770, 9455, 3718, 4628, 6807, 9335, 1898, 1552, 6530, 5811, 9569, 4148, 3384, 6954, 8913, 114, 6315, 3686, 9334, 382, 1392, 8326, 1008, 3553, 962, 4957, 4850, 8231, 2061, 1185, 1588, 4305, 2980, 7564, 1890, 52, 8747, 943, 1740, 7593, 7469, 7370, 2516, 443, 6007, 9525, 3299, 412, 7163, 6699, 3571, 8976, 7455, 2217, 3590, 9343, 4427, 3220, 1342, 4584, 4239, 4496, 5875, 2601, 1258, 1449, 3377, 40, 7428, 8238, 2455, 3517, 1653, 4433, 1768, 1957, 7307, 6456, 6878, 2977, 5368, 1999, 4882, 3541, 1826, 3764, 3269, 1401, 2098, 8698, 6763, 1515, 5413, 1495, 6523, 4571, 206, 8357, 5904, 3310, 1410, 5844, 7611, 7484, 410, 3559, 9262, 1394, 8949, 1107, 8546, 2737, 7987, 4979, 2306, 4685, 9291, 5542, 6542, 9134, 1094, 2751, 2089, 898, 5729, 212, 9964, 8297, 1823, 720, 5297, 2280, 4917, 4338, 7176, 8183, 7965, 5740, 3541, 9555, 3, 3316, 8256, 6013, 7611, 3974, 4931, 2024, 9609, 6176, 304, 1151, 4199, 9876, 8825, 8893, 3939, 3737, 4374, 8323, 6846, 5819, 1154, 5157, 814, 6343, 1886, 1197, 3100, 1856, 1709, 3879, 5479, 2461, 3014, 9123, 9744, 5400, 7094, 9447, 9020, 9152, 3963, 9674, 7829, 8984, 9930, 5322, 6665, 2646, 9385, 9191, 1353, 7605, 7110, 4453, 3356, 243, 7694, 1854, 2297, 3075, 9831, 974, 8720, 1837, 695, 9845, 7154, 1673, 5306, 7865, 5524, 952, 1231, 5329, 2353, 6331, 5692, 8027, 3413, 3081, 8438, 5063, 9858, 7358, 266, 7801, 6095, 8374, 4807, 5051, 4868, 9478, 9809, 1304, 7007, 2308, 2992, 4499, 9650, 1706, 8399, 7822, 3698, 1015, 6381, 7267, 2282, 237, 7119, 6111, 9926, 3444, 9788, 9826, 9944, 3702, 1888, 6944, 5655, 3521, 4489, 6946, 1131, 6616, 2445, 1654, 4434, 3522, 4850, 2683, 2542, 5226, 741, 2486, 6101, 9661, 8532, 6961, 3568, 1903, 276, 4758, 9772, 5766, 3259, 3224, 5836, 3741, 2054, 9018, 6325, 5395, 6949, 5925, 5056, 7850, 6378, 2711, 9083, 8184, 9790, 2559, 5945, 8345, 268, 2322, 7501, 555, 8772, 1785, 6675, 1312, 8665, 2321, 4920, 3696, 2516, 4857, 7149, 948, 3807, 4535, 1591, 6284, 3082, 1268, 898, 3674, 841, 939, 9593, 3717, 6003, 6334, 2768, 6471, 965, 1121, 1083, 9103, 2366, 1149, 5732, 5776, 7488, 2238, 3064, 2736, 6773, 8070, 2122, 1274, 6632, 1560, 7455, 4748, 1880, 6061, 5889, 6954, 5320, 2034, 6733, 6345, 1090, 9640, 8212, 3717, 3135, 8211, 7037, 1483, 2144, 8668, 1778, 256, 4345, 4127, 6398, 8808, 9328, 5758, 4566, 4591, 6371, 6076, 5805, 4964, 9279, 8370, 3309, 441, 8329, 8125, 3429, 661, 5241, 1166, 4870, 9394, 4314, 9513, 901, 2687, 6748, 6614, 9965, 4222, 1122, 5748, 2234, 8311, 2997, 2193, 9838, 3172, 7006, 803, 3711, 2547, 9136, 5442, 8343, 3431, 7420, 2923, 5843, 3239, 6314, 7903, 8901, 2622, 8535, 5777, 8275, 3321, 2177, 1404, 6261, 2972, 4093, 8747, 1562, 8237, 1698, 4271]\n"
   ]
  },
  {
   "cell_type": "code",
   "execution_count": 15,
   "id": "3060ce5b",
   "metadata": {},
   "outputs": [
    {
     "data": {
      "text/plain": [
       "581"
      ]
     },
     "execution_count": 15,
     "metadata": {},
     "output_type": "execute_result"
    }
   ],
   "source": [
    "len(c)"
   ]
  },
  {
   "cell_type": "code",
   "execution_count": 16,
   "id": "2775527d",
   "metadata": {},
   "outputs": [
    {
     "name": "stdout",
     "output_type": "stream",
     "text": [
      "[1, 2, 4, 5, 6, 7, 8, 9, 10, 11, 12, 13, 14, 15, 17, 18, 19, 20, 21, 22, 23, 24, 25, 26, 27, 28, 29, 30, 31, 32, 33, 34, 35, 36, 37, 38, 39, 41, 42, 43, 44, 45, 46, 47, 48, 49, 50, 51, 53, 54, 55, 56, 57]\n"
     ]
    },
    {
     "data": {
      "text/plain": [
       "626"
      ]
     },
     "execution_count": 16,
     "metadata": {},
     "output_type": "execute_result"
    }
   ],
   "source": [
    "findMaxDistinctItems(a,b,c)"
   ]
  },
  {
   "cell_type": "code",
   "execution_count": 17,
   "id": "b5a420a4",
   "metadata": {},
   "outputs": [
    {
     "data": {
      "text/plain": [
       "1542"
      ]
     },
     "execution_count": 17,
     "metadata": {},
     "output_type": "execute_result"
    }
   ],
   "source": [
    "sum([1, 2, 4, 5, 6, 7, 8, 9, 10, 11, 12, 13, 14, 15, 17, 18, 19, 20, 21, 22, 23, 24, 25, 26, 27, 28, 29, 30, 31, 32, 33, 34, 35, 36, 37, 38, 39, 41, 42, 43, 44, 45, 46, 47, 48, 49, 50, 51, 53, 54, 55, 56, 57]\n",
    "   )"
   ]
  },
  {
   "cell_type": "code",
   "execution_count": 27,
   "id": "cd4dade9",
   "metadata": {},
   "outputs": [],
   "source": [
    "def findMaxDistinctItems(n, k, arr):\n",
    "    # Write your code here\n",
    "    item_list = [i+1 for i in range(n)]\n",
    "    item_list = list(set(item_list) - set(arr))\n",
    "    N = len(item_list)\n",
    "    # [2,4,5,6,7,9,10]\n",
    "    print(item_list)\n",
    "    item_list.sort()  # 배열을 오름차순으로 정렬\n",
    "    count = 0  # 최대 정수의 개수를 저장하는 변수\n",
    "    current_sum = 0  # 현재 합을 저장하는 변수\n",
    "\n",
    "    for num in item_list:\n",
    "        current_sum += num\n",
    "        if current_sum <= k:\n",
    "            count += 1\n",
    "        else:\n",
    "            print(num)\n",
    "            break\n",
    "    print(current_sum - num)\n",
    "    \n",
    "    return count"
   ]
  },
  {
   "cell_type": "code",
   "execution_count": 20,
   "id": "026f5717",
   "metadata": {},
   "outputs": [
    {
     "name": "stdout",
     "output_type": "stream",
     "text": [
      "[2, 4, 5, 6, 7, 9, 10]\n"
     ]
    },
    {
     "data": {
      "text/plain": [
       "2"
      ]
     },
     "execution_count": 20,
     "metadata": {},
     "output_type": "execute_result"
    }
   ],
   "source": [
    "findMaxDistinctItems(10,10,[1,3,8])"
   ]
  },
  {
   "cell_type": "code",
   "execution_count": 28,
   "id": "cd3facea",
   "metadata": {
    "scrolled": true
   },
   "outputs": [
    {
     "name": "stdout",
     "output_type": "stream",
     "text": [
      "[1, 2, 4, 5, 6, 7, 8, 9, 10, 11, 12, 13, 14, 15, 17, 18, 19, 20, 21, 22, 23, 24, 25, 26, 27, 28, 29, 30, 31, 32, 33, 34, 35, 36, 37, 38, 39, 41, 42, 43, 44, 45, 46, 47, 48, 49, 50, 51, 53, 54, 55, 56, 57]\n",
      "49\n",
      "1117\n"
     ]
    },
    {
     "data": {
      "text/plain": [
       "45"
      ]
     },
     "execution_count": 28,
     "metadata": {},
     "output_type": "execute_result"
    }
   ],
   "source": [
    "findMaxDistinctItems(a,b,c)"
   ]
  },
  {
   "cell_type": "code",
   "execution_count": 34,
   "id": "f635c985",
   "metadata": {},
   "outputs": [
    {
     "data": {
      "text/plain": [
       "581"
      ]
     },
     "execution_count": 34,
     "metadata": {},
     "output_type": "execute_result"
    }
   ],
   "source": [
    "len(c)"
   ]
  },
  {
   "cell_type": "code",
   "execution_count": 35,
   "id": "32119c1f",
   "metadata": {},
   "outputs": [
    {
     "data": {
      "text/plain": [
       "565"
      ]
     },
     "execution_count": 35,
     "metadata": {},
     "output_type": "execute_result"
    }
   ],
   "source": [
    "len(set(c))"
   ]
  },
  {
   "cell_type": "code",
   "execution_count": 24,
   "id": "f971df9d",
   "metadata": {},
   "outputs": [
    {
     "data": {
      "text/plain": [
       "626"
      ]
     },
     "execution_count": 24,
     "metadata": {},
     "output_type": "execute_result"
    }
   ],
   "source": [
    "581+45"
   ]
  },
  {
   "cell_type": "code",
   "execution_count": 32,
   "id": "d456cbf2",
   "metadata": {},
   "outputs": [],
   "source": [
    "def findMaxDistinctItems(n, k, arr):\n",
    "    print(n, k, arr)\n",
    "    # Write your code here\n",
    "    max_item = 0\n",
    "    item_list = [i+1 for i in range(n)]\n",
    "    item_list = list(set(item_list) - set(arr))\n",
    "    N = len(item_list)\n",
    "    # [2,4,5,6,7,9,10]\n",
    "    print(item_list)\n",
    "    for i, item in enumerate(item_list):\n",
    "        item_sum = item\n",
    "        item_num = 1\n",
    "        \n",
    "        if item>k:\n",
    "            max_item = max(max_item, item_num)\n",
    "            break\n",
    "            \n",
    "        for j in range(i+1, N):\n",
    "            this_item = item_list[j]\n",
    "            if item_sum + this_item >= k:\n",
    "                break\n",
    "            else:\n",
    "                item_sum += this_item\n",
    "                item_num += 1\n",
    "                \n",
    "        max_item = max(max_item, item_num)\n",
    "    print(max_item)\n",
    "    print(len(arr))\n",
    "    return len(set(arr)) + max_item"
   ]
  },
  {
   "cell_type": "code",
   "execution_count": 33,
   "id": "ebd6a202",
   "metadata": {},
   "outputs": [
    {
     "name": "stdout",
     "output_type": "stream",
     "text": [
      "8 5 [2, 2, 1]\n",
      "[3, 4, 5, 6, 7, 8]\n",
      "1\n",
      "3\n"
     ]
    },
    {
     "data": {
      "text/plain": [
       "3"
      ]
     },
     "execution_count": 33,
     "metadata": {},
     "output_type": "execute_result"
    }
   ],
   "source": [
    "findMaxDistinctItems(8,5, [2,2,1])"
   ]
  },
  {
   "cell_type": "markdown",
   "id": "29f5eaf8",
   "metadata": {},
   "source": [
    "# BackSpace String Compare"
   ]
  },
  {
   "cell_type": "code",
   "execution_count": 40,
   "id": "bcea19ae",
   "metadata": {},
   "outputs": [],
   "source": [
    "def processing_string(string):\n",
    "    answer = []\n",
    "    for i, s in enumerate(string):\n",
    "        if s != \"#\":\n",
    "            answer.append(s)\n",
    "        else:\n",
    "            answer.pop()\n",
    "    return ''.join(answer)"
   ]
  },
  {
   "cell_type": "code",
   "execution_count": 41,
   "id": "7f76714a",
   "metadata": {},
   "outputs": [
    {
     "data": {
      "text/plain": [
       "'abcd'"
      ]
     },
     "execution_count": 41,
     "metadata": {},
     "output_type": "execute_result"
    }
   ],
   "source": [
    "processing_string(\"abb#cc#d\")"
   ]
  },
  {
   "cell_type": "code",
   "execution_count": null,
   "id": "e5ca7b85",
   "metadata": {},
   "outputs": [],
   "source": []
  },
  {
   "cell_type": "markdown",
   "id": "041395b7",
   "metadata": {},
   "source": [
    "# Spam Email"
   ]
  },
  {
   "cell_type": "code",
   "execution_count": null,
   "id": "f62652ba",
   "metadata": {},
   "outputs": [],
   "source": [
    "def getSpamEmails(subjects, spam_words):\n",
    "    def result_string(x):\n",
    "        return \"spam\" if x else \"not_spam\"\n",
    "    subjects = list(map(lambda x: x.lower(), subjects))\n",
    "    spam_words = list(map(lambda x: x.lower()), spam_words)\n",
    "    print(subjects, spam_words)"
   ]
  },
  {
   "cell_type": "code",
   "execution_count": 42,
   "id": "3513bc36",
   "metadata": {},
   "outputs": [],
   "source": [
    "def contains_two_or_more_words(a, b):\n",
    "    for sentence in a:\n",
    "        count = 0\n",
    "        for word in b:\n",
    "            if word in sentence:\n",
    "                count += 1\n",
    "            if count >= 2:\n",
    "                break  # 이미 두 개 이상의 단어를 찾은 경우 반복 종료\n",
    "        if count >= 2:\n",
    "            return True"
   ]
  },
  {
   "cell_type": "code",
   "execution_count": 43,
   "id": "96cf4ca8",
   "metadata": {},
   "outputs": [
    {
     "name": "stdout",
     "output_type": "stream",
     "text": [
      "235 ns ± 1.27 ns per loop (mean ± std. dev. of 7 runs, 1,000,000 loops each)\n"
     ]
    }
   ],
   "source": [
    "%%timeit\n",
    "contains_two_or_more_words([\"a b c\", \"asdf asdfasdf a\"], [\"a\", \"b\"])"
   ]
  },
  {
   "cell_type": "code",
   "execution_count": 48,
   "id": "322d7246",
   "metadata": {},
   "outputs": [],
   "source": [
    "def spam(a, b):\n",
    "    for sentence in a :\n",
    "        n = set(sentence.split()) & set(b)\n",
    "        print(len(n))\n",
    "    return True"
   ]
  },
  {
   "cell_type": "code",
   "execution_count": 49,
   "id": "91b253bb",
   "metadata": {},
   "outputs": [
    {
     "name": "stderr",
     "output_type": "stream",
     "text": [
      "UsageError: Cell magic `%%tiemit` not found.\n"
     ]
    }
   ],
   "source": [
    "%%tiemit\n",
    "spam([\"a b c\", \"asdf asdfasdf a\"], [\"a\", \"b\"])"
   ]
  },
  {
   "cell_type": "markdown",
   "id": "d64f71f0",
   "metadata": {},
   "source": [
    "# Reached in time"
   ]
  },
  {
   "cell_type": "code",
   "execution_count": 50,
   "id": "a0fb12cc",
   "metadata": {},
   "outputs": [],
   "source": [
    "\n",
    "def reachTheEnd(grid, maxTime):\n",
    "    board = [[\"#\" if s==\"#\" else 0 for s in g ] for g in grid]\n",
    "    print(board)"
   ]
  },
  {
   "cell_type": "code",
   "execution_count": 52,
   "id": "92bd1797",
   "metadata": {},
   "outputs": [
    {
     "name": "stdout",
     "output_type": "stream",
     "text": [
      "[[0, 0, '#', '#'], ['#', 0, 0, '#']]\n"
     ]
    }
   ],
   "source": [
    "reachTheEnd([\"..##\", \"#..#\"], 5)"
   ]
  },
  {
   "cell_type": "code",
   "execution_count": 66,
   "id": "79ceb9ce",
   "metadata": {},
   "outputs": [],
   "source": [
    "#!/bin/python3\n",
    "from collections import deque\n",
    "\n",
    "def reachTheEnd(grid, maxTime):\n",
    "    board = [[\"#\" if s==\"#\" else 0 for s in g] for g in grid]\n",
    "    print(board)\n",
    "    x_axis = len(grid)\n",
    "    y_axis = len(grid[0])\n",
    "    print(x_axis, y_axis)\n",
    "    pos = deque()\n",
    "    pos.append([0, 0])\n",
    "    \n",
    "    dx = [1, -1, 0, 0]\n",
    "    dy = [0, 0, 1, -1]\n",
    "    \n",
    "    while len(pos)>0:\n",
    "        x, y = pos.popleft()\n",
    "        print(x, y)\n",
    "        \n",
    "        for i in range(4):\n",
    "            nx = x + dx[i]\n",
    "            ny = y + dy[i]\n",
    "            if 0 <= nx < x_axis and 0 <= ny < y_axis:\n",
    "                print(nx, ny)\n",
    "                if board[nx][ny] == 0:\n",
    "                    board[nx][ny] = board[x][y] + 1\n",
    "                    pos.append([nx, ny])\n",
    "        print(board)        \n",
    "    if board[x_axis-1][y_axis-1] <= maxTime and board[x_axis-1][y_axis-1] > 0:\n",
    "        return \"Yes\"\n",
    "    else:\n",
    "        return \"No\""
   ]
  },
  {
   "cell_type": "code",
   "execution_count": 67,
   "id": "ca1cce11",
   "metadata": {},
   "outputs": [
    {
     "name": "stdout",
     "output_type": "stream",
     "text": [
      "[[0, 0, '#', '#'], ['#', 0, '#', '#'], ['#', 0, 0, 0]]\n",
      "3 4\n",
      "0 0\n",
      "1 0\n",
      "0 1\n",
      "[[0, 1, '#', '#'], ['#', 0, '#', '#'], ['#', 0, 0, 0]]\n",
      "0 1\n",
      "1 1\n",
      "0 2\n",
      "0 0\n",
      "[[2, 1, '#', '#'], ['#', 2, '#', '#'], ['#', 0, 0, 0]]\n",
      "1 1\n",
      "2 1\n",
      "0 1\n",
      "1 2\n",
      "1 0\n",
      "[[2, 1, '#', '#'], ['#', 2, '#', '#'], ['#', 3, 0, 0]]\n",
      "0 0\n",
      "1 0\n",
      "0 1\n",
      "[[2, 1, '#', '#'], ['#', 2, '#', '#'], ['#', 3, 0, 0]]\n",
      "2 1\n",
      "1 1\n",
      "2 2\n",
      "2 0\n",
      "[[2, 1, '#', '#'], ['#', 2, '#', '#'], ['#', 3, 4, 0]]\n",
      "2 2\n",
      "1 2\n",
      "2 3\n",
      "2 1\n",
      "[[2, 1, '#', '#'], ['#', 2, '#', '#'], ['#', 3, 4, 5]]\n",
      "2 3\n",
      "1 3\n",
      "2 2\n",
      "[[2, 1, '#', '#'], ['#', 2, '#', '#'], ['#', 3, 4, 5]]\n"
     ]
    },
    {
     "data": {
      "text/plain": [
       "'Yes'"
      ]
     },
     "execution_count": 67,
     "metadata": {},
     "output_type": "execute_result"
    }
   ],
   "source": [
    "\n",
    "reachTheEnd([\"..##\", \"#.##\", \"#...\"], 5)"
   ]
  },
  {
   "cell_type": "code",
   "execution_count": 68,
   "id": "cfad83d7",
   "metadata": {},
   "outputs": [
    {
     "name": "stdout",
     "output_type": "stream",
     "text": [
      "[[0, '#'], ['#', 0]]\n",
      "2 2\n",
      "0 0\n",
      "1 0\n",
      "0 1\n",
      "[[0, '#'], ['#', 0]]\n"
     ]
    },
    {
     "data": {
      "text/plain": [
       "'No'"
      ]
     },
     "execution_count": 68,
     "metadata": {},
     "output_type": "execute_result"
    }
   ],
   "source": [
    "reachTheEnd(['.#', '#.'], 3)"
   ]
  },
  {
   "cell_type": "markdown",
   "id": "388401ec",
   "metadata": {},
   "source": [
    "# Product Defect"
   ]
  },
  {
   "cell_type": "code",
   "execution_count": 81,
   "id": "cdf83146",
   "metadata": {},
   "outputs": [
    {
     "name": "stdout",
     "output_type": "stream",
     "text": [
      "i, j :  1 1\n",
      "[0, 0, 0, 0, 0, 0]\n",
      "[0, 1, 0, 0, 0, 0]\n",
      "[0, 0, 0, 0, 0, 0]\n",
      "[0, 0, 0, 0, 0, 0]\n",
      "[0, 0, 0, 0, 0, 0]\n",
      "i, j :  1 3\n",
      "[0, 0, 0, 0, 0, 0]\n",
      "[0, 1, 0, 1, 0, 0]\n",
      "[0, 0, 0, 0, 0, 0]\n",
      "[0, 0, 0, 0, 0, 0]\n",
      "[0, 0, 0, 0, 0, 0]\n",
      "i, j :  2 1\n",
      "[0, 0, 0, 0, 0, 0]\n",
      "[0, 1, 0, 1, 0, 0]\n",
      "[0, 1, 0, 0, 0, 0]\n",
      "[0, 0, 0, 0, 0, 0]\n",
      "[0, 0, 0, 0, 0, 0]\n",
      "i, j :  2 3\n",
      "[0, 0, 0, 0, 0, 0]\n",
      "[0, 1, 0, 1, 0, 0]\n",
      "[0, 1, 0, 1, 0, 0]\n",
      "[0, 0, 0, 0, 0, 0]\n",
      "[0, 0, 0, 0, 0, 0]\n",
      "i, j :  2 4\n",
      "[0, 0, 0, 0, 0, 0]\n",
      "[0, 1, 0, 1, 0, 0]\n",
      "[0, 1, 0, 1, 1, 0]\n",
      "[0, 0, 0, 0, 0, 0]\n",
      "[0, 0, 0, 0, 0, 0]\n",
      "i, j :  2 5\n",
      "[0, 0, 0, 0, 0, 0]\n",
      "[0, 1, 0, 1, 0, 0]\n",
      "[0, 1, 0, 1, 1, 1]\n",
      "[0, 0, 0, 0, 0, 0]\n",
      "[0, 0, 0, 0, 0, 0]\n",
      "i, j :  3 1\n",
      "[0, 0, 0, 0, 0, 0]\n",
      "[0, 1, 0, 1, 0, 0]\n",
      "[0, 1, 0, 1, 1, 1]\n",
      "[0, 1, 0, 0, 0, 0]\n",
      "[0, 0, 0, 0, 0, 0]\n",
      "i, j :  3 2\n",
      "[0, 0, 0, 0, 0, 0]\n",
      "[0, 1, 0, 1, 0, 0]\n",
      "[0, 1, 0, 1, 1, 1]\n",
      "[0, 1, 1, 0, 0, 0]\n",
      "[0, 0, 0, 0, 0, 0]\n",
      "i, j :  3 3\n",
      "[0, 0, 0, 0, 0, 0]\n",
      "[0, 1, 0, 1, 0, 0]\n",
      "[0, 1, 0, 1, 1, 1]\n",
      "[0, 1, 1, 1, 0, 0]\n",
      "[0, 0, 0, 0, 0, 0]\n",
      "i, j :  3 4\n",
      "[0, 0, 0, 0, 0, 0]\n",
      "[0, 1, 0, 1, 0, 0]\n",
      "[0, 1, 0, 1, 1, 1]\n",
      "[0, 1, 1, 1, 2, 0]\n",
      "[0, 0, 0, 0, 0, 0]\n",
      "i, j :  3 5\n",
      "[0, 0, 0, 0, 0, 0]\n",
      "[0, 1, 0, 1, 0, 0]\n",
      "[0, 1, 0, 1, 1, 1]\n",
      "[0, 1, 1, 1, 2, 2]\n",
      "[0, 0, 0, 0, 0, 0]\n",
      "i, j :  4 1\n",
      "[0, 0, 0, 0, 0, 0]\n",
      "[0, 1, 0, 1, 0, 0]\n",
      "[0, 1, 0, 1, 1, 1]\n",
      "[0, 1, 1, 1, 2, 2]\n",
      "[0, 1, 0, 0, 0, 0]\n",
      "i, j :  4 4\n",
      "[0, 0, 0, 0, 0, 0]\n",
      "[0, 1, 0, 1, 0, 0]\n",
      "[0, 1, 0, 1, 1, 1]\n",
      "[0, 1, 1, 1, 2, 2]\n",
      "[0, 1, 0, 0, 1, 0]\n",
      "[0, 0, 0, 0, 0, 0]\n",
      "[0, 1, 0, 1, 0, 0]\n",
      "[0, 1, 0, 1, 1, 1]\n",
      "[0, 1, 1, 1, 2, 2]\n",
      "[0, 1, 0, 0, 1, 0]\n",
      "최대 정사각형의 넓이: 2\n"
     ]
    }
   ],
   "source": [
    "def maximalSquare(matrix):\n",
    "    rows, cols = len(matrix), len(matrix[0])\n",
    "    dp = [[0] * (cols + 1) for _ in range(rows + 1)]\n",
    "    max_side = 0 \n",
    "    for i in range(1, rows + 1):\n",
    "        for j in range(1, cols + 1):\n",
    "            if matrix[i - 1][j - 1] == '1':\n",
    "                \n",
    "                dp[i][j] = min(dp[i - 1][j], dp[i][j - 1], dp[i - 1][j - 1]) + 1\n",
    "                max_side = max(max_side, dp[i][j])\n",
    "                print('i, j : ', i, j)\n",
    "                for d in dp:\n",
    "                    print(d)\n",
    "                    \n",
    "    for d in dp:\n",
    "        print(d)\n",
    "    return max_side\n",
    "\n",
    "\n",
    "matrix = [\n",
    "    [\"1\", \"0\", \"1\", \"0\", \"0\"],\n",
    "    [\"1\", \"0\", \"1\", \"1\", \"1\"],\n",
    "    [\"1\", \"1\", \"1\", \"1\", \"1\"],\n",
    "    [\"1\", \"0\", \"0\", \"1\", \"0\"]\n",
    "]\n",
    "\n",
    "result = maximalSquare(matrix)\n",
    "print(\"최대 정사각형의 넓이:\", result)\n"
   ]
  },
  {
   "cell_type": "markdown",
   "id": "a162207f",
   "metadata": {},
   "source": [
    "## 이거 뭔지 이해를 못하겠는디"
   ]
  },
  {
   "cell_type": "code",
   "execution_count": 79,
   "id": "3547f7f7",
   "metadata": {},
   "outputs": [],
   "source": [
    "def findLargestSquareSize(samples):\n",
    "    rows, cols = len(samples), len(samples[0])\n",
    "    dp = [[0] * (cols) for _ in range(rows)]\n",
    "    max_side = 0\n",
    "    for i in range(0, rows):\n",
    "        for j in range(0, cols):\n",
    "            if samples[i][j] == 1:\n",
    "                dp[i][j] = min(dp[i][j+1], dp[i+1][j], dp[i][j]) + 1\n",
    "                print('i, j : ', i, j)\n",
    "                for d in dp:\n",
    "                    print(d)\n",
    "                max_side = max(max_side, dp[i][j])\n",
    "    return max_side"
   ]
  },
  {
   "cell_type": "code",
   "execution_count": 80,
   "id": "343868d9",
   "metadata": {},
   "outputs": [
    {
     "name": "stdout",
     "output_type": "stream",
     "text": [
      "i, j :  0 0\n",
      "[1, 0, 0, 0, 0]\n",
      "[0, 0, 0, 0, 0]\n",
      "[0, 0, 0, 0, 0]\n",
      "[0, 0, 0, 0, 0]\n",
      "i, j :  0 2\n",
      "[1, 0, 1, 0, 0]\n",
      "[0, 0, 0, 0, 0]\n",
      "[0, 0, 0, 0, 0]\n",
      "[0, 0, 0, 0, 0]\n",
      "i, j :  1 0\n",
      "[1, 0, 1, 0, 0]\n",
      "[1, 0, 0, 0, 0]\n",
      "[0, 0, 0, 0, 0]\n",
      "[0, 0, 0, 0, 0]\n",
      "i, j :  1 2\n",
      "[1, 0, 1, 0, 0]\n",
      "[1, 0, 1, 0, 0]\n",
      "[0, 0, 0, 0, 0]\n",
      "[0, 0, 0, 0, 0]\n",
      "i, j :  1 3\n",
      "[1, 0, 1, 0, 0]\n",
      "[1, 0, 1, 1, 0]\n",
      "[0, 0, 0, 0, 0]\n",
      "[0, 0, 0, 0, 0]\n"
     ]
    },
    {
     "ename": "IndexError",
     "evalue": "list index out of range",
     "output_type": "error",
     "traceback": [
      "\u001b[0;31m---------------------------------------------------------------------------\u001b[0m",
      "\u001b[0;31mIndexError\u001b[0m                                Traceback (most recent call last)",
      "Cell \u001b[0;32mIn[80], line 7\u001b[0m\n\u001b[1;32m      1\u001b[0m mat \u001b[38;5;241m=\u001b[39m [\n\u001b[1;32m      2\u001b[0m     [\u001b[38;5;241m1\u001b[39m, \u001b[38;5;241m0\u001b[39m, \u001b[38;5;241m1\u001b[39m, \u001b[38;5;241m0\u001b[39m, \u001b[38;5;241m0\u001b[39m],\n\u001b[1;32m      3\u001b[0m     [\u001b[38;5;241m1\u001b[39m, \u001b[38;5;241m0\u001b[39m, \u001b[38;5;241m1\u001b[39m, \u001b[38;5;241m1\u001b[39m, \u001b[38;5;241m1\u001b[39m],\n\u001b[1;32m      4\u001b[0m     [\u001b[38;5;241m1\u001b[39m, \u001b[38;5;241m1\u001b[39m, \u001b[38;5;241m1\u001b[39m, \u001b[38;5;241m1\u001b[39m, \u001b[38;5;241m1\u001b[39m],\n\u001b[1;32m      5\u001b[0m     [\u001b[38;5;241m1\u001b[39m, \u001b[38;5;241m0\u001b[39m, \u001b[38;5;241m0\u001b[39m, \u001b[38;5;241m1\u001b[39m, \u001b[38;5;241m0\u001b[39m]\n\u001b[1;32m      6\u001b[0m ]\n\u001b[0;32m----> 7\u001b[0m \u001b[43mfindLargestSquareSize\u001b[49m\u001b[43m(\u001b[49m\u001b[43mmat\u001b[49m\u001b[43m)\u001b[49m\n",
      "Cell \u001b[0;32mIn[79], line 8\u001b[0m, in \u001b[0;36mfindLargestSquareSize\u001b[0;34m(samples)\u001b[0m\n\u001b[1;32m      6\u001b[0m \u001b[38;5;28;01mfor\u001b[39;00m j \u001b[38;5;129;01min\u001b[39;00m \u001b[38;5;28mrange\u001b[39m(\u001b[38;5;241m0\u001b[39m, cols):\n\u001b[1;32m      7\u001b[0m     \u001b[38;5;28;01mif\u001b[39;00m samples[i][j] \u001b[38;5;241m==\u001b[39m \u001b[38;5;241m1\u001b[39m:\n\u001b[0;32m----> 8\u001b[0m         dp[i][j] \u001b[38;5;241m=\u001b[39m \u001b[38;5;28mmin\u001b[39m(\u001b[43mdp\u001b[49m\u001b[43m[\u001b[49m\u001b[43mi\u001b[49m\u001b[43m]\u001b[49m\u001b[43m[\u001b[49m\u001b[43mj\u001b[49m\u001b[38;5;241;43m+\u001b[39;49m\u001b[38;5;241;43m1\u001b[39;49m\u001b[43m]\u001b[49m, dp[i\u001b[38;5;241m+\u001b[39m\u001b[38;5;241m1\u001b[39m][j], dp[i][j]) \u001b[38;5;241m+\u001b[39m \u001b[38;5;241m1\u001b[39m\n\u001b[1;32m      9\u001b[0m         \u001b[38;5;28mprint\u001b[39m(\u001b[38;5;124m'\u001b[39m\u001b[38;5;124mi, j : \u001b[39m\u001b[38;5;124m'\u001b[39m, i, j)\n\u001b[1;32m     10\u001b[0m         \u001b[38;5;28;01mfor\u001b[39;00m d \u001b[38;5;129;01min\u001b[39;00m dp:\n",
      "\u001b[0;31mIndexError\u001b[0m: list index out of range"
     ]
    }
   ],
   "source": [
    "mat = [\n",
    "    [1, 0, 1, 0, 0],\n",
    "    [1, 0, 1, 1, 1],\n",
    "    [1, 1, 1, 1, 1],\n",
    "    [1, 0, 0, 1, 0]\n",
    "]\n",
    "findLargestSquareSize(mat)"
   ]
  },
  {
   "cell_type": "markdown",
   "id": "d96b1f0d",
   "metadata": {},
   "source": [
    "# Distributed Data Server"
   ]
  },
  {
   "cell_type": "code",
   "execution_count": 84,
   "id": "eaff448a",
   "metadata": {},
   "outputs": [],
   "source": [
    "def getMaxTime(g_nodes, g_from, g_to):\n",
    "    # Write your code here\n",
    "    graph = [[False] * (g_nodes + 1) for _ in range(g_nodes+1)]\n",
    "    \n",
    "    \n",
    "    return 1"
   ]
  },
  {
   "cell_type": "code",
   "execution_count": 85,
   "id": "3cfe5243",
   "metadata": {},
   "outputs": [
    {
     "name": "stdout",
     "output_type": "stream",
     "text": [
      "[[False, False, False, False], [False, False, False, False], [False, False, False, False], [False, False, False, False]]\n"
     ]
    },
    {
     "data": {
      "text/plain": [
       "1"
      ]
     },
     "execution_count": 85,
     "metadata": {},
     "output_type": "execute_result"
    }
   ],
   "source": [
    "getMaxTime(3, 1,1,)"
   ]
  },
  {
   "cell_type": "code",
   "execution_count": 91,
   "id": "b8cee162",
   "metadata": {},
   "outputs": [
    {
     "data": {
      "text/plain": [
       "0"
      ]
     },
     "execution_count": 91,
     "metadata": {},
     "output_type": "execute_result"
    }
   ],
   "source": [
    "a = [[0] * 3 for _ in range(4)]\n",
    "a[3][2]"
   ]
  },
  {
   "cell_type": "code",
   "execution_count": 93,
   "id": "8aba6a93",
   "metadata": {},
   "outputs": [
    {
     "data": {
      "text/plain": [
       "0"
      ]
     },
     "execution_count": 93,
     "metadata": {},
     "output_type": "execute_result"
    }
   ],
   "source": [
    "b = [[0 for _ in range(3)] for _ in range(4)]\n",
    "b[3][2]"
   ]
  },
  {
   "cell_type": "code",
   "execution_count": 191,
   "id": "76ec5b64",
   "metadata": {},
   "outputs": [],
   "source": [
    "def getMaxTime(g_nodes, g_from, g_to):\n",
    "    # Write your code here\n",
    "    graph = [[False] * (g_nodes + 1) for _ in range(g_nodes+1)]\n",
    "\n",
    "    for i in range(g_nodes - 1):\n",
    "        f = g_from[i]\n",
    "        t = g_to[i]\n",
    "        graph[f][t] = graph[t][f] = True\n",
    "    for g in graph:\n",
    "        print(g)\n",
    "    \n",
    "    return 1\n"
   ]
  },
  {
   "cell_type": "code",
   "execution_count": 192,
   "id": "2940ef80",
   "metadata": {
    "scrolled": true
   },
   "outputs": [
    {
     "name": "stdout",
     "output_type": "stream",
     "text": [
      "[False, False, False, False]\n",
      "[False, False, True, False]\n",
      "[False, True, False, True]\n",
      "[False, False, True, False]\n"
     ]
    },
    {
     "data": {
      "text/plain": [
       "1"
      ]
     },
     "execution_count": 192,
     "metadata": {},
     "output_type": "execute_result"
    }
   ],
   "source": [
    "getMaxTime(3, [1,2], [2,3])"
   ]
  },
  {
   "cell_type": "code",
   "execution_count": null,
   "id": "723bd5c4",
   "metadata": {},
   "outputs": [],
   "source": [
    "#!/bin/python3\n",
    "\n",
    "import math\n",
    "import os\n",
    "import random\n",
    "import re\n",
    "import sys\n",
    "\n",
    "\n",
    "#\n",
    "# Complete the 'getMaxTime' function below.\n",
    "#\n",
    "# The function is expected to return an INTEGER.\n",
    "# The function accepts UNWEIGHTED_INTEGER_GRAPH g as parameter.\n",
    "#\n",
    "\n",
    "#\n",
    "# For the unweighted graph, <name>:\n",
    "#\n",
    "# 1. The number of nodes is <name>_nodes.\n",
    "# 2. The number of edges is <name>_edges.\n",
    "# 3. An edge exists between <name>_from[i] and <name>_to[i].\n",
    "#\n",
    "#\n",
    "from collections import defaultdict, deque\n",
    "    \n",
    "def getMaxTime(g_nodes, g_from, g_to):\n",
    "    # init graph\n",
    "    answer = [[0] * (g_nodes + 1) for _ in range(g_nodes+1)]\n",
    "    # for i in range(g_nodes - 1):\n",
    "    #     f = g_from[i]\n",
    "    #     t = g_to[i]\n",
    "    #     answer[f][t] = answer[t][f] = 1\n",
    "    \n",
    "    graph = defaultdict(list)\n",
    "    for i in range(len(g_from)):\n",
    "        graph[g_from[i]].append(g_to[i])\n",
    "        graph[g_to[i]].append(g_from[i])\n",
    "        \n",
    "    def bfs(start_node):\n",
    "        visited = [False for _ in range(node)]\n",
    "        queue = deque()\n",
    "        queue.append(start_node)\n",
    "        visited[node] = True\n",
    "        level = 0\n",
    "        \n",
    "        while queue:\n",
    "            start = queue.popleft()\n",
    "            level += 1\n",
    "            for neighbor in graph[start]:\n",
    "                if not visited[neighbor]:\n",
    "                    queue.append(neighbor)\n",
    "                    visited[neighbor] = True\n",
    "                    answer[start][neighbor] = answer[neighbor][start] = level\n",
    "        \n",
    "        \n",
    "    max_edge_count = 0\n",
    "    for node in range(1, g_nodes + 1):\n",
    "        edge_count = bfs(node)\n",
    "        max_edge_count = max(max_edge_count, edge_count)\n",
    "    \n",
    "    return 1\n",
    "if __name__ == '__main__':\n",
    "    fptr = open(os.environ['OUTPUT_PATH'], 'w')\n",
    "\n",
    "    g_nodes, g_edges = map(int, input().rstrip().split())\n",
    "\n",
    "    g_from = [0] * g_edges\n",
    "    g_to = [0] * g_edges\n",
    "\n",
    "    for i in range(g_edges):\n",
    "        g_from[i], g_to[i] = map(int, input().rstrip().split())\n",
    "\n",
    "    result = getMaxTime(g_nodes, g_from, g_to)\n",
    "\n",
    "    fptr.write(str(result) + '\\n')\n",
    "\n",
    "    fptr.close()\n"
   ]
  },
  {
   "cell_type": "code",
   "execution_count": 107,
   "id": "5e766d36",
   "metadata": {},
   "outputs": [
    {
     "name": "stdout",
     "output_type": "stream",
     "text": [
      "가장 먼 노드 사이의 간선 개수: 5\n"
     ]
    }
   ],
   "source": [
    "from collections import defaultdict, deque\n",
    "\n",
    "def maxEdgeCount(nodes, from_nodes, to_nodes):\n",
    "    # 그래프 생성\n",
    "    graph = defaultdict(list)\n",
    "    for i in range(len(from_nodes)):\n",
    "        graph[from_nodes[i]].append(to_nodes[i])\n",
    "        graph[to_nodes[i]].append(from_nodes[i])\n",
    "\n",
    "    def bfs(node):\n",
    "        visited = [False] * (nodes + 1)\n",
    "        queue = deque()\n",
    "        queue.append(node)\n",
    "        visited[node] = True\n",
    "        level = 0  # 간선의 개수를 나타내는 변수\n",
    "        last_node = None\n",
    "\n",
    "        while queue:\n",
    "            level_size = len(queue)\n",
    "            for _ in range(level_size):\n",
    "                current = queue.popleft()\n",
    "                last_node = current\n",
    "                for neighbor in graph[current]:\n",
    "                    if not visited[neighbor]:\n",
    "                        queue.append(neighbor)\n",
    "                        visited[neighbor] = True\n",
    "            if last_node is not None:\n",
    "                level += 1\n",
    "\n",
    "        return level\n",
    "\n",
    "    # 모든 노드에 대해 BFS 수행하여 가장 먼 노드까지의 간선 개수 찾기\n",
    "    max_edge_count = 0\n",
    "    for node in range(1, nodes + 1):\n",
    "        edge_count = bfs(node)\n",
    "        max_edge_count = max(max_edge_count, edge_count)\n",
    "\n",
    "    return max_edge_count\n",
    "\n",
    "# 예제 입력\n",
    "nodes = 6\n",
    "from_nodes = [1, 2, 2, 3, 4]\n",
    "to_nodes = [2, 3, 4, 5, 6]\n",
    "\n",
    "result = maxEdgeCount(nodes, from_nodes, to_nodes)\n",
    "print(\"가장 먼 노드 사이의 간선 개수:\", result)\n"
   ]
  },
  {
   "cell_type": "code",
   "execution_count": null,
   "id": "8ac8e21c",
   "metadata": {},
   "outputs": [],
   "source": [
    "#!/bin/python3\n",
    "\n",
    "import math\n",
    "import os\n",
    "import random\n",
    "import re\n",
    "import sys\n",
    "\n",
    "\n",
    "\n",
    "#\n",
    "# Complete the 'getMaxTime' function below.\n",
    "#\n",
    "# The function is expected to return an INTEGER.\n",
    "# The function accepts UNWEIGHTED_INTEGER_GRAPH g as parameter.\n",
    "#\n",
    "\n",
    "#\n",
    "# For the unweighted graph, <name>:\n",
    "#\n",
    "# 1. The number of nodes is <name>_nodes.\n",
    "# 2. The number of edges is <name>_edges.\n",
    "# 3. An edge exists between <name>_from[i] and <name>_to[i].\n",
    "#\n",
    "#\n",
    "from collections import defaultdict, deque\n",
    "    \n",
    "def getMaxTime(g_nodes, g_from, g_to):\n",
    "    # init graph\n",
    "    graph = defaultdict(list)\n",
    "    for i in range(graph-1):\n",
    "        graph[g_from[i]].append(g_to[i])\n",
    "        graph[g_to[i]].append(g_from[i])\n",
    "    \n",
    "    def bfs(node):\n",
    "        visited = [False for _ in range(node)]\n",
    "        queue = deque()\n",
    "        queue.append(node)\n",
    "        visited[node] = True\n",
    "\n",
    "        while queue:\n",
    "            # level_size = len(queue)\n",
    "            # for _ in range(level_size):\n",
    "            current = queue.popleft()\n",
    "            last_node = current\n",
    "            for neighbor in graph[current]:\n",
    "                if not visited[neighbor]:\n",
    "                    queue.append(neighbor)\n",
    "                    visited[neighbor] = True\n",
    "            if last_node is not None:\n",
    "                cnt += 1\n",
    "\n",
    "        return cnt\n",
    "        \n",
    "        \n",
    "    max_edge_count = 0\n",
    "    for node in range(1, g_nodes + 1):\n",
    "        edge_count = bfs(node)\n",
    "        max_edge_count = max(max_edge_count, edge_count)\n",
    "    \n",
    "    return 1\n",
    "\n",
    "if __name__ == '__main__':\n",
    "    fptr = open(os.environ['OUTPUT_PATH'], 'w')\n",
    "\n",
    "    g_nodes, g_edges = map(int, input().rstrip().split())\n",
    "\n",
    "    g_from = [0] * g_edges\n",
    "    g_to = [0] * g_edges\n",
    "\n",
    "    for i in range(g_edges):\n",
    "        g_from[i], g_to[i] = map(int, input().rstrip().split())\n",
    "\n",
    "    result = getMaxTime(g_nodes, g_from, g_to)\n",
    "\n",
    "    fptr.write(str(result) + '\\n')\n",
    "\n",
    "    fptr.close()\n"
   ]
  },
  {
   "cell_type": "markdown",
   "id": "43a81dc9",
   "metadata": {},
   "source": [
    "# Transaction"
   ]
  },
  {
   "cell_type": "code",
   "execution_count": 108,
   "id": "9e4f4f80",
   "metadata": {},
   "outputs": [],
   "source": [
    "t = [-48, 17, 14, -26, -71, -27, -22, -82, 74, 62, -90, -24, -13, 10, -50, 33, -70, -50, -31, -69, -63, -93, -12, 70, 98, -60, 51, 100, -77, 53, 90, 41, 37, 63, -20, 75, 21, 10, 79, -85, -16, 53, -4, 82, -47, -90, -48, -41, 70, -47, -89, 31, -11, 73, 1, 87, -50, -5, 4, 54, -14, 85, 54, 52, -95, -40, 93, -79, -58, -88, -77, 99, 75, 83, -89, -61, -28, 98, 52, -99, -74, 5, -73, -39, 87, -48, -85, 20, -46, -88, 32, 11, 40, 91, 50, -36, -3, -84, 54, 25]"
   ]
  },
  {
   "cell_type": "code",
   "execution_count": 128,
   "id": "e6d7987f",
   "metadata": {},
   "outputs": [],
   "source": [
    "def maximizeTransactions(transaction):\n",
    "    balance = 0\n",
    "    cnt = 0\n",
    "    for i, t in enumerate(transaction):\n",
    "       \n",
    "        if balance + t < 0:\n",
    "        \n",
    "            continue\n",
    "        balance += t\n",
    "        cnt += 1\n",
    "        \n",
    "\n",
    "    return cnt"
   ]
  },
  {
   "cell_type": "code",
   "execution_count": 125,
   "id": "c6806e4c",
   "metadata": {},
   "outputs": [
    {
     "data": {
      "text/plain": [
       "100"
      ]
     },
     "execution_count": 125,
     "metadata": {},
     "output_type": "execute_result"
    }
   ],
   "source": [
    "len(t)"
   ]
  },
  {
   "cell_type": "code",
   "execution_count": 129,
   "id": "7babb3b4",
   "metadata": {},
   "outputs": [
    {
     "data": {
      "text/plain": [
       "88"
      ]
     },
     "execution_count": 129,
     "metadata": {},
     "output_type": "execute_result"
    }
   ],
   "source": [
    "maximizeTransactions(t)"
   ]
  },
  {
   "cell_type": "code",
   "execution_count": 134,
   "id": "741971b9",
   "metadata": {
    "collapsed": true
   },
   "outputs": [
    {
     "data": {
      "text/plain": [
       "[-48,\n",
       " 17,\n",
       " 14,\n",
       " -26,\n",
       " -71,\n",
       " -27,\n",
       " -22,\n",
       " -82,\n",
       " 74,\n",
       " 62,\n",
       " -90,\n",
       " -24,\n",
       " -13,\n",
       " 10,\n",
       " -50,\n",
       " 33,\n",
       " -70,\n",
       " -50,\n",
       " -31,\n",
       " -69,\n",
       " -63,\n",
       " -93,\n",
       " -12,\n",
       " 70,\n",
       " 98,\n",
       " -60,\n",
       " 51,\n",
       " 100,\n",
       " -77,\n",
       " 53,\n",
       " 90,\n",
       " 41,\n",
       " 37,\n",
       " 63,\n",
       " -20,\n",
       " 75,\n",
       " 21,\n",
       " 10,\n",
       " 79,\n",
       " -85,\n",
       " -16,\n",
       " 53,\n",
       " -4,\n",
       " 82,\n",
       " -47,\n",
       " -90,\n",
       " -48,\n",
       " -41,\n",
       " 70,\n",
       " -47,\n",
       " -89,\n",
       " 31,\n",
       " -11,\n",
       " 73,\n",
       " 1,\n",
       " 87,\n",
       " -50,\n",
       " -5,\n",
       " 4,\n",
       " 54,\n",
       " -14,\n",
       " 85,\n",
       " 54,\n",
       " 52,\n",
       " -95,\n",
       " -40,\n",
       " 93,\n",
       " -79,\n",
       " -58,\n",
       " -88,\n",
       " -77,\n",
       " 99,\n",
       " 75,\n",
       " 83,\n",
       " -89,\n",
       " -61,\n",
       " -28,\n",
       " 98,\n",
       " 52,\n",
       " -99,\n",
       " -74,\n",
       " 5,\n",
       " -73,\n",
       " -39,\n",
       " 87,\n",
       " -48,\n",
       " -85,\n",
       " 20,\n",
       " -46,\n",
       " -88,\n",
       " 32,\n",
       " 11,\n",
       " 40,\n",
       " 91,\n",
       " 50,\n",
       " -36,\n",
       " -3,\n",
       " -84,\n",
       " 54,\n",
       " 25]"
      ]
     },
     "execution_count": 134,
     "metadata": {},
     "output_type": "execute_result"
    }
   ],
   "source": [
    "t"
   ]
  },
  {
   "cell_type": "code",
   "execution_count": 132,
   "id": "a7aa9e1e",
   "metadata": {},
   "outputs": [],
   "source": [
    "def maxCalculationCount(nums):\n",
    "    n = len(nums)\n",
    "    dp = [0] * n  # dp[i]는 배열의 i번째 원소까지 고려했을 때의 최대 계산 횟수를 저장\n",
    "\n",
    "    for i in range(n):\n",
    "        dp[i] = 1  # 각 원소는 최소 1회 계산이 가능\n",
    "\n",
    "        for j in range(i):\n",
    "            if nums[i] > nums[j] and dp[i] < dp[j] + 1:\n",
    "                dp[i] = dp[j] + 1\n",
    "\n",
    "    return max(dp)"
   ]
  },
  {
   "cell_type": "code",
   "execution_count": 133,
   "id": "8d29cdd4",
   "metadata": {},
   "outputs": [
    {
     "data": {
      "text/plain": [
       "16"
      ]
     },
     "execution_count": 133,
     "metadata": {},
     "output_type": "execute_result"
    }
   ],
   "source": [
    "maxCalculationCount(t)"
   ]
  },
  {
   "cell_type": "code",
   "execution_count": 172,
   "id": "1af1c329",
   "metadata": {},
   "outputs": [],
   "source": [
    "def calc(balance, transaction):\n",
    "    balance_result = balance\n",
    "    max_num = 0\n",
    "    n = len(transaction)\n",
    "   \n",
    "    for i in range(n):\n",
    "        j = i\n",
    "        cnt = 0\n",
    "        b = balance\n",
    "        while True:\n",
    "            if j >= n :\n",
    "                if cnt > max_num:\n",
    "                    max_num = cnt\n",
    "                    balance_result = b\n",
    "                break\n",
    "\n",
    "            if b + transaction[j] < 0:\n",
    "                if cnt > max_num:\n",
    "                    max_num = cnt\n",
    "                    balance_result = b\n",
    "                break\n",
    "            cnt += 1\n",
    "            b += transaction[j]\n",
    "            j += 1\n",
    "\n",
    "                    \n",
    "    return balance_result, max_num\n",
    "            \n",
    "        "
   ]
  },
  {
   "cell_type": "code",
   "execution_count": 162,
   "id": "b3097d02",
   "metadata": {},
   "outputs": [
    {
     "data": {
      "text/plain": [
       "(29, 3)"
      ]
     },
     "execution_count": 162,
     "metadata": {},
     "output_type": "execute_result"
    }
   ],
   "source": [
    "calc(35, [-90, -1,-2, -3, -60, -4])"
   ]
  },
  {
   "cell_type": "code",
   "execution_count": 188,
   "id": "22c7adde",
   "metadata": {},
   "outputs": [],
   "source": [
    "def maximizeTransactions(transaction):\n",
    "    balance = 0\n",
    "    cnt = 0\n",
    "    i = 0\n",
    "    while i < len(transaction):\n",
    "        t = transaction[i]\n",
    "        if balance + t >= 0:\n",
    "            balance += t\n",
    "            cnt += 1\n",
    "            i+=1\n",
    "        else:\n",
    "            fraction = [t]\n",
    "            j = i + 1\n",
    "            while j < len(transaction) and transaction[j] < 0:\n",
    "                fraction.append(transaction[j])\n",
    "                j += 1\n",
    "\n",
    "            print(fraction)\n",
    "            balance, max_num = calc(balance, fraction)\n",
    "            print(balance, max_num)\n",
    "            cnt += max_num\n",
    "\n",
    "            \n",
    "            i+=j\n",
    "    return cnt"
   ]
  },
  {
   "cell_type": "code",
   "execution_count": 189,
   "id": "5c4cb97f",
   "metadata": {},
   "outputs": [
    {
     "name": "stdout",
     "output_type": "stream",
     "text": [
      "[-10, -3]\n",
      "1 1\n"
     ]
    },
    {
     "data": {
      "text/plain": [
       "4"
      ]
     },
     "execution_count": 189,
     "metadata": {},
     "output_type": "execute_result"
    }
   ],
   "source": [
    "maximizeTransactions([5,3,-4, -10,-3])"
   ]
  },
  {
   "cell_type": "code",
   "execution_count": 190,
   "id": "fd0093bf",
   "metadata": {},
   "outputs": [
    {
     "name": "stdout",
     "output_type": "stream",
     "text": [
      "[-1, -2]\n",
      "0 0\n"
     ]
    },
    {
     "data": {
      "text/plain": [
       "3"
      ]
     },
     "execution_count": 190,
     "metadata": {},
     "output_type": "execute_result"
    }
   ],
   "source": [
    "maximizeTransactions([-1,-2,3,-3,0])"
   ]
  },
  {
   "cell_type": "code",
   "execution_count": 1,
   "id": "2beb12e5",
   "metadata": {},
   "outputs": [
    {
     "ename": "NameError",
     "evalue": "name 'n' is not defined",
     "output_type": "error",
     "traceback": [
      "\u001b[0;31m---------------------------------------------------------------------------\u001b[0m",
      "\u001b[0;31mNameError\u001b[0m                                 Traceback (most recent call last)",
      "Cell \u001b[0;32mIn[1], line 1\u001b[0m\n\u001b[0;32m----> 1\u001b[0m mat \u001b[38;5;241m=\u001b[39m [[\u001b[38;5;241m0\u001b[39m \u001b[38;5;28;01mfor\u001b[39;00m _ \u001b[38;5;129;01min\u001b[39;00m \u001b[38;5;28mrange\u001b[39m(n\u001b[38;5;241m+\u001b[39m\u001b[38;5;241m1\u001b[39m)] \u001b[38;5;28;01mfor\u001b[39;00m _ \u001b[38;5;129;01min\u001b[39;00m \u001b[38;5;28mrange\u001b[39m(\u001b[43mn\u001b[49m\u001b[38;5;241m+\u001b[39m\u001b[38;5;241m1\u001b[39m)]\n\u001b[1;32m      4\u001b[0m \u001b[38;5;28;01mdef\u001b[39;00m \u001b[38;5;21mDFS\u001b[39m(start):\n\u001b[1;32m      5\u001b[0m     checked[start] \u001b[38;5;241m=\u001b[39m \u001b[38;5;28;01mTrue\u001b[39;00m\n",
      "\u001b[0;31mNameError\u001b[0m: name 'n' is not defined"
     ]
    }
   ],
   "source": [
    "mat = [[0 for _ in range(n+1)] for _ in range(n+1)]\n",
    "\n",
    "\n",
    "def DFS(start):\n",
    "    checked[start] = True\n",
    "    print(start, end=' ')\n",
    "    ## stack\n",
    "    for idx in range(len(mat[start])):\n",
    "        if (mat[start][idx] == 1) and checked[idx] == False:\n",
    "            # 연결되어있고, # 방문한적 없으면\n",
    "            DFS(idx)\n",
    "\n",
    "import queue\n",
    "def BFS(start):\n",
    "    q = queue.Queue()\n",
    "    q.put(start)\n",
    "    checked[start] = True\n",
    "\n",
    "    while not q.empty():\n",
    "        t = q.get()\n",
    "        print(t, end=' ')\n",
    "\n",
    "        for idx in range(1, len(mat[t])):\n",
    "            if mat[t][idx] == 1 and checked[idx] == False :\n",
    "                q.put(idx)\n",
    "                # 큐에 넣을때 방문 체크\n",
    "                checked[idx] = True\n"
   ]
  },
  {
   "cell_type": "code",
   "execution_count": null,
   "id": "b685d44a",
   "metadata": {},
   "outputs": [],
   "source": []
  }
 ],
 "metadata": {
  "kernelspec": {
   "display_name": "Python 3 (ipykernel)",
   "language": "python",
   "name": "python3"
  },
  "language_info": {
   "codemirror_mode": {
    "name": "ipython",
    "version": 3
   },
   "file_extension": ".py",
   "mimetype": "text/x-python",
   "name": "python",
   "nbconvert_exporter": "python",
   "pygments_lexer": "ipython3",
   "version": "3.11.3"
  }
 },
 "nbformat": 4,
 "nbformat_minor": 5
}
