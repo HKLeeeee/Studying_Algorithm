{
 "cells": [
  {
   "cell_type": "code",
   "execution_count": 1,
   "id": "15acf9b5",
   "metadata": {},
   "outputs": [],
   "source": [
    "nodes = 5\n",
    "g_from = [1,5,1,5]\n",
    "g_to = [5,3,2,4]"
   ]
  },
  {
   "cell_type": "code",
   "execution_count": 9,
   "id": "af7eaf11",
   "metadata": {},
   "outputs": [
    {
     "name": "stdout",
     "output_type": "stream",
     "text": [
      "defaultdict(<class 'list'>, {1: [5, 2], 5: [1, 3, 4], 3: [5], 2: [1], 4: [5]})\n"
     ]
    },
    {
     "data": {
      "text/plain": [
       "defaultdict(list, {1: [5, 2], 5: [1, 3, 4], 3: [5], 2: [1], 4: [5]})"
      ]
     },
     "execution_count": 9,
     "metadata": {},
     "output_type": "execute_result"
    }
   ],
   "source": [
    "from collections import defaultdict\n",
    "def 인접행렬(g_nodes, g_from, g_to):\n",
    "    graph = defaultdict(list)\n",
    "    for f,t in zip(g_from, g_to) :\n",
    "        graph[f].append(t)\n",
    "        graph[t].append(f)\n",
    "    print(graph)\n",
    "    return graph\n",
    "인접행렬(nodes, g_from, g_to)"
   ]
  },
  {
   "cell_type": "code",
   "execution_count": 12,
   "id": "3c8c7280",
   "metadata": {},
   "outputs": [
    {
     "name": "stdout",
     "output_type": "stream",
     "text": [
      "0 [0, 0, 0, 0, 0, 0]\n",
      "1 [0, 0, 1, 0, 0, 1]\n",
      "2 [0, 1, 0, 0, 0, 0]\n",
      "3 [0, 0, 0, 0, 0, 1]\n",
      "4 [0, 0, 0, 0, 0, 1]\n"
     ]
    },
    {
     "data": {
      "text/plain": [
       "[[0, 0, 0, 0, 0, 0],\n",
       " [0, 0, 1, 0, 0, 1],\n",
       " [0, 1, 0, 0, 0, 0],\n",
       " [0, 0, 0, 0, 0, 1],\n",
       " [0, 0, 0, 0, 0, 1],\n",
       " [0, 1, 0, 1, 1, 0]]"
      ]
     },
     "execution_count": 12,
     "metadata": {},
     "output_type": "execute_result"
    }
   ],
   "source": [
    "def 인접리스트(g_nodes, g_from, g_to):\n",
    "    # index가 node의 번호를 그대로 가짐\n",
    "    graph = [[0 for _ in range(g_nodes + 1)] for _ in range(g_nodes+1)]\n",
    "    for f,t in zip(g_from, g_to) :\n",
    "        graph[f][t] = graph[t][f] = 1\n",
    "        \n",
    "    for i in range(g_nodes) :\n",
    "        print(i, graph[i])\n",
    "    return graph\n",
    "인접리스트(nodes, g_from, g_to)"
   ]
  },
  {
   "cell_type": "code",
   "execution_count": 13,
   "id": "0b4b74c5",
   "metadata": {},
   "outputs": [],
   "source": [
    "from collections import deque               "
   ]
  },
  {
   "cell_type": "code",
   "execution_count": 65,
   "id": "f5c9ac53",
   "metadata": {},
   "outputs": [],
   "source": [
    "def solution(g_nodes, g_from, g_to) :\n",
    "    # node가 5개, 간선이 4개\n",
    "    graph = 인접리스트(g_nodes, g_from, g_to)\n",
    "    \n",
    "    def bfs(start, num) :\n",
    "        q = deque()\n",
    "        level = 0\n",
    "        q.append([start, level])\n",
    "        visit = [False for _ in range(num+1)]\n",
    "        while len(q) > 0:\n",
    "            curr, l = q.pop()\n",
    "            for i in range(1, num+1):\n",
    "                if i == start :\n",
    "                    continue\n",
    "                if graph[curr][i] > 0 and not visit[i] :\n",
    "                    q.append([i, l+1])\n",
    "                    visit[i] = l + graph[curr][i]\n",
    "            level+= 1\n",
    "            \n",
    "        return visit\n",
    "    max_count = 0\n",
    "    for i in range(1, g_nodes+1):\n",
    "        result = bfs(i, g_nodes)\n",
    "        max_count = max(max_count, max(result))\n",
    "    return max_count           "
   ]
  },
  {
   "cell_type": "code",
   "execution_count": 72,
   "id": "e80abfe8",
   "metadata": {},
   "outputs": [
    {
     "name": "stdout",
     "output_type": "stream",
     "text": [
      "0 [0, 0, 0, 0, 0, 0]\n",
      "1 [0, 0, 1, 0, 0, 1]\n",
      "2 [0, 1, 0, 0, 0, 0]\n",
      "3 [0, 0, 0, 0, 0, 1]\n",
      "4 [0, 0, 0, 0, 0, 1]\n",
      "CPU times: user 120 µs, sys: 8 µs, total: 128 µs\n",
      "Wall time: 127 µs\n"
     ]
    },
    {
     "data": {
      "text/plain": [
       "3"
      ]
     },
     "execution_count": 72,
     "metadata": {},
     "output_type": "execute_result"
    }
   ],
   "source": [
    "%%time\n",
    "solution(nodes, g_from, g_to)"
   ]
  },
  {
   "cell_type": "code",
   "execution_count": null,
   "id": "74bfc56f",
   "metadata": {},
   "outputs": [],
   "source": [
    "def DFS(start):\n",
    "    checked[start] = True\n",
    "    print(start, end=' ')\n",
    "    for idx in range(len(mat[start])):\n",
    "        if (mat[start][idx] == 1) and checked[idx] == False:\n",
    "            # 연결되어있고, # 방문한적 없으면\n",
    "            DFS(idx)"
   ]
  },
  {
   "cell_type": "code",
   "execution_count": 96,
   "id": "d569bcf8",
   "metadata": {},
   "outputs": [],
   "source": [
    "def solution(g_nodes, g_from, g_to) :\n",
    "    # node가 5개, 간선이 4개\n",
    "    graph = 인접리스트(g_nodes, g_from, g_to)\n",
    "        \n",
    "    def dfs(start, num, level) :\n",
    "        visit[start] = level\n",
    "        print(start, visit)\n",
    "        level += 1\n",
    "        for i in range(num+1):\n",
    "            if not visit[i] and graph[start][i] > 0:\n",
    "                dfs(i, num, level)\n",
    "    \n",
    "    max_count = 0\n",
    "    for i in range(1, g_nodes+1):\n",
    "        visit = [False for _ in range(g_nodes+1)]\n",
    "        visit[i] = 1\n",
    "        dfs(i, g_nodes, 1)\n",
    "        print(visit)\n",
    "        max_count = max(max_count, max(visit))\n",
    "    return max_count           "
   ]
  },
  {
   "cell_type": "code",
   "execution_count": 97,
   "id": "2a63bf3d",
   "metadata": {},
   "outputs": [
    {
     "name": "stdout",
     "output_type": "stream",
     "text": [
      "0 [0, 0, 0, 0, 0, 0]\n",
      "1 [0, 0, 1, 0, 0, 1]\n",
      "2 [0, 1, 0, 0, 0, 0]\n",
      "3 [0, 0, 0, 0, 0, 1]\n",
      "4 [0, 0, 0, 0, 0, 1]\n",
      "1 [False, 1, False, False, False, False]\n",
      "2 [False, 1, 2, False, False, False]\n",
      "5 [False, 1, 2, False, False, 2]\n",
      "3 [False, 1, 2, 3, False, 2]\n",
      "4 [False, 1, 2, 3, 3, 2]\n",
      "[False, 1, 2, 3, 3, 2]\n",
      "2 [False, False, 1, False, False, False]\n",
      "1 [False, 2, 1, False, False, False]\n",
      "5 [False, 2, 1, False, False, 3]\n",
      "3 [False, 2, 1, 4, False, 3]\n",
      "4 [False, 2, 1, 4, 4, 3]\n",
      "[False, 2, 1, 4, 4, 3]\n",
      "3 [False, False, False, 1, False, False]\n",
      "5 [False, False, False, 1, False, 2]\n",
      "1 [False, 3, False, 1, False, 2]\n",
      "2 [False, 3, 4, 1, False, 2]\n",
      "4 [False, 3, 4, 1, 3, 2]\n",
      "[False, 3, 4, 1, 3, 2]\n",
      "4 [False, False, False, False, 1, False]\n",
      "5 [False, False, False, False, 1, 2]\n",
      "1 [False, 3, False, False, 1, 2]\n",
      "2 [False, 3, 4, False, 1, 2]\n",
      "3 [False, 3, 4, 3, 1, 2]\n",
      "[False, 3, 4, 3, 1, 2]\n",
      "5 [False, False, False, False, False, 1]\n",
      "1 [False, 2, False, False, False, 1]\n",
      "2 [False, 2, 3, False, False, 1]\n",
      "3 [False, 2, 3, 2, False, 1]\n",
      "4 [False, 2, 3, 2, 2, 1]\n",
      "[False, 2, 3, 2, 2, 1]\n",
      "CPU times: user 345 µs, sys: 8 µs, total: 353 µs\n",
      "Wall time: 351 µs\n"
     ]
    },
    {
     "data": {
      "text/plain": [
       "4"
      ]
     },
     "execution_count": 97,
     "metadata": {},
     "output_type": "execute_result"
    }
   ],
   "source": [
    "%%time\n",
    "solution(nodes, g_from, g_to)"
   ]
  },
  {
   "cell_type": "code",
   "execution_count": null,
   "id": "90cd15d2",
   "metadata": {},
   "outputs": [],
   "source": []
  }
 ],
 "metadata": {
  "kernelspec": {
   "display_name": "Python 3 (ipykernel)",
   "language": "python",
   "name": "python3"
  },
  "language_info": {
   "codemirror_mode": {
    "name": "ipython",
    "version": 3
   },
   "file_extension": ".py",
   "mimetype": "text/x-python",
   "name": "python",
   "nbconvert_exporter": "python",
   "pygments_lexer": "ipython3",
   "version": "3.11.3"
  }
 },
 "nbformat": 4,
 "nbformat_minor": 5
}
