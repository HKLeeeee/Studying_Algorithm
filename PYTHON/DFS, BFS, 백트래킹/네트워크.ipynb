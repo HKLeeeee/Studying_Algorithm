{
 "cells": [
  {
   "cell_type": "code",
   "execution_count": null,
   "metadata": {
    "collapsed": true
   },
   "outputs": [],
   "source": []
  },
  {
   "cell_type": "code",
   "execution_count": null,
   "outputs": [],
   "source": [
    "from collections import deque\n",
    "\n",
    "def solution(n, computers):\n",
    "    visit = [False for _ in range(n)]\n",
    "    answer = 0\n",
    "\n",
    "    def bfs(target):\n",
    "        answer += 1\n",
    "        queue = deque()\n",
    "        queue.append(target)\n",
    "        visit[target] = True\n",
    "\n",
    "        while queue.count() >= 0 :\n",
    "            new_target = queue.popleft()\n",
    "            for i, c in enumerate(computers[new_target]) :\n",
    "                if not visit[new_target] and c :\n",
    "                    queue.append(i)\n",
    "                    visit[new_target] = True\n",
    "\n",
    "    for i in range(len(visit)):\n",
    "        if not visit[i] :\n",
    "            bfs(i)\n",
    "\n",
    "    return answer"
   ],
   "metadata": {
    "collapsed": false
   }
  },
  {
   "cell_type": "code",
   "execution_count": null,
   "outputs": [],
   "source": [
    "def outer():\n",
    "    num = 3\n",
    "    def inner():\n",
    "        print(num)\n",
    "    return inner\n",
    "\n",
    "f = outer()\n",
    "f()\n"
   ],
   "metadata": {
    "collapsed": false,
    "pycharm": {
     "is_executing": true
    }
   }
  },
  {
   "cell_type": "code",
   "execution_count": null,
   "outputs": [],
   "source": [],
   "metadata": {
    "collapsed": false
   }
  }
 ],
 "metadata": {
  "kernelspec": {
   "display_name": "Python 3",
   "language": "python",
   "name": "python3"
  },
  "language_info": {
   "codemirror_mode": {
    "name": "ipython",
    "version": 2
   },
   "file_extension": ".py",
   "mimetype": "text/x-python",
   "name": "python",
   "nbconvert_exporter": "python",
   "pygments_lexer": "ipython2",
   "version": "2.7.6"
  }
 },
 "nbformat": 4,
 "nbformat_minor": 0
}
