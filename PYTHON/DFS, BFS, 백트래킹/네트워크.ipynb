{
 "cells": [
  {
   "cell_type": "markdown",
   "source": [
    "# 프로그래머스 네트워크"
   ],
   "metadata": {
    "collapsed": false
   }
  },
  {
   "cell_type": "code",
   "execution_count": 30,
   "outputs": [
    {
     "data": {
      "text/plain": "2"
     },
     "execution_count": 30,
     "metadata": {},
     "output_type": "execute_result"
    }
   ],
   "source": [
    "from collections import deque\n",
    "\n",
    "def bfs(target, visit, computers):\n",
    "    queue = deque()\n",
    "    queue.append(target)\n",
    "\n",
    "    while len(queue) > 0 :\n",
    "        new_target = queue.popleft()\n",
    "        for i, c in enumerate(computers[new_target]) :\n",
    "            if not visit[i] and c :\n",
    "                queue.append(i)\n",
    "                visit[i] = True\n",
    "    return visit\n",
    "\n",
    "def solution(n, computers):\n",
    "    answer = 0\n",
    "    visit = [False for _ in range(n)]\n",
    "    for i, v in enumerate(visit):\n",
    "        if not v :\n",
    "            bfs(i, visit, computers)\n",
    "            answer+= 1\n",
    "    return answer\n",
    "\n",
    "solution(3, [[1, 1, 0], [1, 1, 0], [0, 0, 1]])\n"
   ],
   "metadata": {
    "collapsed": false
   }
  }
 ],
 "metadata": {
  "kernelspec": {
   "display_name": "Python 3",
   "language": "python",
   "name": "python3"
  },
  "language_info": {
   "codemirror_mode": {
    "name": "ipython",
    "version": 2
   },
   "file_extension": ".py",
   "mimetype": "text/x-python",
   "name": "python",
   "nbconvert_exporter": "python",
   "pygments_lexer": "ipython2",
   "version": "2.7.6"
  }
 },
 "nbformat": 4,
 "nbformat_minor": 0
}
