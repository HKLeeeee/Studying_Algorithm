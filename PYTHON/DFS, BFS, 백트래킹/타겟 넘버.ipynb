{
 "cells": [
  {
   "cell_type": "markdown",
   "source": [
    "# 프로그래머스 타겟넘버 Level 2"
   ],
   "metadata": {
    "collapsed": false
   }
  },
  {
   "cell_type": "code",
   "execution_count": null,
   "metadata": {
    "collapsed": true
   },
   "outputs": [],
   "source": [
    "answer = 0\n",
    "def graph(signs, numbers, target):\n",
    "    global answer\n",
    "    if len(signs) == len(numbers):\n",
    "        if check(signs, numbers, target) :\n",
    "            answer += 1\n",
    "        return\n",
    "\n",
    "    for i in range(2):\n",
    "        graph(signs + [i], numbers, target)\n",
    "\n",
    "def check(signs, numbers, target):\n",
    "    summation = 0\n",
    "    for s, n in zip(signs, numbers):\n",
    "        if s :\n",
    "            summation += n\n",
    "        else :\n",
    "            summation -= n\n",
    "    return True if summation == target else False\n",
    "\n",
    "def solution(numbers, target):\n",
    "    signs = []\n",
    "    graph(signs, numbers, target)\n",
    "\n",
    "    global answer\n",
    "    return answer"
   ]
  },
  {
   "cell_type": "markdown",
   "source": [
    "## 개선하기"
   ],
   "metadata": {
    "collapsed": false
   }
  },
  {
   "cell_type": "code",
   "execution_count": null,
   "outputs": [],
   "source": [
    "answer = 0\n",
    "def graph(numbers, target, depth):\n",
    "    global answer\n",
    "    if depth == len(numbers):\n",
    "        if sum(numbers) == target :\n",
    "            answer += 1\n",
    "        return\n",
    "\n",
    "    graph(numbers, target, depth + 1)\n",
    "    numbers[depth] *= -1\n",
    "    graph(numbers, target, depth + 1)\n",
    "\n",
    "def solution(numbers, target):\n",
    "    graph(numbers, target, 0)\n",
    "    global answer\n",
    "    return answer\n",
    "\n",
    "# 참고 : https://velog.io/@timointhebush/%ED%94%84%EB%A1%9C%EA%B7%B8%EB%9E%98%EB%A8%B8%EC%8A%A4-%ED%83%80%EA%B2%9F-%EB%84%98%EB%B2%84-DFS-BFS-Python"
   ],
   "metadata": {
    "collapsed": false
   }
  }
 ],
 "metadata": {
  "kernelspec": {
   "display_name": "Python 3",
   "language": "python",
   "name": "python3"
  },
  "language_info": {
   "codemirror_mode": {
    "name": "ipython",
    "version": 2
   },
   "file_extension": ".py",
   "mimetype": "text/x-python",
   "name": "python",
   "nbconvert_exporter": "python",
   "pygments_lexer": "ipython2",
   "version": "2.7.6"
  }
 },
 "nbformat": 4,
 "nbformat_minor": 0
}
