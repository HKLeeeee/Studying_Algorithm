{
 "cells": [
  {
   "cell_type": "code",
   "execution_count": 20,
   "metadata": {
    "collapsed": true
   },
   "outputs": [],
   "source": [
    "from itertools import combinations\n",
    "n = int(input())\n",
    "ability = []\n",
    "for _ in range(n):\n",
    "    ability.append(list(map(int, input().split())))\n",
    "min_diff = 9999"
   ]
  },
  {
   "cell_type": "code",
   "execution_count": 37,
   "outputs": [
    {
     "data": {
      "text/plain": "[[0, 1, 2, 3, 4, 5],\n [1, 0, 2, 3, 4, 5],\n [1, 2, 0, 3, 4, 5],\n [1, 2, 3, 0, 4, 5],\n [1, 2, 3, 4, 0, 5],\n [1, 2, 3, 4, 5, 0]]"
     },
     "execution_count": 37,
     "metadata": {},
     "output_type": "execute_result"
    }
   ],
   "source": [
    "ability"
   ],
   "metadata": {
    "collapsed": false,
    "pycharm": {
     "name": "#%%\n"
    }
   }
  },
  {
   "cell_type": "code",
   "execution_count": 38,
   "outputs": [],
   "source": [
    "def calc_ability(nomi) :\n",
    "    print(nomi)\n",
    "    abil = 0\n",
    "    for i in nomi:\n",
    "        for j in nomi:\n",
    "            abil += ability[i][j]\n",
    "    return abil"
   ],
   "metadata": {
    "collapsed": false,
    "pycharm": {
     "name": "#%%\n"
    }
   }
  },
  {
   "cell_type": "code",
   "execution_count": 32,
   "outputs": [
    {
     "name": "stdout",
     "output_type": "stream",
     "text": [
      "2\n"
     ]
    }
   ],
   "source": [
    "people = list(range(n))\n",
    "#checked = []\n",
    "nomination =  list(map(list, combinations(range(n), n//2)))\n",
    "for i in range(len(nomination)//2):\n",
    "    team_a = nomination[i]\n",
    "    team_b = nomination[-i-1]\n",
    "    min_diff = min(min_diff, abs(calc_ability(team_a)-calc_ability(team_b)))\n",
    "print(min_diff)"
   ],
   "metadata": {
    "collapsed": false,
    "pycharm": {
     "name": "#%%\n"
    }
   }
  },
  {
   "cell_type": "markdown",
   "source": [
    "DFS 백트래킹\n",
    "-> 백트래킹 공부하자"
   ],
   "metadata": {
    "collapsed": false
   }
  },
  {
   "cell_type": "code",
   "execution_count": null,
   "outputs": [],
   "source": [
    "def dfs(depth, idx):\n",
    "    global min_diff\n",
    "    if depth == n//2:\n",
    "        power1, power2 = 0,0\n",
    "        for i in range(n):\n",
    "            for j in range(n):\n",
    "                if visited[i] and visited[j] :\n",
    "                    power1 += ability[i][j]\n",
    "                elif not visited[i] and not visited[j]:\n",
    "                    power2 += ability[i][j]\n",
    "        min_diff = min(min_diff, abs(power1, power2))\n",
    "\n",
    "    for i in range(depth, n):\n",
    "        if visited[i]:\n",
    "            continue\n",
    "        visited[i] = 1\n",
    "        dfs(i+1, idx+1)\n",
    "        visited[i] = 0\n",
    "\n",
    "n = int(input())\n",
    "visited = [False for _ in range(n)]\n",
    "graph = [list(map(int, input().split())) for _ in range(n)]\n",
    "min_diff = int(1e9)\n",
    "\n",
    "dfs(0,0)\n",
    "print(min_diff)\n"
   ],
   "metadata": {
    "collapsed": false,
    "pycharm": {
     "name": "#%%\n"
    }
   }
  }
 ],
 "metadata": {
  "kernelspec": {
   "display_name": "Python 3",
   "language": "python",
   "name": "python3"
  },
  "language_info": {
   "codemirror_mode": {
    "name": "ipython",
    "version": 2
   },
   "file_extension": ".py",
   "mimetype": "text/x-python",
   "name": "python",
   "nbconvert_exporter": "python",
   "pygments_lexer": "ipython2",
   "version": "2.7.6"
  }
 },
 "nbformat": 4,
 "nbformat_minor": 0
}