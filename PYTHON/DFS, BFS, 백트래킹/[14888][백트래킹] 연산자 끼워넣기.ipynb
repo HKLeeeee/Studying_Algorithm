{
 "cells": [
  {
   "cell_type": "markdown",
   "source": [
    "# 연산자 끼워넣기"
   ],
   "metadata": {
    "collapsed": false
   }
  },
  {
   "cell_type": "markdown",
   "source": [
    "입력\n",
    "첫째 줄에 수의 개수 N(2 ≤ N ≤ 11)가 주어진다. 둘째 줄에는 A1, A2, ..., AN이 주어진다. (1 ≤ Ai ≤ 100) 셋째 줄에는 합이 N-1인 4개의 정수가 주어지는데, 차례대로 덧셈(+)의 개수, 뺄셈(-)의 개수, 곱셈(×)의 개수, 나눗셈(÷)의 개수이다.\n",
    "\n",
    "출력\n",
    "첫째 줄에 만들 수 있는 식의 결과의 최댓값을, 둘째 줄에는 최솟값을 출력한다. 연산자를 어떻게 끼워넣어도 항상 -10억보다 크거나 같고, 10억보다 작거나 같은 결과가 나오는 입력만 주어진다. 또한, 앞에서부터 계산했을 때, 중간에 계산되는 식의 결과도 항상 -10억보다 크거나 같고, 10억보다 작거나 같다.\n",
    "\n",
    "예제 입력 1\n",
    "2\n",
    "5 6\n",
    "0 0 1 0\n",
    "예제 출력 1\n",
    "30\n",
    "30\n",
    "예제 입력 2\n",
    "3\n",
    "3 4 5\n",
    "1 0 1 0\n",
    "예제 출력 2\n",
    "35\n",
    "17\n",
    "예제 입력 3\n",
    "6\n",
    "1 2 3 4 5 6\n",
    "2 1 1 1\n",
    "예제 출력 3\n",
    "54\n",
    "-24"
   ],
   "metadata": {
    "collapsed": false
   }
  },
  {
   "cell_type": "code",
   "execution_count": 4,
   "outputs": [
    {
     "name": "stdout",
     "output_type": "stream",
     "text": [
      "-3\n",
      "-2\n"
     ]
    }
   ],
   "source": [
    "# 음수를 양수로 나눌때\n",
    "print(-5//2)\n",
    "print(-1*(5//2))"
   ],
   "metadata": {
    "collapsed": false
   }
  },
  {
   "cell_type": "code",
   "execution_count": 51,
   "metadata": {
    "collapsed": true
   },
   "outputs": [
    {
     "name": "stdout",
     "output_type": "stream",
     "text": [
      "('+', '+', '-', '*', '//')\n",
      "('+', '+', '-', '//', '*')\n",
      "('+', '+', '*', '-', '//')\n",
      "('+', '+', '*', '//', '-')\n",
      "('+', '+', '//', '-', '*')\n",
      "('+', '+', '//', '*', '-')\n",
      "('+', '-', '+', '*', '//')\n",
      "('+', '-', '+', '//', '*')\n",
      "('+', '-', '*', '+', '//')\n",
      "('+', '-', '*', '//', '+')\n",
      "('+', '-', '//', '+', '*')\n",
      "('+', '-', '//', '*', '+')\n",
      "('+', '*', '+', '-', '//')\n",
      "('+', '*', '+', '//', '-')\n",
      "('+', '*', '-', '+', '//')\n",
      "('+', '*', '-', '//', '+')\n",
      "('+', '*', '//', '+', '-')\n",
      "('+', '*', '//', '-', '+')\n",
      "('+', '//', '+', '-', '*')\n",
      "('+', '//', '+', '*', '-')\n",
      "('+', '//', '-', '+', '*')\n",
      "('+', '//', '-', '*', '+')\n",
      "('+', '//', '*', '+', '-')\n",
      "('+', '//', '*', '-', '+')\n",
      "('+', '+', '-', '*', '//')\n",
      "('+', '+', '-', '//', '*')\n",
      "('+', '+', '*', '-', '//')\n",
      "('+', '+', '*', '//', '-')\n",
      "('+', '+', '//', '-', '*')\n",
      "('+', '+', '//', '*', '-')\n",
      "('+', '-', '+', '*', '//')\n",
      "('+', '-', '+', '//', '*')\n",
      "('+', '-', '*', '+', '//')\n",
      "('+', '-', '*', '//', '+')\n",
      "('+', '-', '//', '+', '*')\n",
      "('+', '-', '//', '*', '+')\n",
      "('+', '*', '+', '-', '//')\n",
      "('+', '*', '+', '//', '-')\n",
      "('+', '*', '-', '+', '//')\n",
      "('+', '*', '-', '//', '+')\n",
      "('+', '*', '//', '+', '-')\n",
      "('+', '*', '//', '-', '+')\n",
      "('+', '//', '+', '-', '*')\n",
      "('+', '//', '+', '*', '-')\n",
      "('+', '//', '-', '+', '*')\n",
      "('+', '//', '-', '*', '+')\n",
      "('+', '//', '*', '+', '-')\n",
      "('+', '//', '*', '-', '+')\n",
      "('-', '+', '+', '*', '//')\n",
      "('-', '+', '+', '//', '*')\n",
      "('-', '+', '*', '+', '//')\n",
      "('-', '+', '*', '//', '+')\n",
      "('-', '+', '//', '+', '*')\n",
      "('-', '+', '//', '*', '+')\n",
      "('-', '+', '+', '*', '//')\n",
      "('-', '+', '+', '//', '*')\n",
      "('-', '+', '*', '+', '//')\n",
      "('-', '+', '*', '//', '+')\n",
      "('-', '+', '//', '+', '*')\n",
      "('-', '+', '//', '*', '+')\n",
      "('-', '*', '+', '+', '//')\n",
      "('-', '*', '+', '//', '+')\n",
      "('-', '*', '+', '+', '//')\n",
      "('-', '*', '+', '//', '+')\n",
      "('-', '*', '//', '+', '+')\n",
      "('-', '*', '//', '+', '+')\n",
      "('-', '//', '+', '+', '*')\n",
      "('-', '//', '+', '*', '+')\n",
      "('-', '//', '+', '+', '*')\n",
      "('-', '//', '+', '*', '+')\n",
      "('-', '//', '*', '+', '+')\n",
      "('-', '//', '*', '+', '+')\n",
      "('*', '+', '+', '-', '//')\n",
      "('*', '+', '+', '//', '-')\n",
      "('*', '+', '-', '+', '//')\n",
      "('*', '+', '-', '//', '+')\n",
      "('*', '+', '//', '+', '-')\n",
      "('*', '+', '//', '-', '+')\n",
      "('*', '+', '+', '-', '//')\n",
      "('*', '+', '+', '//', '-')\n",
      "('*', '+', '-', '+', '//')\n",
      "('*', '+', '-', '//', '+')\n",
      "('*', '+', '//', '+', '-')\n",
      "('*', '+', '//', '-', '+')\n",
      "('*', '-', '+', '+', '//')\n",
      "('*', '-', '+', '//', '+')\n",
      "('*', '-', '+', '+', '//')\n",
      "('*', '-', '+', '//', '+')\n",
      "('*', '-', '//', '+', '+')\n",
      "('*', '-', '//', '+', '+')\n",
      "('*', '//', '+', '+', '-')\n",
      "('*', '//', '+', '-', '+')\n",
      "('*', '//', '+', '+', '-')\n",
      "('*', '//', '+', '-', '+')\n",
      "('*', '//', '-', '+', '+')\n",
      "('*', '//', '-', '+', '+')\n",
      "('//', '+', '+', '-', '*')\n",
      "('//', '+', '+', '*', '-')\n",
      "('//', '+', '-', '+', '*')\n",
      "('//', '+', '-', '*', '+')\n",
      "('//', '+', '*', '+', '-')\n",
      "('//', '+', '*', '-', '+')\n",
      "('//', '+', '+', '-', '*')\n",
      "('//', '+', '+', '*', '-')\n",
      "('//', '+', '-', '+', '*')\n",
      "('//', '+', '-', '*', '+')\n",
      "('//', '+', '*', '+', '-')\n",
      "('//', '+', '*', '-', '+')\n",
      "('//', '-', '+', '+', '*')\n",
      "('//', '-', '+', '*', '+')\n",
      "('//', '-', '+', '+', '*')\n",
      "('//', '-', '+', '*', '+')\n",
      "('//', '-', '*', '+', '+')\n",
      "('//', '-', '*', '+', '+')\n",
      "('//', '*', '+', '+', '-')\n",
      "('//', '*', '+', '-', '+')\n",
      "('//', '*', '+', '+', '-')\n",
      "('//', '*', '+', '-', '+')\n",
      "('//', '*', '-', '+', '+')\n",
      "('//', '*', '-', '+', '+')\n",
      "54\n",
      "-24\n"
     ]
    }
   ],
   "source": [
    "def calc(num, operations):\n",
    "    idx = 0\n",
    "    while idx < len(operations) :\n",
    "        op = operations[idx]\n",
    "        if op == '+' :\n",
    "            num[idx+1] = num[idx] + num[idx+1]\n",
    "        elif op == '-':\n",
    "            num[idx+1] = num[idx] - num[idx+1]\n",
    "        elif op == '*' :\n",
    "            num[idx+1] = num[idx] * num[idx+1]\n",
    "        else :\n",
    "            if num[idx] < 0 :\n",
    "                num[idx+1] = -1*((-1*num[idx])//num[idx+1])\n",
    "            else :\n",
    "                num[idx+1] = num[idx]//num[idx+1]\n",
    "        idx += 1\n",
    "    return num[-1]\n",
    "\n",
    "from itertools import permutations\n",
    "n = int(input())\n",
    "numbers = list(map(int, input().split()))\n",
    "op_num= list(map(int, input().split()))\n",
    "operations = ['+', '-', '*', '//']\n",
    "MinMax = []\n",
    "lst = []\n",
    "for idx in range(4):\n",
    "    for i in range(op_num[idx]) :\n",
    "        lst.append(operations[idx])\n",
    "all_operations = permutations(lst)\n",
    "\n",
    "for o in all_operations :\n",
    "    result = calc(numbers.copy(), o)\n",
    "    if len(MinMax) == 0 :\n",
    "        MinMax.append(result)\n",
    "        MinMax.append(result)\n",
    "    else :\n",
    "        if result < MinMax[0] :\n",
    "            MinMax[0] = result\n",
    "        elif result > MinMax[1] :\n",
    "            MinMax[1] = result\n",
    "print('{}\\n{}'.format(MinMax[1], MinMax[0]))"
   ]
  },
  {
   "cell_type": "markdown",
   "source": [
    "-> pypy로 하면 통과, python으로 하면 시간초과"
   ],
   "metadata": {
    "collapsed": false
   }
  },
  {
   "cell_type": "code",
   "execution_count": null,
   "outputs": [],
   "source": [],
   "metadata": {
    "collapsed": false
   }
  },
  {
   "cell_type": "markdown",
   "source": [
    "# permutation"
   ],
   "metadata": {
    "collapsed": false
   }
  },
  {
   "cell_type": "code",
   "execution_count": 11,
   "outputs": [
    {
     "data": {
      "text/plain": "[['A', 'B', 'C'],\n ['B', 'A', 'C'],\n ['C', 'A', 'B'],\n ['A', 'C', 'B'],\n ['B', 'C', 'A'],\n ['C', 'B', 'A']]"
     },
     "execution_count": 11,
     "metadata": {},
     "output_type": "execute_result"
    }
   ],
   "source": [
    "arrr=['A','B','C']\n",
    "## 반복문으로 구현한 permutaion은 너무 어려워요\n",
    "## dfs로 구현한게 더 쉽다.\n",
    "def permute(arr) :\n",
    "    result = [arr[:]] # arr이 들어간 리스트\n",
    "    c = [0] * len(arr) # arr과 길이가 동일한 0으로 채워진 리스트\n",
    "    i = 0\n",
    "    while i < len(arr) :\n",
    "        if c[i] < i :\n",
    "            if i % 2 == 0 : # i가 짝수일때\n",
    "                arr[0], arr[i] = arr[i], arr[0]\n",
    "            else :\n",
    "                arr[c[i]], arr[i] = arr[i], arr[c[i]]\n",
    "            result.append(arr[:])\n",
    "            c[i] += 1\n",
    "            i=0\n",
    "        else :\n",
    "            c[i] = 0\n",
    "            i += 1\n",
    "    return result\n",
    "permute(arrr)"
   ],
   "metadata": {
    "collapsed": false
   }
  },
  {
   "cell_type": "code",
   "execution_count": 13,
   "outputs": [
    {
     "name": "stdout",
     "output_type": "stream",
     "text": [
      "['CBA', 'CAB', 'BCA', 'BAC', 'ACB', 'ABC']\n"
     ]
    }
   ],
   "source": [
    "import itertools\n",
    "print(list(map(''.join, itertools.permutations(arrr))))"
   ],
   "metadata": {
    "collapsed": false
   }
  },
  {
   "cell_type": "code",
   "execution_count": 14,
   "outputs": [
    {
     "name": "stdout",
     "output_type": "stream",
     "text": [
      "['CB', 'CA', 'BC', 'BA', 'AC', 'AB']\n"
     ]
    }
   ],
   "source": [
    "print(list(map(''.join, itertools.permutations(arrr, 2))))"
   ],
   "metadata": {
    "collapsed": false
   }
  },
  {
   "cell_type": "code",
   "execution_count": 21,
   "outputs": [
    {
     "name": "stdout",
     "output_type": "stream",
     "text": [
      "1 2\n",
      "1 3\n",
      "1 4\n",
      "2 1\n",
      "2 3\n",
      "2 4\n",
      "3 1\n",
      "3 2\n",
      "3 4\n",
      "4 1\n",
      "4 2\n",
      "4 3\n"
     ]
    }
   ],
   "source": [
    "import itertools\n",
    "n, m = map(int, input().split())\n",
    "anw = itertools.permutations(range(1, n+1),m)\n",
    "for a in anw:\n",
    "    print(' '.join(map(str, a)))"
   ],
   "metadata": {
    "collapsed": false
   }
  },
  {
   "cell_type": "code",
   "execution_count": 28,
   "outputs": [
    {
     "name": "stdout",
     "output_type": "stream",
     "text": [
      "54 -24\n"
     ]
    }
   ],
   "source": [
    "N = int(input())\n",
    "numbers = list(map(int, input().split()))\n",
    "operations = list(map(int, input().split()))\n",
    "\n",
    "## 중복없이 & 순서 존재\n",
    "selected = ['' for i in range(N)]\n",
    "checked = [False for _ in range(len(selected))]\n",
    "max_answer = -1000000000\n",
    "min_answer = 1000000000\n",
    "num = 0\n",
    "def rec_func(k) :\n",
    "    global max_answer\n",
    "    global min_answer\n",
    "    if k == N :\n",
    "        answer = calc(selected)\n",
    "        max_answer = max(answer, max_answer)\n",
    "        min_answer = min(answer, min_answer)\n",
    "    else :\n",
    "        for idx, cand in enumerate(operations) :\n",
    "            if cand > 0 :\n",
    "                selected[k] = idx\n",
    "                operations[idx] -= 1\n",
    "                rec_func(k+1)\n",
    "                selected[k] = ''\n",
    "                operations[idx] += 1\n",
    "\n",
    "def calc(selected) :\n",
    "    answer = numbers[0]\n",
    "    for i in range(1, N):\n",
    "        op = selected[i]\n",
    "        if op == 0 :\n",
    "            answer = answer + numbers[i]\n",
    "        elif op == 1:\n",
    "            answer = answer - numbers[i]\n",
    "        elif op == 2:\n",
    "            answer = answer * numbers[i]\n",
    "        elif op == 3:\n",
    "            if answer < 0:\n",
    "                answer = -1 * ((-1 * answer) // numbers[i])\n",
    "            else :\n",
    "                answer = answer // numbers[i]\n",
    "    return answer\n",
    "\n",
    "rec_func(1)\n",
    "print(max_answer, min_answer)\n"
   ],
   "metadata": {
    "collapsed": false
   }
  }
 ],
 "metadata": {
  "kernelspec": {
   "display_name": "Python 3",
   "language": "python",
   "name": "python3"
  },
  "language_info": {
   "codemirror_mode": {
    "name": "ipython",
    "version": 2
   },
   "file_extension": ".py",
   "mimetype": "text/x-python",
   "name": "python",
   "nbconvert_exporter": "python",
   "pygments_lexer": "ipython2",
   "version": "2.7.6"
  }
 },
 "nbformat": 4,
 "nbformat_minor": 0
}
