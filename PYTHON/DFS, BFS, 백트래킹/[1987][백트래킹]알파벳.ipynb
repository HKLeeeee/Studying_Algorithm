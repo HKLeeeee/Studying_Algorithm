{
 "cells": [
  {
   "cell_type": "code",
   "execution_count": 24,
   "outputs": [
    {
     "ename": "NameError",
     "evalue": "name 'r' is not defined",
     "output_type": "error",
     "traceback": [
      "\u001B[0;31m---------------------------------------------------------------------------\u001B[0m",
      "\u001B[0;31mNameError\u001B[0m                                 Traceback (most recent call last)",
      "Cell \u001B[0;32mIn[24], line 5\u001B[0m\n\u001B[1;32m      2\u001B[0m \u001B[38;5;66;03m# input = sys.stdin.readline\u001B[39;00m\n\u001B[1;32m      4\u001B[0m R, C \u001B[38;5;241m=\u001B[39m \u001B[38;5;28mmap\u001B[39m(\u001B[38;5;28mint\u001B[39m, \u001B[38;5;28minput\u001B[39m()\u001B[38;5;241m.\u001B[39msplit())\n\u001B[0;32m----> 5\u001B[0m board \u001B[38;5;241m=\u001B[39m [\u001B[38;5;28mlist\u001B[39m(\u001B[38;5;28minput\u001B[39m()\u001B[38;5;241m.\u001B[39mstrip()) \u001B[38;5;28;01mfor\u001B[39;00m _ \u001B[38;5;129;01min\u001B[39;00m \u001B[38;5;28mrange\u001B[39m(\u001B[43mr\u001B[49m)]\n\u001B[1;32m      7\u001B[0m selected \u001B[38;5;241m=\u001B[39m \u001B[38;5;28mset\u001B[39m(board[\u001B[38;5;241m0\u001B[39m][\u001B[38;5;241m0\u001B[39m])\n\u001B[1;32m      8\u001B[0m answer \u001B[38;5;241m=\u001B[39m \u001B[38;5;241m1\u001B[39m\n",
      "\u001B[0;31mNameError\u001B[0m: name 'r' is not defined"
     ]
    }
   ],
   "source": [
    "import sys\n",
    "# input = sys.stdin.readline\n",
    "\n",
    "R, C = map(int, input().split())\n",
    "board = [list(input().strip()) for _ in range(R)]\n",
    "\n",
    "selected = set(board[0][0])\n",
    "answer = 1\n",
    "dx = [0, 0, 1, -1]\n",
    "dy = [1, -1, 0, 0]\n",
    "\n",
    "def rec_func(k, x, y) :\n",
    "    global answer\n",
    "    can_move = False\n",
    "    for i in range(4) :\n",
    "        nx, ny  = x + dx[i], y + dy[i]\n",
    "        if 0 <= nx < R and 0 <= ny < C :\n",
    "            new_alpha = board[nx][ny]\n",
    "            if new_alpha not in selected :\n",
    "                selected.add(new_alpha)\n",
    "                rec_func(k+1, nx, ny)\n",
    "                selected.remove(new_alpha)\n",
    "                can_move = True\n",
    "    if not can_move :\n",
    "        answer = max(answer, k)\n",
    "\n",
    "rec_func(answer, 0 ,0)\n",
    "print(answer)"
   ],
   "metadata": {
    "collapsed": false
   }
  },
  {
   "cell_type": "code",
   "execution_count": 10,
   "outputs": [
    {
     "name": "stdout",
     "output_type": "stream",
     "text": [
      "35\n",
      "3\n"
     ]
    }
   ],
   "source": [
    "n = int(input())\n",
    "print(n*(n-1)*(n-2)//6)\n",
    "print(3)"
   ],
   "metadata": {
    "collapsed": false
   }
  },
  {
   "cell_type": "code",
   "execution_count": 6,
   "outputs": [
    {
     "data": {
      "text/plain": "28"
     },
     "execution_count": 6,
     "metadata": {},
     "output_type": "execute_result"
    }
   ],
   "source": [
    "O(g(n)) = {f(n) | 모든 n ≥ n0에 대하여 f(n) ≤ c × g(n)인 양의 상수 c와 n0가 존재한다}"
   ],
   "metadata": {
    "collapsed": false
   }
  },
  {
   "cell_type": "code",
   "execution_count": 17,
   "outputs": [
    {
     "name": "stdout",
     "output_type": "stream",
     "text": [
      "1\n"
     ]
    }
   ],
   "source": [
    "a_0, a_1 = map(int, input().split())\n",
    "c = int(input())\n",
    "n_0 = int(input())\n",
    "print(int(c*n_0 >= a_0*n_0 + a_1 and a_0 <= c))"
   ],
   "metadata": {
    "collapsed": false
   }
  },
  {
   "cell_type": "code",
   "execution_count": null,
   "outputs": [],
   "source": [],
   "metadata": {
    "collapsed": false
   }
  }
 ],
 "metadata": {
  "kernelspec": {
   "display_name": "Python 3",
   "language": "python",
   "name": "python3"
  },
  "language_info": {
   "codemirror_mode": {
    "name": "ipython",
    "version": 2
   },
   "file_extension": ".py",
   "mimetype": "text/x-python",
   "name": "python",
   "nbconvert_exporter": "python",
   "pygments_lexer": "ipython2",
   "version": "2.7.6"
  }
 },
 "nbformat": 4,
 "nbformat_minor": 0
}
