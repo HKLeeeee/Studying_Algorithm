{
 "cells": [
  {
   "cell_type": "code",
   "execution_count": 51,
   "metadata": {
    "collapsed": true
   },
   "outputs": [
    {
     "name": "stdout",
     "output_type": "stream",
     "text": [
      "8\n"
     ]
    }
   ],
   "source": [
    "from collections import deque\n",
    "\n",
    "def get_max_day():\n",
    "    max_day = 0\n",
    "    for b in box :\n",
    "        max_day = max(max_day, max(b))\n",
    "    return max_day-1\n",
    "\n",
    "def is_all_riped():\n",
    "    for b in box :\n",
    "        for tomato in b:\n",
    "            if tomato == 0:\n",
    "                return False\n",
    "    return True\n",
    "\n",
    "\n",
    "\n",
    "dx = [1, -1, 0, 0]\n",
    "dy = [0, 0, 1, -1]\n",
    "\n",
    "M, N = map(int, input().split())\n",
    "box = []\n",
    "tomato_q = deque()\n",
    "\n",
    "for i in range(N):\n",
    "    line = list(map(int, input().split()))\n",
    "    for j, l in enumerate(line) :\n",
    "        if l == 1:\n",
    "            tomato_q.append([i,j])\n",
    "    box.append(line)\n",
    "\n",
    "while len(tomato_q) > 0 :\n",
    "    x, y = tomato_q.popleft()\n",
    "    day = box[x][y]\n",
    "    for i in range(4):\n",
    "        nx = x + dx[i]\n",
    "        ny = y + dy[i]\n",
    "        if 0 <= nx < N and 0 <= ny < M and box[nx][ny] == 0 :\n",
    "            box[nx][ny] = day + 1\n",
    "            tomato_q.append([nx, ny])\n",
    "\n",
    "if not is_all_riped():\n",
    "    print(-1)\n",
    "else :\n",
    "    print(get_max_day())"
   ]
  },
  {
   "cell_type": "code",
   "execution_count": 52,
   "outputs": [
    {
     "data": {
      "text/plain": "[[9, 8, 7, 6, 5, 4],\n [8, 7, 6, 5, 4, 3],\n [7, 6, 5, 4, 3, 2],\n [6, 5, 4, 3, 2, 1]]"
     },
     "execution_count": 52,
     "metadata": {},
     "output_type": "execute_result"
    }
   ],
   "source": [
    "box"
   ],
   "metadata": {
    "collapsed": false
   }
  },
  {
   "cell_type": "code",
   "execution_count": 35,
   "outputs": [
    {
     "name": "stdout",
     "output_type": "stream",
     "text": [
      "4 5\n",
      "2 5\n",
      "3 6\n",
      "3 4\n",
      "3 5\n",
      "1 5\n",
      "2 6\n",
      "2 4\n",
      "4 4\n",
      "2 4\n",
      "3 5\n",
      "3 3\n",
      "2 5\n",
      "0 5\n",
      "1 6\n",
      "1 4\n",
      "3 4\n",
      "1 4\n",
      "2 5\n",
      "2 3\n",
      "4 3\n",
      "2 3\n",
      "3 4\n",
      "3 2\n",
      "1 5\n",
      "-1 5\n",
      "0 6\n",
      "0 4\n",
      "2 4\n",
      "0 4\n",
      "1 5\n",
      "1 3\n",
      "3 3\n",
      "1 3\n",
      "2 4\n",
      "2 2\n",
      "4 2\n",
      "2 2\n",
      "3 3\n",
      "3 1\n",
      "1 4\n",
      "-1 4\n",
      "0 5\n",
      "0 3\n",
      "2 3\n",
      "0 3\n",
      "1 4\n",
      "1 2\n",
      "3 2\n",
      "1 2\n",
      "2 3\n",
      "2 1\n",
      "4 1\n",
      "2 1\n",
      "3 2\n",
      "3 0\n",
      "1 3\n",
      "-1 3\n",
      "0 4\n",
      "0 2\n",
      "2 2\n",
      "0 2\n",
      "1 3\n",
      "1 1\n",
      "3 1\n",
      "1 1\n",
      "2 2\n",
      "2 0\n",
      "4 0\n",
      "2 0\n",
      "3 1\n",
      "3 -1\n",
      "1 2\n",
      "-1 2\n",
      "0 3\n",
      "0 1\n",
      "2 1\n",
      "0 1\n",
      "1 2\n",
      "1 0\n",
      "3 0\n",
      "1 0\n",
      "2 1\n",
      "2 -1\n",
      "1 1\n",
      "-1 1\n",
      "0 2\n",
      "0 0\n",
      "2 0\n",
      "0 0\n",
      "1 1\n",
      "1 -1\n",
      "1 0\n",
      "-1 0\n",
      "0 1\n",
      "0 -1\n"
     ]
    }
   ],
   "source": [
    "while len(tomato_q) > 0 :\n",
    "    x, y = tomato_q.popleft()\n",
    "    day = box[x][y]\n",
    "    for i in range(4):\n",
    "        nx = x + dx[i]\n",
    "        ny = y + dy[i]\n",
    "        if 0 <= nx < N and 0 <= ny < M and box[nx][ny] == 0 :\n",
    "            box[nx][ny] = day + 1\n",
    "            tomato_q.append([nx, ny])"
   ],
   "metadata": {
    "collapsed": false
   }
  },
  {
   "cell_type": "code",
   "execution_count": 43,
   "outputs": [],
   "source": [
    "def get_max_day():\n",
    "    max_day = 0\n",
    "    for b in box :\n",
    "        max_day = max(max_day, max(b))\n",
    "    return max_day-1"
   ],
   "metadata": {
    "collapsed": false
   }
  },
  {
   "cell_type": "code",
   "execution_count": 44,
   "outputs": [
    {
     "data": {
      "text/plain": "8"
     },
     "execution_count": 44,
     "metadata": {},
     "output_type": "execute_result"
    }
   ],
   "source": [
    "get_max_day()"
   ],
   "metadata": {
    "collapsed": false
   }
  },
  {
   "cell_type": "code",
   "execution_count": 39,
   "outputs": [],
   "source": [
    "def is_all_riped():\n",
    "    for b in box :\n",
    "        for tomato in b:\n",
    "            if tomato == 0:\n",
    "                return False\n",
    "    return True"
   ],
   "metadata": {
    "collapsed": false
   }
  },
  {
   "cell_type": "code",
   "execution_count": 40,
   "outputs": [
    {
     "data": {
      "text/plain": "True"
     },
     "execution_count": 40,
     "metadata": {},
     "output_type": "execute_result"
    }
   ],
   "source": [
    "is_all_riped()"
   ],
   "metadata": {
    "collapsed": false
   }
  }
 ],
 "metadata": {
  "kernelspec": {
   "display_name": "Python 3",
   "language": "python",
   "name": "python3"
  },
  "language_info": {
   "codemirror_mode": {
    "name": "ipython",
    "version": 2
   },
   "file_extension": ".py",
   "mimetype": "text/x-python",
   "name": "python",
   "nbconvert_exporter": "python",
   "pygments_lexer": "ipython2",
   "version": "2.7.6"
  }
 },
 "nbformat": 4,
 "nbformat_minor": 0
}
