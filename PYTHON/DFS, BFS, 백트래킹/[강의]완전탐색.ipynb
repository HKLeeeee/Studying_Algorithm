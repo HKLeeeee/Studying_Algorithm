{
 "cells": [
  {
   "cell_type": "markdown",
   "source": [
    "# N과 M 3"
   ],
   "metadata": {
    "collapsed": false
   }
  },
  {
   "cell_type": "code",
   "execution_count": 12,
   "outputs": [],
   "source": [
    "N = input()\n",
    "M = input()\n",
    "selected = [0 for _ in range(M+1)]\n"
   ],
   "metadata": {
    "collapsed": false
   }
  },
  {
   "cell_type": "code",
   "execution_count": 17,
   "outputs": [],
   "source": [
    "def rec_func(k) :\n",
    "    if k == M+1 :\n",
    "        print(' '.join(map(str, selected[1:])))\n",
    "    else :\n",
    "        for cnd in range(1, N+1) :\n",
    "            selected[k] = cnd\n",
    "            rec_func(k+1)\n",
    "            selected[k] = 0"
   ],
   "metadata": {
    "collapsed": false
   }
  },
  {
   "cell_type": "code",
   "execution_count": 18,
   "outputs": [
    {
     "name": "stdout",
     "output_type": "stream",
     "text": [
      "1 1 1\n",
      "1 1 2\n",
      "1 1 3\n",
      "1 1 4\n",
      "1 2 1\n",
      "1 2 2\n",
      "1 2 3\n",
      "1 2 4\n",
      "1 3 1\n",
      "1 3 2\n",
      "1 3 3\n",
      "1 3 4\n",
      "1 4 1\n",
      "1 4 2\n",
      "1 4 3\n",
      "1 4 4\n",
      "2 1 1\n",
      "2 1 2\n",
      "2 1 3\n",
      "2 1 4\n",
      "2 2 1\n",
      "2 2 2\n",
      "2 2 3\n",
      "2 2 4\n",
      "2 3 1\n",
      "2 3 2\n",
      "2 3 3\n",
      "2 3 4\n",
      "2 4 1\n",
      "2 4 2\n",
      "2 4 3\n",
      "2 4 4\n",
      "3 1 1\n",
      "3 1 2\n",
      "3 1 3\n",
      "3 1 4\n",
      "3 2 1\n",
      "3 2 2\n",
      "3 2 3\n",
      "3 2 4\n",
      "3 3 1\n",
      "3 3 2\n",
      "3 3 3\n",
      "3 3 4\n",
      "3 4 1\n",
      "3 4 2\n",
      "3 4 3\n",
      "3 4 4\n",
      "4 1 1\n",
      "4 1 2\n",
      "4 1 3\n",
      "4 1 4\n",
      "4 2 1\n",
      "4 2 2\n",
      "4 2 3\n",
      "4 2 4\n",
      "4 3 1\n",
      "4 3 2\n",
      "4 3 3\n",
      "4 3 4\n",
      "4 4 1\n",
      "4 4 2\n",
      "4 4 3\n",
      "4 4 4\n"
     ]
    }
   ],
   "source": [
    "rec_func(1)"
   ],
   "metadata": {
    "collapsed": false
   }
  },
  {
   "cell_type": "markdown",
   "source": [
    "# N과 M 1"
   ],
   "metadata": {
    "collapsed": false
   }
  },
  {
   "cell_type": "code",
   "execution_count": 21,
   "outputs": [],
   "source": [
    "N, M = map(int, input().split())\n",
    "selected = [0 for _ in range(M+1)]\n",
    "used = [False for _ in range(N+1)]\n",
    "\n",
    "def rec_func(k):\n",
    "    if k == M+1:\n",
    "       print(' '.join(map(str, selected[1:])))\n",
    "    else :\n",
    "        for cand in range(1, N+1):\n",
    "            if not used[cand] :\n",
    "                selected[k] = cand\n",
    "                used[cand] = True\n",
    "                rec_func(k+1)\n",
    "                selected[k] = 0\n",
    "                used[cand] = False"
   ],
   "metadata": {
    "collapsed": false
   }
  },
  {
   "cell_type": "code",
   "execution_count": 22,
   "outputs": [
    {
     "name": "stdout",
     "output_type": "stream",
     "text": [
      "1\n",
      "2\n",
      "3\n"
     ]
    }
   ],
   "source": [
    "rec_func(1)"
   ],
   "metadata": {
    "collapsed": false
   }
  },
  {
   "cell_type": "code",
   "execution_count": 24,
   "outputs": [
    {
     "name": "stdout",
     "output_type": "stream",
     "text": [
      "1 2 3 4\n",
      "1 2 4 3\n",
      "1 3 2 4\n",
      "1 3 4 2\n",
      "1 4 2 3\n",
      "1 4 3 2\n",
      "2 1 3 4\n",
      "2 1 4 3\n",
      "2 3 1 4\n",
      "2 3 4 1\n",
      "2 4 1 3\n",
      "2 4 3 1\n",
      "3 1 2 4\n",
      "3 1 4 2\n",
      "3 2 1 4\n",
      "3 2 4 1\n",
      "3 4 1 2\n",
      "3 4 2 1\n",
      "4 1 2 3\n",
      "4 1 3 2\n",
      "4 2 1 3\n",
      "4 2 3 1\n",
      "4 3 1 2\n",
      "4 3 2 1\n"
     ]
    }
   ],
   "source": [
    "N, M = 4, 4\n",
    "selected = [0 for _ in range(M+1)]\n",
    "used = [False for _ in range(N+1)]\n",
    "rec_func(1)"
   ],
   "metadata": {
    "collapsed": false
   }
  },
  {
   "cell_type": "markdown",
   "source": [
    "# N과 M 4"
   ],
   "metadata": {
    "collapsed": false
   }
  },
  {
   "cell_type": "code",
   "execution_count": 35,
   "outputs": [
    {
     "name": "stdout",
     "output_type": "stream",
     "text": [
      "1 1 1\n",
      "1 1 2\n",
      "1 1 3\n",
      "1 2 2\n",
      "1 2 3\n",
      "1 3 3\n",
      "2 2 2\n",
      "2 2 3\n",
      "2 3 3\n",
      "3 3 3\n"
     ]
    }
   ],
   "source": [
    "N, M = map(int, input().split())\n",
    "selected = [0 for _ in range(M+1)]\n",
    "\n",
    "def rec_func(k):\n",
    "    if k == M+1:\n",
    "       print(' '.join(map(str, selected[1:])))\n",
    "    else :\n",
    "        start = selected[k-1]\n",
    "        if start == 0 : start = 1\n",
    "        for cand in range(start, N+1):\n",
    "            selected[k] = cand\n",
    "            rec_func(k+1)\n",
    "            selected[k] = 0\n",
    "rec_func(1)"
   ],
   "metadata": {
    "collapsed": false
   }
  },
  {
   "cell_type": "markdown",
   "source": [
    "# N과 M 2"
   ],
   "metadata": {
    "collapsed": false
   }
  },
  {
   "cell_type": "code",
   "execution_count": 41,
   "outputs": [
    {
     "name": "stdout",
     "output_type": "stream",
     "text": [
      "1 2 3 4\n"
     ]
    }
   ],
   "source": [
    "N, M = map(int, input().split())\n",
    "selected = [0 for _ in range(M+1)]\n",
    "\n",
    "def rec_func(k):\n",
    "    if k == M+1:\n",
    "       print(' '.join(map(str, selected[1:])))\n",
    "    else :\n",
    "        start = selected[k-1]\n",
    "        for cand in range(start+1, N+1):\n",
    "            selected[k] = cand\n",
    "            rec_func(k+1)\n",
    "            selected[k] = 0\n",
    "rec_func(1)"
   ],
   "metadata": {
    "collapsed": false
   }
  },
  {
   "cell_type": "markdown",
   "source": [
    "# 연산자 끼워넣기\n"
   ],
   "metadata": {
    "collapsed": false
   }
  },
  {
   "cell_type": "code",
   "execution_count": 6,
   "outputs": [
    {
     "name": "stdout",
     "output_type": "stream",
     "text": [
      "35 17\n"
     ]
    }
   ],
   "source": [
    "N = int(input())\n",
    "numbers = list(map(int, input().split()))\n",
    "operations = list(map(int, input().split()))\n",
    "\n",
    "## 중복없이 & 순서 존재\n",
    "max_answer = -1000000000\n",
    "min_answer = 1000000000\n",
    "num = 0\n",
    "def rec_func(k, value) :\n",
    "    global max_answer\n",
    "    global min_answer\n",
    "    if k == N :\n",
    "        max_answer = max(value, max_answer)\n",
    "        min_answer = min(value, min_answer)\n",
    "    else :\n",
    "        for idx, cand in enumerate(operations) :\n",
    "            if cand > 0 :\n",
    "                operations[idx] -= 1\n",
    "                new_value = calc(value, idx, numbers[k])\n",
    "                rec_func(k+1, new_value)\n",
    "                operations[idx] += 1\n",
    "def calc(operand1, operator, operand2) :\n",
    "    if operator == 0 :\n",
    "        answer = operand1 + operand2\n",
    "    elif operator == 1:\n",
    "        answer = operand1 - operand2\n",
    "    elif operator == 2:\n",
    "        answer = operand1 * operand2\n",
    "    elif operator == 3:\n",
    "        if operand1 < 0:\n",
    "            answer = -1 * ((-1 * operand1) // operand2)\n",
    "        else :\n",
    "            answer = operand1 // operand2\n",
    "    return answer\n",
    "\n",
    "rec_func(1, numbers[0])\n",
    "print(max_answer, min_answer)\n"
   ],
   "metadata": {
    "collapsed": false
   }
  }
 ],
 "metadata": {
  "kernelspec": {
   "display_name": "Python 3",
   "language": "python",
   "name": "python3"
  },
  "language_info": {
   "codemirror_mode": {
    "name": "ipython",
    "version": 2
   },
   "file_extension": ".py",
   "mimetype": "text/x-python",
   "name": "python",
   "nbconvert_exporter": "python",
   "pygments_lexer": "ipython2",
   "version": "2.7.6"
  }
 },
 "nbformat": 4,
 "nbformat_minor": 0
}
