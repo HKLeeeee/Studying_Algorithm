{
 "cells": [
  {
   "cell_type": "code",
   "execution_count": 28,
   "metadata": {
    "collapsed": true
   },
   "outputs": [
    {
     "name": "stdout",
     "output_type": "stream",
     "text": [
      "acis\n",
      "acit\n",
      "aciw\n",
      "acst\n",
      "acsw\n",
      "actw\n",
      "aist\n",
      "aisw\n",
      "aitw\n",
      "astw\n",
      "cist\n",
      "cisw\n",
      "citw\n",
      "istw\n"
     ]
    }
   ],
   "source": [
    "L, C = map(int, input().split())\n",
    "charset = sorted(input().split())\n",
    "used = [False for _ in range(C)]\n",
    "password = ['' for _ in range(L)]\n",
    "vowel  = set(['a', 'e', 'i', 'o', 'u'])\n",
    "## 모음 최소 한개, 자음 최소 두 개\n",
    "\n",
    "def rec_func(k, start):\n",
    "    if k == L  :\n",
    "        extract = set(password) - vowel\n",
    "        # print(password, extract)\n",
    "        if len(extract) >= 2 and (len(password) - len(extract)) >= 1 :\n",
    "            print(''.join(password))\n",
    "    else :\n",
    "        for idx in range(start, C) :\n",
    "            if not used[idx] :\n",
    "                password[k] = charset[idx]\n",
    "                used[idx] = True\n",
    "                rec_func(k+1, idx+1)\n",
    "                password[k] = ''\n",
    "                used[idx] = False\n",
    "\n",
    "rec_func(0, 0)"
   ]
  },
  {
   "cell_type": "code",
   "execution_count": null,
   "outputs": [],
   "source": [],
   "metadata": {
    "collapsed": false
   }
  }
 ],
 "metadata": {
  "kernelspec": {
   "display_name": "Python 3",
   "language": "python",
   "name": "python3"
  },
  "language_info": {
   "codemirror_mode": {
    "name": "ipython",
    "version": 2
   },
   "file_extension": ".py",
   "mimetype": "text/x-python",
   "name": "python",
   "nbconvert_exporter": "python",
   "pygments_lexer": "ipython2",
   "version": "2.7.6"
  }
 },
 "nbformat": 4,
 "nbformat_minor": 0
}
