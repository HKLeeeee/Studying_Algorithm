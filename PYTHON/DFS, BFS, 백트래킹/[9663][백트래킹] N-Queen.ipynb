{
 "cells": [
  {
   "cell_type": "code",
   "execution_count": 23,
   "outputs": [
    {
     "name": "stdout",
     "output_type": "stream",
     "text": [
      "92\n"
     ]
    }
   ],
   "source": [
    "import sys\n",
    "N = int(sys.stdin.readline())\n",
    "answer = 0\n",
    "selected = [] ## [[x,y],[x,y]...]\n",
    "y_pushed = [False for _ in range(N)]\n",
    "def rec_func(k) :\n",
    "    global answer\n",
    "    if len(k) == N :\n",
    "        answer += 1\n",
    "    else :\n",
    "        x = len(k)\n",
    "        for y in range(0, N):\n",
    "            if y_pushed[y] :\n",
    "                continue\n",
    "            if diagonal(k, [x, y]) :\n",
    "                k.append([x,y])\n",
    "                y_pushed[y] = True\n",
    "                rec_func(k)\n",
    "                y_pushed[y] = False\n",
    "                k.pop()\n",
    "\n",
    "def diagonal(k, new_pos) :\n",
    "    for idx in range(len(k)-1, -1, -1) :\n",
    "        last_pos = k[idx]\n",
    "        if last_pos[0] < 0 : return True\n",
    "        x = abs(last_pos[0] - new_pos[0])\n",
    "        y = abs(last_pos[1] - new_pos[1])\n",
    "        if x == y :\n",
    "            return False\n",
    "    return True\n",
    "\n",
    "rec_func([])\n",
    "print(answer)"
   ],
   "metadata": {
    "collapsed": false
   }
  },
  {
   "cell_type": "code",
   "execution_count": null,
   "outputs": [],
   "source": [],
   "metadata": {
    "collapsed": false
   }
  }
 ],
 "metadata": {
  "kernelspec": {
   "display_name": "Python 3",
   "language": "python",
   "name": "python3"
  },
  "language_info": {
   "codemirror_mode": {
    "name": "ipython",
    "version": 2
   },
   "file_extension": ".py",
   "mimetype": "text/x-python",
   "name": "python",
   "nbconvert_exporter": "python",
   "pygments_lexer": "ipython2",
   "version": "2.7.6"
  }
 },
 "nbformat": 4,
 "nbformat_minor": 0
}
