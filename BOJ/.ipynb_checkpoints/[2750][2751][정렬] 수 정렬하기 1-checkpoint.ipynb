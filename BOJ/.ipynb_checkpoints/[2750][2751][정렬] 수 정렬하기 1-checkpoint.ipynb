{
 "cells": [
  {
   "cell_type": "markdown",
   "id": "8ce3a0a1",
   "metadata": {},
   "source": [
    "# 수 정렬하기\n",
    "o(n^2)"
   ]
  },
  {
   "cell_type": "code",
   "execution_count": 3,
   "id": "5b93a845",
   "metadata": {},
   "outputs": [
    {
     "name": "stdout",
     "output_type": "stream",
     "text": [
      "5\n",
      "5\n",
      "4\n",
      "3\n",
      "2\n",
      "1\n",
      "1\n",
      "2\n",
      "3\n",
      "4\n",
      "5\n"
     ]
    }
   ],
   "source": [
    "N = int(input())\n",
    "lst = []\n",
    "\n",
    "for i in range(N) :\n",
    "    lst.append(int(input()))\n",
    "    \n",
    "lst.sort()\n",
    "\n",
    "for n in lst :\n",
    "    print(n)"
   ]
  },
  {
   "cell_type": "markdown",
   "id": "10192459",
   "metadata": {},
   "source": [
    "- 선택정렬 : 항상 O(n^2)\n",
    "- 삽입정렬 : 최악의 경우 O(n^2), 최선의 경우 O(N)\n",
    "- 합병정렬 : O(NlogN)\n",
    "    - 합병정렬은 공간 복잡도가 O(N)\n",
    "    - 다른 정렬은 O(1)"
   ]
  },
  {
   "cell_type": "markdown",
   "id": "996e45ac",
   "metadata": {},
   "source": [
    "# 수 정렬하기 2\n",
    "o(nlogn)"
   ]
  },
  {
   "cell_type": "markdown",
   "id": "b3dff550",
   "metadata": {},
   "source": [
    "https://docs.python.org/ko/3/howto/sorting.html"
   ]
  },
  {
   "cell_type": "code",
   "execution_count": null,
   "id": "40742cd7",
   "metadata": {},
   "outputs": [],
   "source": []
  }
 ],
 "metadata": {
  "kernelspec": {
   "display_name": "Python 3 (ipykernel)",
   "language": "python",
   "name": "python3"
  },
  "language_info": {
   "codemirror_mode": {
    "name": "ipython",
    "version": 3
   },
   "file_extension": ".py",
   "mimetype": "text/x-python",
   "name": "python",
   "nbconvert_exporter": "python",
   "pygments_lexer": "ipython3",
   "version": "3.9.7"
  }
 },
 "nbformat": 4,
 "nbformat_minor": 5
}
