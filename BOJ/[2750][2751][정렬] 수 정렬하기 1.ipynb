{
 "cells": [
  {
   "cell_type": "markdown",
   "id": "8ce3a0a1",
   "metadata": {},
   "source": [
    "# 수 정렬하기\n",
    "o(n^2)"
   ]
  },
  {
   "cell_type": "code",
   "execution_count": 2,
   "id": "5b93a845",
   "metadata": {},
   "outputs": [
    {
     "name": "stdout",
     "output_type": "stream",
     "text": [
      "1\n",
      "2\n",
      "3\n",
      "4\n",
      "5\n"
     ]
    }
   ],
   "source": [
    "N = int(input())\n",
    "lst = []\n",
    "\n",
    "for i in range(N) :\n",
    "    lst.append(int(input()))\n",
    "    \n",
    "lst.sort()\n",
    "\n",
    "for n in lst :\n",
    "    print(n)"
   ]
  },
  {
   "cell_type": "markdown",
   "source": [
    "- 선택정렬 : 항상 O(n^2)\n",
    "- 삽입정렬 : 최악의 경우 O(n^2), 최선의 경우 O(N)\n",
    "- 합병정렬 : O(NlogN)\n",
    "    - 합병정렬은 공간 복잡도가 O(N)\n",
    "    - 다른 정렬은 O(1)"
   ],
   "metadata": {
    "collapsed": false
   }
  },
  {
   "cell_type": "markdown",
   "source": [
    "https://docs.python.org/ko/3/howto/sorting.html"
   ],
   "metadata": {
    "collapsed": false
   }
  },
  {
   "cell_type": "markdown",
   "source": [
    "# 수 정렬하기 2\n",
    "o(nlogn)"
   ],
   "metadata": {
    "collapsed": false
   }
  },
  {
   "cell_type": "code",
   "execution_count": 45,
   "id": "40742cd7",
   "metadata": {},
   "outputs": [],
   "source": [
    "def mergesort(v : list, start, end) :\n",
    "    # start, end => index\n",
    "\n",
    "    if start == end :\n",
    "        return\n",
    "    # else\n",
    "    h = (start+end) // 2\n",
    "\n",
    "    # 분할\n",
    "    mergesort(v, start, h)\n",
    "    mergesort(v, h, end)\n",
    "\n",
    "    # 합병\n",
    "    i = start\n",
    "    j= h+1\n",
    "    temp = []\n",
    "\n",
    "    while i <= h and j <= end :\n",
    "        if v[i]<= v[j]:\n",
    "            temp.append(v[i])\n",
    "            i += 1\n",
    "        else : # v[i]>v[j]\n",
    "            temp.append(v[j])\n",
    "            j += 1\n",
    "\n",
    "    # i가 먼저 다 채워졌을떄\n",
    "    while j <= end :\n",
    "        temp.append(v[j])\n",
    "        j+=1\n",
    "    # j가 먼저 다 채워졌을때\n",
    "    while i <= h :\n",
    "        temp.append(v[i])\n",
    "        i+=1\n",
    "\n",
    "    #copy\n",
    "    for k in len(temp):\n",
    "        v[k] = temp[k]\n"
   ]
  },
  {
   "cell_type": "code",
   "execution_count": 46,
   "outputs": [],
   "source": [
    "n = int(input())\n",
    "lst = []\n",
    "for i in range(n):\n",
    "    lst.append(int(input()))\n"
   ],
   "metadata": {
    "collapsed": false,
    "pycharm": {
     "name": "#%%\n"
    }
   }
  },
  {
   "cell_type": "code",
   "execution_count": 41,
   "outputs": [
    {
     "name": "stdout",
     "output_type": "stream",
     "text": [
      "[3, 2, 4, 5, 1]\n"
     ]
    }
   ],
   "source": [
    "print(lst)"
   ],
   "metadata": {
    "collapsed": false,
    "pycharm": {
     "name": "#%%\n"
    }
   }
  },
  {
   "cell_type": "code",
   "execution_count": 47,
   "outputs": [
    {
     "ename": "RecursionError",
     "evalue": "maximum recursion depth exceeded in comparison",
     "output_type": "error",
     "traceback": [
      "\u001B[1;31m---------------------------------------------------------------------------\u001B[0m",
      "\u001B[1;31mRecursionError\u001B[0m                            Traceback (most recent call last)",
      "Input \u001B[1;32mIn [47]\u001B[0m, in \u001B[0;36m<cell line: 1>\u001B[1;34m()\u001B[0m\n\u001B[1;32m----> 1\u001B[0m \u001B[43mmergesort\u001B[49m\u001B[43m(\u001B[49m\u001B[43mlst\u001B[49m\u001B[43m,\u001B[49m\u001B[43m \u001B[49m\u001B[38;5;241;43m0\u001B[39;49m\u001B[43m,\u001B[49m\u001B[43m \u001B[49m\u001B[43mn\u001B[49m\u001B[38;5;241;43m-\u001B[39;49m\u001B[38;5;241;43m1\u001B[39;49m\u001B[43m)\u001B[49m\n",
      "Input \u001B[1;32mIn [45]\u001B[0m, in \u001B[0;36mmergesort\u001B[1;34m(v, start, end)\u001B[0m\n\u001B[0;32m      7\u001B[0m h \u001B[38;5;241m=\u001B[39m (start\u001B[38;5;241m+\u001B[39mend) \u001B[38;5;241m/\u001B[39m\u001B[38;5;241m/\u001B[39m \u001B[38;5;241m2\u001B[39m\n\u001B[0;32m      9\u001B[0m \u001B[38;5;66;03m# 분할\u001B[39;00m\n\u001B[1;32m---> 10\u001B[0m \u001B[43mmergesort\u001B[49m\u001B[43m(\u001B[49m\u001B[43mv\u001B[49m\u001B[43m,\u001B[49m\u001B[43m \u001B[49m\u001B[43mstart\u001B[49m\u001B[43m,\u001B[49m\u001B[43m \u001B[49m\u001B[43mh\u001B[49m\u001B[43m)\u001B[49m\n\u001B[0;32m     11\u001B[0m mergesort(v, h, end)\n\u001B[0;32m     13\u001B[0m \u001B[38;5;66;03m# 합병\u001B[39;00m\n",
      "Input \u001B[1;32mIn [45]\u001B[0m, in \u001B[0;36mmergesort\u001B[1;34m(v, start, end)\u001B[0m\n\u001B[0;32m      7\u001B[0m h \u001B[38;5;241m=\u001B[39m (start\u001B[38;5;241m+\u001B[39mend) \u001B[38;5;241m/\u001B[39m\u001B[38;5;241m/\u001B[39m \u001B[38;5;241m2\u001B[39m\n\u001B[0;32m      9\u001B[0m \u001B[38;5;66;03m# 분할\u001B[39;00m\n\u001B[1;32m---> 10\u001B[0m \u001B[43mmergesort\u001B[49m\u001B[43m(\u001B[49m\u001B[43mv\u001B[49m\u001B[43m,\u001B[49m\u001B[43m \u001B[49m\u001B[43mstart\u001B[49m\u001B[43m,\u001B[49m\u001B[43m \u001B[49m\u001B[43mh\u001B[49m\u001B[43m)\u001B[49m\n\u001B[0;32m     11\u001B[0m mergesort(v, h, end)\n\u001B[0;32m     13\u001B[0m \u001B[38;5;66;03m# 합병\u001B[39;00m\n",
      "Input \u001B[1;32mIn [45]\u001B[0m, in \u001B[0;36mmergesort\u001B[1;34m(v, start, end)\u001B[0m\n\u001B[0;32m      9\u001B[0m \u001B[38;5;66;03m# 분할\u001B[39;00m\n\u001B[0;32m     10\u001B[0m mergesort(v, start, h)\n\u001B[1;32m---> 11\u001B[0m \u001B[43mmergesort\u001B[49m\u001B[43m(\u001B[49m\u001B[43mv\u001B[49m\u001B[43m,\u001B[49m\u001B[43m \u001B[49m\u001B[43mh\u001B[49m\u001B[43m,\u001B[49m\u001B[43m \u001B[49m\u001B[43mend\u001B[49m\u001B[43m)\u001B[49m\n\u001B[0;32m     13\u001B[0m \u001B[38;5;66;03m# 합병\u001B[39;00m\n\u001B[0;32m     14\u001B[0m i \u001B[38;5;241m=\u001B[39m start\n",
      "Input \u001B[1;32mIn [45]\u001B[0m, in \u001B[0;36mmergesort\u001B[1;34m(v, start, end)\u001B[0m\n\u001B[0;32m      9\u001B[0m \u001B[38;5;66;03m# 분할\u001B[39;00m\n\u001B[0;32m     10\u001B[0m mergesort(v, start, h)\n\u001B[1;32m---> 11\u001B[0m \u001B[43mmergesort\u001B[49m\u001B[43m(\u001B[49m\u001B[43mv\u001B[49m\u001B[43m,\u001B[49m\u001B[43m \u001B[49m\u001B[43mh\u001B[49m\u001B[43m,\u001B[49m\u001B[43m \u001B[49m\u001B[43mend\u001B[49m\u001B[43m)\u001B[49m\n\u001B[0;32m     13\u001B[0m \u001B[38;5;66;03m# 합병\u001B[39;00m\n\u001B[0;32m     14\u001B[0m i \u001B[38;5;241m=\u001B[39m start\n",
      "    \u001B[1;31m[... skipping similar frames: mergesort at line 11 (2966 times)]\u001B[0m\n",
      "Input \u001B[1;32mIn [45]\u001B[0m, in \u001B[0;36mmergesort\u001B[1;34m(v, start, end)\u001B[0m\n\u001B[0;32m      9\u001B[0m \u001B[38;5;66;03m# 분할\u001B[39;00m\n\u001B[0;32m     10\u001B[0m mergesort(v, start, h)\n\u001B[1;32m---> 11\u001B[0m \u001B[43mmergesort\u001B[49m\u001B[43m(\u001B[49m\u001B[43mv\u001B[49m\u001B[43m,\u001B[49m\u001B[43m \u001B[49m\u001B[43mh\u001B[49m\u001B[43m,\u001B[49m\u001B[43m \u001B[49m\u001B[43mend\u001B[49m\u001B[43m)\u001B[49m\n\u001B[0;32m     13\u001B[0m \u001B[38;5;66;03m# 합병\u001B[39;00m\n\u001B[0;32m     14\u001B[0m i \u001B[38;5;241m=\u001B[39m start\n",
      "Input \u001B[1;32mIn [45]\u001B[0m, in \u001B[0;36mmergesort\u001B[1;34m(v, start, end)\u001B[0m\n\u001B[0;32m      7\u001B[0m h \u001B[38;5;241m=\u001B[39m (start\u001B[38;5;241m+\u001B[39mend) \u001B[38;5;241m/\u001B[39m\u001B[38;5;241m/\u001B[39m \u001B[38;5;241m2\u001B[39m\n\u001B[0;32m      9\u001B[0m \u001B[38;5;66;03m# 분할\u001B[39;00m\n\u001B[1;32m---> 10\u001B[0m \u001B[43mmergesort\u001B[49m\u001B[43m(\u001B[49m\u001B[43mv\u001B[49m\u001B[43m,\u001B[49m\u001B[43m \u001B[49m\u001B[43mstart\u001B[49m\u001B[43m,\u001B[49m\u001B[43m \u001B[49m\u001B[43mh\u001B[49m\u001B[43m)\u001B[49m\n\u001B[0;32m     11\u001B[0m mergesort(v, h, end)\n\u001B[0;32m     13\u001B[0m \u001B[38;5;66;03m# 합병\u001B[39;00m\n",
      "Input \u001B[1;32mIn [45]\u001B[0m, in \u001B[0;36mmergesort\u001B[1;34m(v, start, end)\u001B[0m\n\u001B[0;32m      1\u001B[0m \u001B[38;5;28;01mdef\u001B[39;00m \u001B[38;5;21mmergesort\u001B[39m(v : \u001B[38;5;28mlist\u001B[39m, start, end) :\n\u001B[0;32m      2\u001B[0m     \u001B[38;5;66;03m# start, end => index\u001B[39;00m\n\u001B[1;32m----> 4\u001B[0m     \u001B[38;5;28;01mif\u001B[39;00m \u001B[43mstart\u001B[49m\u001B[43m \u001B[49m\u001B[38;5;241;43m==\u001B[39;49m\u001B[43m \u001B[49m\u001B[43mend\u001B[49m :\n\u001B[0;32m      5\u001B[0m         \u001B[38;5;28;01mreturn\u001B[39;00m\n\u001B[0;32m      6\u001B[0m     \u001B[38;5;66;03m# else\u001B[39;00m\n",
      "\u001B[1;31mRecursionError\u001B[0m: maximum recursion depth exceeded in comparison"
     ]
    }
   ],
   "source": [
    "mergesort(lst, 0, n-1)"
   ],
   "metadata": {
    "collapsed": false,
    "pycharm": {
     "name": "#%%\n"
    }
   }
  },
  {
   "cell_type": "markdown",
   "source": [
    "왜 안될까??\n",
    "\n",
    "maximum recursion depth exceeded in comparison\n",
    "or\n",
    "index error가 나오는데\n",
    "이유를 모르겠음...\n"
   ],
   "metadata": {
    "collapsed": false
   }
  },
  {
   "cell_type": "markdown",
   "source": [
    "#### Another way"
   ],
   "metadata": {
    "collapsed": false
   }
  },
  {
   "cell_type": "code",
   "execution_count": 48,
   "outputs": [
    {
     "name": "stdout",
     "output_type": "stream",
     "text": [
      "[1, 2, 3, 4, 5]\n"
     ]
    }
   ],
   "source": [
    "def merge_sort(v : list):\n",
    "    n = len(v)\n",
    "\n",
    "    if n<=1 : return\n",
    "\n",
    "    mid = n // 2\n",
    "    left = v[:mid]\n",
    "    right = v[mid:]\n",
    "\n",
    "    merge_sort(left)\n",
    "    merge_sort(right)\n",
    "\n",
    "    i = 0\n",
    "    j = 0\n",
    "    temp = []\n",
    "\n",
    "    while i < len(left) and j < len(right) :\n",
    "        if left[i] <= right[j] :\n",
    "            temp.append(left[i])\n",
    "            i += 1\n",
    "        else :\n",
    "            temp.append(right[j])\n",
    "            j += 1\n",
    "\n",
    "    while i < len(left):\n",
    "        temp.append(left[i])\n",
    "        i += 1\n",
    "    while j < len(right) :\n",
    "        temp.append(right[j])\n",
    "        j += 1\n",
    "\n",
    "    for k in range(len(temp)):\n",
    "        v[k] = temp[k]\n",
    "\n",
    "if __name__ == '__main__':\n",
    "    n = int(input())\n",
    "    numbers = [int(input()) for i in range(n)]\n",
    "\n",
    "    merge_sort(numbers)\n",
    "\n",
    "    print(numbers)"
   ],
   "metadata": {
    "collapsed": false,
    "pycharm": {
     "name": "#%%\n"
    }
   }
  },
  {
   "cell_type": "code",
   "execution_count": null,
   "outputs": [],
   "source": [],
   "metadata": {
    "collapsed": false,
    "pycharm": {
     "name": "#%%\n"
    }
   }
  }
 ],
 "metadata": {
  "kernelspec": {
   "display_name": "Python 3 (ipykernel)",
   "language": "python",
   "name": "python3"
  },
  "language_info": {
   "codemirror_mode": {
    "name": "ipython",
    "version": 3
   },
   "file_extension": ".py",
   "mimetype": "text/x-python",
   "name": "python",
   "nbconvert_exporter": "python",
   "pygments_lexer": "ipython3",
   "version": "3.9.7"
  }
 },
 "nbformat": 4,
 "nbformat_minor": 5
}