{
 "cells": [
  {
   "cell_type": "code",
   "execution_count": 5,
   "id": "7029e073",
   "metadata": {
    "scrolled": true
   },
   "outputs": [
    {
     "name": "stdout",
     "output_type": "stream",
     "text": [
      "7\n",
      "3 10\n",
      "5 20\n",
      "1 10\n",
      "1 20\n",
      "2 15\n",
      "4 40\n",
      "2 200\n"
     ]
    }
   ],
   "source": [
    "N = int(input())\n",
    "\n",
    "schedule = []\n",
    "\n",
    "for _ in range(N) :\n",
    "    schedule.append(list(map(int, input().split())))"
   ]
  },
  {
   "cell_type": "code",
   "execution_count": 10,
   "id": "5bcc6b8e",
   "metadata": {},
   "outputs": [
    {
     "name": "stdout",
     "output_type": "stream",
     "text": [
      "3 10\n",
      "5 20\n",
      "1 10\n",
      "1 20\n",
      "2 15\n",
      "4 40\n",
      "2 200\n"
     ]
    }
   ],
   "source": [
    "T = []\n",
    "P = []\n",
    "\n",
    "for _ in range(N):\n",
    "    t, p = map(int, input().split())\n",
    "    T.append(t)\n",
    "    P.append(p)"
   ]
  },
  {
   "cell_type": "markdown",
   "id": "ccc3215d",
   "metadata": {},
   "source": [
    "### schedule"
   ]
  },
  {
   "cell_type": "code",
   "execution_count": 15,
   "id": "a23480f8",
   "metadata": {},
   "outputs": [
    {
     "data": {
      "text/plain": [
       "[0, 0, 0, 0, 0, 0, 0]"
      ]
     },
     "execution_count": 15,
     "metadata": {},
     "output_type": "execute_result"
    }
   ],
   "source": [
    "plan = [0 for _ in range(N)]\n",
    "plan"
   ]
  },
  {
   "cell_type": "code",
   "execution_count": null,
   "id": "8988303b",
   "metadata": {},
   "outputs": [],
   "source": [
    "schedule"
   ]
  },
  {
   "cell_type": "markdown",
   "id": "afea7fd6",
   "metadata": {},
   "source": [
    "# 동적계획법 DP(Dynamic Programming)\n",
    "\n",
    "# & 거꾸로"
   ]
  },
  {
   "cell_type": "code",
   "execution_count": 11,
   "id": "192ff9bf",
   "metadata": {},
   "outputs": [
    {
     "name": "stdout",
     "output_type": "stream",
     "text": [
      "6\n",
      "5\n",
      "4\n",
      "3\n",
      "2\n",
      "1\n",
      "0\n"
     ]
    }
   ],
   "source": [
    "for i in range(N-1, -1 ,-1):\n",
    "    print(i)"
   ]
  },
  {
   "cell_type": "code",
   "execution_count": null,
   "id": "f8aa6891",
   "metadata": {},
   "outputs": [],
   "source": []
  },
  {
   "cell_type": "code",
   "execution_count": 18,
   "id": "f4f401a8",
   "metadata": {},
   "outputs": [],
   "source": [
    "for i in range(N-1, -1, -1) :\n",
    "    if i + T[i] <= N : ## 퇴사까지 수행할 수 있는 Task 인가??\n",
    "        plan[i] = max(plan[i+1], plan[i+T[i]]+P[i])\n",
    "        # plan[i+1] => 해당 날짜에 일을 안했을때 = 전날까지 번 금액이 그대로 유지\n",
    "        # plan[i+T[i]]+P[i]\n",
    "        # => 해당 날짜에 일을하면 그 일을하는 동안에는 다른 일을 못하니 그 금액은 빼고,\n",
    "        # 그 일을 하기 전 금액을 더해서?\n",
    "        # 거꾸로하니 매우 헷갈린다."
   ]
  },
  {
   "cell_type": "code",
   "execution_count": 19,
   "id": "92b2b9ff",
   "metadata": {},
   "outputs": [
    {
     "data": {
      "text/plain": [
       "[45, 45, 45, 35, 15, 0, 0]"
      ]
     },
     "execution_count": 19,
     "metadata": {},
     "output_type": "execute_result"
    }
   ],
   "source": [
    "plan"
   ]
  },
  {
   "cell_type": "markdown",
   "id": "29bf532c",
   "metadata": {},
   "source": [
    "# summarize"
   ]
  },
  {
   "cell_type": "code",
   "execution_count": 29,
   "id": "03af871f",
   "metadata": {
    "scrolled": true
   },
   "outputs": [
    {
     "name": "stdout",
     "output_type": "stream",
     "text": [
      "7\n",
      "10 10\n",
      "5 20\n",
      "1 10\n",
      "1 20\n",
      "2 15\n",
      "4 40\n",
      "2 200\n",
      "45\n"
     ]
    }
   ],
   "source": [
    "N = int(input())\n",
    "\n",
    "T = []\n",
    "P = []\n",
    "\n",
    "for _ in range(N):\n",
    "    t, p = map(int, input().split())\n",
    "    T.append(t)\n",
    "    P.append(p)\n",
    "    \n",
    "plan = [0 for _ in range(N+5)]\n",
    "\n",
    "for i in range(N-1, -1, -1) :\n",
    "    if i + T[i] <= N : ## 퇴사까지 수행할 수 있는 Task 인가??\n",
    "        plan[i] = max(plan[i+1], plan[i+T[i]]+P[i])\n",
    "    else : ### 마지막날 태스트는 하루 걸려서 수행했는데, 그 전날 태스크는 3일걸려서 못하는 경우\n",
    "        plan[i] = plan[i+1]\n",
    "print(plan[0])"
   ]
  },
  {
   "cell_type": "code",
   "execution_count": 31,
   "id": "f7c9b20c",
   "metadata": {
    "scrolled": true
   },
   "outputs": [
    {
     "data": {
      "text/plain": [
       "[45, 45, 45, 35, 15, 0, 0, 0, 0, 0, 0, 0]"
      ]
     },
     "execution_count": 31,
     "metadata": {},
     "output_type": "execute_result"
    }
   ],
   "source": [
    "plan"
   ]
  },
  {
   "cell_type": "code",
   "execution_count": 34,
   "id": "e8fd5c6c",
   "metadata": {},
   "outputs": [
    {
     "name": "stdout",
     "output_type": "stream",
     "text": [
      "7\n",
      "10 10\n",
      "5 20\n",
      "1 10\n",
      "1 20\n",
      "2 15\n",
      "4 40\n",
      "2 200\n",
      "45\n"
     ]
    }
   ],
   "source": [
    "# else문을 작성하지 않은 경우\n",
    "N = int(input())\n",
    "\n",
    "T = []\n",
    "P = []\n",
    "\n",
    "for _ in range(N):\n",
    "    t, p = map(int, input().split())\n",
    "    T.append(t)\n",
    "    P.append(p)\n",
    "    \n",
    "plan = [0 for _ in range(N+5)]\n",
    "\n",
    "for i in range(N-1, -1, -1) :\n",
    "    if i + T[i] <= N : ## 퇴사까지 수행할 수 있는 Task 인가??\n",
    "        plan[i] = max(plan[i+1], plan[i+T[i]]+P[i])\n",
    "    \n",
    "print(plan[0])"
   ]
  },
  {
   "cell_type": "code",
   "execution_count": 35,
   "id": "8c90e2f0",
   "metadata": {
    "scrolled": true
   },
   "outputs": [
    {
     "data": {
      "text/plain": [
       "[0, 45, 45, 35, 15, 0, 0, 0, 0, 0, 0, 0]"
      ]
     },
     "execution_count": 35,
     "metadata": {},
     "output_type": "execute_result"
    }
   ],
   "source": [
    "plan # => 그 전 날 태스크가 반영이 안됨"
   ]
  },
  {
   "cell_type": "code",
   "execution_count": 38,
   "id": "2903c9ab",
   "metadata": {},
   "outputs": [
    {
     "name": "stdout",
     "output_type": "stream",
     "text": [
      "1\n",
      "2 100\n",
      "[0, 0, 0, 0, 0, 0]\n"
     ]
    }
   ],
   "source": [
    "# max(plan) 쓰면 틀리는 이유는?????\n",
    "N = int(input())\n",
    "\n",
    "T = []\n",
    "P = []\n",
    "\n",
    "for _ in range(N):\n",
    "    t, p = map(int, input().split())\n",
    "    T.append(t)\n",
    "    P.append(p)\n",
    "    \n",
    "plan = [0 for _ in range(N+5)]\n",
    "\n",
    "for i in range(N-1, -1, -1) :\n",
    "    if i + T[i] <= N : ## 퇴사까지 수행할 수 있는 Task 인가??\n",
    "        plan[i] = max(plan[i+1], plan[i+T[i]]+P[i])\n",
    "    \n",
    "print(plan)"
   ]
  },
  {
   "cell_type": "code",
   "execution_count": null,
   "id": "5e357dad",
   "metadata": {},
   "outputs": [],
   "source": []
  },
  {
   "cell_type": "code",
   "execution_count": null,
   "id": "244841b3",
   "metadata": {},
   "outputs": [],
   "source": []
  }
 ],
 "metadata": {
  "kernelspec": {
   "display_name": "Python [conda env:image] *",
   "language": "python",
   "name": "conda-env-image-py"
  },
  "language_info": {
   "codemirror_mode": {
    "name": "ipython",
    "version": 3
   },
   "file_extension": ".py",
   "mimetype": "text/x-python",
   "name": "python",
   "nbconvert_exporter": "python",
   "pygments_lexer": "ipython3",
   "version": "3.8.13"
  }
 },
 "nbformat": 4,
 "nbformat_minor": 5
}
