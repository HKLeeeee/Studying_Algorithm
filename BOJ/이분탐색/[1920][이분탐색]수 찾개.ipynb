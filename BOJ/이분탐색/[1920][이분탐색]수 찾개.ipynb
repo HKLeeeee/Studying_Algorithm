{
 "cells": [
  {
   "cell_type": "markdown",
   "source": [
    "# 수 찾기\n",
    "문제\n",
    "N개의 정수 A[1], A[2], …, A[N]이 주어져 있을 때, 이 안에 X라는 정수가 존재하는지 알아내는 프로그램을 작성하시오.\n",
    "\n",
    "입력\n",
    "첫째 줄에 자연수 N(1 ≤ N ≤ 100,000)이 주어진다. 다음 줄에는 N개의 정수 A[1], A[2], …, A[N]이 주어진다. 다음 줄에는 M(1 ≤ M ≤ 100,000)이 주어진다. 다음 줄에는 M개의 수들이 주어지는데, 이 수들이 A안에 존재하는지 알아내면 된다. 모든 정수의 범위는 -231 보다 크거나 같고 231보다 작다."
   ],
   "metadata": {
    "collapsed": false
   }
  },
  {
   "cell_type": "markdown",
   "source": [
    "### Binary Search Tree 구현"
   ],
   "metadata": {
    "collapsed": false
   }
  },
  {
   "cell_type": "code",
   "execution_count": 12,
   "metadata": {
    "collapsed": true
   },
   "outputs": [
    {
     "name": "stdout",
     "output_type": "stream",
     "text": [
      "1\n",
      "0\n",
      "0\n",
      "0\n",
      "1\n"
     ]
    }
   ],
   "source": [
    "class BST:\n",
    "    def __init__(self):\n",
    "        self.head = None\n",
    "\n",
    "    class Node:\n",
    "        def __init__(self, data):\n",
    "            self.left = None\n",
    "            self.right = None\n",
    "            self.data = data\n",
    "\n",
    "    def insert_data(self, data):\n",
    "        if self.head is None:\n",
    "            self.head = BST.Node(data)\n",
    "        else :\n",
    "            findNode = self.head\n",
    "            while True:\n",
    "                if self.head.data >= data :\n",
    "                    if findNode.left is None:\n",
    "                        findNode.left = BST.Node(data)\n",
    "                        break\n",
    "                    else :\n",
    "                        findNode = findNode.left\n",
    "                else :\n",
    "                    if findNode.right is None:\n",
    "                        findNode.right = BST.Node(data)\n",
    "                        break\n",
    "                    else:\n",
    "                        findNode = findNode.right\n",
    "\n",
    "        return True\n",
    "\n",
    "    def find(self, data):\n",
    "        if self.head is None :\n",
    "            return False\n",
    "        else :\n",
    "            findNode = self.head\n",
    "            while True:\n",
    "                if findNode.data > data :\n",
    "                    if findNode.left is None:\n",
    "                        return False\n",
    "                    else :\n",
    "                        findNode = findNode.left\n",
    "                elif findNode.data < data :\n",
    "                    if findNode.right is None:\n",
    "                        return False\n",
    "                    else :\n",
    "                        findNode = findNode.right\n",
    "                else:\n",
    "                    return True\n",
    "            return False\n",
    "\n",
    "n = int(input())\n",
    "first = list(map(int, input().split()))\n",
    "tree = BST()\n",
    "for i in first:\n",
    "    tree.insert_data(i)\n",
    "n = int(input())\n",
    "second = list(map(int,input().split()))\n",
    "for i in second:\n",
    "    if tree.find(i):\n",
    "        print(1)\n",
    "    else :\n",
    "        print(0)"
   ]
  },
  {
   "cell_type": "code",
   "execution_count": 24,
   "outputs": [
    {
     "name": "stdout",
     "output_type": "stream",
     "text": [
      "1\n",
      "1\n",
      "0\n",
      "0\n",
      "1\n"
     ]
    }
   ],
   "source": [
    "class Node:\n",
    "        def __init__(self, data):\n",
    "            self.left = None\n",
    "            self.right = None\n",
    "            self.data = data\n",
    "\n",
    "class BST:\n",
    "    def __init__(self):\n",
    "        self.head = None\n",
    "    def insert_data(self, data):\n",
    "        if self.head is None:\n",
    "            self.head = Node(data)\n",
    "        else :\n",
    "            findNode = self.head\n",
    "            while True:\n",
    "                if findNode.data >= data :\n",
    "                    if findNode.left is None:\n",
    "                        findNode.left = Node(data)\n",
    "                        break\n",
    "                    else :\n",
    "                        findNode = findNode.left\n",
    "                else :\n",
    "                    if findNode.right is None:\n",
    "                        findNode.right = Node(data)\n",
    "                        break\n",
    "                    else:\n",
    "                        findNode = findNode.right\n",
    "\n",
    "        return True\n",
    "\n",
    "    def find(self, data):\n",
    "        if self.head is None :\n",
    "            return False\n",
    "        else :\n",
    "            findNode = self.head\n",
    "            while True:\n",
    "                if findNode.data > data :\n",
    "                    if findNode.left is None:\n",
    "                        return False\n",
    "                    else :\n",
    "                        findNode = findNode.left\n",
    "                elif findNode.data < data :\n",
    "                    if findNode.right is None:\n",
    "                        return False\n",
    "                    else :\n",
    "                        findNode = findNode.right\n",
    "                else:\n",
    "                    return True\n",
    "            return False\n",
    "\n",
    "n = int(input())\n",
    "first = list(map(int, input().split()))\n",
    "tree = BST()\n",
    "for i in first:\n",
    "    tree.insert_data(i)\n",
    "n = int(input())\n",
    "second = list(map(int,input().split()))\n",
    "for i in second:\n",
    "    if tree.find(i):\n",
    "        print(1)\n",
    "    else :\n",
    "        print(0)"
   ],
   "metadata": {
    "collapsed": false,
    "pycharm": {
     "name": "#%%\n"
    }
   }
  },
  {
   "cell_type": "markdown",
   "source": [
    "-> 시간초과"
   ],
   "metadata": {
    "collapsed": false
   }
  },
  {
   "cell_type": "code",
   "execution_count": 2,
   "outputs": [
    {
     "name": "stdout",
     "output_type": "stream",
     "text": [
      "1\n",
      "1\n",
      "0\n",
      "0\n",
      "1\n"
     ]
    }
   ],
   "source": [
    "n = int(input())\n",
    "first = list(map(int, input().split()))\n",
    "n = int(input())\n",
    "second = list(map(int,input().split()))\n",
    "for i in second:\n",
    "    if i in first:\n",
    "        print(1)\n",
    "    else :\n",
    "        print(0)"
   ],
   "metadata": {
    "collapsed": false,
    "pycharm": {
     "name": "#%%\n"
    }
   }
  },
  {
   "cell_type": "markdown",
   "source": [
    "=> 시간초과"
   ],
   "metadata": {
    "collapsed": false
   }
  },
  {
   "cell_type": "code",
   "execution_count": 43,
   "outputs": [
    {
     "name": "stdout",
     "output_type": "stream",
     "text": [
      "1\n",
      "1\n",
      "0\n",
      "0\n",
      "1\n"
     ]
    }
   ],
   "source": [
    "n = int(input())\n",
    "first = sorted(list(map(int, input().split())))\n",
    "n = int(input())\n",
    "second = list(map(int,input().split()))\n",
    "\n",
    "def BS(find, v, start, end):\n",
    "    if start > end :\n",
    "        return False\n",
    "    mid = (start + end) // 2\n",
    "    if v[mid]==find:\n",
    "        return True\n",
    "    elif v[mid]>find:\n",
    "        return BS(find, v, start, mid-1)\n",
    "    else :\n",
    "        return BS(find, v, mid+1, end)\n",
    "\n",
    "for i in second:\n",
    "    if BS(i, first, 0, len(first)-1):\n",
    "        print(1)\n",
    "    else :\n",
    "        print(0)"
   ],
   "metadata": {
    "collapsed": false,
    "pycharm": {
     "name": "#%%\n"
    }
   }
  },
  {
   "cell_type": "code",
   "execution_count": 40,
   "outputs": [],
   "source": [
    "first = sorted(list(map(int, input().split())))"
   ],
   "metadata": {
    "collapsed": false,
    "pycharm": {
     "name": "#%%\n"
    }
   }
  },
  {
   "cell_type": "code",
   "execution_count": 41,
   "outputs": [
    {
     "data": {
      "text/plain": "[1, 2, 3, 4, 5]"
     },
     "execution_count": 41,
     "metadata": {},
     "output_type": "execute_result"
    }
   ],
   "source": [
    "first"
   ],
   "metadata": {
    "collapsed": false,
    "pycharm": {
     "name": "#%%\n"
    }
   }
  },
  {
   "cell_type": "code",
   "execution_count": null,
   "outputs": [],
   "source": [],
   "metadata": {
    "collapsed": false,
    "pycharm": {
     "name": "#%%\n"
    }
   }
  }
 ],
 "metadata": {
  "kernelspec": {
   "display_name": "Python 3",
   "language": "python",
   "name": "python3"
  },
  "language_info": {
   "codemirror_mode": {
    "name": "ipython",
    "version": 2
   },
   "file_extension": ".py",
   "mimetype": "text/x-python",
   "name": "python",
   "nbconvert_exporter": "python",
   "pygments_lexer": "ipython2",
   "version": "2.7.6"
  }
 },
 "nbformat": 4,
 "nbformat_minor": 0
}