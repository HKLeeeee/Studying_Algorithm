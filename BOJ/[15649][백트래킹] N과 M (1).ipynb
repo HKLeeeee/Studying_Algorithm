{
 "cells": [
  {
   "cell_type": "markdown",
   "source": [
    "# N과 M (1)\n",
    "\n",
    "자연수 N과 M이 주어졌을 때, 아래 조건을 만족하는 길이가 M인 수열을 모두 구하는 프로그램을 작성하시오.\n",
    "\n",
    "1부터 N까지 자연수 중에서 중복 없이 M개를 고른 수열"
   ],
   "metadata": {
    "collapsed": false
   }
  },
  {
   "cell_type": "code",
   "execution_count": 3,
   "metadata": {
    "collapsed": true
   },
   "outputs": [],
   "source": [
    "n, m = map(int,input().split())\n",
    "anw = []\n",
    "\n",
    "def backtracking():\n",
    "    if len(anw) == m :\n",
    "        print(' '.join(map(str, anw)))\n",
    "        return\n",
    "\n",
    "    for i in range(1, n+1):\n",
    "        if i not in anw:\n",
    "            anw.append(i)\n",
    "            backtracking()\n",
    "            anw.pop()"
   ]
  },
  {
   "cell_type": "code",
   "execution_count": null,
   "outputs": [],
   "source": [
    "from itertools import permutations\n",
    "N, M = map(int, input().split())\n",
    "P = permutations(range(1, N+1), M)  # iter(tuple)\n",
    "for i in P:\n",
    "    print(' '.join(map(str, i)))  # tuple -> str"
   ],
   "metadata": {
    "collapsed": false,
    "pycharm": {
     "name": "#%%\n"
    }
   }
  },
  {
   "cell_type": "markdown",
   "source": [
    "# 백트래킹\n",
    "\n",
    "- 백트래킹 또는 퇴각 검색이라고 부름\n",
    "- 제약 조건 만족 문제에서 해를 찾기위한 전략\n",
    "- 해를 찾기위해, 후보군에 제약 조건을 점진적으로 체크하다가, 해당 후보군이 제약 조건을 만족할 수 없다고 판단하는 즉시 뒤로 돌아가 다음 해를 탐색한다.\n",
    "- 각 후보군을 DFS로 탐색\n",
    "- Pruning 가지치기 : 조건에 맞지 않으면 다른 루트로 돌아가서 탐색시간을 절약하는 방법\n",
    "- 상태공간트리로 표현"
   ],
   "metadata": {
    "collapsed": false
   }
  },
  {
   "cell_type": "code",
   "execution_count": 3,
   "outputs": [
    {
     "name": "stdout",
     "output_type": "stream",
     "text": [
      "1\n",
      "2\n",
      "3\n"
     ]
    }
   ],
   "source": [
    "N, M = map(int, input().split())\n",
    "anw = []\n",
    "\n",
    "def my_func():\n",
    "    if len(anw) == M :\n",
    "        print(' '.join(map(str, anw)))\n",
    "        return\n",
    "\n",
    "    for i in range(1, N+1) :\n",
    "        if i not in anw :\n",
    "            anw.append(i)\n",
    "            my_func()\n",
    "            anw.pop()\n",
    "my_func()"
   ],
   "metadata": {
    "collapsed": false,
    "pycharm": {
     "name": "#%%\n"
    }
   }
  },
  {
   "cell_type": "markdown",
   "source": [
    "[파이썬 코드 시각화](https://pythontutor.com/)"
   ],
   "metadata": {
    "collapsed": false
   }
  },
  {
   "cell_type": "code",
   "execution_count": 6,
   "outputs": [
    {
     "name": "stdout",
     "output_type": "stream",
     "text": [
      "[[0, 0], [1, 1], [2, 2], [3, 3]]\n"
     ]
    }
   ],
   "source": [
    "# N - Queen 문제\n",
    "n = 4\n",
    "candidate = []\n",
    "def isAvailable(row, col) :\n",
    "    for loc in candidate:\n",
    "        if loc[0] == col or loc[1] == row or (abs(loc[0]-col) == (loc[1]-row)) :\n",
    "            return False\n",
    "    return True\n",
    "\n",
    "def dfs(row):\n",
    "    if row == n :\n",
    "        print(candidate)\n",
    "        return\n",
    "\n",
    "    for col in range(n):\n",
    "        if isAvailable(row, col) :\n",
    "            candidate.append([row, col])\n",
    "            dfs(row+1)\n",
    "            candidate.pop()\n",
    "\n",
    "dfs(0)\n"
   ],
   "metadata": {
    "collapsed": false,
    "pycharm": {
     "name": "#%%\n"
    }
   }
  },
  {
   "cell_type": "code",
   "execution_count": null,
   "outputs": [],
   "source": [],
   "metadata": {
    "collapsed": false,
    "pycharm": {
     "name": "#%%\n"
    }
   }
  }
 ],
 "metadata": {
  "kernelspec": {
   "display_name": "Python 3",
   "language": "python",
   "name": "python3"
  },
  "language_info": {
   "codemirror_mode": {
    "name": "ipython",
    "version": 2
   },
   "file_extension": ".py",
   "mimetype": "text/x-python",
   "name": "python",
   "nbconvert_exporter": "python",
   "pygments_lexer": "ipython2",
   "version": "2.7.6"
  }
 },
 "nbformat": 4,
 "nbformat_minor": 0
}