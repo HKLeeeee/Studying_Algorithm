{
 "cells": [
  {
   "cell_type": "markdown",
   "source": [
    "# 별 찍기 10"
   ],
   "metadata": {
    "collapsed": false,
    "pycharm": {
     "name": "#%% md\n"
    }
   }
  },
  {
   "cell_type": "markdown",
   "source": [
    "재귀적인 패턴으로 별을 찍어 보자. N이 3의 거듭제곱(3, 9, 27, ...)이라고 할 때, 크기 N의 패턴은 N×N 정사각형 모양이다.\n",
    "\n",
    "크기 3의 패턴은 가운데에 공백이 있고, 가운데를 제외한 모든 칸에 별이 하나씩 있는 패턴이다.\n",
    "\n",
    "```python\n",
    "***\n",
    "* *\n",
    "***\n",
    "```\n",
    "\n",
    "N이 3보다 클 경우, 크기 N의 패턴은 공백으로 채워진 가운데의 (N/3)×(N/3) 정사각형을 크기 N/3의 패턴으로 둘러싼 형태이다. 예를 들어 크기 27의 패턴은 예제 출력 1과 같다."
   ],
   "metadata": {
    "collapsed": false
   }
  },
  {
   "cell_type": "code",
   "execution_count": 38,
   "outputs": [],
   "source": [
    "def pattern(n):\n",
    "    star = [[1,1,1],[1,0,1],[1,1,1]]\n",
    "    blank = [[] for i in range(3)]\n",
    "    if n//3 == 1 : # 탈출 조건\n",
    "        return star\n",
    "    else :\n",
    "        re = pattern(n//3)\n",
    "        for i in star :\n",
    "            if i == 1 :\n",
    "                star[i] = re\n",
    "            else :\n",
    "                star[i] = blank"
   ],
   "metadata": {
    "collapsed": false,
    "pycharm": {
     "name": "#%%\n"
    }
   }
  },
  {
   "cell_type": "markdown",
   "source": [
    "iterator로 다차원 배열에 접근해서 틀에 계속 끼워넣고 싶었는데,\n",
    "이터레이터는 이터러블 객체를 가르키기만 할 뿐 내용을 변경할 수 없어서 x\n",
    "심지어 다차원 리스트를 계속해서 넣게되면 숫자가 커졌을때 너무너무 다차원이 됨"
   ],
   "metadata": {
    "collapsed": false,
    "pycharm": {
     "name": "#%% md\n"
    }
   }
  },
  {
   "cell_type": "code",
   "execution_count": 36,
   "outputs": [
    {
     "name": "stdout",
     "output_type": "stream",
     "text": [
      "*********\n",
      "* ** ** *\n",
      "*********\n",
      "***   ***\n",
      "* *   * *\n",
      "***   ***\n",
      "*********\n",
      "* ** ** *\n",
      "*********\n"
     ]
    }
   ],
   "source": [
    "def draw_star(num , star):\n",
    "    if num == 3:\n",
    "        return\n",
    "\n",
    "    else :\n",
    "        a = num//3\n",
    "        draw_star(a, star)\n",
    "\n",
    "        for i in range(3):\n",
    "            for j in range(3):\n",
    "                if i == 1 and j == 1:\n",
    "                    continue\n",
    "                for k in range(a):\n",
    "                    star[a*i+k][a*j:a*j+a] = star[k][0:a] # 핵심!!\n",
    "\n",
    "\n",
    "N = int(input())\n",
    "# NxN 리스트 생성\n",
    "Map = [[' ' for i in range(N)] for i in range(N)]\n",
    "Map[0][:3], Map[2][:3] = ['*', '*', '*'], ['*', '*', '*']\n",
    "Map[1][:3] = ['*', ' ', '*']\n",
    "\n",
    "draw_star(N, Map)\n",
    "\n",
    "# 최종 별 찍기 출력\n",
    "for i in Map:\n",
    "    for j in i:\n",
    "        print(j,end='')\n",
    "    print('')\n"
   ],
   "metadata": {
    "collapsed": false,
    "pycharm": {
     "name": "#%%\n"
    }
   }
  },
  {
   "cell_type": "markdown",
   "source": [
    "출처 : https://cool-developer.tistory.com/31\n",
    "\n",
    "일단 뭔소린지는 알겠는데\n",
    "저 핵심 부분이 너무 복잡해서 이해가 안됨"
   ],
   "metadata": {
    "collapsed": false,
    "pycharm": {
     "name": "#%% md\n"
    }
   }
  },
  {
   "cell_type": "code",
   "execution_count": 39,
   "outputs": [
    {
     "name": "stdout",
     "output_type": "stream",
     "text": [
      "*********\n",
      "* ** ** *\n",
      "*********\n",
      "***   ***\n",
      "* *   * *\n",
      "***   ***\n",
      "*********\n",
      "* ** ** *\n",
      "*********\n"
     ]
    }
   ],
   "source": [
    "def star(n, x) :\n",
    "    if n == 3 :\n",
    "        return x\n",
    "    else :\n",
    "        out = []\n",
    "        # 전달받은 리스트를 3X3배로 뿔리는 과정.\n",
    "        for i in x:\n",
    "            out.append(i*3)\n",
    "        for i in x:\n",
    "            out.append(i+' '*len(x)+i)\n",
    "        for i in x :\n",
    "            out.append(i*3)\n",
    "        # 재귀\n",
    "        return star(n//3, out)\n",
    "\n",
    "n = int(input())\n",
    "first = ['***', '* *', '***']\n",
    "result = star(n, first)\n",
    "for i in result :\n",
    "    print(i)"
   ],
   "metadata": {
    "collapsed": false,
    "pycharm": {
     "name": "#%%\n"
    }
   }
  },
  {
   "cell_type": "markdown",
   "source": [
    "출처 : https://imgzon.tistory.com/37\n",
    "내가 처음 생각했던 구조와 가장 비슷한 풀이\n",
    "한 줄 한 줄을 리스트로 생각했던 것과 달리 문자열로 표시하여서 간단해졌고,\n",
    "계속 변경되는 리스트를 어떻게 재귀적으로 전달할지 방법을 모르고 있었는데 x, out으로 잘 표현되어있다."
   ],
   "metadata": {
    "collapsed": false,
    "pycharm": {
     "name": "#%% md\n"
    }
   }
  },
  {
   "cell_type": "markdown",
   "source": [
    "재귀 머리 터질꺼같다"
   ],
   "metadata": {
    "collapsed": false,
    "pycharm": {
     "name": "#%% md\n"
    }
   }
  },
  {
   "cell_type": "code",
   "execution_count": 40,
   "outputs": [
    {
     "name": "stdout",
     "output_type": "stream",
     "text": [
      "***************************\n",
      "* ** ** ** ** ** ** ** ** *\n",
      "***************************\n",
      "***   ******   ******   ***\n",
      "* *   * ** *   * ** *   * *\n",
      "***   ******   ******   ***\n",
      "***************************\n",
      "* ** ** ** ** ** ** ** ** *\n",
      "***************************\n",
      "*********         *********\n",
      "* ** ** *         * ** ** *\n",
      "*********         *********\n",
      "***   ***         ***   ***\n",
      "* *   * *         * *   * *\n",
      "***   ***         ***   ***\n",
      "*********         *********\n",
      "* ** ** *         * ** ** *\n",
      "*********         *********\n",
      "***************************\n",
      "* ** ** ** ** ** ** ** ** *\n",
      "***************************\n",
      "***   ******   ******   ***\n",
      "* *   * ** *   * ** *   * *\n",
      "***   ******   ******   ***\n",
      "***************************\n",
      "* ** ** ** ** ** ** ** ** *\n",
      "***************************\n"
     ]
    }
   ],
   "source": [
    "n = int(input())\n",
    "first = ['***', '* *', '***']\n",
    "result = star(n, first)\n",
    "for i in result :\n",
    "    print(i)"
   ],
   "metadata": {
    "collapsed": false,
    "pycharm": {
     "name": "#%%\n"
    }
   }
  },
  {
   "cell_type": "code",
   "execution_count": null,
   "outputs": [],
   "source": [],
   "metadata": {
    "collapsed": false,
    "pycharm": {
     "name": "#%%\n"
    }
   }
  }
 ],
 "metadata": {
  "kernelspec": {
   "display_name": "Python 3",
   "language": "python",
   "name": "python3"
  },
  "language_info": {
   "codemirror_mode": {
    "name": "ipython",
    "version": 2
   },
   "file_extension": ".py",
   "mimetype": "text/x-python",
   "name": "python",
   "nbconvert_exporter": "python",
   "pygments_lexer": "ipython2",
   "version": "2.7.6"
  }
 },
 "nbformat": 4,
 "nbformat_minor": 0
}