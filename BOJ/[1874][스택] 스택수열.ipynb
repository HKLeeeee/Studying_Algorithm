{
 "cells": [
  {
   "cell_type": "markdown",
   "source": [
    "# 스택 수열\n",
    "1부터 n까지의 수를 스택에 넣었다가 뽑아 늘어놓음으로써, 하나의 수열을 만들 수 있다. 이때, 스택에 push하는 순서는 반드시 오름차순을 지키도록 한다고 하자. 임의의 수열이 주어졌을 때 스택을 이용해 그 수열을 만들 수 있는지 없는지, 있다면 어떤 순서로 push와 pop 연산을 수행해야 하는지를 알아낼 수 있다. 이를 계산하는 프로그램을 작성하라.\n",
    "\n",
    "입력\n",
    "첫 줄에 n (1 ≤ n ≤ 100,000)이 주어진다. 둘째 줄부터 n개의 줄에는 수열을 이루는 1이상 n이하의 정수가 하나씩 순서대로 주어진다. 물론 같은 정수가 두 번 나오는 일은 없다.\n",
    "\n",
    "출력\n",
    "입력된 수열을 만들기 위해 필요한 연산을 한 줄에 한 개씩 출력한다. push연산은 +로, pop 연산은 -로 표현하도록 한다. 불가능한 경우 NO를 출력한다."
   ],
   "metadata": {
    "collapsed": false
   }
  },
  {
   "cell_type": "code",
   "execution_count": 16,
   "metadata": {
    "collapsed": true,
    "pycharm": {
     "name": "#%%\n"
    }
   },
   "outputs": [
    {
     "name": "stdout",
     "output_type": "stream",
     "text": [
      "찾기 성공 1\n",
      "찾기 성공 2\n",
      "찾기 성공 5\n",
      "찾기 성공 3\n",
      "스택 빔\n",
      "NO\n"
     ]
    }
   ],
   "source": [
    "n = int(input())\n",
    "answer = []\n",
    "# input\n",
    "for i in range(n):\n",
    "    answer.append(int(input()))\n",
    "\n",
    "i = 1\n",
    "stack = []\n",
    "result = []\n",
    "success = True\n",
    "for ans in answer:\n",
    "    while True :\n",
    "        if i > n :\n",
    "            success = False\n",
    "            break\n",
    "\n",
    "        if ans > i :\n",
    "             stack.append(i)\n",
    "             result.append(\"+\")\n",
    "             i += 1\n",
    "\n",
    "        elif ans == i :\n",
    "            if ans not in stack :\n",
    "                stack.append(i)\n",
    "                result.append(\"+\")\n",
    "                if i < n :\n",
    "                    i += 1\n",
    "\n",
    "            stack.pop()\n",
    "            result.append(\"-\")\n",
    "            break\n",
    "\n",
    "        elif ans < i :\n",
    "            if len(stack) == 0 :\n",
    "                success = False\n",
    "                break\n",
    "            t = stack.pop()\n",
    "            result.append(\"-\")\n",
    "            if t == ans :\n",
    "                break\n",
    "\n",
    "    if not success :\n",
    "        break\n",
    "\n",
    "if success :\n",
    "    for r in result:\n",
    "        print(r)\n",
    "else :\n",
    "    print(\"NO\")"
   ]
  },
  {
   "cell_type": "code",
   "execution_count": 13,
   "outputs": [
    {
     "data": {
      "text/plain": "[1, 2, 5, 7]"
     },
     "execution_count": 13,
     "metadata": {},
     "output_type": "execute_result"
    }
   ],
   "source": [
    "stack"
   ],
   "metadata": {
    "collapsed": false,
    "pycharm": {
     "name": "#%%\n"
    }
   }
  },
  {
   "cell_type": "code",
   "execution_count": null,
   "outputs": [],
   "source": [],
   "metadata": {
    "collapsed": false,
    "pycharm": {
     "name": "#%%\n"
    }
   }
  }
 ],
 "metadata": {
  "kernelspec": {
   "display_name": "Python 3",
   "language": "python",
   "name": "python3"
  },
  "language_info": {
   "codemirror_mode": {
    "name": "ipython",
    "version": 2
   },
   "file_extension": ".py",
   "mimetype": "text/x-python",
   "name": "python",
   "nbconvert_exporter": "python",
   "pygments_lexer": "ipython2",
   "version": "2.7.6"
  }
 },
 "nbformat": 4,
 "nbformat_minor": 0
}