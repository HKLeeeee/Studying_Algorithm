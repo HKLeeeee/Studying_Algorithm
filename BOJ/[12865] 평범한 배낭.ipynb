{
 "cells": [
  {
   "cell_type": "code",
   "execution_count": 1,
   "metadata": {
    "collapsed": true
   },
   "outputs": [
    {
     "ename": "IndexError",
     "evalue": "list index out of range",
     "output_type": "error",
     "traceback": [
      "\u001B[1;31m---------------------------------------------------------------------------\u001B[0m",
      "\u001B[1;31mIndexError\u001B[0m                                Traceback (most recent call last)",
      "Input \u001B[1;32mIn [1]\u001B[0m, in \u001B[0;36m<cell line: 18>\u001B[1;34m()\u001B[0m\n\u001B[0;32m     17\u001B[0m         \u001B[38;5;28;01mreturn\u001B[39;00m v\n\u001B[0;32m     18\u001B[0m \u001B[38;5;28;01mfor\u001B[39;00m i \u001B[38;5;129;01min\u001B[39;00m \u001B[38;5;28mrange\u001B[39m(n) :\n\u001B[1;32m---> 19\u001B[0m     v \u001B[38;5;241m=\u001B[39m \u001B[43mdfs\u001B[49m\u001B[43m(\u001B[49m\u001B[43mi\u001B[49m\u001B[43m,\u001B[49m\u001B[43m \u001B[49m\u001B[43mn\u001B[49m\u001B[43m,\u001B[49m\u001B[43m \u001B[49m\u001B[43mk\u001B[49m\u001B[43m)\u001B[49m\n\u001B[0;32m     20\u001B[0m \u001B[38;5;28mprint\u001B[39m(v)\n",
      "Input \u001B[1;32mIn [1]\u001B[0m, in \u001B[0;36mdfs\u001B[1;34m(i, w, v)\u001B[0m\n\u001B[0;32m     14\u001B[0m \u001B[38;5;28;01mfor\u001B[39;00m j \u001B[38;5;129;01min\u001B[39;00m \u001B[38;5;28mrange\u001B[39m(i\u001B[38;5;241m+\u001B[39m\u001B[38;5;241m1\u001B[39m, n) :\n\u001B[0;32m     15\u001B[0m     idx \u001B[38;5;241m=\u001B[39m i\u001B[38;5;241m+\u001B[39mj\n\u001B[1;32m---> 16\u001B[0m     v \u001B[38;5;241m=\u001B[39m \u001B[38;5;28mmax\u001B[39m(dfs(idx, w\u001B[38;5;241m+\u001B[39m\u001B[43mW\u001B[49m\u001B[43m[\u001B[49m\u001B[43midx\u001B[49m\u001B[43m]\u001B[49m, v\u001B[38;5;241m+\u001B[39mV[idx]), v)\n\u001B[0;32m     17\u001B[0m     \u001B[38;5;28;01mreturn\u001B[39;00m v\n",
      "\u001B[1;31mIndexError\u001B[0m: list index out of range"
     ]
    }
   ],
   "source": [
    "n, k = map(int, input().split())\n",
    "W = []\n",
    "V = []\n",
    "\n",
    "for i in range(n) :\n",
    "    w, v = map(int, input().split())\n",
    "    W.append(w)\n",
    "    V.append(v)\n",
    "\n",
    "def dfs(i, w, v):\n",
    "    if i > n or w > k :\n",
    "        return v\n",
    "\n",
    "    for j in range(i+1, n) :\n",
    "        idx = i+j\n",
    "        v = max(dfs(idx, w+W[idx], v+V[idx]), v)\n",
    "        return v\n",
    "for i in range(n) :\n",
    "    v = dfs(i, n, k)\n",
    "print(v)"
   ]
  },
  {
   "cell_type": "markdown",
   "source": [
    "# 냅색 알고리즘 (knapsack) 알고리즘\n",
    "\n",
    "담을 수 있는 물건이 나누어 질 때(설탕 몇 g 등): 분할가능 배낭문제(Fractional Knapsack Problem)\n",
    "\n",
    "담을 수 있는 물건이 나누어 질 수 없을 때(담는다 or 안담는다): 0-1 배낭문제(0-1Knapsack Problem)\n",
    "\n",
    "해당 문제는 0-1 배낭문제의 경우다.\n",
    "\n",
    "https://claude-u.tistory.com/208\n",
    "\n"
   ],
   "metadata": {
    "collapsed": false
   }
  },
  {
   "cell_type": "code",
   "execution_count": 4,
   "outputs": [
    {
     "name": "stdout",
     "output_type": "stream",
     "text": [
      "14\n"
     ]
    }
   ],
   "source": [
    "## answer\n",
    "\n",
    "import sys\n",
    "N, K = map(int, input().split()) # N 물건 개수, K 무게\n",
    "stuff = [[0,0]]\n",
    "knapsack = [[0 for _ in range(K+1)] for _ in range(N+1)]\n",
    "\n",
    "for _ in range(N):\n",
    "    stuff.append(list(map(int, input().split())))\n",
    "\n",
    "for i in range(1, N+1):\n",
    "    # i는 물건 index\n",
    "    for j in range(1, K+1) :\n",
    "        # j는 가방의 무게\n",
    "        weight = stuff[i][0]\n",
    "        value = stuff[i][1]\n",
    "        if j < weight :\n",
    "            knapsack[i][j] = knapsack[i-1][j]\n",
    "        else :\n",
    "            knapsack[i][j] = max(value + knapsack[i-1][j-weight], knapsack[i-1][j])\n",
    "            # value + knapsack[i-1][j-weight] : 이전 것 하나 빼고 지금 것 넣음\n",
    "            # knapsack[i-1][j] : 지금 것 안넣음\n",
    "            # 두 경우의 value를 비교하려 넣음\n",
    "print(knapsack[N][K])"
   ],
   "metadata": {
    "collapsed": false,
    "pycharm": {
     "name": "#%%\n"
    }
   }
  },
  {
   "cell_type": "code",
   "execution_count": 5,
   "outputs": [
    {
     "data": {
      "text/plain": "[[0, 0, 0, 0, 0, 0, 0, 0],\n [0, 0, 0, 0, 0, 0, 13, 13],\n [0, 0, 0, 0, 8, 8, 13, 13],\n [0, 0, 0, 6, 8, 8, 13, 14],\n [0, 0, 0, 6, 8, 12, 13, 14]]"
     },
     "execution_count": 5,
     "metadata": {},
     "output_type": "execute_result"
    }
   ],
   "source": [
    "knapsack"
   ],
   "metadata": {
    "collapsed": false,
    "pycharm": {
     "name": "#%%\n"
    }
   }
  },
  {
   "cell_type": "markdown",
   "source": [
    "### 재구현"
   ],
   "metadata": {
    "collapsed": false
   }
  },
  {
   "cell_type": "code",
   "execution_count": 11,
   "outputs": [
    {
     "name": "stdout",
     "output_type": "stream",
     "text": [
      "14\n"
     ]
    }
   ],
   "source": [
    "N, K = map(int, input().split()) # N 물건 개수, K 무게\n",
    "stuff = [[0,0]] ## index를 1부터 이용하기 위해서 0을 넣음\n",
    "knapsack = [[0 for _ in range(K+1)] for _ in range(N+1)]\n",
    "\n",
    "# input\n",
    "for _ in range(N):\n",
    "    stuff.append(list(map(int,  input().split())))\n",
    "\n",
    "# algorithm\n",
    "for i in range(1, N+1):\n",
    "    w = stuff[i][0]\n",
    "    v = stuff[i][1]\n",
    "    for j in range(1, K+1):\n",
    "        if j < w :\n",
    "            knapsack[i][j] = knapsack[i-1][j] ##  j\n",
    "        else :\n",
    "            knapsack[i][j] = max(v + knapsack[i-1][j-w], knapsack[i-1][j]) #knapsack[i-1][j]\n",
    "\n",
    "print(knapsack[N][K])"
   ],
   "metadata": {
    "collapsed": false,
    "pycharm": {
     "name": "#%%\n"
    }
   }
  },
  {
   "cell_type": "code",
   "execution_count": 12,
   "outputs": [
    {
     "data": {
      "text/plain": "[[0, 0, 0, 0, 0, 0, 0, 0],\n [0, 0, 0, 0, 0, 0, 13, 13],\n [0, 0, 0, 0, 8, 8, 13, 13],\n [0, 0, 0, 6, 8, 8, 13, 14],\n [0, 0, 0, 6, 8, 12, 13, 14]]"
     },
     "execution_count": 12,
     "metadata": {},
     "output_type": "execute_result"
    }
   ],
   "source": [
    "knapsack"
   ],
   "metadata": {
    "collapsed": false,
    "pycharm": {
     "name": "#%%\n"
    }
   }
  },
  {
   "cell_type": "code",
   "execution_count": null,
   "outputs": [],
   "source": [],
   "metadata": {
    "collapsed": false,
    "pycharm": {
     "name": "#%%\n"
    }
   }
  }
 ],
 "metadata": {
  "kernelspec": {
   "display_name": "Python 3",
   "language": "python",
   "name": "python3"
  },
  "language_info": {
   "codemirror_mode": {
    "name": "ipython",
    "version": 2
   },
   "file_extension": ".py",
   "mimetype": "text/x-python",
   "name": "python",
   "nbconvert_exporter": "python",
   "pygments_lexer": "ipython2",
   "version": "2.7.6"
  }
 },
 "nbformat": 4,
 "nbformat_minor": 0
}