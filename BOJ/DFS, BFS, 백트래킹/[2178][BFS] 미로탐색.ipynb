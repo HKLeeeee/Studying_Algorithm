{
 "cells": [
  {
   "cell_type": "code",
   "execution_count": 64,
   "id": "119c5673",
   "metadata": {},
   "outputs": [
    {
     "name": "stdout",
     "output_type": "stream",
     "text": [
      "4 6\n"
     ]
    }
   ],
   "source": [
    "N, M = map(int, input().split())"
   ]
  },
  {
   "cell_type": "markdown",
   "id": "f9888a9b",
   "metadata": {},
   "source": [
    "101111\n",
    "101010\n",
    "101011\n",
    "111011"
   ]
  },
  {
   "cell_type": "code",
   "execution_count": 83,
   "id": "ff85c5a1",
   "metadata": {},
   "outputs": [
    {
     "name": "stdout",
     "output_type": "stream",
     "text": [
      "101111\n",
      "101010\n",
      "101011\n",
      "111011\n"
     ]
    }
   ],
   "source": [
    "maze = []\n",
    "for _ in range(N):\n",
    "    maze.append(input())"
   ]
  },
  {
   "cell_type": "code",
   "execution_count": 66,
   "id": "a199c4f4",
   "metadata": {
    "scrolled": true
   },
   "outputs": [
    {
     "data": {
      "text/plain": [
       "[[0, 0, 0, 0, 0, 0],\n",
       " [0, 0, 0, 0, 0, 0],\n",
       " [0, 0, 0, 0, 0, 0],\n",
       " [0, 0, 0, 0, 0, 0]]"
      ]
     },
     "execution_count": 66,
     "metadata": {},
     "output_type": "execute_result"
    }
   ],
   "source": [
    "visitied"
   ]
  },
  {
   "cell_type": "markdown",
   "id": "440cd5db",
   "metadata": {},
   "source": [
    "BFS : QUEUE  \n",
    "DFS : STACK, 재귀"
   ]
  },
  {
   "cell_type": "code",
   "execution_count": 68,
   "id": "ee25eb32",
   "metadata": {},
   "outputs": [],
   "source": [
    "from queue import Queue"
   ]
  },
  {
   "cell_type": "code",
   "execution_count": 76,
   "id": "201ef56e",
   "metadata": {},
   "outputs": [
    {
     "ename": "KeyboardInterrupt",
     "evalue": "",
     "output_type": "error",
     "traceback": [
      "\u001b[0;31m---------------------------------------------------------------------------\u001b[0m",
      "\u001b[0;31mKeyboardInterrupt\u001b[0m                         Traceback (most recent call last)",
      "Cell \u001b[0;32mIn[76], line 24\u001b[0m\n\u001b[1;32m     22\u001b[0m         \u001b[38;5;28;01mif\u001b[39;00m maze[nx][ny] \u001b[38;5;241m==\u001b[39m \u001b[38;5;124m'\u001b[39m\u001b[38;5;124m1\u001b[39m\u001b[38;5;124m'\u001b[39m:\n\u001b[1;32m     23\u001b[0m             visitied[nx][ny] \u001b[38;5;241m=\u001b[39m visitied[x][y] \u001b[38;5;241m+\u001b[39m \u001b[38;5;241m1\u001b[39m\n\u001b[0;32m---> 24\u001b[0m             \u001b[43mq\u001b[49m\u001b[38;5;241;43m.\u001b[39;49m\u001b[43mput\u001b[49m\u001b[43m(\u001b[49m\u001b[43m(\u001b[49m\u001b[43mnx\u001b[49m\u001b[43m,\u001b[49m\u001b[43mny\u001b[49m\u001b[43m)\u001b[49m\u001b[43m)\u001b[49m\n\u001b[1;32m     26\u001b[0m visitied\n",
      "File \u001b[0;32m/opt/homebrew/Caskroom/miniforge/base/envs/javaspace/lib/python3.11/queue.py:150\u001b[0m, in \u001b[0;36mQueue.put\u001b[0;34m(self, item, block, timeout)\u001b[0m\n\u001b[1;32m    148\u001b[0m                 \u001b[38;5;28;01mraise\u001b[39;00m Full\n\u001b[1;32m    149\u001b[0m             \u001b[38;5;28mself\u001b[39m\u001b[38;5;241m.\u001b[39mnot_full\u001b[38;5;241m.\u001b[39mwait(remaining)\n\u001b[0;32m--> 150\u001b[0m \u001b[38;5;28;43mself\u001b[39;49m\u001b[38;5;241;43m.\u001b[39;49m\u001b[43m_put\u001b[49m\u001b[43m(\u001b[49m\u001b[43mitem\u001b[49m\u001b[43m)\u001b[49m\n\u001b[1;32m    151\u001b[0m \u001b[38;5;28mself\u001b[39m\u001b[38;5;241m.\u001b[39munfinished_tasks \u001b[38;5;241m+\u001b[39m\u001b[38;5;241m=\u001b[39m \u001b[38;5;241m1\u001b[39m\n\u001b[1;32m    152\u001b[0m \u001b[38;5;28mself\u001b[39m\u001b[38;5;241m.\u001b[39mnot_empty\u001b[38;5;241m.\u001b[39mnotify()\n",
      "File \u001b[0;32m/opt/homebrew/Caskroom/miniforge/base/envs/javaspace/lib/python3.11/queue.py:213\u001b[0m, in \u001b[0;36mQueue._put\u001b[0;34m(self, item)\u001b[0m\n\u001b[1;32m    210\u001b[0m     \u001b[38;5;28;01mreturn\u001b[39;00m \u001b[38;5;28mlen\u001b[39m(\u001b[38;5;28mself\u001b[39m\u001b[38;5;241m.\u001b[39mqueue)\n\u001b[1;32m    212\u001b[0m \u001b[38;5;66;03m# Put a new item in the queue\u001b[39;00m\n\u001b[0;32m--> 213\u001b[0m \u001b[38;5;28;01mdef\u001b[39;00m \u001b[38;5;21m_put\u001b[39m(\u001b[38;5;28mself\u001b[39m, item):\n\u001b[1;32m    214\u001b[0m     \u001b[38;5;28mself\u001b[39m\u001b[38;5;241m.\u001b[39mqueue\u001b[38;5;241m.\u001b[39mappend(item)\n\u001b[1;32m    216\u001b[0m \u001b[38;5;66;03m# Get an item from the queue\u001b[39;00m\n",
      "\u001b[0;31mKeyboardInterrupt\u001b[0m: "
     ]
    }
   ],
   "source": [
    "q = Queue()\n",
    "dx = [-1, 1, 0, 0]\n",
    "dy = [0, 0, -1, 1]\n",
    "x = 0\n",
    "y = 0\n",
    "\n",
    "q.put((x, y))\n",
    "visitied = [[0 for _ in range(M)] for _ in range(N)]\n",
    "\n",
    "while(not q.empty()):\n",
    "    x, y = q.get()\n",
    "    for i in range(4):\n",
    "        nx = x + dx[i]\n",
    "        ny = y + dy[i]\n",
    "    \n",
    "        if nx < 0 or nx >= N or ny < 0 or ny >= M:\n",
    "            continue\n",
    "        \n",
    "        if maze[nx][ny] == '0':\n",
    "            continue\n",
    "            \n",
    "        if maze[nx][ny] == '1':\n",
    "            visitied[nx][ny] = visitied[x][y] + 1\n",
    "            q.put((nx,ny))\n",
    "            \n",
    "visitied"
   ]
  },
  {
   "cell_type": "code",
   "execution_count": 77,
   "id": "d828362a",
   "metadata": {},
   "outputs": [
    {
     "data": {
      "text/plain": [
       "[[24, 0, 24, 25, 24, 25],\n",
       " [25, 0, 25, 0, 25, 0],\n",
       " [24, 0, 24, 0, 24, 25],\n",
       " [25, 24, 25, 0, 25, 24]]"
      ]
     },
     "execution_count": 77,
     "metadata": {},
     "output_type": "execute_result"
    }
   ],
   "source": [
    "visitied"
   ]
  },
  {
   "cell_type": "code",
   "execution_count": 102,
   "id": "1f5ff425",
   "metadata": {},
   "outputs": [],
   "source": [
    "from collections import deque\n",
    "q = deque()\n",
    "dx = [-1, 1, 0, 0]\n",
    "dy = [0, 0, -1, 1]\n",
    "x = 0\n",
    "y = 0\n",
    "N = 7\n",
    "M = 7\n",
    "maze = ['1011111', '1110001', '1000001', '1000001', '1000001', '1000001', '1111111']\n",
    "\n",
    "q.append((x, y))\n",
    "visitied = [[0 for _ in range(M)] for _ in range(N)]\n",
    "visitied[0][0]=1\n",
    "while q:\n",
    "    x, y = q.popleft()\n",
    "    # 현재 위치에서 4가지 방향으로 위치 확인\n",
    "    for i in range(4):\n",
    "        nx = x + dx[i]\n",
    "        ny = y + dy[i]\n",
    "\n",
    "      # 위치가 벗어나면 안되기 때문에 조건 추가\n",
    "        if nx < 0 or nx >= N or ny < 0 or ny >= M:\n",
    "            continue\n",
    "        # 방문한 적이 있으면 통과..?\n",
    "        if visitied[nx][ny] :\n",
    "            continue\n",
    "      # 벽이므로 진행 불가\n",
    "        if maze[nx][ny] == '0':\n",
    "            continue\n",
    "\n",
    "      # 벽이 아니므로 이동\n",
    "        if maze[nx][ny] == '1':\n",
    "            visitied[nx][ny] = visitied[x][y] + 1\n",
    "            q.append((nx, ny))"
   ]
  },
  {
   "cell_type": "code",
   "execution_count": 103,
   "id": "d668a964",
   "metadata": {},
   "outputs": [
    {
     "data": {
      "text/plain": [
       "[[1, 0, 5, 6, 7, 8, 9],\n",
       " [2, 3, 4, 0, 0, 0, 10],\n",
       " [3, 0, 0, 0, 0, 0, 11],\n",
       " [4, 0, 0, 0, 0, 0, 12],\n",
       " [5, 0, 0, 0, 0, 0, 13],\n",
       " [6, 0, 0, 0, 0, 0, 14],\n",
       " [7, 8, 9, 10, 11, 12, 13]]"
      ]
     },
     "execution_count": 103,
     "metadata": {},
     "output_type": "execute_result"
    }
   ],
   "source": [
    "visitied"
   ]
  },
  {
   "cell_type": "code",
   "execution_count": null,
   "id": "f5d38204",
   "metadata": {},
   "outputs": [],
   "source": []
  }
 ],
 "metadata": {
  "kernelspec": {
   "display_name": "Python 3 (ipykernel)",
   "language": "python",
   "name": "python3"
  },
  "language_info": {
   "codemirror_mode": {
    "name": "ipython",
    "version": 3
   },
   "file_extension": ".py",
   "mimetype": "text/x-python",
   "name": "python",
   "nbconvert_exporter": "python",
   "pygments_lexer": "ipython3",
   "version": "3.11.3"
  }
 },
 "nbformat": 4,
 "nbformat_minor": 5
}
