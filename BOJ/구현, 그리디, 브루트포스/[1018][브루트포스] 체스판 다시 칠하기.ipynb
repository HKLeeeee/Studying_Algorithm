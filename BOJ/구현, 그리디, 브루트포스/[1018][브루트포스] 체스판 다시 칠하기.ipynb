{
 "cells": [
  {
   "cell_type": "markdown",
   "id": "4b3f38af",
   "metadata": {},
   "source": [
    "## 체스판 다시 칠하기"
   ]
  },
  {
   "cell_type": "markdown",
   "id": "9c8b5259",
   "metadata": {},
   "source": [
    "<font color='blue'>중첩 리스트</font>"
   ]
  },
  {
   "cell_type": "markdown",
   "id": "98b7f22c",
   "metadata": {},
   "source": [
    "지민이는 자신의 저택에서 MN개의 단위 정사각형으로 나누어져 있는 M×N 크기의 보드를 찾았다. 어떤 정사각형은 검은색으로 칠해져 있고, 나머지는 흰색으로 칠해져 있다. 지민이는 이 보드를 잘라서 8×8 크기의 체스판으로 만들려고 한다.\n",
    "\n",
    "체스판은 검은색과 흰색이 번갈아서 칠해져 있어야 한다. 구체적으로, 각 칸이 검은색과 흰색 중 하나로 색칠되어 있고, 변을 공유하는 두 개의 사각형은 다른 색으로 칠해져 있어야 한다. 따라서 이 정의를 따르면 체스판을 색칠하는 경우는 두 가지뿐이다. 하나는 맨 왼쪽 위 칸이 흰색인 경우, 하나는 검은색인 경우이다.\n",
    "\n",
    "보드가 체스판처럼 칠해져 있다는 보장이 없어서, 지민이는 8×8 크기의 체스판으로 잘라낸 후에 몇 개의 정사각형을 다시 칠해야겠다고 생각했다. 당연히 8*8 크기는 아무데서나 골라도 된다. 지민이가 다시 칠해야 하는 정사각형의 최소 개수를 구하는 프로그램을 작성하시오."
   ]
  },
  {
   "cell_type": "markdown",
   "id": "98e8da99",
   "metadata": {},
   "source": [
    "첫째 줄에 N과 M이 주어진다. N과 M은 8보다 크거나 같고, 50보다 작거나 같은 자연수이다. 둘째 줄부터 N개의 줄에는 보드의 각 행의 상태가 주어진다. B는 검은색이며, W는 흰색이다."
   ]
  },
  {
   "cell_type": "code",
   "execution_count": 5,
   "id": "8b01d6cf",
   "metadata": {
    "scrolled": true
   },
   "outputs": [
    {
     "name": "stdout",
     "output_type": "stream",
     "text": [
      "10 13\n",
      "BBBBBBBBWBWBW\n",
      "BBBBBBBBBWBWB\n",
      "BBBBBBBBWBWBW\n",
      "BBBBBBBBBWBWB\n",
      "BBBBBBBBWBWBW\n",
      "BBBBBBBBBWBWB\n",
      "BBBBBBBBWBWBW\n",
      "BBBBBBBBBWBWB\n",
      "WWWWWWWWWWBWB\n",
      "WWWWWWWWWWBWB\n",
      "12\n"
     ]
    }
   ],
   "source": [
    "def check(matrix):\n",
    "    min_correct_b = 0\n",
    "    min_correct_w = 0\n",
    "    \n",
    "    # 체스판 초기화\n",
    "    start_b = [[] for i in range(8)]\n",
    "    start_w = [[] for i in range(8)]\n",
    "\n",
    "    for i in range(8):\n",
    "        for j in range(8):\n",
    "            if (i+j) % 2 == 0 : \n",
    "                start_b[i].append(\"B\")\n",
    "                start_w[i].append(\"W\")\n",
    "            else :\n",
    "                start_b[i].append(\"W\")\n",
    "                start_w[i].append(\"B\")\n",
    "                \n",
    "    # 비교\n",
    "    for i in range(8) :\n",
    "        for j in range(8) :\n",
    "            if matrix[i][j] != start_b[i][j] :\n",
    "                min_correct_b += 1\n",
    "            if matrix[i][j] != start_w[i][j] :\n",
    "                min_correct_w += 1\n",
    "                \n",
    "    return min(min_correct_b, min_correct_w)\n",
    "                \n",
    "# 입력\n",
    "n, m = map(int, input().split())\n",
    "board = []\n",
    "\n",
    "for i in range(n):\n",
    "    input_line = list(input())\n",
    "    board.append(input_line)\n",
    "\n",
    "    \n",
    "# 슬라이싱 및 비교\n",
    "correct_num = []\n",
    "for i in range(n-7):\n",
    "    for j in range(m-7):\n",
    "        matrix = [ board[k][j:j+8] for k in range(i, i+8)]\n",
    "        correct_num.append(check(matrix))\n",
    "\n",
    "print(min(correct_num))\n",
    "            \n"
   ]
  },
  {
   "cell_type": "markdown",
   "id": "2a7e4933",
   "metadata": {},
   "source": [
    "Another Test Case"
   ]
  },
  {
   "cell_type": "code",
   "execution_count": 9,
   "id": "0fe6d7dd",
   "metadata": {},
   "outputs": [
    {
     "name": "stdout",
     "output_type": "stream",
     "text": [
      "9 23\n",
      "BBBBBBBBBBBBBBBBBBBBBBB\n",
      "BBBBBBBBBBBBBBBBBBBBBBB\n",
      "BBBBBBBBBBBBBBBBBBBBBBB\n",
      "BBBBBBBBBBBBBBBBBBBBBBB\n",
      "BBBBBBBBBBBBBBBBBBBBBBB\n",
      "BBBBBBBBBBBBBBBBBBBBBBB\n",
      "BBBBBBBBBBBBBBBBBBBBBBB\n",
      "BBBBBBBBBBBBBBBBBBBBBBB\n",
      "BBBBBBBBBBBBBBBBBBBBBBW\n",
      "31\n"
     ]
    }
   ],
   "source": [
    "# 입력\n",
    "n, m = map(int, input().split())\n",
    "board = []\n",
    "\n",
    "for i in range(n):\n",
    "    input_line = list(input())\n",
    "    board.append(input_line)\n",
    "\n",
    "    \n",
    "# 슬라이싱 및 비교\n",
    "correct_num = []\n",
    "for i in range(n-7):\n",
    "    for j in range(m-7):\n",
    "        matrix = [ board[k][j:j+8] for k in range(i, i+8)]\n",
    "        correct_num.append(check(matrix))\n",
    "\n",
    "print(min(correct_num))"
   ]
  }
 ],
 "metadata": {
  "kernelspec": {
   "display_name": "Python 3 (ipykernel)",
   "language": "python",
   "name": "python3"
  },
  "language_info": {
   "codemirror_mode": {
    "name": "ipython",
    "version": 3
   },
   "file_extension": ".py",
   "mimetype": "text/x-python",
   "name": "python",
   "nbconvert_exporter": "python",
   "pygments_lexer": "ipython3",
   "version": "3.8.12"
  }
 },
 "nbformat": 4,
 "nbformat_minor": 5
}
