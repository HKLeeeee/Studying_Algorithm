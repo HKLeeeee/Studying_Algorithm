{
 "cells": [
  {
   "cell_type": "markdown",
   "source": [
    "# 검문\n",
    "트럭을 타고 이동하던 상근이는 경찰의 검문을 받게 되었다. 경찰은 상근이가 운반하던 화물을 하나하나 모두 확인할 것이기 때문에, 검문하는데 엄청나게 오랜 시간이 걸린다.\n",
    "\n",
    "상근이는 시간을 때우기 위해서 수학 게임을 하기로 했다.\n",
    "\n",
    "먼저 근처에 보이는 숫자 N개를 종이에 적는다. 그 다음, 종이에 적은 수를 M으로 나누었을 때, 나머지가 모두 같게 되는 M을 모두 찾으려고 한다. M은 1보다 커야 한다.\n",
    "\n",
    "N개의 수가 주어졌을 때, 가능한 M을 모두 찾는 프로그램을 작성하시오.\n",
    "\n",
    "입력\n",
    "첫째 줄에 종이에 적은 수의 개수 N이 주어진다. (2 ≤ N ≤ 100)\n",
    "\n",
    "다음 줄부터 N개 줄에는 종이에 적은 수가 하나씩 주어진다. 이 수는 모두 1보다 크거나 같고, 1,000,000,000보다 작거나 같은 자연수이다. 같은 수가 두 번 이상 주어지지 않는다.\n",
    "\n",
    "항상 M이 하나 이상 존재하는 경우만 입력으로 주어진다.\n",
    "\n",
    "출력\n",
    "첫째 줄에 가능한 M을 공백으로 구분하여 모두 출력한다. 이때, M은 증가하는 순서이어야 한다.\n",
    "\n",
    "예제 입력 1\n",
    "3\n",
    "6\n",
    "34\n",
    "38\n",
    "예제 출력 1\n",
    "2 4\n"
   ],
   "metadata": {
    "collapsed": false
   }
  },
  {
   "cell_type": "markdown",
   "source": [
    "입력 = \\[a, b, c\\]\n",
    "a % R = a - (a // M) * M\n",
    "b % R = b - (b // M) * M\n",
    "c % R = c - (c // M) * M\n",
    "으로 나타낼 수 있고\n",
    "위의 세 식의 좌변이 모두 같음을 만족하는 M을 찾는 것이 목표.\n",
    "1, 2번 식을 빼보면\n",
    "0 = a - (a // M) * M - (b - (b // M) * M)\n",
    "a - b = (a // M) * M - (b // M) * M\n",
    "a - b = M * ( (a // M) - (b // M) )  로 나타낼 수 있고\n",
    "\n",
    "a - b = M * x\n",
    "b - c = M * y\n",
    "를 만족하는 M을 찾는 문제가 됨.\n",
    "\n",
    "즉, 각 수의 차들의 공약수를 찾는 문제임.\n",
    "공약수는 또 다시 최대공약수의 약수들이며,\n",
    "최대공약수는 유클리드 호제법으로 구할 수 있다.\n",
    "\n",
    "두 개이상의 공약수는\n",
    "gcd(gcd(a,b), c) 등으로 중첩해서 구할 수 있다.\n",
    "\n",
    "어떠한 수 X의 약수는 X의 제곱근까지의 약수를 구한 다음\n",
    "구한 약수들로 X를 나눈 수들까지 구하면 모든 약수를 구할 수 있다.\n",
    "\n",
    "헷갈렸던 알고리즘은\n",
    "유클리드 호제법과 에라토스테네스의 체인데\n",
    "유클리드 호제법은 최대 공약수를 구할때 사용할 수 있는 알고리즘이며,\n",
    "에라토스테네스의 체는 소수의 개수를 구할때 사용할 수 있다."
   ],
   "metadata": {
    "collapsed": false
   }
  },
  {
   "cell_type": "code",
   "execution_count": null,
   "outputs": [],
   "source": [
    "import math\n",
    "n = int(input())\n",
    "num = []\n",
    "for _ in range(n) :\n",
    "    num.append(int(input()))\n",
    "\n",
    "lst =[]\n",
    "for i in range(len(num)-1):\n",
    "    lst.append(abs(num[i+1]-num[i]))\n",
    "\n",
    "start = 0\n",
    "while start < len(lst)-1:\n",
    "    lst[start+1] = math.gcd(lst[start], lst[start+1])\n",
    "    start += 1\n",
    "\n",
    "anw =[]\n",
    "for i in range(2, int(math.sqrt(lst[-1])+1)) :\n",
    "    if lst[-1] % i == 0 :\n",
    "        anw.append(i)\n",
    "\n",
    "for i in range(len(anw)) :\n",
    "    if lst[-1] // anw[i] not in anw :\n",
    "        anw.append(lst[-1] // anw[i])\n",
    "\n",
    "anw.append(lst[-1])\n",
    "print(' '.join(map(str, anw)))"
   ],
   "metadata": {
    "collapsed": false,
    "pycharm": {
     "name": "#%%\n"
    }
   }
  },
  {
   "cell_type": "markdown",
   "source": [
    "=> 틀림"
   ],
   "metadata": {
    "collapsed": false
   }
  },
  {
   "cell_type": "code",
   "execution_count": 57,
   "outputs": [
    {
     "name": "stdout",
     "output_type": "stream",
     "text": [
      "최대공약수 : 128\n"
     ]
    },
    {
     "data": {
      "text/plain": "[2, 4, 8, 64, 32, 16, 128]"
     },
     "execution_count": 57,
     "metadata": {},
     "output_type": "execute_result"
    }
   ],
   "source": [
    "lst = [128, 128]\n",
    "start = 0\n",
    "while start < len(lst)-1:\n",
    "    lst[start+1] = math.gcd(lst[start], lst[start+1])\n",
    "    start += 1\n",
    "print('최대공약수 :', lst[-1])\n",
    "anw =[]\n",
    "for i in range(2, int(math.sqrt(lst[-1])+1)) :\n",
    "    if lst[-1] % i == 0 :\n",
    "        anw.append(i)\n",
    "for i in range(len(anw)) : # 1\n",
    "    if lst[-1] // anw[i] not in anw :\n",
    "        anw.append(lst[-1] // anw[i])\n",
    "anw.append(lst[-1])\n",
    "\n",
    "anw"
   ],
   "metadata": {
    "collapsed": false,
    "pycharm": {
     "name": "#%%\n"
    }
   }
  },
  {
   "cell_type": "markdown",
   "source": [
    "~~맞게나오는데? 왜?~~\n",
    "순서가 안맞는다"
   ],
   "metadata": {
    "collapsed": false
   }
  },
  {
   "cell_type": "code",
   "execution_count": 47,
   "outputs": [
    {
     "name": "stdout",
     "output_type": "stream",
     "text": [
      "3\n"
     ]
    }
   ],
   "source": [
    "import math\n",
    "n = int(input())\n",
    "num = []\n",
    "for _ in range(n) :\n",
    "    num.append(int(input()))\n",
    "\n",
    "# 차들을 저장\n",
    "lst =[]\n",
    "for i in range(len(num)-1):\n",
    "    lst.append(abs(num[i+1]-num[i]))\n",
    "\n",
    "# 최대 공약수 구하기\n",
    "start = 0\n",
    "while start < len(lst)-1:\n",
    "    lst[start+1] = math.gcd(lst[start], lst[start+1])\n",
    "    start += 1\n",
    "\n",
    "##################### 수정한 부분 #####################\n",
    "# 최대공약수의 약수 구하기\n",
    "anw =[]\n",
    "for i in range(2, int(math.sqrt(lst[-1])+1)) :\n",
    "    if lst[-1] % i == 0 :\n",
    "        anw.append(i)\n",
    "        if lst[-1]//i != i :\n",
    "            anw.append(lst[-1] // i)\n",
    "anw.append(lst[-1])\n",
    "anw.sort()\n",
    "print(' '.join(map(str, anw)))"
   ],
   "metadata": {
    "collapsed": false,
    "pycharm": {
     "name": "#%%\n"
    }
   }
  },
  {
   "cell_type": "markdown",
   "source": [
    "=> 정답"
   ],
   "metadata": {
    "collapsed": false
   }
  },
  {
   "cell_type": "code",
   "execution_count": 35,
   "outputs": [],
   "source": [
    "lst=[1, 7]\n",
    "anw =[]\n",
    "for i in range(2, int(math.sqrt(lst[-1])+1)) :\n",
    "    if lst[-1] % i == 0 :\n",
    "        anw.append(i)\n",
    "        print(i)\n",
    "        if lst[-1]//i != i :\n",
    "            print(lst[-1]%i)\n",
    "            anw.append(lst[-1] // i)"
   ],
   "metadata": {
    "collapsed": false,
    "pycharm": {
     "name": "#%%\n"
    }
   }
  },
  {
   "cell_type": "code",
   "execution_count": 36,
   "outputs": [
    {
     "data": {
      "text/plain": "[]"
     },
     "execution_count": 36,
     "metadata": {},
     "output_type": "execute_result"
    }
   ],
   "source": [
    "anw"
   ],
   "metadata": {
    "collapsed": false,
    "pycharm": {
     "name": "#%%\n"
    }
   }
  },
  {
   "cell_type": "markdown",
   "source": [
    "에라토스테네스의 체 -> 소수 구할때\n",
    "N의 약수 구하기. -> sqrt(N)까지만 탐색."
   ],
   "metadata": {
    "collapsed": false
   }
  },
  {
   "cell_type": "code",
   "execution_count": 51,
   "outputs": [
    {
     "name": "stdout",
     "output_type": "stream",
     "text": [
      "최대공약수 :  16\n",
      "2 4 8 16\n"
     ]
    }
   ],
   "source": [
    "lst = [16, 32, 80]\n",
    "start = 0\n",
    "while start < len(lst)-1:\n",
    "    lst[start+1] = math.gcd(lst[start], lst[start+1])\n",
    "    start += 1\n",
    "print('최대공약수 : ', lst[-1])\n",
    "# 최대공약수의 약수 구하기\n",
    "anw =[]\n",
    "for i in range(2, int(math.sqrt(lst[-1])+1)) :\n",
    "    if lst[-1] % i == 0 :\n",
    "        anw.append(i)\n",
    "        if lst[-1]//i != i :\n",
    "            anw.append(lst[-1] // i)\n",
    "\n",
    "anw.append(lst[-1])\n",
    "anw.sort()\n",
    "print(' '.join(map(str, anw)))"
   ],
   "metadata": {
    "collapsed": false,
    "pycharm": {
     "name": "#%%\n"
    }
   }
  },
  {
   "cell_type": "code",
   "execution_count": 52,
   "outputs": [
    {
     "data": {
      "text/plain": "5"
     },
     "execution_count": 52,
     "metadata": {},
     "output_type": "execute_result"
    }
   ],
   "source": [
    "int(math.sqrt(lst[-1])+1)"
   ],
   "metadata": {
    "collapsed": false,
    "pycharm": {
     "name": "#%%\n"
    }
   }
  },
  {
   "cell_type": "code",
   "execution_count": 53,
   "outputs": [
    {
     "ename": "IndexError",
     "evalue": "list index out of range",
     "output_type": "error",
     "traceback": [
      "\u001B[1;31m---------------------------------------------------------------------------\u001B[0m",
      "\u001B[1;31mIndexError\u001B[0m                                Traceback (most recent call last)",
      "\u001B[1;32mC:\\Users\\ADMINI~1\\AppData\\Local\\Temp/ipykernel_8316/3954464860.py\u001B[0m in \u001B[0;36m<module>\u001B[1;34m\u001B[0m\n\u001B[0;32m      4\u001B[0m         \u001B[0manw\u001B[0m\u001B[1;33m.\u001B[0m\u001B[0mappend\u001B[0m\u001B[1;33m(\u001B[0m\u001B[0mi\u001B[0m\u001B[1;33m)\u001B[0m\u001B[1;33m\u001B[0m\u001B[1;33m\u001B[0m\u001B[0m\n\u001B[0;32m      5\u001B[0m         \u001B[1;32mif\u001B[0m \u001B[0mlst\u001B[0m\u001B[1;33m[\u001B[0m\u001B[1;33m-\u001B[0m\u001B[1;36m1\u001B[0m\u001B[1;33m]\u001B[0m\u001B[1;33m%\u001B[0m\u001B[0mi\u001B[0m \u001B[1;32mnot\u001B[0m \u001B[1;32min\u001B[0m \u001B[0manw\u001B[0m \u001B[1;33m:\u001B[0m\u001B[1;33m\u001B[0m\u001B[1;33m\u001B[0m\u001B[0m\n\u001B[1;32m----> 6\u001B[1;33m             \u001B[0manw\u001B[0m\u001B[1;33m.\u001B[0m\u001B[0mappend\u001B[0m\u001B[1;33m(\u001B[0m\u001B[0mlst\u001B[0m\u001B[1;33m[\u001B[0m\u001B[1;33m-\u001B[0m\u001B[1;36m1\u001B[0m\u001B[1;33m]\u001B[0m \u001B[1;33m//\u001B[0m \u001B[0manw\u001B[0m\u001B[1;33m[\u001B[0m\u001B[0mi\u001B[0m\u001B[1;33m]\u001B[0m\u001B[1;33m)\u001B[0m\u001B[1;33m\u001B[0m\u001B[1;33m\u001B[0m\u001B[0m\n\u001B[0m",
      "\u001B[1;31mIndexError\u001B[0m: list index out of range"
     ]
    }
   ],
   "source": [
    "anw =[]\n",
    "for i in range(2, int(math.sqrt(lst[-1])+1)) :\n",
    "    if lst[-1] % i == 0 :\n",
    "        anw.append(i)\n",
    "        if lst[-1]%i not in anw :\n",
    "            anw.append(lst[-1] // anw[i])"
   ],
   "metadata": {
    "collapsed": false,
    "pycharm": {
     "name": "#%%\n"
    }
   }
  },
  {
   "cell_type": "code",
   "execution_count": 54,
   "outputs": [
    {
     "data": {
      "text/plain": "[2]"
     },
     "execution_count": 54,
     "metadata": {},
     "output_type": "execute_result"
    }
   ],
   "source": [
    "anw"
   ],
   "metadata": {
    "collapsed": false,
    "pycharm": {
     "name": "#%%\n"
    }
   }
  },
  {
   "cell_type": "code",
   "execution_count": 54,
   "outputs": [],
   "source": [],
   "metadata": {
    "collapsed": false,
    "pycharm": {
     "name": "#%%\n"
    }
   }
  },
  {
   "cell_type": "code",
   "execution_count": null,
   "outputs": [],
   "source": [],
   "metadata": {
    "collapsed": false,
    "pycharm": {
     "name": "#%%\n"
    }
   }
  }
 ],
 "metadata": {
  "kernelspec": {
   "display_name": "Python 3",
   "language": "python",
   "name": "python3"
  },
  "language_info": {
   "codemirror_mode": {
    "name": "ipython",
    "version": 2
   },
   "file_extension": ".py",
   "mimetype": "text/x-python",
   "name": "python",
   "nbconvert_exporter": "python",
   "pygments_lexer": "ipython2",
   "version": "2.7.6"
  }
 },
 "nbformat": 4,
 "nbformat_minor": 0
}