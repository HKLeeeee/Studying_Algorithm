{
 "nbformat": 4,
 "nbformat_minor": 0,
 "metadata": {
  "colab": {
   "name": "구현.ipynb",
   "provenance": [],
   "authorship_tag": "ABX9TyO1NmIba0hA0RI6LWQmQ67T"
  },
  "kernelspec": {
   "name": "python3",
   "display_name": "Python 3"
  },
  "language_info": {
   "name": "python"
  }
 },
 "cells": [
  {
   "cell_type": "markdown",
   "source": [
    "# [1157] 단어공부\n",
    "알파벳 대소문자로 된 단어가 주어지면, 이 단어에서 가장 많이 사용된 알파벳이 무엇인지 알아내는 프로그램을 작성하시오. 단, 대문자와 소문자를 구분하지 않는다."
   ],
   "metadata": {
    "id": "TtAMrPYCoBaj"
   }
  },
  {
   "cell_type": "code",
   "execution_count": null,
   "metadata": {
    "colab": {
     "base_uri": "https://localhost:8080/"
    },
    "id": "njjknggIn3mZ",
    "executionInfo": {
     "status": "ok",
     "timestamp": 1649497001017,
     "user_tz": -540,
     "elapsed": 2984,
     "user": {
      "displayName": "이희경",
      "userId": "11464043579838471612"
     }
    },
    "outputId": "48cd8103-9544-4077-c6ea-2e64a60c91b7"
   },
   "outputs": [
    {
     "output_type": "stream",
     "name": "stdout",
     "text": [
      "z\n",
      "Z\n"
     ]
    }
   ],
   "source": [
    "string = list(input().upper())\n",
    "\n",
    "from collections import defaultdict\n",
    "dic = defaultdict(int)\n",
    "for s in string:\n",
    "    dic[s] += 1\n",
    "l = [k for k,v in dic.items() if v==max(dic.values())]\n",
    "print( l[0] if len(l) == 1 else '?')"
   ]
  },
  {
   "cell_type": "code",
   "source": [
    "l = []\n",
    "for k,v in dic.items():\n",
    "    if v == max(dic.values()) :\n",
    "        l.append(k)\n",
    "l"
   ],
   "metadata": {
    "id": "ecDJpRxGrFEv"
   },
   "execution_count": null,
   "outputs": []
  },
  {
   "cell_type": "markdown",
   "source": [
    "#[2908] 상수"
   ],
   "metadata": {
    "id": "Oqqh-eVcsFQE"
   }
  },
  {
   "cell_type": "markdown",
   "source": [
    "1번 풀이"
   ],
   "metadata": {
    "id": "j6TWyRNcvMYK"
   }
  },
  {
   "cell_type": "code",
   "source": [
    "num = list(input().split())\n",
    "\n",
    "for i, n in enumerate(num):\n",
    "    temp = ''\n",
    "    for j in range(len(n)-1, -1, -1):\n",
    "        temp += n[j]\n",
    "    num[i] = int(temp)\n",
    "\n",
    "print(max(num))"
   ],
   "metadata": {
    "colab": {
     "base_uri": "https://localhost:8080/"
    },
    "id": "x96LTp6yrWdt",
    "executionInfo": {
     "status": "ok",
     "timestamp": 1649497585968,
     "user_tz": -540,
     "elapsed": 5368,
     "user": {
      "displayName": "이희경",
      "userId": "11464043579838471612"
     }
    },
    "outputId": "bc6a4a3f-4793-4b68-e1b0-ad740e40cc9c"
   },
   "execution_count": null,
   "outputs": [
    {
     "output_type": "stream",
     "name": "stdout",
     "text": [
      "839 237\n",
      "938\n"
     ]
    }
   ]
  },
  {
   "cell_type": "markdown",
   "source": [
    "2번 풀이"
   ],
   "metadata": {
    "id": "d1bPZnjcvOmN"
   }
  },
  {
   "cell_type": "code",
   "source": [
    "S = 'Reverse this string'\n",
    "print(reversed(S))\n",
    "print(''.join(reversed(S)))"
   ],
   "metadata": {
    "colab": {
     "base_uri": "https://localhost:8080/"
    },
    "id": "STPyDcylvvtN",
    "executionInfo": {
     "status": "ok",
     "timestamp": 1649498100298,
     "user_tz": -540,
     "elapsed": 10,
     "user": {
      "displayName": "이희경",
      "userId": "11464043579838471612"
     }
    },
    "outputId": "fb4842c7-f2d7-4e45-ada0-db3271c03cd5"
   },
   "execution_count": null,
   "outputs": [
    {
     "output_type": "stream",
     "name": "stdout",
     "text": [
      "<reversed object at 0x7f78e918f7d0>\n",
      "gnirts siht esreveR\n"
     ]
    }
   ]
  },
  {
   "cell_type": "code",
   "source": [
    "print(max(list(map(int, ''.join(reversed(input())).split()))))"
   ],
   "metadata": {
    "colab": {
     "base_uri": "https://localhost:8080/"
    },
    "id": "jPe0BcHltr41",
    "executionInfo": {
     "status": "ok",
     "timestamp": 1649497885883,
     "user_tz": -540,
     "elapsed": 4428,
     "user": {
      "displayName": "이희경",
      "userId": "11464043579838471612"
     }
    },
    "outputId": "5c09c4d9-5ffb-4b76-e1bb-73b458e3f672"
   },
   "execution_count": null,
   "outputs": [
    {
     "output_type": "stream",
     "name": "stdout",
     "text": [
      "839 237\n",
      "938\n"
     ]
    }
   ]
  },
  {
   "cell_type": "markdown",
   "source": [
    "3번 풀이"
   ],
   "metadata": {
    "id": "ZiSR53mIvPz2"
   }
  },
  {
   "cell_type": "code",
   "source": [
    "S = 'Reverse this string'\n",
    "print(S[::-1]) ## 이건 무슨말일까?"
   ],
   "metadata": {
    "colab": {
     "base_uri": "https://localhost:8080/"
    },
    "id": "QUSTsYgqv8K4",
    "executionInfo": {
     "status": "ok",
     "timestamp": 1649498126929,
     "user_tz": -540,
     "elapsed": 11,
     "user": {
      "displayName": "이희경",
      "userId": "11464043579838471612"
     }
    },
    "outputId": "7855c668-2de8-4288-e7d4-9862f39a7352"
   },
   "execution_count": null,
   "outputs": [
    {
     "output_type": "stream",
     "name": "stdout",
     "text": [
      "gnirts siht esreveR\n"
     ]
    }
   ]
  },
  {
   "cell_type": "code",
   "source": [
    "#lst = input()\n",
    "lst = list(map(int, input()[::-1].split()))\n",
    "print(max(lst))"
   ],
   "metadata": {
    "colab": {
     "base_uri": "https://localhost:8080/"
    },
    "id": "SXM82SSRusut",
    "executionInfo": {
     "status": "ok",
     "timestamp": 1649498204449,
     "user_tz": -540,
     "elapsed": 7854,
     "user": {
      "displayName": "이희경",
      "userId": "11464043579838471612"
     }
    },
    "outputId": "cbfcb5e1-ca8a-4da7-e2e4-a586c31840fc"
   },
   "execution_count": null,
   "outputs": [
    {
     "output_type": "stream",
     "name": "stdout",
     "text": [
      "123 354\n",
      "453\n"
     ]
    }
   ]
  },
  {
   "cell_type": "code",
   "source": [
    "print(max(list(map(int, input()[::-1].split()))))"
   ],
   "metadata": {
    "colab": {
     "base_uri": "https://localhost:8080/"
    },
    "id": "5J3iXRH3vhOA",
    "executionInfo": {
     "status": "ok",
     "timestamp": 1649498265509,
     "user_tz": -540,
     "elapsed": 3857,
     "user": {
      "displayName": "이희경",
      "userId": "11464043579838471612"
     }
    },
    "outputId": "f9abc347-c33b-4cb5-e3e9-7d8aaf70139e"
   },
   "execution_count": null,
   "outputs": [
    {
     "output_type": "stream",
     "name": "stdout",
     "text": [
      "123 234\n",
      "432\n"
     ]
    }
   ]
  },
  {
   "cell_type": "markdown",
   "source": [
    "# [2675] 문자열 반복\n",
    "문자열 S를 입력받은 후에, 각 문자를 R번 반복해 새 문자열 P를 만든 후 출력하는 프로그램을 작성하시오. 즉, 첫 번째 문자를 R번 반복하고, 두 번째 문자를 R번 반복하는 식으로 P를 만들면 된다. S에는 QR Code \"alphanumeric\" 문자만 들어있다.\n",
    "\n",
    "QR Code \"alphanumeric\" 문자는 0123456789ABCDEFGHIJKLMNOPQRSTUVWXYZ\\$%*+-./: 이다."
   ],
   "metadata": {
    "id": "C6-txw0CC7Pk"
   }
  },
  {
   "cell_type": "code",
   "source": [
    "n = int(input())\n",
    "for i in range(n):\n",
    "    r, ss = input().split()\n",
    "    for s in ss :\n",
    "        print(s*int(r), end='')\n",
    "    print()"
   ],
   "metadata": {
    "colab": {
     "base_uri": "https://localhost:8080/"
    },
    "id": "aE3nwgXJDb2q",
    "executionInfo": {
     "status": "ok",
     "timestamp": 1649637862683,
     "user_tz": -540,
     "elapsed": 8966,
     "user": {
      "displayName": "이희경",
      "userId": "11464043579838471612"
     }
    },
    "outputId": "2ed865c5-0473-44c3-803e-4ff593245f09"
   },
   "execution_count": 4,
   "outputs": [
    {
     "output_type": "stream",
     "name": "stdout",
     "text": [
      "2\n",
      "3 ABC\n",
      "AAABBBCCC\n",
      "5 /HTP\n",
      "/////HHHHHTTTTTPPPPP\n"
     ]
    }
   ]
  },
  {
   "cell_type": "markdown",
   "source": [
    "# [10817] 세 수"
   ],
   "metadata": {
    "id": "jISHhmWcFKcs"
   }
  },
  {
   "cell_type": "code",
   "source": [
    "n = list(map(int, input().split()))\n",
    "n.sort()\n",
    "print(n[1])"
   ],
   "metadata": {
    "colab": {
     "base_uri": "https://localhost:8080/"
    },
    "id": "rimmSHYOD5aN",
    "executionInfo": {
     "status": "ok",
     "timestamp": 1649638105804,
     "user_tz": -540,
     "elapsed": 3480,
     "user": {
      "displayName": "이희경",
      "userId": "11464043579838471612"
     }
    },
    "outputId": "9410f484-1c33-4994-8248-cbb9b1675643"
   },
   "execution_count": 9,
   "outputs": [
    {
     "output_type": "stream",
     "name": "stdout",
     "text": [
      "10 10 10\n",
      "10\n"
     ]
    }
   ]
  },
  {
   "cell_type": "code",
   "source": [
    "print(sorted(map(int,input().split()))[1])"
   ],
   "metadata": {
    "id": "QNEYi8D6FSlJ"
   },
   "execution_count": null,
   "outputs": []
  },
  {
   "cell_type": "markdown",
   "source": [
    "# [2558] A + B -2"
   ],
   "metadata": {
    "id": "kL13NpceGqC6"
   }
  },
  {
   "cell_type": "code",
   "source": [
    "a = int(input())\n",
    "b = int(input())\n",
    "print(a+b)"
   ],
   "metadata": {
    "colab": {
     "base_uri": "https://localhost:8080/"
    },
    "id": "wnuav7UJG6Gp",
    "executionInfo": {
     "status": "ok",
     "timestamp": 1649638378963,
     "user_tz": -540,
     "elapsed": 2518,
     "user": {
      "displayName": "이희경",
      "userId": "11464043579838471612"
     }
    },
    "outputId": "2f5c7313-8fe3-4f1a-c813-fe619d18e36e"
   },
   "execution_count": 11,
   "outputs": [
    {
     "output_type": "stream",
     "name": "stdout",
     "text": [
      "1\n",
      "3\n",
      "4\n"
     ]
    }
   ]
  },
  {
   "cell_type": "code",
   "source": [
    "print(int(input())+int(input()))"
   ],
   "metadata": {
    "colab": {
     "base_uri": "https://localhost:8080/"
    },
    "id": "vTpMUn0sG-no",
    "executionInfo": {
     "status": "ok",
     "timestamp": 1649638397075,
     "user_tz": -540,
     "elapsed": 2791,
     "user": {
      "displayName": "이희경",
      "userId": "11464043579838471612"
     }
    },
    "outputId": "d100f7f2-b472-4662-98c2-22b56c7b5c05"
   },
   "execution_count": 12,
   "outputs": [
    {
     "output_type": "stream",
     "name": "stdout",
     "text": [
      "1\n",
      "3\n",
      "4\n"
     ]
    }
   ]
  },
  {
   "cell_type": "code",
   "source": [
    "## print(sum(map(int,open(0))))"
   ],
   "metadata": {
    "id": "3IGjNnuHHEcn"
   },
   "execution_count": null,
   "outputs": []
  },
  {
   "cell_type": "markdown",
   "source": [
    "# [2440] 별 찍기 - 3"
   ],
   "metadata": {
    "id": "VLUa-asDHpWw"
   }
  },
  {
   "cell_type": "code",
   "source": [
    "n = int(input())\n",
    "for i in range(n, 0, -1):\n",
    "    print('*'*i)"
   ],
   "metadata": {
    "colab": {
     "base_uri": "https://localhost:8080/"
    },
    "id": "23-C6XjyHseP",
    "executionInfo": {
     "status": "ok",
     "timestamp": 1649638627144,
     "user_tz": -540,
     "elapsed": 2195,
     "user": {
      "displayName": "이희경",
      "userId": "11464043579838471612"
     }
    },
    "outputId": "8a5fd71e-aa64-4ae0-9bf1-4421b761c9b0"
   },
   "execution_count": 15,
   "outputs": [
    {
     "output_type": "stream",
     "name": "stdout",
     "text": [
      "5\n",
      "*****\n",
      "****\n",
      "***\n",
      "**\n",
      "*\n"
     ]
    }
   ]
  },
  {
   "cell_type": "markdown",
   "source": [
    "# [7287] 등록"
   ],
   "metadata": {
    "id": "5nC2j--KIZls"
   }
  },
  {
   "cell_type": "code",
   "source": [
    "print('90\\nilovemdb')"
   ],
   "metadata": {
    "colab": {
     "base_uri": "https://localhost:8080/"
    },
    "id": "sN0DEWgkH0vn",
    "executionInfo": {
     "status": "ok",
     "timestamp": 1649638785913,
     "user_tz": -540,
     "elapsed": 306,
     "user": {
      "displayName": "이희경",
      "userId": "11464043579838471612"
     }
    },
    "outputId": "1cd6391e-2e3d-474d-a228-f81a741447da"
   },
   "execution_count": 16,
   "outputs": [
    {
     "output_type": "stream",
     "name": "stdout",
     "text": [
      "90\n",
      "ilovemdb\n"
     ]
    }
   ]
  },
  {
   "cell_type": "markdown",
   "source": [
    "# 새싹"
   ],
   "metadata": {
    "collapsed": false
   }
  },
  {
   "cell_type": "code",
   "execution_count": 1,
   "outputs": [
    {
     "name": "stdout",
     "output_type": "stream",
     "text": [
      "         ,r'\"7\n",
      "r`-_   ,'  ,/\n",
      " \\. \". L_r'\n",
      "   `~\\/\n",
      "      |\n",
      "      |\n"
     ]
    }
   ],
   "source": [
    "print('         ,r\\'\"7')\n",
    "print('r`-_   ,\\'  ,/')\n",
    "print(' \\. \". L_r\\'')\n",
    "print('   `~\\/')\n",
    "print('      |')\n",
    "print('      |')"
   ],
   "metadata": {
    "collapsed": false,
    "pycharm": {
     "name": "#%%\n"
    }
   }
  },
  {
   "cell_type": "markdown",
   "source": [
    "# 별찍기 - 9"
   ],
   "metadata": {
    "collapsed": false
   }
  },
  {
   "cell_type": "code",
   "source": [
    "n = int(input())\n",
    "for i in range(n,0,-1) :\n",
    "    print(' '*(n-i)+\"*\"*(i-1)+'*'+'*'*(i-1))\n",
    "for i in range(2,n+1) :\n",
    "    print(' '*(n-i)+\"*\"*(i-1)+'*'+'*'*(i-1))"
   ],
   "metadata": {
    "id": "FYkG9QdEIj80"
   },
   "execution_count": 2,
   "outputs": [
    {
     "name": "stdout",
     "output_type": "stream",
     "text": [
      "*********\n",
      " *******\n",
      "  *****\n",
      "   ***\n",
      "    *\n",
      "   ***\n",
      "  *****\n",
      " *******\n",
      "*********\n"
     ]
    }
   ]
  },
  {
   "cell_type": "code",
   "execution_count": null,
   "outputs": [],
   "source": [],
   "metadata": {
    "collapsed": false,
    "pycharm": {
     "name": "#%%\n"
    }
   }
  }
 ]
}