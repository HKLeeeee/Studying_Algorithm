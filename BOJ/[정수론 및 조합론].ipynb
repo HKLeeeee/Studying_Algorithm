{
 "cells": [
  {
   "cell_type": "markdown",
   "source": [
    "# 5086"
   ],
   "metadata": {
    "collapsed": false,
    "pycharm": {
     "name": "#%% md\n"
    }
   }
  },
  {
   "cell_type": "code",
   "execution_count": 1,
   "metadata": {
    "collapsed": true
   },
   "outputs": [
    {
     "name": "stdout",
     "output_type": "stream",
     "text": [
      "factor\n",
      "multiple\n",
      "neither\n"
     ]
    }
   ],
   "source": [
    "while True:\n",
    "    n, m = map(int, input().split())\n",
    "    if n == 0 and m == 0 :\n",
    "        break\n",
    "    if m%n == 0 :\n",
    "        print('factor')\n",
    "    elif n % m == 0 :\n",
    "        print('multiple')\n",
    "    else :\n",
    "        print('neither')"
   ]
  },
  {
   "cell_type": "markdown",
   "source": [
    "# 1037"
   ],
   "metadata": {
    "collapsed": false
   }
  },
  {
   "cell_type": "code",
   "execution_count": 4,
   "outputs": [
    {
     "name": "stdout",
     "output_type": "stream",
     "text": [
      "185192\n"
     ]
    }
   ],
   "source": [
    "n = int(input())\n",
    "divisor=list(map(int, input().split()))\n",
    "\n",
    "print(min(divisor)*max(divisor))\n",
    "## 수행시간 76ms"
   ],
   "metadata": {
    "collapsed": false,
    "pycharm": {
     "name": "#%%\n"
    }
   }
  },
  {
   "cell_type": "markdown",
   "source": [
    "min, max => O(N)\n",
    "sort => O(NlogN)"
   ],
   "metadata": {
    "collapsed": false
   }
  },
  {
   "cell_type": "code",
   "execution_count": 5,
   "outputs": [
    {
     "name": "stdout",
     "output_type": "stream",
     "text": [
      "24\n"
     ]
    }
   ],
   "source": [
    "n = int(input())\n",
    "divisor=list(map(int, input().split()))\n",
    "divisor.sort()\n",
    "\n",
    "print(divisor[0]*divisor[-1])\n",
    "## 수행시간 76ms : 똑같네?"
   ],
   "metadata": {
    "collapsed": false,
    "pycharm": {
     "name": "#%%\n"
    }
   }
  },
  {
   "cell_type": "markdown",
   "source": [
    "# 2609"
   ],
   "metadata": {
    "collapsed": false
   }
  },
  {
   "cell_type": "code",
   "execution_count": 12,
   "outputs": [
    {
     "name": "stdout",
     "output_type": "stream",
     "text": [
      "6\n",
      "72\n"
     ]
    }
   ],
   "source": [
    "a,b = map(int, input().split())\n",
    "if a > b :\n",
    "    a, b = b, a\n",
    "\n",
    "# 최대공약수 greatest common divisor, gcd\n",
    "# 유클리드 호제법\n",
    "# a / b = 몫 ... 나머지(r) 일때\n",
    "# gcd(a,b) = gdc(b, r)\n",
    "def gcd(n,m) :\n",
    "    if m == 0 :\n",
    "        return n\n",
    "    r = n % m\n",
    "    return gcd(m, r)\n",
    "\n",
    "# 최소공배수 least common multiple\n",
    "# lcm = gcd * (a/gcd) * (b/gcd)\n",
    "# lcm = a * b / gcd\n",
    "def lcm(n,m) :\n",
    "\n",
    "    return int(a * b / gcd(a, b))\n",
    "\n",
    "print(gcd(a,b))\n",
    "print(lcm(a,b))"
   ],
   "metadata": {
    "collapsed": false,
    "pycharm": {
     "name": "#%%\n"
    }
   }
  },
  {
   "cell_type": "code",
   "execution_count": 1,
   "outputs": [
    {
     "name": "stdout",
     "output_type": "stream",
     "text": [
      "6\n",
      "72\n"
     ]
    }
   ],
   "source": [
    "# 파이썬 모듈\n",
    "import math\n",
    "a,b = map(int, input().split())\n",
    "print(math.gcd(a,b))\n",
    "print(math.lcm(a,b))"
   ],
   "metadata": {
    "collapsed": false,
    "pycharm": {
     "name": "#%%\n"
    }
   }
  },
  {
   "cell_type": "markdown",
   "source": [
    "# 1934"
   ],
   "metadata": {
    "collapsed": false
   }
  },
  {
   "cell_type": "code",
   "execution_count": 13,
   "outputs": [
    {
     "name": "stdout",
     "output_type": "stream",
     "text": [
      "45000\n",
      "30\n",
      "221\n"
     ]
    }
   ],
   "source": [
    "# 최소공배수\n",
    "# least common multiple\n",
    "\n",
    "import math\n",
    "n = int(input())\n",
    "for _ in range(n):\n",
    "    a,b = map(int, input().split())\n",
    "    if a > b :\n",
    "        a, b = b, a\n",
    "\n",
    "    temp = math.gcd(a,b)\n",
    "    print(int(a*b/temp))"
   ],
   "metadata": {
    "collapsed": false,
    "pycharm": {
     "name": "#%%\n"
    }
   }
  },
  {
   "cell_type": "code",
   "execution_count": null,
   "outputs": [],
   "source": [
    "import math\n",
    "n = int(input())\n",
    "for _ in range(n):\n",
    "    a,b = map(int, input().split())\n",
    "    print(math.lcm(a,b))"
   ],
   "metadata": {
    "collapsed": false,
    "pycharm": {
     "name": "#%%\n"
    }
   }
  },
  {
   "cell_type": "markdown",
   "source": [
    "# 11050\n",
    "#### 이항계수 nCk"
   ],
   "metadata": {
    "collapsed": false
   }
  },
  {
   "cell_type": "code",
   "execution_count": 19,
   "outputs": [
    {
     "name": "stdout",
     "output_type": "stream",
     "text": [
      "120\n"
     ]
    }
   ],
   "source": [
    "import math\n",
    "n,k = map(int, input().split())\n",
    "print(int(math.factorial(n)/(math.factorial(n-k)*math.factorial(k))))"
   ],
   "metadata": {
    "collapsed": false,
    "pycharm": {
     "name": "#%%\n"
    }
   }
  },
  {
   "cell_type": "markdown",
   "source": [
    "# 11051"
   ],
   "metadata": {
    "collapsed": false
   }
  },
  {
   "cell_type": "code",
   "execution_count": 27,
   "outputs": [
    {
     "name": "stdout",
     "output_type": "stream",
     "text": [
      "10\n"
     ]
    }
   ],
   "source": [
    "import math\n",
    "n,k = map(int, input().split())\n",
    "result = math.factorial(n) // (math.factorial(n-k)*math.factorial(k))\n",
    "print(result%10007)"
   ],
   "metadata": {
    "collapsed": false,
    "pycharm": {
     "name": "#%%\n"
    }
   }
  },
  {
   "cell_type": "markdown",
   "source": [
    "```\n",
    "import math\n",
    "n,k = map(int, input().split())\n",
    "result = math.factorial(n) / (math.factorial(n-k)*math.factorial(k))\n",
    "print(result%10007)\n",
    "```\n",
    "//가 아닌 /로 풀게되면 float형이 나오게 되어 부동소수점 문제로 틀렸습니다가 뜬다"
   ],
   "metadata": {
    "collapsed": false,
    "pycharm": {
     "name": "#%% md\n"
    }
   }
  },
  {
   "cell_type": "markdown",
   "source": [
    "파스칼의 삼각형"
   ],
   "metadata": {
    "collapsed": false
   }
  },
  {
   "cell_type": "code",
   "execution_count": null,
   "outputs": [],
   "source": [],
   "metadata": {
    "collapsed": false,
    "pycharm": {
     "name": "#%%\n"
    }
   }
  }
 ],
 "metadata": {
  "kernelspec": {
   "display_name": "Python 3",
   "language": "python",
   "name": "python3"
  },
  "language_info": {
   "codemirror_mode": {
    "name": "ipython",
    "version": 2
   },
   "file_extension": ".py",
   "mimetype": "text/x-python",
   "name": "python",
   "nbconvert_exporter": "python",
   "pygments_lexer": "ipython2",
   "version": "2.7.6"
  }
 },
 "nbformat": 4,
 "nbformat_minor": 0
}