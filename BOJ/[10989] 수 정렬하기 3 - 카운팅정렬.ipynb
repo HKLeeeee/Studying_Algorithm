{
 "cells": [
  {
   "cell_type": "markdown",
   "source": [
    " # 수 정렬하기 3\n",
    "수의 범위가 작다면 카운팅 정렬을 이용할 수 있습니다.\n",
    "\n"
   ],
   "metadata": {
    "collapsed": false
   }
  },
  {
   "cell_type": "code",
   "execution_count": 9,
   "metadata": {
    "collapsed": true
   },
   "outputs": [
    {
     "name": "stdout",
     "output_type": "stream",
     "text": [
      "1\n",
      "1\n",
      "2\n",
      "2\n",
      "3\n",
      "3\n",
      "4\n",
      "5\n",
      "5\n",
      "7\n"
     ]
    }
   ],
   "source": [
    "n = int(input())\n",
    "result=[0 for i in range(n+1)]\n",
    "for i in range(n) :\n",
    "    temp = int(input())\n",
    "    result[temp] += 1\n",
    "\n",
    "for idx in range(1, n+1) :\n",
    "    length = result[idx]\n",
    "    for n in range(result[idx]):\n",
    "        print(idx)"
   ]
  },
  {
   "cell_type": "markdown",
   "source": [
    "-> 메모리 초과 실패"
   ],
   "metadata": {
    "collapsed": false
   }
  },
  {
   "cell_type": "markdown",
   "source": [
    "할당을 최대한 줄여봄."
   ],
   "metadata": {
    "collapsed": false
   }
  },
  {
   "cell_type": "code",
   "execution_count": 11,
   "outputs": [
    {
     "ename": "ValueError",
     "evalue": "invalid literal for int() with base 10: ''",
     "output_type": "error",
     "traceback": [
      "\u001B[1;31m---------------------------------------------------------------------------\u001B[0m",
      "\u001B[1;31mValueError\u001B[0m                                Traceback (most recent call last)",
      "Input \u001B[1;32mIn [11]\u001B[0m, in \u001B[0;36m<cell line: 2>\u001B[1;34m()\u001B[0m\n\u001B[0;32m      1\u001B[0m \u001B[38;5;28;01mimport\u001B[39;00m \u001B[38;5;21;01msys\u001B[39;00m\n\u001B[1;32m----> 2\u001B[0m n \u001B[38;5;241m=\u001B[39m \u001B[38;5;28;43mint\u001B[39;49m\u001B[43m(\u001B[49m\u001B[43msys\u001B[49m\u001B[38;5;241;43m.\u001B[39;49m\u001B[43mstdin\u001B[49m\u001B[38;5;241;43m.\u001B[39;49m\u001B[43mreadline\u001B[49m\u001B[43m(\u001B[49m\u001B[43m)\u001B[49m\u001B[43m)\u001B[49m\n\u001B[0;32m      3\u001B[0m \u001B[38;5;66;03m# result=[0 for i in range(n)]\u001B[39;00m\n\u001B[0;32m      4\u001B[0m result \u001B[38;5;241m=\u001B[39m [\u001B[38;5;241m0\u001B[39m] \u001B[38;5;241m*\u001B[39m n\n",
      "\u001B[1;31mValueError\u001B[0m: invalid literal for int() with base 10: ''"
     ]
    }
   ],
   "source": [
    "import sys\n",
    "n = int(sys.stdin.readline()) ## -> 들어올 숫자의 개수  # 1000000\n",
    "# sys를 사용하면 왜 메모리가 줄어들까요??\n",
    "## try except\n",
    "# result=[0 for i in range(n)]\n",
    "result = [0] * n\n",
    "\n",
    "for _ in range(n) :\n",
    "    result[int(sys.stdin.readline())-1] += 1\n",
    "    ## 0~10,000 : 10,001\n",
    "for idx in range(0, n) :\n",
    "    for n in range(result[idx]):\n",
    "        print(idx+1)"
   ],
   "metadata": {
    "collapsed": false,
    "pycharm": {
     "name": "#%%\n"
    }
   }
  },
  {
   "cell_type": "markdown",
   "source": [],
   "metadata": {
    "collapsed": false
   }
  },
  {
   "cell_type": "markdown",
   "source": [
    "input -> sys.stdin.readline으로 바꿈\n",
    "변수 할당을 최소화함\n",
    "**result 리스트 선언 방식을 입력받은 n의 크기만큼 만들지 않고 입력 가능한 수의 최대값 +1 로 초기화.**\n"
   ],
   "metadata": {
    "collapsed": false
   }
  },
  {
   "cell_type": "code",
   "execution_count": 15,
   "outputs": [
    {
     "name": "stdout",
     "output_type": "stream",
     "text": [
      "1\n",
      "2\n",
      "2\n",
      "3\n",
      "4\n",
      "5\n"
     ]
    }
   ],
   "source": [
    "import sys\n",
    "n = int(sys.stdin.readline())\n",
    "result = [0] * 10001\n",
    "\n",
    "for _ in range(n) :\n",
    "    result[int(sys.stdin.readline())] += 1\n",
    "\n",
    "\n",
    "for idx in range(10001) :\n",
    "    # if result[idx] != 0 :\n",
    "    # 찾아보면 이 줄을 꼭 다들 넣던데 안넣어도 값이 0이기 때문에 for문에 들어가지 않는다.\n",
    "    for n in range(result[idx]):\n",
    "        print(idx)"
   ],
   "metadata": {
    "collapsed": false,
    "pycharm": {
     "name": "#%%\n"
    }
   }
  },
  {
   "cell_type": "markdown",
   "source": [
    "sys.getsizeof(x) : 변수 x가 차지하는 메모리의 크기를 알려줌"
   ],
   "metadata": {
    "collapsed": false
   }
  },
  {
   "cell_type": "code",
   "execution_count": 33,
   "outputs": [
    {
     "name": "stdout",
     "output_type": "stream",
     "text": [
      "28\n"
     ]
    }
   ],
   "source": [
    "n = int(input())\n",
    "print(sys.getsizeof(n))"
   ],
   "metadata": {
    "collapsed": false,
    "pycharm": {
     "name": "#%%\n"
    }
   }
  },
  {
   "cell_type": "code",
   "execution_count": 34,
   "outputs": [
    {
     "name": "stdout",
     "output_type": "stream",
     "text": [
      "80064\n"
     ]
    }
   ],
   "source": [
    "result = [0] * n\n",
    "print(sys.getsizeof(result))"
   ],
   "metadata": {
    "collapsed": false,
    "pycharm": {
     "name": "#%%\n"
    }
   }
  },
  {
   "cell_type": "code",
   "execution_count": 29,
   "outputs": [
    {
     "name": "stdout",
     "output_type": "stream",
     "text": [
      "28\n"
     ]
    }
   ],
   "source": [
    "a = 10001\n",
    "print(sys.getsizeof(a))"
   ],
   "metadata": {
    "collapsed": false,
    "pycharm": {
     "name": "#%%\n"
    }
   }
  },
  {
   "cell_type": "code",
   "execution_count": 30,
   "outputs": [
    {
     "name": "stdout",
     "output_type": "stream",
     "text": [
      "80064\n",
      "80064\n"
     ]
    }
   ],
   "source": [
    "result = [0] * a\n",
    "print(sys.getsizeof(result))\n",
    "\n",
    "result = [0] * 10001\n",
    "print(sys.getsizeof(result))"
   ],
   "metadata": {
    "collapsed": false,
    "pycharm": {
     "name": "#%%\n"
    }
   }
  },
  {
   "cell_type": "code",
   "execution_count": 31,
   "outputs": [
    {
     "name": "stdout",
     "output_type": "stream",
     "text": [
      "28\n"
     ]
    }
   ],
   "source": [
    "print(sys.getsizeof(10001))"
   ],
   "metadata": {
    "collapsed": false,
    "pycharm": {
     "name": "#%%\n"
    }
   }
  },
  {
   "cell_type": "markdown",
   "source": [
    "똑같은데?"
   ],
   "metadata": {
    "collapsed": false
   }
  },
  {
   "cell_type": "markdown",
   "source": [
    "하지만 정답코드에서\n",
    "```python\n",
    "import sys\n",
    "n = int(sys.stdin.readline())\n",
    "result = [0] * 10001\n",
    "\n",
    "for _ in range(n) :\n",
    "    result[int(sys.stdin.readline())] += 1\n",
    "\n",
    "for idx in range(10001) :\n",
    "    for n in range(result[idx]):\n",
    "        print(idx)\n",
    "```\n",
    "세 번째줄을\n",
    "result = [0] * 10001  => result = [0] * n 으로 바꾸는 순간\n",
    "메모리초과로 실패하게된다."
   ],
   "metadata": {
    "collapsed": false,
    "pycharm": {
     "name": "#%% md\n"
    }
   }
  }
 ],
 "metadata": {
  "kernelspec": {
   "display_name": "Python 3",
   "language": "python",
   "name": "python3"
  },
  "language_info": {
   "codemirror_mode": {
    "name": "ipython",
    "version": 2
   },
   "file_extension": ".py",
   "mimetype": "text/x-python",
   "name": "python",
   "nbconvert_exporter": "python",
   "pygments_lexer": "ipython2",
   "version": "2.7.6"
  }
 },
 "nbformat": 4,
 "nbformat_minor": 0
}