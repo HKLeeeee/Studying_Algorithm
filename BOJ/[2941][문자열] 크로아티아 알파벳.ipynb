{
 "cells": [
  {
   "cell_type": "markdown",
   "source": [
    "# [5622] 다이얼"
   ],
   "metadata": {
    "collapsed": false
   }
  },
  {
   "cell_type": "code",
   "execution_count": 26,
   "outputs": [
    {
     "name": "stdout",
     "output_type": "stream",
     "text": [
      "36\n"
     ]
    }
   ],
   "source": [
    "dial = ['ABC', 'DEF', 'GHI', 'JKL', 'MNO', 'PQRS', 'TUV', 'WXYZ']\n",
    "S = input()\n",
    "time=0\n",
    "for s in S :\n",
    "    for i in range(len(dial)) :\n",
    "        if s in dial[i] :\n",
    "            time += (i+3)\n",
    "print(time)"
   ],
   "metadata": {
    "collapsed": false,
    "pycharm": {
     "name": "#%%\n"
    }
   }
  },
  {
   "cell_type": "markdown",
   "source": [
    "# [2941] 크로아티아 알파벳\n"
   ],
   "metadata": {
    "collapsed": false
   }
  },
  {
   "cell_type": "code",
   "execution_count": 14,
   "metadata": {
    "collapsed": true,
    "pycharm": {
     "name": "#%%\n"
    }
   },
   "outputs": [
    {
     "name": "stdout",
     "output_type": "stream",
     "text": [
      "3\n"
     ]
    }
   ],
   "source": [
    "croatia_alpahbet = ['c=', 'c-', 'dz=', 'd-', 'lj','nj', 's=', 'z=']\n",
    "S = input()\n",
    "num = 0\n",
    "l = 0\n",
    "for c in croatia_alpahbet :\n",
    "    if c in S :\n",
    "        S = S.replace(c, ' ')\n",
    "print(len(S))"
   ]
  },
  {
   "cell_type": "markdown",
   "source": [
    "# [1316] 그룹단어체커"
   ],
   "metadata": {
    "collapsed": false
   }
  },
  {
   "cell_type": "code",
   "execution_count": 31,
   "outputs": [
    {
     "name": "stdout",
     "output_type": "stream",
     "text": [
      "1\n"
     ]
    }
   ],
   "source": [
    "def checker(S):\n",
    "    checked = []\n",
    "    for i in range(len(S)) :\n",
    "        if S[i] not in checked :\n",
    "            checked.append(S[i])\n",
    "            # 처음 주어지는 단어\n",
    "        # 이전 알파벳과 같은 알파벳\n",
    "        elif i >=1 and S[i] == S[i-1] :  #이전에 알파벳이 주어진 적이 있고 직전 알파벳과 같으면\n",
    "            continue\n",
    "        else :\n",
    "            return False\n",
    "\n",
    "    return True\n",
    "\n",
    "n = int(input())\n",
    "anw = 0\n",
    "for i in range(n) :\n",
    "    if checker(input()) :\n",
    "        anw += 1\n",
    "\n",
    "print(anw)"
   ],
   "metadata": {
    "collapsed": false,
    "pycharm": {
     "name": "#%%\n"
    }
   }
  },
  {
   "cell_type": "markdown",
   "source": [],
   "metadata": {
    "collapsed": false
   }
  }
 ],
 "metadata": {
  "kernelspec": {
   "display_name": "Python 3",
   "language": "python",
   "name": "python3"
  },
  "language_info": {
   "codemirror_mode": {
    "name": "ipython",
    "version": 2
   },
   "file_extension": ".py",
   "mimetype": "text/x-python",
   "name": "python",
   "nbconvert_exporter": "python",
   "pygments_lexer": "ipython2",
   "version": "2.7.6"
  }
 },
 "nbformat": 4,
 "nbformat_minor": 0
}