{
 "cells": [
  {
   "cell_type": "markdown",
   "source": [
    "# 벌집"
   ],
   "metadata": {
    "collapsed": false
   }
  },
  {
   "cell_type": "code",
   "execution_count": null,
   "metadata": {
    "collapsed": true
   },
   "outputs": [],
   "source": [
    "N = int(input())\n",
    "i=1\n",
    "anw = 1\n",
    "if N != 1 :\n",
    "    N -= 1\n",
    "    while True:\n",
    "        if N <= i*6:\n",
    "            anw = i+1\n",
    "            break\n",
    "        else :\n",
    "            N -= i*6\n",
    "            i += 1\n",
    "print(anw)"
   ]
  },
  {
   "cell_type": "markdown",
   "source": [
    "# 분수찾기"
   ],
   "metadata": {
    "collapsed": false
   }
  },
  {
   "cell_type": "code",
   "execution_count": 21,
   "outputs": [
    {
     "name": "stdout",
     "output_type": "stream",
     "text": [
      "2/2\n"
     ]
    }
   ],
   "source": [
    "n = int(input())\n",
    "end = 1\n",
    "step = 2\n",
    "while n > end :\n",
    "    end += step\n",
    "    step += 1\n",
    "\n",
    "param = end - n + 1\n",
    "if step % 2 == 0 :\n",
    "    print('{}/{}'.format(param, step-param))\n",
    "else :\n",
    "    print('{}/{}'.format(step-param, param))"
   ],
   "metadata": {
    "collapsed": false,
    "pycharm": {
     "name": "#%%\n"
    }
   }
  },
  {
   "cell_type": "markdown",
   "source": [
    "# 달팽이는 올라가고 싶다"
   ],
   "metadata": {
    "collapsed": false
   }
  },
  {
   "cell_type": "code",
   "execution_count": 57,
   "outputs": [
    {
     "name": "stdout",
     "output_type": "stream",
     "text": [
      "2\n"
     ]
    }
   ],
   "source": [
    "import math\n",
    "a, b, v = map(int, input().split())\n",
    "remain = v-a\n",
    "one_day = a - b\n",
    "print(int(math.ceil(remain/one_day))+1)"
   ],
   "metadata": {
    "collapsed": false,
    "pycharm": {
     "name": "#%%\n"
    }
   }
  }
 ],
 "metadata": {
  "kernelspec": {
   "display_name": "Python 3",
   "language": "python",
   "name": "python3"
  },
  "language_info": {
   "codemirror_mode": {
    "name": "ipython",
    "version": 2
   },
   "file_extension": ".py",
   "mimetype": "text/x-python",
   "name": "python",
   "nbconvert_exporter": "python",
   "pygments_lexer": "ipython2",
   "version": "2.7.6"
  }
 },
 "nbformat": 4,
 "nbformat_minor": 0
}