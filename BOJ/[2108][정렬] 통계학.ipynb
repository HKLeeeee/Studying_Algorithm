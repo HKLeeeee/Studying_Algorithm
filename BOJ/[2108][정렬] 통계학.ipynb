{
 "cells": [
  {
   "cell_type": "markdown",
   "metadata": {
    "collapsed": true,
    "pycharm": {
     "name": "#%% md\n"
    }
   },
   "source": [
    "# 통계학\n",
    "수를 처리하는 것은 통계학에서 상당히 중요한 일이다. 통계학에서 N개의 수를 대표하는 기본 통계값에는 다음과 같은 것들이 있다. 단, N은 홀수라고 가정하자.\n",
    "\n",
    "1. 산술평균 : N개의 수들의 합을 N으로 나눈 값\n",
    "2. 중앙값 : N개의 수들을 증가하는 순서로 나열했을 경우 그 중앙에 위치하는 값\n",
    "3. 최빈값 : N개의 수들 중 가장 많이 나타나는 값\n",
    "4. 범위 : N개의 수들 중 최댓값과 최솟값의 차이\n",
    "\n",
    "N개의 수가 주어졌을 때, 네 가지 기본 통계값을 구하는 프로그램을 작성하시오."
   ]
  },
  {
   "cell_type": "code",
   "execution_count": 2,
   "outputs": [],
   "source": [
    "lst = [1, 3, 8, -2, 2]\n",
    "n = 5"
   ],
   "metadata": {
    "collapsed": false,
    "pycharm": {
     "name": "#%%\n"
    }
   }
  },
  {
   "cell_type": "code",
   "execution_count": 6,
   "outputs": [
    {
     "data": {
      "text/plain": "[-2, 1, 2, 3, 8]"
     },
     "execution_count": 6,
     "metadata": {},
     "output_type": "execute_result"
    }
   ],
   "source": [
    "lst = sorted(lst)\n",
    "lst"
   ],
   "metadata": {
    "collapsed": false,
    "pycharm": {
     "name": "#%%\n"
    }
   }
  },
  {
   "cell_type": "code",
   "execution_count": 8,
   "outputs": [
    {
     "data": {
      "text/plain": "2"
     },
     "execution_count": 8,
     "metadata": {},
     "output_type": "execute_result"
    }
   ],
   "source": [
    "counting = [0] * 8001\n",
    "med = round(n/2)\n",
    "med"
   ],
   "metadata": {
    "collapsed": false,
    "pycharm": {
     "name": "#%%\n"
    }
   }
  },
  {
   "cell_type": "markdown",
   "source": [
    "counting 정렬 직접 구현 ver"
   ],
   "metadata": {
    "collapsed": false
   }
  },
  {
   "cell_type": "code",
   "execution_count": 32,
   "outputs": [
    {
     "name": "stdout",
     "output_type": "stream",
     "text": [
      "-4000\n",
      "-4000\n",
      "-4000\n",
      "0\n"
     ]
    }
   ],
   "source": [
    "n = int(input())\n",
    "lst = []\n",
    "counting = [0 for _ in range(8001)]\n",
    "for i in range(n):\n",
    "    x = int(input())\n",
    "    lst.append(x)\n",
    "    # counting\n",
    "    if x < 0 :  # 음수는 counting 인덱스 4001부터\n",
    "        counting[abs(x-4000)] += 1\n",
    "    else :  # 0~4000은 0~4000 인덱스\n",
    "        counting[x] += 1\n",
    "lst = sorted(lst)\n",
    "\n",
    "# 산술 평균\n",
    "print(round(sum(lst)/n))\n",
    "\n",
    "# 중앙값\n",
    "print(lst[round(n/2)])\n",
    "\n",
    "# 최빈값\n",
    "m = max(counting)\n",
    "mode_lst = [idx for idx, v in enumerate(counting) if v == m ]\n",
    "for idx, v in enumerate(mode_lst):\n",
    "    if v > 4000 :\n",
    "        mode_lst[idx] = -v + 4000\n",
    "if len(mode_lst)==1 :\n",
    "    print(mode_lst[0])\n",
    "else :\n",
    "    mode_lst = sorted(mode_lst)\n",
    "    print(mode_lst[1])\n",
    "\n",
    "# 범위\n",
    "print(lst[-1]-lst[0])"
   ],
   "metadata": {
    "collapsed": false,
    "pycharm": {
     "name": "#%%\n"
    }
   }
  },
  {
   "cell_type": "markdown",
   "source": [
    "-> 틀렸습니다.\n",
    "-> 최빈값이 틀림"
   ],
   "metadata": {
    "collapsed": false
   }
  },
  {
   "cell_type": "markdown",
   "source": [
    "### collctions.Counter\n",
    "카운팅 해주는 모듈"
   ],
   "metadata": {
    "collapsed": false
   }
  },
  {
   "cell_type": "code",
   "execution_count": 57,
   "outputs": [
    {
     "name": "stdout",
     "output_type": "stream",
     "text": [
      "Counter({1: 2, 3: 1, 8: 1, -2: 1, 2: 1})\n"
     ]
    }
   ],
   "source": [
    "from collections import Counter\n",
    "\n",
    "lst = [1, 3, 8, -2, 2, 1]\n",
    "c=Counter(lst)\n",
    "print(c)"
   ],
   "metadata": {
    "collapsed": false,
    "pycharm": {
     "name": "#%%\n"
    }
   }
  },
  {
   "cell_type": "code",
   "execution_count": 60,
   "outputs": [
    {
     "data": {
      "text/plain": "[2, 1, 1, 1, 1]"
     },
     "execution_count": 60,
     "metadata": {},
     "output_type": "execute_result"
    }
   ],
   "source": [
    "list(c.values())"
   ],
   "metadata": {
    "collapsed": false,
    "pycharm": {
     "name": "#%%\n"
    }
   }
  },
  {
   "cell_type": "code",
   "execution_count": 49,
   "outputs": [
    {
     "name": "stdout",
     "output_type": "stream",
     "text": [
      "key 1\n",
      "values 2\n",
      "key 3\n",
      "values 1\n",
      "key 8\n",
      "values 1\n",
      "key -2\n",
      "values 1\n",
      "key 2\n",
      "values 1\n"
     ]
    }
   ],
   "source": [
    "m = max(c.values())\n",
    "for key, values in c.items() :\n",
    "    print('key',key)\n",
    "    print('values' ,values)"
   ],
   "metadata": {
    "collapsed": false,
    "pycharm": {
     "name": "#%%\n"
    }
   }
  },
  {
   "cell_type": "code",
   "execution_count": 82,
   "outputs": [
    {
     "name": "stdout",
     "output_type": "stream",
     "text": [
      "0\n",
      "0\n",
      "0\n",
      "1\n"
     ]
    }
   ],
   "source": [
    "from collections import Counter\n",
    "n = int(input())\n",
    "lst = []\n",
    "\n",
    "for i in range(n):\n",
    "    x = int(input())\n",
    "    lst.append(x)\n",
    "\n",
    "lst = sorted(lst)\n",
    "\n",
    "# 산술 평균\n",
    "print(round(sum(lst)/n))\n",
    "\n",
    "# 중앙값\n",
    "print(lst[n//2])\n",
    "\n",
    "# 최빈값\n",
    "counting = Counter(lst)\n",
    "mode_lst = counting.most_common(2)\n",
    "if len(mode_lst) == 1 : # 입력이 1인 경우\n",
    "    print(mode_lst[0][0])\n",
    "else :\n",
    "    if mode_lst[0][1] == mode_lst[1][1] :\n",
    "        print(mode_lst[1][0])\n",
    "    else :\n",
    "        print(mode_lst[0][0])\n",
    "\n",
    "# 범위\n",
    "print(lst[-1]-lst[0])"
   ],
   "metadata": {
    "collapsed": false,
    "pycharm": {
     "name": "#%%\n"
    }
   }
  },
  {
   "cell_type": "markdown",
   "source": [
    "https://docs.python.org/ko/3/library/collections.html#collections.Counter.most_common\n",
    "### counter 객체\n",
    "편리하고 빠르게 개수를 세도록 지원하는 계수기 도구가 제공됩니다.\n",
    "\n",
    "most_common([n])\n",
    "\n",
    "n 개의 가장 흔한 요소와 그 개수를 가장 흔한 것부터 가장 적은 것 순으로 나열한 리스트를 반환합니다. n이 생략되거나 None이면, most_common()은 계수기의 모든 요소를 반환합니다. 개수가 같은 요소는 처음 발견된 순서를 유지합니다."
   ],
   "metadata": {
    "collapsed": false
   }
  },
  {
   "cell_type": "code",
   "execution_count": null,
   "outputs": [],
   "source": [],
   "metadata": {
    "collapsed": false,
    "pycharm": {
     "name": "#%%\n"
    }
   }
  }
 ],
 "metadata": {
  "kernelspec": {
   "display_name": "Python 3",
   "language": "python",
   "name": "python3"
  },
  "language_info": {
   "codemirror_mode": {
    "name": "ipython",
    "version": 2
   },
   "file_extension": ".py",
   "mimetype": "text/x-python",
   "name": "python",
   "nbconvert_exporter": "python",
   "pygments_lexer": "ipython2",
   "version": "2.7.6"
  }
 },
 "nbformat": 4,
 "nbformat_minor": 0
}