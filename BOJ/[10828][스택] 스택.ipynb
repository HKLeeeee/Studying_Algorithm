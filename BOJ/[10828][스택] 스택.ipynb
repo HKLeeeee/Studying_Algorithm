{
 "cells": [
  {
   "cell_type": "markdown",
   "source": [
    "# 스택\n",
    "정수를 저장하는 스택을 구현한 다음, 입력으로 주어지는 명령을 처리하는 프로그램을 작성하시오.\n",
    "\n",
    "명령은 총 다섯 가지이다.\n",
    "\n",
    "- push X: 정수 X를 스택에 넣는 연산이다.\n",
    "- pop: 스택에서 가장 위에 있는 정수를 빼고, 그 수를 출력한다. 만약 스택에 들어있는 정수가 없는 경우에는 -1을 출력한다.\n",
    "- size: 스택에 들어있는 정수의 개수를 출력한다.\n",
    "- empty: 스택이 비어있으면 1, 아니면 0을 출력한다.\n",
    "- top: 스택의 가장 위에 있는 정수를 출력한다. 만약 스택에 들어있는 정수가 없는 경우에는 -1을 출력한다.\n",
    "\n",
    "### 입력\n",
    "첫째 줄에 주어지는 명령의 수 N (1 ≤ N ≤ 10,000)이 주어진다. 둘째 줄부터 N개의 줄에는 명령이 하나씩 주어진다. 주어지는 정수는 1보다 크거나 같고, 100,000보다 작거나 같다. 문제에 나와있지 않은 명령이 주어지는 경우는 없다."
   ],
   "metadata": {
    "collapsed": false
   }
  },
  {
   "cell_type": "code",
   "execution_count": 3,
   "metadata": {
    "collapsed": true
   },
   "outputs": [
    {
     "name": "stdout",
     "output_type": "stream",
     "text": [
      "2\n",
      "2\n",
      "0\n",
      "2\n",
      "1\n",
      "-1\n",
      "0\n",
      "1\n",
      "-1\n",
      "0\n",
      "3\n"
     ]
    }
   ],
   "source": [
    "import sys\n",
    "n = int(sys.stdin.readline())\n",
    "stack = []\n",
    "for _ in range(n):\n",
    "    command = sys.stdin.readline().split()\n",
    "\n",
    "    if command[0] == 'push' :\n",
    "        stack.append(int(command[1]))\n",
    "    elif command[0] == 'top' :\n",
    "        if len(stack) == 0 :\n",
    "            print(-1)\n",
    "        else :\n",
    "            print(stack[-1])\n",
    "    elif command[0] == 'size' :\n",
    "        print(len(stack))\n",
    "    elif command[0] == 'empty':\n",
    "        if len(stack) == 0 :\n",
    "            print(1)\n",
    "        else :\n",
    "            print(0)\n",
    "    elif command[0] == 'pop':\n",
    "        if len(stack) == 0 :\n",
    "            print(-1)\n",
    "        else :\n",
    "            print(stack[-1])\n",
    "            # pop\n",
    "            del stack[-1]"
   ]
  },
  {
   "cell_type": "markdown",
   "source": [
    "이전에 구현했던 자바코드\n",
    "```java\n",
    "import java.io.*;\n",
    "\n",
    "public class Main {\n",
    "\n",
    "\tpublic static void main(String[] args) {\n",
    "\t\ttry {\n",
    "\t\t\tBufferedReader br = new BufferedReader(new InputStreamReader(System.in));\n",
    "\t\t\tint n = Integer.parseInt(br.readLine());\n",
    "\t\t\tString command;\n",
    "\t\t\tint[] stack = new int[n+1];\n",
    "\t\t\tint top=0;\n",
    "\n",
    "\t\t\tfor(int i = 0; i<n; i++) {\n",
    "\t\t\t\tcommand = br.readLine();\n",
    "\t\t\t\tString[] com = command.split(\" \");\n",
    "\n",
    "\t\t\t\tif(\"push\".equals(com[0])) {\n",
    "\t\t\t\t\tstack[++top] = Integer.parseInt(com[1]);\n",
    "\t\t\t\t}\n",
    "\t\t\t\telse if(\"pop\".equals(com[0])) {\n",
    "\t\t\t\t\tif(top==0) System.out.println(\"-1\");\n",
    "\t\t\t\t\telse if(top>=1) System.out.println(stack[top--]);\n",
    "\t\t\t\t\t}\n",
    "\t\t\t\telse if(\"size\".equals(com[0])) {\n",
    "\t\t\t\t\tSystem.out.println(top);\n",
    "\t\t\t\t}\n",
    "\t\t\t\telse if(\"empty\".equals(com[0])){\n",
    "\t\t\t\t\tif(top==0) System.out.println(\"1\");\n",
    "\t\t\t\t\telse System.out.println(\"0\");\n",
    "\t\t\t\t}\n",
    "\t\t\t\telse if(\"top\".equals(com[0])) {\n",
    "\t\t\t\t\tif(top==0) System.out.println(\"-1\");\n",
    "\t\t\t\t\telse System.out.println(stack[top]);\n",
    "\t\t\t\t}\n",
    "\t\t\t}\n",
    "\t\t\tbr.close();\n",
    "\t\t}\n",
    "\t\tcatch(IOException e) {\n",
    "\t\t\te.printStackTrace();\n",
    "\t\t\tSystem.out.println(e.getMessage());\n",
    "\t\t}\n",
    "\n",
    "\n",
    "\t}\n",
    "}\n",
    "```"
   ],
   "metadata": {
    "collapsed": false,
    "pycharm": {
     "name": "#%% md\n"
    }
   }
  },
  {
   "cell_type": "code",
   "execution_count": null,
   "outputs": [],
   "source": [],
   "metadata": {
    "collapsed": false,
    "pycharm": {
     "name": "#%%\n"
    }
   }
  }
 ],
 "metadata": {
  "kernelspec": {
   "display_name": "Python 3",
   "language": "python",
   "name": "python3"
  },
  "language_info": {
   "codemirror_mode": {
    "name": "ipython",
    "version": 2
   },
   "file_extension": ".py",
   "mimetype": "text/x-python",
   "name": "python",
   "nbconvert_exporter": "python",
   "pygments_lexer": "ipython2",
   "version": "2.7.6"
  }
 },
 "nbformat": 4,
 "nbformat_minor": 0
}