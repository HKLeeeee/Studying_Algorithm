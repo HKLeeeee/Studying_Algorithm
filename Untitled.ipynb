{
 "cells": [
  {
   "cell_type": "code",
   "execution_count": 16,
   "id": "f4334326",
   "metadata": {},
   "outputs": [
    {
     "data": {
      "text/plain": [
       "124"
      ]
     },
     "execution_count": 16,
     "metadata": {},
     "output_type": "execute_result"
    }
   ],
   "source": [
    "a = ord(\"x\") + (ord(\"d\") - 96)\n",
    "a"
   ]
  },
  {
   "cell_type": "code",
   "execution_count": 19,
   "id": "08679546",
   "metadata": {},
   "outputs": [
    {
     "data": {
      "text/plain": [
       "'b'"
      ]
     },
     "execution_count": 19,
     "metadata": {},
     "output_type": "execute_result"
    }
   ],
   "source": [
    "chr(a - 122 + 96)"
   ]
  },
  {
   "cell_type": "code",
   "execution_count": 2,
   "id": "209e81f9",
   "metadata": {},
   "outputs": [
    {
     "data": {
      "text/plain": [
       "122"
      ]
     },
     "execution_count": 2,
     "metadata": {},
     "output_type": "execute_result"
    }
   ],
   "source": [
    "ord(\"z\")"
   ]
  },
  {
   "cell_type": "code",
   "execution_count": 3,
   "id": "879d5cc7",
   "metadata": {},
   "outputs": [
    {
     "data": {
      "text/plain": [
       "'y'"
      ]
     },
     "execution_count": 3,
     "metadata": {},
     "output_type": "execute_result"
    }
   ],
   "source": [
    "chr(122-1)"
   ]
  },
  {
   "cell_type": "code",
   "execution_count": 38,
   "id": "9167d9b3",
   "metadata": {},
   "outputs": [],
   "source": [
    "s = 'igoptvfbqyy'"
   ]
  },
  {
   "cell_type": "code",
   "execution_count": 41,
   "id": "c42459e8",
   "metadata": {},
   "outputs": [],
   "source": [
    "rotation = -3\n",
    "s = s[-rotation:]+s[0:-rotation]"
   ]
  },
  {
   "cell_type": "code",
   "execution_count": 42,
   "id": "e15d25ef",
   "metadata": {},
   "outputs": [
    {
     "data": {
      "text/plain": [
       "'igoptvfbqyy'"
      ]
     },
     "execution_count": 42,
     "metadata": {},
     "output_type": "execute_result"
    }
   ],
   "source": [
    "s"
   ]
  },
  {
   "cell_type": "code",
   "execution_count": 33,
   "id": "db653ac3",
   "metadata": {
    "scrolled": true
   },
   "outputs": [
    {
     "data": {
      "text/plain": [
       "-1"
      ]
     },
     "execution_count": 33,
     "metadata": {},
     "output_type": "execute_result"
    }
   ],
   "source": [
    "a=1\n",
    "-a"
   ]
  },
  {
   "cell_type": "code",
   "execution_count": 53,
   "id": "e823ccb3",
   "metadata": {},
   "outputs": [
    {
     "data": {
      "text/plain": [
       "'\\x80'"
      ]
     },
     "execution_count": 53,
     "metadata": {},
     "output_type": "execute_result"
    }
   ],
   "source": [
    "chr(ord(\"f\") + ord(\"\") - 96)"
   ]
  },
  {
   "cell_type": "code",
   "execution_count": 72,
   "id": "a1f8758e",
   "metadata": {},
   "outputs": [
    {
     "data": {
      "text/plain": [
       "26"
      ]
     },
     "execution_count": 72,
     "metadata": {},
     "output_type": "execute_result"
    }
   ],
   "source": [
    "122-96"
   ]
  },
  {
   "cell_type": "code",
   "execution_count": 98,
   "id": "520cb811",
   "metadata": {},
   "outputs": [
    {
     "name": "stdout",
     "output_type": "stream",
     "text": [
      "bdblrfnrdb\n"
     ]
    }
   ],
   "source": [
    "original = 'nonfiction'\n",
    "key = 'nonfiction'\n",
    "answer = ''\n",
    "rotation = -18\n",
    "for e, k in zip(original, key):\n",
    "    a = ord(e) + ord(k) - 96\n",
    "    if a > 122 :\n",
    "        a = a - 122 + 96\n",
    "    answer += chr(a)\n",
    "answer = answer[-rotation:] + answer[0:-rotation]\n",
    "print(answer)"
   ]
  },
  {
   "cell_type": "code",
   "execution_count": 102,
   "id": "17db4bee",
   "metadata": {},
   "outputs": [
    {
     "data": {
      "text/plain": [
       "-6"
      ]
     },
     "execution_count": 102,
     "metadata": {},
     "output_type": "execute_result"
    }
   ],
   "source": [
    "rotation = -20 \n",
    "\n",
    "rotation = -(-rotation % 7)\n",
    "rotation"
   ]
  },
  {
   "cell_type": "code",
   "execution_count": 103,
   "id": "ddb61cd7",
   "metadata": {},
   "outputs": [
    {
     "ename": "NameError",
     "evalue": "name 'roatation' is not defined",
     "output_type": "error",
     "traceback": [
      "\u001b[0;31m---------------------------------------------------------------------------\u001b[0m",
      "\u001b[0;31mNameError\u001b[0m                                 Traceback (most recent call last)",
      "Cell \u001b[0;32mIn[103], line 20\u001b[0m\n\u001b[1;32m     18\u001b[0m encrypted_text \u001b[38;5;241m=\u001b[39m \u001b[38;5;124m'\u001b[39m\u001b[38;5;124mlrfnrdbbdb\u001b[39m\u001b[38;5;124m'\u001b[39m\n\u001b[1;32m     19\u001b[0m key \u001b[38;5;241m=\u001b[39m \u001b[38;5;124m'\u001b[39m\u001b[38;5;124mnonfiction\u001b[39m\u001b[38;5;124m'\u001b[39m\n\u001b[0;32m---> 20\u001b[0m \u001b[43msolution\u001b[49m\u001b[43m(\u001b[49m\u001b[43mencrypted_text\u001b[49m\u001b[43m,\u001b[49m\u001b[43m \u001b[49m\u001b[43mkey\u001b[49m\u001b[43m,\u001b[49m\u001b[43m \u001b[49m\u001b[38;5;241;43m-\u001b[39;49m\u001b[38;5;241;43m20\u001b[39;49m\u001b[43m)\u001b[49m\n",
      "Cell \u001b[0;32mIn[103], line 3\u001b[0m, in \u001b[0;36msolution\u001b[0;34m(encrypted_text, key, rotation)\u001b[0m\n\u001b[1;32m      1\u001b[0m \u001b[38;5;28;01mdef\u001b[39;00m \u001b[38;5;21msolution\u001b[39m(encrypted_text, key, rotation):\n\u001b[1;32m      2\u001b[0m     \u001b[38;5;28;01mif\u001b[39;00m \u001b[38;5;28mabs\u001b[39m(rotation) \u001b[38;5;241m>\u001b[39m \u001b[38;5;28mlen\u001b[39m(encrypted_text) :\n\u001b[0;32m----> 3\u001b[0m         \u001b[38;5;28;01mif\u001b[39;00m \u001b[43mroatation\u001b[49m \u001b[38;5;241m>\u001b[39m\u001b[38;5;241m=\u001b[39m \u001b[38;5;241m0\u001b[39m :\n\u001b[1;32m      4\u001b[0m             rotation \u001b[38;5;241m%\u001b[39m\u001b[38;5;241m=\u001b[39m \u001b[38;5;28mlen\u001b[39m(encrypted_text)\n\u001b[1;32m      5\u001b[0m         \u001b[38;5;28;01melse\u001b[39;00m :\n",
      "\u001b[0;31mNameError\u001b[0m: name 'roatation' is not defined"
     ]
    }
   ],
   "source": [
    "def solution(encrypted_text, key, rotation):\n",
    "    if abs(rotation) > len(encrypted_text) :\n",
    "        if roatation >= 0 :\n",
    "            rotation %= len(encrypted_text)\n",
    "        else :\n",
    "            rotation = -(-rotation % len(encrypted_text))\n",
    "            \n",
    "    encrypted_text = encrypted_text[rotation:] + encrypted_text[0:rotation]\n",
    "    answer = ''\n",
    "    for e, k in zip(encrypted_text, key):\n",
    "        a = ord(e) - (ord(k) - 96)\n",
    "        if a < 97 :\n",
    "            a += 26 \n",
    "        answer += chr(a)\n",
    "    \n",
    "    return answer\n",
    "\n",
    "encrypted_text = 'lrfnrdbbdb'\n",
    "key = 'nonfiction'\n",
    "solution(encrypted_text, key, -20)"
   ]
  },
  {
   "cell_type": "code",
   "execution_count": 96,
   "id": "7d32c12b",
   "metadata": {
    "scrolled": true
   },
   "outputs": [
    {
     "name": "stdout",
     "output_type": "stream",
     "text": [
      "110 n\n",
      "111 o\n",
      "110 n\n",
      "102 f\n",
      "105 i\n",
      "99 c\n",
      "116 t\n",
      "105 i\n",
      "111 o\n",
      "110 n\n",
      "nonfiction\n"
     ]
    }
   ],
   "source": [
    "encrypted_text = 'lrfnrdbbdb'\n",
    "key = 'nonfiction'\n",
    "# encrypted_text='f'\n",
    "# key = 'g'\n",
    "answer = ''\n",
    "rotation = -3\n",
    "encrypted_text = encrypted_text[rotation:] + encrypted_text[0:rotation]\n",
    "for e, k in zip(encrypted_text, key):\n",
    "    a = ord(e) - (ord(k) - 96)\n",
    "    if a < 97 :\n",
    "        a += 26 \n",
    "    answer += chr(a)\n",
    "    print(a, chr(a))\n",
    "    \n",
    "print(answer)"
   ]
  },
  {
   "cell_type": "code",
   "execution_count": 104,
   "id": "b1d5206c",
   "metadata": {},
   "outputs": [
    {
     "data": {
      "text/plain": [
       "['alex111', '1000']"
      ]
     },
     "execution_count": 104,
     "metadata": {},
     "output_type": "execute_result"
    }
   ],
   "source": [
    "'alex111 1000'.split()\n"
   ]
  },
  {
   "cell_type": "code",
   "execution_count": 145,
   "id": "ce3032bc",
   "metadata": {},
   "outputs": [
    {
     "name": "stdout",
     "output_type": "stream",
     "text": [
      "defaultdict(<class 'list'>, {1.5: [2], 1.25: [4], -1.0: [3, -4], -2.0: [2, 3], 1.0: [-3], 0.0: [-5]})\n",
      "bullets [4, 1]\n",
      "hit 0\n",
      "bullets [4, 6]\n",
      "[2]\n",
      "del list [0]\n",
      "hit 1\n",
      "bullets [1, -2]\n",
      "[2, 3]\n",
      "del list [0]\n",
      "hit 2\n",
      "bullets [-4, -4]\n",
      "[-3]\n",
      "del list [0]\n",
      "hit 3\n",
      "bullets [-3, 0]\n",
      "[-5]\n",
      "del list [0]\n",
      "hit 4\n",
      "bullets [-4, 4]\n",
      "[3, -4]\n",
      "del list [1]\n",
      "hit 5\n"
     ]
    },
    {
     "data": {
      "text/plain": [
       "5"
      ]
     },
     "execution_count": 145,
     "metadata": {},
     "output_type": "execute_result"
    }
   ],
   "source": [
    "from collections import defaultdict\n",
    "import math\n",
    "monsters = [[2,3], [4,5],[3,-3], [2,-4], [3,-6], [-3,-3], [-5,0], [-4,4]]\n",
    "bullets = [[4,1], [4,6], [1,-2], [-4,-4], [-3,0], [-4,4]]\n",
    "def solution(monsters, bullets):\n",
    "    hit = 0\n",
    "    monsters_info = defaultdict(list) # {기울기 : [x좌표]}\n",
    "    for m in monsters :\n",
    "        if m[1] == 0:\n",
    "            monsters_info[0.0].append(m[0])\n",
    "        elif m[0] == 0 :\n",
    "            monsters_info[1.0].append(m[0])\n",
    "        else :\n",
    "            monsters_info[m[1] / m[0]].append(m[0])\n",
    "    print(monsters_info)\n",
    "    for i, b in enumerate(bullets):\n",
    "        print('bullets', b)\n",
    "        if b[1] == 0 :\n",
    "            bullets_inc = 0.0\n",
    "        elif b[0] == 0 :\n",
    "            bullets_inc = 1.0\n",
    "        else :\n",
    "            bullets_inc = b[1] / b[0]\n",
    "        if bullets_inc in monsters_info.keys() : # 기울기가 같고\n",
    "            track_monster = monsters_info[bullets_inc]\n",
    "            print(track_monster)\n",
    "            num_monsters = len(track_monster)\n",
    "            del_list = []\n",
    "            for j in range(num_monsters):\n",
    "                if (b[0] ^ track_monster[j]) >= 0 : # 방향이 같으면, x좌표로 비교\n",
    "                    hit += 1\n",
    "                    del_list.append(j)\n",
    "                    break\n",
    "            for d in del_list :\n",
    "                del monsters_info[bullets_inc][d]\n",
    "\n",
    "    return hit if hit > 0 else -1\n",
    "\n",
    "solution(monsters, bullets)"
   ]
  },
  {
   "cell_type": "code",
   "execution_count": 130,
   "id": "0be8874e",
   "metadata": {},
   "outputs": [
    {
     "name": "stdout",
     "output_type": "stream",
     "text": [
      "defaultdict(<class 'int'>, {2.0: 1, 0.5: 1, -2.0: 1, -0.3333333333333333: 1})\n",
      "0.0\n",
      "0.5\n"
     ]
    },
    {
     "data": {
      "text/plain": [
       "1"
      ]
     },
     "execution_count": 130,
     "metadata": {},
     "output_type": "execute_result"
    }
   ],
   "source": [
    "from collections import defaultdict\n",
    "import math\n",
    "def solution(monsters, bullets):\n",
    "    hit = 0\n",
    "    monsters_info = defaultdict(list) # {기울기 : [x좌표]}\n",
    "    for m in monsters :\n",
    "        if m[1] == 0:\n",
    "            monsters_info[0.0].append(m[0])\n",
    "        elif m[0] == 0 :\n",
    "            monsters_info[1.0].append(m[0])\n",
    "        else :\n",
    "            monsters_info[m[1] / m[0]].append(m[0])\n",
    "\n",
    "    for i, b in enumerate(bullets):\n",
    "        if b[1] == 0 :\n",
    "            bullets_inc = 0.0\n",
    "        elif b[0] == 0 :\n",
    "            bullets_inc = 1.0\n",
    "        else :\n",
    "            bullets_inc = b[1] / b[0]\n",
    "        if bullets_inc in monsters_info.keys() : # 기울기가 같고\n",
    "            track_monster = monsters_info[bullets_inc]\n",
    "            num_monster = len(track_monster)\n",
    "            for j in range(num_monster):\n",
    "                if (b[0] ^ track_monster[j]) >= 0 : # 방향이 같으면, x좌표로 비교\n",
    "                    hit += 1\n",
    "                    del monsters_info[bullets_inc][j]\n",
    "                    break\n",
    "    return hit if hit > 0 else -1"
   ]
  },
  {
   "cell_type": "code",
   "execution_count": 131,
   "id": "773e163d",
   "metadata": {},
   "outputs": [
    {
     "data": {
      "text/plain": [
       "-1"
      ]
     },
     "execution_count": 131,
     "metadata": {},
     "output_type": "execute_result"
    }
   ],
   "source": [
    "-2 | -1"
   ]
  },
  {
   "cell_type": "code",
   "execution_count": 134,
   "id": "8fd5dc0f",
   "metadata": {},
   "outputs": [
    {
     "data": {
      "text/plain": [
       "True"
      ]
     },
     "execution_count": 134,
     "metadata": {},
     "output_type": "execute_result"
    }
   ],
   "source": [
    "(1 ^ 2) >= 0"
   ]
  },
  {
   "cell_type": "code",
   "execution_count": null,
   "id": "7a207281",
   "metadata": {},
   "outputs": [],
   "source": [
    "(b[0] ^ monsters[i][0]) >= 0 "
   ]
  },
  {
   "cell_type": "code",
   "execution_count": 174,
   "id": "b89cd65d",
   "metadata": {},
   "outputs": [],
   "source": [
    "n = 8\n",
    "relation = [[1, 2], [2, 5], [2, 6], [1, 3], [1, 4], [3, 7], [2,8]]\n",
    "dirname = [\"root\", \"abcded\", \"cs\", \"hello\", \"etc\", \"hello\", \"solution\", '123456789123456789']"
   ]
  },
  {
   "cell_type": "code",
   "execution_count": 175,
   "id": "c8b22be0",
   "metadata": {},
   "outputs": [],
   "source": [
    "def solution(N, relation, dirname):\n",
    "  \n",
    "    relation = sorted(relation, key=lambda x : x[0])\n",
    "    name = {}\n",
    "    for i in range(1, N+1):\n",
    "        name[i] = dirname[i-1]\n",
    "        \n",
    "    for r in relation :\n",
    "        name[r[1]] = '/'.join([name[r[0]],dirname[r[1]-1]]) \n",
    "    path = list(map(len, name.values()))\n",
    "    print(name.values())\n",
    "    return max(path)"
   ]
  },
  {
   "cell_type": "code",
   "execution_count": 176,
   "id": "b429d756",
   "metadata": {},
   "outputs": [
    {
     "name": "stdout",
     "output_type": "stream",
     "text": [
      "dict_values(['root', 'root/abcded', 'root/cs', 'root/hello', 'root/abcded/etc', 'root/abcded/hello', 'root/cs/solution', 'root/abcded/123456789123456789'])\n"
     ]
    },
    {
     "data": {
      "text/plain": [
       "30"
      ]
     },
     "execution_count": 176,
     "metadata": {},
     "output_type": "execute_result"
    }
   ],
   "source": [
    "solution(n, relation, dirname)"
   ]
  },
  {
   "cell_type": "code",
   "execution_count": 177,
   "id": "646c9a2f",
   "metadata": {},
   "outputs": [
    {
     "data": {
      "text/plain": [
       "[2, 8]"
      ]
     },
     "execution_count": 177,
     "metadata": {},
     "output_type": "execute_result"
    }
   ],
   "source": [
    "relation.pop()"
   ]
  },
  {
   "cell_type": "code",
   "execution_count": 178,
   "id": "752d6cf7",
   "metadata": {},
   "outputs": [
    {
     "data": {
      "text/plain": [
       "['root',\n",
       " 'abcded',\n",
       " 'cs',\n",
       " 'hello',\n",
       " 'etc',\n",
       " 'hello',\n",
       " 'solution',\n",
       " '123456789123456789',\n",
       " 'a']"
      ]
     },
     "execution_count": 178,
     "metadata": {},
     "output_type": "execute_result"
    }
   ],
   "source": [
    "dirname + ['a']"
   ]
  },
  {
   "cell_type": "code",
   "execution_count": null,
   "id": "ccac42fb",
   "metadata": {},
   "outputs": [],
   "source": []
  }
 ],
 "metadata": {
  "kernelspec": {
   "display_name": "Python 3 (ipykernel)",
   "language": "python",
   "name": "python3"
  },
  "language_info": {
   "codemirror_mode": {
    "name": "ipython",
    "version": 3
   },
   "file_extension": ".py",
   "mimetype": "text/x-python",
   "name": "python",
   "nbconvert_exporter": "python",
   "pygments_lexer": "ipython3",
   "version": "3.11.3"
  }
 },
 "nbformat": 4,
 "nbformat_minor": 5
}
