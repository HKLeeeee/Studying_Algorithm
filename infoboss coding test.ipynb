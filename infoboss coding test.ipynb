{
 "cells": [
  {
   "cell_type": "code",
   "execution_count": 8,
   "id": "8df751c6",
   "metadata": {},
   "outputs": [],
   "source": [
    "arrA = [7,8,10]\n",
    "arrB = [10, 7, 8]"
   ]
  },
  {
   "cell_type": "code",
   "execution_count": 10,
   "id": "5e910b1d",
   "metadata": {},
   "outputs": [
    {
     "data": {
      "text/plain": [
       "True"
      ]
     },
     "execution_count": 10,
     "metadata": {},
     "output_type": "execute_result"
    }
   ],
   "source": [
    "set(arrA) == set(arrB)"
   ]
  },
  {
   "cell_type": "code",
   "execution_count": 7,
   "id": "68e002dd",
   "metadata": {},
   "outputs": [
    {
     "data": {
      "text/plain": [
       "{9}"
      ]
     },
     "execution_count": 7,
     "metadata": {},
     "output_type": "execute_result"
    }
   ],
   "source": [
    "set(arrA) - set(sorted(arrB))"
   ]
  },
  {
   "cell_type": "code",
   "execution_count": 3,
   "id": "8b819622",
   "metadata": {},
   "outputs": [
    {
     "data": {
      "text/plain": [
       "{7, 8, 9}"
      ]
     },
     "execution_count": 3,
     "metadata": {},
     "output_type": "execute_result"
    }
   ],
   "source": [
    "set(arrA)"
   ]
  },
  {
   "cell_type": "code",
   "execution_count": 5,
   "id": "d8684601",
   "metadata": {},
   "outputs": [
    {
     "data": {
      "text/plain": [
       "{7, 8, 10}"
      ]
     },
     "execution_count": 5,
     "metadata": {},
     "output_type": "execute_result"
    }
   ],
   "source": [
    "set(sorted(arrB))"
   ]
  },
  {
   "cell_type": "code",
   "execution_count": 14,
   "id": "c2edc0d6",
   "metadata": {},
   "outputs": [
    {
     "data": {
      "text/plain": [
       "False"
      ]
     },
     "execution_count": 14,
     "metadata": {},
     "output_type": "execute_result"
    }
   ],
   "source": [
    "[arrA[-1]] + arrA[:-1] == [7,8, 10]"
   ]
  },
  {
   "cell_type": "code",
   "execution_count": 39,
   "id": "3077fd47",
   "metadata": {},
   "outputs": [
    {
     "name": "stdout",
     "output_type": "stream",
     "text": [
      "[-1, -1, -1, -1, -1, -1, -1, -1, -1]\n",
      "m - -1 : max_profit = -1, profit = -1 \n",
      "m - -1 : max_profit = -1, profit = -1 \n",
      "m - -1 : max_profit = -1, profit = -1 \n",
      "m - -1 : max_profit = -1, profit = -1 \n",
      "m - -1 : max_profit = -1, profit = -1 \n",
      "m - -1 : max_profit = -1, profit = -1 \n",
      "m - -1 : max_profit = -1, profit = -1 \n",
      "m - -1 : max_profit = -1, profit = -1 \n",
      "m - -1 : max_profit = -1, profit = -1 \n"
     ]
    },
    {
     "data": {
      "text/plain": [
       "-1"
      ]
     },
     "execution_count": 39,
     "metadata": {},
     "output_type": "execute_result"
    }
   ],
   "source": [
    "#v = [3,1,4,1,5,9,2,6,5,3]\n",
    "v = [1,2,3,4,5,6,7,8,9,10]\n",
    "#v = [4,1,7,6,5,2]\n",
    "n = 10\n",
    "margin = []\n",
    "for i in range(n-1) :b\n",
    "    margin.append( v[i] - v[i+1])\n",
    "print(margin)\n",
    "\n",
    "low_profit = min(margin)\n",
    "max_profit = low_profit\n",
    "profit = low_profit\n",
    "for m in margin :\n",
    "    if m >=0 :\n",
    "        profit += m\n",
    "    else :\n",
    "        max_profit = max(max_profit, profit)\n",
    "        profit = low_profit\n",
    "    print(f'm - {m} : max_profit = {max_profit}, profit = {profit} ')\n",
    "max_profit = max(max_profit, profit)\n",
    "max_profit"
   ]
  },
  {
   "cell_type": "code",
   "execution_count": 44,
   "id": "f6e3c207",
   "metadata": {},
   "outputs": [
    {
     "name": "stdout",
     "output_type": "stream",
     "text": [
      "[-1, -1, -1, -1, -1, -1, -1, -1, -1]\n",
      "least loss -1\n",
      "m - -1 : max_profit = 0, profit = 0 \n",
      "m - -1 : max_profit = 0, profit = 0 \n",
      "m - -1 : max_profit = 0, profit = 0 \n",
      "m - -1 : max_profit = 0, profit = 0 \n",
      "m - -1 : max_profit = 0, profit = 0 \n",
      "m - -1 : max_profit = 0, profit = 0 \n",
      "m - -1 : max_profit = 0, profit = 0 \n",
      "m - -1 : max_profit = 0, profit = 0 \n",
      "m - -1 : max_profit = 0, profit = 0 \n"
     ]
    }
   ],
   "source": [
    "#v = [3,1,4,1,5,9,2,6,5,3]\n",
    "v = [1,2,3,4,5,6,7,8,9,10]\n",
    "#v = [4,1,7,6,5,2]\n",
    "n = 10\n",
    "margin = []\n",
    "cnt = 0\n",
    "for i in range(n-1) :\n",
    "    gap = v[i] - v[i+1]\n",
    "    margin.append(gap)\n",
    "    if gap < 0 :\n",
    "        cnt += 1\n",
    "print(margin)\n",
    "if cnt == n-1 :\n",
    "    print('least loss' , max(margin))\n",
    "low_profit = min(margin)\n",
    "max_profit = 0\n",
    "profit = low_profit\n",
    "for m in margin :\n",
    "    if m >=0 :\n",
    "        profit += m\n",
    "    else :\n",
    "        max_profit = max(max_profit, profit)\n",
    "        profit = 0\n",
    "    print(f'm - {m} : max_profit = {max_profit}, profit = {profit} ')\n",
    "max_profit = max(max_profit, profit)\n"
   ]
  },
  {
   "cell_type": "code",
   "execution_count": 53,
   "id": "19cc2070",
   "metadata": {},
   "outputs": [
    {
     "data": {
      "text/plain": [
       "True"
      ]
     },
     "execution_count": 53,
     "metadata": {},
     "output_type": "execute_result"
    }
   ],
   "source": [
    "s = \"abababab\"\n",
    "s[:2] == s[2:4]"
   ]
  },
  {
   "cell_type": "code",
   "execution_count": 52,
   "id": "3784a108",
   "metadata": {},
   "outputs": [
    {
     "data": {
      "text/plain": [
       "'ab'"
      ]
     },
     "execution_count": 52,
     "metadata": {},
     "output_type": "execute_result"
    }
   ],
   "source": [
    "s[2:4]"
   ]
  },
  {
   "cell_type": "code",
   "execution_count": 95,
   "id": "1b6ae05e",
   "metadata": {},
   "outputs": [
    {
     "name": "stdout",
     "output_type": "stream",
     "text": [
      "14\n",
      "\n",
      "part 1 ---------- r : 1 s : 0, e :1\n",
      "partial_str : a, compare_str : b\n",
      "diff!\n",
      "\n",
      "part 2 ---------- r : 2 s : 0, e :2\n",
      "partial_str : ab, compare_str : ca\n",
      "diff!\n",
      "\n",
      "part 3 ---------- r : 3 s : 0, e :3\n",
      "partial_str : abc, compare_str : abc\n",
      "same!\n",
      "\n",
      "part 4 ---------- r : 3 s : 3, e :6\n",
      "partial_str : abc, compare_str : dab\n",
      "diff!\n",
      "\n",
      "part 5 ---------- r : 7 s : 0, e :7\n",
      "partial_str : abcabcd, compare_str : abcabcd\n",
      "same!\n",
      "\n",
      "final ---------- r : 7 s : 7, e :14\n"
     ]
    }
   ],
   "source": [
    "s = 'abcabcdabcabcd'\n",
    "print(len(s))\n",
    "routine_size = 1\n",
    "start = 0\n",
    "end = start + 1\n",
    "cnt = 1\n",
    "while (start < len(s)) and (end < len(s)):\n",
    "    print(f'\\npart {cnt} ---------- r : {routine_size} s : {start}, e :{end}')\n",
    "    partial_str = s[start:end]\n",
    "    print(f'partial_str : {partial_str}, compare_str : {s[end:end+routine_size]}')\n",
    "    if partial_str == s[end:end+routine_size]:\n",
    "        print(f'same!')\n",
    "        start += routine_size\n",
    "        end += routine_size\n",
    "    else :\n",
    "        print(f'diff!')\n",
    "        start = 0\n",
    "        routine_size = end + 1\n",
    "        end += 1\n",
    "        \n",
    "    cnt += 1\n",
    "print(f'\\nfinal ---------- r : {routine_size} s : {start}, e :{end}')"
   ]
  },
  {
   "cell_type": "code",
   "execution_count": 121,
   "id": "4a60c66a",
   "metadata": {},
   "outputs": [],
   "source": [
    "def array_add(a, b):\n",
    "    assert len(a) == len(b)\n",
    "    result = []\n",
    "    for i in range(len(a)):\n",
    "        result.append(a[i]+b[i])\n",
    "    return result"
   ]
  },
  {
   "cell_type": "code",
   "execution_count": 118,
   "id": "8e6a3a5b",
   "metadata": {},
   "outputs": [
    {
     "data": {
      "text/plain": [
       "[[0, 2, 4, 6, 8, 10],\n",
       " [1, 3, 5, 7, 9, 11],\n",
       " [2, 4, 6, 8, 10, 12],\n",
       " [3, 5, 7, 9, 11, 13],\n",
       " [4, 6, 8, 10, 12, 14],\n",
       " [5, 7, 9, 11, 13, 15]]"
      ]
     },
     "execution_count": 118,
     "metadata": {},
     "output_type": "execute_result"
    }
   ],
   "source": [
    "n = 5\n",
    "r = 3 \n",
    "c = 2\n",
    "\n",
    "matrix = [[2*i+j for i in range(n+1)] for j in range(n+1)]\n",
    "matrix\n"
   ]
  },
  {
   "cell_type": "code",
   "execution_count": 120,
   "id": "460f4916",
   "metadata": {},
   "outputs": [
    {
     "data": {
      "text/plain": [
       "[[0, 2, 4, 6, 8, 10],\n",
       " [1, 1, 5, 7, 9, 11],\n",
       " [2, 4, 6, 8, 10, 12],\n",
       " [3, 5, 7, 9, 11, 13],\n",
       " [4, 6, 8, 10, 12, 14],\n",
       " [5, 7, 9, 11, 13, 15]]"
      ]
     },
     "execution_count": 120,
     "metadata": {},
     "output_type": "execute_result"
    }
   ],
   "source": [
    "matrix[1][1] =1\n",
    "matrix"
   ]
  },
  {
   "cell_type": "code",
   "execution_count": 109,
   "id": "f9da3ab8",
   "metadata": {},
   "outputs": [],
   "source": [
    "idx = [0,1]\n",
    "move = [(0, 1), (1,-1), (1,0), (-1,1)]"
   ]
  },
  {
   "cell_type": "code",
   "execution_count": 110,
   "id": "b15ed153",
   "metadata": {},
   "outputs": [
    {
     "data": {
      "text/plain": [
       "[0, 1]"
      ]
     },
     "execution_count": 110,
     "metadata": {},
     "output_type": "execute_result"
    }
   ],
   "source": [
    "array_add(idx, move[1])"
   ]
  },
  {
   "cell_type": "code",
   "execution_count": 111,
   "id": "efba65a8",
   "metadata": {},
   "outputs": [
    {
     "data": {
      "text/plain": [
       "0"
      ]
     },
     "execution_count": 111,
     "metadata": {},
     "output_type": "execute_result"
    }
   ],
   "source": [
    "matrix[idx[0]][idx[1]]"
   ]
  },
  {
   "cell_type": "code",
   "execution_count": 117,
   "id": "1d11c554",
   "metadata": {},
   "outputs": [
    {
     "data": {
      "text/plain": [
       "25"
      ]
     },
     "execution_count": 117,
     "metadata": {},
     "output_type": "execute_result"
    }
   ],
   "source": [
    "n**2"
   ]
  },
  {
   "cell_type": "code",
   "execution_count": 123,
   "id": "b3590281",
   "metadata": {},
   "outputs": [
    {
     "data": {
      "text/plain": [
       "1"
      ]
     },
     "execution_count": 123,
     "metadata": {},
     "output_type": "execute_result"
    }
   ],
   "source": [
    "move_idx = 5\n",
    "move_idx %= 4\n",
    "move_idx"
   ]
  },
  {
   "cell_type": "code",
   "execution_count": 146,
   "id": "462995b8",
   "metadata": {},
   "outputs": [],
   "source": [
    "def array_add(a, b):\n",
    "    assert len(a) == len(b)\n",
    "    result = []\n",
    "    for i in range(len(a)):\n",
    "        result.append(a[i]+b[i])\n",
    "    return result\n",
    "\n",
    "\n",
    "def solution(n, r, c):\n",
    "    matrix = [[0 for _ in range(n+1)] for _ in range(n+1)]\n",
    "    matrix[1][1] = 1\n",
    "\n",
    "    idx = [1,1]\n",
    "    move = [(0, 1), (1,-1), (1,0), (-1,1)]\n",
    "    move_idx = 0\n",
    "    num = 2\n",
    "\n",
    "    while num < n**2 :\n",
    "        if move_idx == 0 :\n",
    "            if idx[1] == n :\n",
    "                move[move_idx] = (1, 0)\n",
    "            idx = array_add(idx, move[move_idx])\n",
    "            matrix[idx[0]][idx[1]] = num\n",
    "            num += 1\n",
    "\n",
    "        elif move_idx == 1 :\n",
    "            while True:\n",
    "                idx = array_add(idx, move[move_idx])\n",
    "                matrix[idx[0]][idx[1]] = num\n",
    "                num += 1\n",
    "                if idx[1] == 1 :\n",
    "                    break\n",
    "\n",
    "        elif move_idx == 2 :\n",
    "            if idx[0] == n :\n",
    "                move[move_idx] = (0, 1)\n",
    "            idx = array_add(idx, move[move_idx])\n",
    "            matrix[idx[0]][idx[1]] = num\n",
    "            num += 1\n",
    "            \n",
    "        elif move_idx == 3 :\n",
    "            while True:\n",
    "                idx = array_add(idx, move[move_idx])\n",
    "                matrix[idx[0]][idx[1]] = num\n",
    "                num += 1\n",
    "                if idx[0] == 1 :\n",
    "                    break\n",
    "\n",
    "        move_idx += 1\n",
    "        move_idx %= 4\n",
    "        print(num, idx)\n",
    "    print(matrix)\n",
    "    return matrix"
   ]
  },
  {
   "cell_type": "code",
   "execution_count": 147,
   "id": "af24dba3",
   "metadata": {
    "scrolled": false
   },
   "outputs": [
    {
     "name": "stdout",
     "output_type": "stream",
     "text": [
      "3 [1, 2]\n",
      "4 [2, 1]\n",
      "5 [3, 1]\n",
      "7 [1, 3]\n",
      "8 [1, 4]\n",
      "11 [4, 1]\n",
      "12 [5, 1]\n",
      "16 [1, 5]\n",
      "17 [2, 5]\n"
     ]
    },
    {
     "ename": "IndexError",
     "evalue": "list index out of range",
     "output_type": "error",
     "traceback": [
      "\u001b[0;31m---------------------------------------------------------------------------\u001b[0m",
      "\u001b[0;31mIndexError\u001b[0m                                Traceback (most recent call last)",
      "Cell \u001b[0;32mIn[147], line 1\u001b[0m\n\u001b[0;32m----> 1\u001b[0m \u001b[43msolution\u001b[49m\u001b[43m(\u001b[49m\u001b[38;5;241;43m5\u001b[39;49m\u001b[43m,\u001b[49m\u001b[43m \u001b[49m\u001b[38;5;241;43m3\u001b[39;49m\u001b[43m,\u001b[49m\u001b[43m \u001b[49m\u001b[38;5;241;43m2\u001b[39;49m\u001b[43m)\u001b[49m\n",
      "Cell \u001b[0;32mIn[146], line 29\u001b[0m, in \u001b[0;36msolution\u001b[0;34m(n, r, c)\u001b[0m\n\u001b[1;32m     27\u001b[0m \u001b[38;5;28;01mwhile\u001b[39;00m \u001b[38;5;28;01mTrue\u001b[39;00m:\n\u001b[1;32m     28\u001b[0m     idx \u001b[38;5;241m=\u001b[39m array_add(idx, move[move_idx])\n\u001b[0;32m---> 29\u001b[0m     \u001b[43mmatrix\u001b[49m\u001b[43m[\u001b[49m\u001b[43midx\u001b[49m\u001b[43m[\u001b[49m\u001b[38;5;241;43m0\u001b[39;49m\u001b[43m]\u001b[49m\u001b[43m]\u001b[49m[idx[\u001b[38;5;241m1\u001b[39m]] \u001b[38;5;241m=\u001b[39m num\n\u001b[1;32m     30\u001b[0m     num \u001b[38;5;241m+\u001b[39m\u001b[38;5;241m=\u001b[39m \u001b[38;5;241m1\u001b[39m\n\u001b[1;32m     31\u001b[0m     \u001b[38;5;28;01mif\u001b[39;00m idx[\u001b[38;5;241m1\u001b[39m] \u001b[38;5;241m==\u001b[39m \u001b[38;5;241m1\u001b[39m :\n",
      "\u001b[0;31mIndexError\u001b[0m: list index out of range"
     ]
    }
   ],
   "source": [
    "solution(5, 3, 2)"
   ]
  },
  {
   "cell_type": "code",
   "execution_count": 153,
   "id": "e8d24f37",
   "metadata": {},
   "outputs": [
    {
     "name": "stdout",
     "output_type": "stream",
     "text": [
      "3 [1, 2]\n",
      "4 [2, 1]\n",
      "5 [3, 1]\n",
      "7 [1, 3]\n",
      "8 [1, 4]\n",
      "11 [4, 1]\n",
      "12 [5, 1]\n",
      "16 [1, 5]\n",
      "17 [2, 5]\n",
      "20 [5, 2]\n",
      "21 [5, 3]\n",
      "23 [3, 5]\n",
      "24 [4, 5]\n",
      "25 [5, 4]\n",
      "26 [5, 5]\n",
      "[[0, 0, 0, 0, 0, 0], [0, 1, 2, 6, 7, 15], [0, 3, 5, 8, 14, 16], [0, 4, 9, 13, 17, 22], [0, 10, 12, 18, 21, 23], [0, 11, 19, 20, 24, 25]]\n"
     ]
    }
   ],
   "source": [
    "    matrix = [[0 for _ in range(n+1)] for _ in range(n+1)]\n",
    "    matrix[1][1] = 1\n",
    "\n",
    "    idx = [1,1]\n",
    "    move = [(0, 1), (1,-1), (1,0), (-1,1)]\n",
    "    move_idx = 0\n",
    "    num = 2\n",
    "\n",
    "    while num <= n**2 :\n",
    "        if move_idx == 0 :\n",
    "            if idx[1] == n :\n",
    "                move[move_idx] = (1, 0)\n",
    "            idx = array_add(idx, move[move_idx])\n",
    "            matrix[idx[0]][idx[1]] = num\n",
    "            num += 1\n",
    "\n",
    "        elif move_idx == 1 :\n",
    "            move_cnt = abs(idx[0]-idx[1])\n",
    "            for _ in range(move_cnt):\n",
    "                idx = array_add(idx, move[move_idx])\n",
    "                matrix[idx[0]][idx[1]] = num\n",
    "                num += 1\n",
    "\n",
    "        elif move_idx == 2 :\n",
    "            if idx[0] == n :\n",
    "                move[move_idx] = (0, 1)\n",
    "            idx = array_add(idx, move[move_idx])\n",
    "            matrix[idx[0]][idx[1]] = num\n",
    "            num += 1\n",
    "            \n",
    "        elif move_idx == 3 :\n",
    "            move_cnt = abs(idx[0]-idx[1])\n",
    "            for _ in range(move_cnt):\n",
    "                idx = array_add(idx, move[move_idx])\n",
    "                matrix[idx[0]][idx[1]] = num\n",
    "                num += 1\n",
    "\n",
    "        move_idx += 1\n",
    "        move_idx %= 4\n",
    "        print(num, idx)\n",
    "    print(matrix)"
   ]
  },
  {
   "cell_type": "code",
   "execution_count": 154,
   "id": "3bb3fc81",
   "metadata": {},
   "outputs": [
    {
     "data": {
      "text/plain": [
       "[[0, 0, 0, 0, 0, 0],\n",
       " [0, 1, 2, 6, 7, 15],\n",
       " [0, 3, 5, 8, 14, 16],\n",
       " [0, 4, 9, 13, 17, 22],\n",
       " [0, 10, 12, 18, 21, 23],\n",
       " [0, 11, 19, 20, 24, 25]]"
      ]
     },
     "execution_count": 154,
     "metadata": {},
     "output_type": "execute_result"
    }
   ],
   "source": [
    "matrix"
   ]
  },
  {
   "cell_type": "code",
   "execution_count": 150,
   "id": "61572cc9",
   "metadata": {},
   "outputs": [
    {
     "data": {
      "text/plain": [
       "[6, 1]"
      ]
     },
     "execution_count": 150,
     "metadata": {},
     "output_type": "execute_result"
    }
   ],
   "source": [
    "idx"
   ]
  },
  {
   "cell_type": "code",
   "execution_count": null,
   "id": "d1c68e7d",
   "metadata": {},
   "outputs": [],
   "source": []
  }
 ],
 "metadata": {
  "kernelspec": {
   "display_name": "Python 3 (ipykernel)",
   "language": "python",
   "name": "python3"
  },
  "language_info": {
   "codemirror_mode": {
    "name": "ipython",
    "version": 3
   },
   "file_extension": ".py",
   "mimetype": "text/x-python",
   "name": "python",
   "nbconvert_exporter": "python",
   "pygments_lexer": "ipython3",
   "version": "3.11.3"
  }
 },
 "nbformat": 4,
 "nbformat_minor": 5
}
