{
 "cells": [
  {
   "cell_type": "code",
   "execution_count": 16,
   "metadata": {},
   "outputs": [],
   "source": [
    "def solution(priorities, location):\n",
    "    order = []\n",
    "    n = len(priorities)\n",
    "    for i in range(n) :\n",
    "        t = priorities[i]\n",
    "        j = i+1\n",
    "        for j in range(i+1, n) :\n",
    "            \n",
    "        while(j+1<len(priorities)):\n",
    "            j+=1\n",
    "            if(t<priorities[j]) :\n",
    "                priorities.append(t)\n",
    "                break\n",
    "            if j+1 == len(priorities) :\n",
    "                print(j,\" \", priorities[j])\n",
    "                order.append(i)     \n",
    "    return order.index(location)"
   ]
  },
  {
   "cell_type": "code",
   "execution_count": 17,
   "metadata": {},
   "outputs": [],
   "source": [
    "p = [2, 1, 3, 2]\n",
    "lo = 2"
   ]
  },
  {
   "cell_type": "code",
   "execution_count": 18,
   "metadata": {},
   "outputs": [
    {
     "name": "stdout",
     "output_type": "stream",
     "text": [
      "5   1\n",
      "5   1\n"
     ]
    },
    {
     "data": {
      "text/plain": [
       "0"
      ]
     },
     "execution_count": 18,
     "metadata": {},
     "output_type": "execute_result"
    }
   ],
   "source": [
    "solution(p, lo)"
   ]
  },
  {
   "cell_type": "code",
   "execution_count": null,
   "metadata": {},
   "outputs": [],
   "source": []
  }
 ],
 "metadata": {
  "kernelspec": {
   "display_name": "Python 3",
   "language": "python",
   "name": "python3"
  },
  "language_info": {
   "codemirror_mode": {
    "name": "ipython",
    "version": 3
   },
   "file_extension": ".py",
   "mimetype": "text/x-python",
   "name": "python",
   "nbconvert_exporter": "python",
   "pygments_lexer": "ipython3",
   "version": "3.8.5"
  }
 },
 "nbformat": 4,
 "nbformat_minor": 4
}
