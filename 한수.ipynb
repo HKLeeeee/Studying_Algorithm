{
 "cells": [
  {
   "cell_type": "markdown",
   "id": "d03c43d1",
   "metadata": {},
   "source": [
    "## 한수\n",
    "자연수의 각 자리가 등차수열인 수를 한수라고 한다. N이 주어졌을 때 1보다 크고 N보다 작은 한수의 개수를 구하시오  \n",
    "N은 1000보다 작거나 같다  \n",
    "1000은 한수가 될 수 없다.=1000은 고려하지 않아도 됨"
   ]
  },
  {
   "cell_type": "code",
   "execution_count": 3,
   "id": "26965822",
   "metadata": {},
   "outputs": [],
   "source": [
    "def count(n, k, j, i, li) :\n",
    "    num = k*100 + j*10 + i\n",
    "    if num < n and num > 0 :\n",
    "        li.append(num)"
   ]
  },
  {
   "cell_type": "code",
   "execution_count": null,
   "id": "0d759126",
   "metadata": {},
   "outputs": [],
   "source": [
    "n = int(input())\n",
    "answer = []\n",
    "\n",
    " # i = 1의 자리수, j = 10의 자리수, k = 100의 자리수\n",
    "## 등차가 양수\n",
    "for i in range(10) :\n",
    "    for d in range(1, 10) :\n",
    "        j = i+d\n",
    "        k = j+d\n",
    "        if j >= 10 :\n",
    "            j = 0\n",
    "        if k >= 10 :\n",
    "            k = 0\n",
    "        count(n, k, j, i, answer)\n",
    "        \n",
    "## 등차가 0       \n",
    "for i in range(1, 10) :            \n",
    "    j = i\n",
    "    k = i\n",
    "    count(n, 0, j, i, answer) ##두자리수\n",
    "    count(n, k, j, i, answer) ##세자리수\n",
    "    \n",
    "for i in range(10) :        \n",
    "    ## 등차가 음수\n",
    "    \n",
    "    \n",
    "cnt = set(answer)\n",
    "print(len(cnt))"
   ]
  },
  {
   "cell_type": "markdown",
   "id": "75c21a9a",
   "metadata": {},
   "source": [
    "시작값(1의 자리수 0~9), 등차(-9 ~ 9; 음수, 0, 양수), n\n",
    "<0>\n",
    "\n",
    "<1>\n",
    "9 8 7 6 5 4 3 2 1 0  \n",
    "8 7 6 5 4 3 2 1 0\n",
    "7 6 5 4 3 2 1 0\n",
    "6 5 4 3 2 1 0\n",
    "5 4 3 2 1 0\n",
    "\n",
    "<2>\n",
    "9 7 5 3 1  \n",
    "8 6 4 2 0  \n",
    "7 5 3 1  \n",
    "6 4 2 0\n",
    "5 3 1  \n",
    "4 2 0 \n",
    "\n",
    "<3>\n",
    "9 6 3 0 \n",
    "9 5 1  \n",
    "9 4\n",
    "\n",
    ".\n",
    ".\n",
    ".\n",
    "\n",
    "<9>\n",
    "9 0\n"
   ]
  }
 ],
 "metadata": {
  "kernelspec": {
   "display_name": "Python 3",
   "language": "python",
   "name": "python3"
  },
  "language_info": {
   "codemirror_mode": {
    "name": "ipython",
    "version": 3
   },
   "file_extension": ".py",
   "mimetype": "text/x-python",
   "name": "python",
   "nbconvert_exporter": "python",
   "pygments_lexer": "ipython3",
   "version": "3.8.8"
  }
 },
 "nbformat": 4,
 "nbformat_minor": 5
}
