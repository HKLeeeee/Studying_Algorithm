{
 "cells": [
  {
   "cell_type": "code",
   "execution_count": 1,
   "metadata": {
    "pycharm": {
     "name": "#%%\n"
    }
   },
   "outputs": [],
   "source": [
    "import matplotlib.pyplot as plt\n",
    "import numpy as np\n",
    "import pandas as pd\n",
    "# 한글폰트 적용을 위해 필요한 library\n",
    "import matplotlib as mpl\n",
    "import matplotlib.font_manager as fm\n",
    "from matplotlib import rc\n",
    "\n",
    "import warnings\n",
    "warnings.filterwarnings(action='ignore') # 경고 무시\n",
    "\n",
    "# 그래프에서 '-' 기호가 문제가 생길 수 있음\n",
    "mpl.rcParams['axes.unicode_minus'] = False\n",
    "\n",
    "# 한글 폰트 적용\n",
    "font_path = 'C:/jupyter_home/font/malgun.ttf'\n",
    "font_name = fm.FontProperties(fname=font_path).get_name()\n",
    "rc('font', family=font_name)"
   ]
  },
  {
   "cell_type": "markdown",
   "metadata": {},
   "source": [
    "## 0. DataLoad"
   ]
  },
  {
   "cell_type": "code",
   "execution_count": 2,
   "metadata": {
    "pycharm": {
     "name": "#%%\n"
    }
   },
   "outputs": [],
   "source": [
    "movie = pd.read_csv('C:/jupyter_home/data/movies/movies.csv')\n",
    "rating = pd.read_csv('C:/jupyter_home/data/movies/ratings.csv')"
   ]
  },
  {
   "cell_type": "code",
   "execution_count": 3,
   "metadata": {
    "pycharm": {
     "name": "#%%\n"
    }
   },
   "outputs": [
    {
     "data": {
      "text/html": [
       "<div>\n",
       "<style scoped>\n",
       "    .dataframe tbody tr th:only-of-type {\n",
       "        vertical-align: middle;\n",
       "    }\n",
       "\n",
       "    .dataframe tbody tr th {\n",
       "        vertical-align: top;\n",
       "    }\n",
       "\n",
       "    .dataframe thead th {\n",
       "        text-align: right;\n",
       "    }\n",
       "</style>\n",
       "<table border=\"1\" class=\"dataframe\">\n",
       "  <thead>\n",
       "    <tr style=\"text-align: right;\">\n",
       "      <th></th>\n",
       "      <th>movieId</th>\n",
       "      <th>title</th>\n",
       "      <th>genres</th>\n",
       "    </tr>\n",
       "  </thead>\n",
       "  <tbody>\n",
       "    <tr>\n",
       "      <th>0</th>\n",
       "      <td>1</td>\n",
       "      <td>Toy Story (1995)</td>\n",
       "      <td>Adventure|Animation|Children|Comedy|Fantasy</td>\n",
       "    </tr>\n",
       "    <tr>\n",
       "      <th>1</th>\n",
       "      <td>2</td>\n",
       "      <td>Jumanji (1995)</td>\n",
       "      <td>Adventure|Children|Fantasy</td>\n",
       "    </tr>\n",
       "    <tr>\n",
       "      <th>2</th>\n",
       "      <td>3</td>\n",
       "      <td>Grumpier Old Men (1995)</td>\n",
       "      <td>Comedy|Romance</td>\n",
       "    </tr>\n",
       "    <tr>\n",
       "      <th>3</th>\n",
       "      <td>4</td>\n",
       "      <td>Waiting to Exhale (1995)</td>\n",
       "      <td>Comedy|Drama|Romance</td>\n",
       "    </tr>\n",
       "    <tr>\n",
       "      <th>4</th>\n",
       "      <td>5</td>\n",
       "      <td>Father of the Bride Part II (1995)</td>\n",
       "      <td>Comedy</td>\n",
       "    </tr>\n",
       "  </tbody>\n",
       "</table>\n",
       "</div>"
      ],
      "text/plain": [
       "   movieId                               title  \\\n",
       "0        1                    Toy Story (1995)   \n",
       "1        2                      Jumanji (1995)   \n",
       "2        3             Grumpier Old Men (1995)   \n",
       "3        4            Waiting to Exhale (1995)   \n",
       "4        5  Father of the Bride Part II (1995)   \n",
       "\n",
       "                                        genres  \n",
       "0  Adventure|Animation|Children|Comedy|Fantasy  \n",
       "1                   Adventure|Children|Fantasy  \n",
       "2                               Comedy|Romance  \n",
       "3                         Comedy|Drama|Romance  \n",
       "4                                       Comedy  "
      ]
     },
     "execution_count": 3,
     "metadata": {},
     "output_type": "execute_result"
    }
   ],
   "source": [
    "movie.head()"
   ]
  },
  {
   "cell_type": "code",
   "execution_count": 4,
   "metadata": {
    "pycharm": {
     "name": "#%%\n"
    }
   },
   "outputs": [
    {
     "data": {
      "text/html": [
       "<div>\n",
       "<style scoped>\n",
       "    .dataframe tbody tr th:only-of-type {\n",
       "        vertical-align: middle;\n",
       "    }\n",
       "\n",
       "    .dataframe tbody tr th {\n",
       "        vertical-align: top;\n",
       "    }\n",
       "\n",
       "    .dataframe thead th {\n",
       "        text-align: right;\n",
       "    }\n",
       "</style>\n",
       "<table border=\"1\" class=\"dataframe\">\n",
       "  <thead>\n",
       "    <tr style=\"text-align: right;\">\n",
       "      <th></th>\n",
       "      <th>userId</th>\n",
       "      <th>movieId</th>\n",
       "      <th>rating</th>\n",
       "      <th>timestamp</th>\n",
       "    </tr>\n",
       "  </thead>\n",
       "  <tbody>\n",
       "    <tr>\n",
       "      <th>0</th>\n",
       "      <td>1</td>\n",
       "      <td>1</td>\n",
       "      <td>4.0</td>\n",
       "      <td>964982703</td>\n",
       "    </tr>\n",
       "    <tr>\n",
       "      <th>1</th>\n",
       "      <td>1</td>\n",
       "      <td>3</td>\n",
       "      <td>4.0</td>\n",
       "      <td>964981247</td>\n",
       "    </tr>\n",
       "    <tr>\n",
       "      <th>2</th>\n",
       "      <td>1</td>\n",
       "      <td>6</td>\n",
       "      <td>4.0</td>\n",
       "      <td>964982224</td>\n",
       "    </tr>\n",
       "    <tr>\n",
       "      <th>3</th>\n",
       "      <td>1</td>\n",
       "      <td>47</td>\n",
       "      <td>5.0</td>\n",
       "      <td>964983815</td>\n",
       "    </tr>\n",
       "    <tr>\n",
       "      <th>4</th>\n",
       "      <td>1</td>\n",
       "      <td>50</td>\n",
       "      <td>5.0</td>\n",
       "      <td>964982931</td>\n",
       "    </tr>\n",
       "  </tbody>\n",
       "</table>\n",
       "</div>"
      ],
      "text/plain": [
       "   userId  movieId  rating  timestamp\n",
       "0       1        1     4.0  964982703\n",
       "1       1        3     4.0  964981247\n",
       "2       1        6     4.0  964982224\n",
       "3       1       47     5.0  964983815\n",
       "4       1       50     5.0  964982931"
      ]
     },
     "execution_count": 4,
     "metadata": {},
     "output_type": "execute_result"
    }
   ],
   "source": [
    "rating.head()"
   ]
  },
  {
   "cell_type": "markdown",
   "metadata": {},
   "source": [
    "---"
   ]
  },
  {
   "cell_type": "markdown",
   "metadata": {
    "pycharm": {
     "name": "#%% md\n"
    }
   },
   "source": [
    "## 1. 사용자가 평가한 모든 영화의 전체 평균 평점을 출력하세요"
   ]
  },
  {
   "cell_type": "code",
   "execution_count": 5,
   "metadata": {
    "pycharm": {
     "name": "#%%\n"
    }
   },
   "outputs": [
    {
     "name": "stdout",
     "output_type": "stream",
     "text": [
      "3.501556983616962\n"
     ]
    }
   ],
   "source": [
    "print(rating['rating'].mean())"
   ]
  },
  {
   "cell_type": "markdown",
   "metadata": {},
   "source": [
    "## 2. 각 사용자별 평균 평점을 구하세요"
   ]
  },
  {
   "cell_type": "code",
   "execution_count": 6,
   "metadata": {
    "pycharm": {
     "name": "#%%\n"
    }
   },
   "outputs": [],
   "source": [
    "user_rate = rating.groupby('userId')['rating'].mean()"
   ]
  },
  {
   "cell_type": "code",
   "execution_count": 7,
   "metadata": {
    "pycharm": {
     "name": "#%%\n"
    }
   },
   "outputs": [
    {
     "data": {
      "text/plain": [
       "userId\n",
       "1      4.366379\n",
       "2      3.948276\n",
       "3      2.435897\n",
       "4      3.555556\n",
       "5      3.636364\n",
       "         ...   \n",
       "606    3.657399\n",
       "607    3.786096\n",
       "608    3.134176\n",
       "609    3.270270\n",
       "610    3.688556\n",
       "Name: rating, Length: 610, dtype: float64"
      ]
     },
     "execution_count": 7,
     "metadata": {},
     "output_type": "execute_result"
    }
   ],
   "source": [
    "user_rate"
   ]
  },
  {
   "cell_type": "markdown",
   "metadata": {},
   "source": [
    "## 3. 각 영화별 평균 평점을 구하세요.\n",
    "출력시 정렬은 movieID로 오름차순 정렬\n"
   ]
  },
  {
   "cell_type": "code",
   "execution_count": 8,
   "metadata": {
    "pycharm": {
     "name": "#%%\n"
    }
   },
   "outputs": [
    {
     "data": {
      "text/plain": [
       "movieId\n",
       "1         3.920930\n",
       "2         3.431818\n",
       "3         3.259615\n",
       "4         2.357143\n",
       "5         3.071429\n",
       "            ...   \n",
       "193581    4.000000\n",
       "193583    3.500000\n",
       "193585    3.500000\n",
       "193587    3.500000\n",
       "193609    4.000000\n",
       "Name: rating, Length: 9724, dtype: float64"
      ]
     },
     "execution_count": 8,
     "metadata": {},
     "output_type": "execute_result"
    }
   ],
   "source": [
    "movie_rate = rating.groupby('movieId')['rating'].mean()\n",
    "movie_rate"
   ]
  },
  {
   "cell_type": "code",
   "execution_count": 9,
   "metadata": {
    "pycharm": {
     "name": "#%%\n"
    }
   },
   "outputs": [
    {
     "data": {
      "text/html": [
       "<div>\n",
       "<style scoped>\n",
       "    .dataframe tbody tr th:only-of-type {\n",
       "        vertical-align: middle;\n",
       "    }\n",
       "\n",
       "    .dataframe tbody tr th {\n",
       "        vertical-align: top;\n",
       "    }\n",
       "\n",
       "    .dataframe thead th {\n",
       "        text-align: right;\n",
       "    }\n",
       "</style>\n",
       "<table border=\"1\" class=\"dataframe\">\n",
       "  <thead>\n",
       "    <tr style=\"text-align: right;\">\n",
       "      <th></th>\n",
       "      <th>movieId</th>\n",
       "      <th>title</th>\n",
       "      <th>rating</th>\n",
       "    </tr>\n",
       "  </thead>\n",
       "  <tbody>\n",
       "    <tr>\n",
       "      <th>0</th>\n",
       "      <td>1</td>\n",
       "      <td>Toy Story (1995)</td>\n",
       "      <td>3.920930</td>\n",
       "    </tr>\n",
       "    <tr>\n",
       "      <th>1</th>\n",
       "      <td>2</td>\n",
       "      <td>Jumanji (1995)</td>\n",
       "      <td>3.431818</td>\n",
       "    </tr>\n",
       "    <tr>\n",
       "      <th>2</th>\n",
       "      <td>3</td>\n",
       "      <td>Grumpier Old Men (1995)</td>\n",
       "      <td>3.259615</td>\n",
       "    </tr>\n",
       "    <tr>\n",
       "      <th>3</th>\n",
       "      <td>4</td>\n",
       "      <td>Waiting to Exhale (1995)</td>\n",
       "      <td>2.357143</td>\n",
       "    </tr>\n",
       "    <tr>\n",
       "      <th>4</th>\n",
       "      <td>5</td>\n",
       "      <td>Father of the Bride Part II (1995)</td>\n",
       "      <td>3.071429</td>\n",
       "    </tr>\n",
       "    <tr>\n",
       "      <th>...</th>\n",
       "      <td>...</td>\n",
       "      <td>...</td>\n",
       "      <td>...</td>\n",
       "    </tr>\n",
       "    <tr>\n",
       "      <th>9737</th>\n",
       "      <td>193581</td>\n",
       "      <td>Black Butler: Book of the Atlantic (2017)</td>\n",
       "      <td>4.000000</td>\n",
       "    </tr>\n",
       "    <tr>\n",
       "      <th>9738</th>\n",
       "      <td>193583</td>\n",
       "      <td>No Game No Life: Zero (2017)</td>\n",
       "      <td>3.500000</td>\n",
       "    </tr>\n",
       "    <tr>\n",
       "      <th>9739</th>\n",
       "      <td>193585</td>\n",
       "      <td>Flint (2017)</td>\n",
       "      <td>3.500000</td>\n",
       "    </tr>\n",
       "    <tr>\n",
       "      <th>9740</th>\n",
       "      <td>193587</td>\n",
       "      <td>Bungo Stray Dogs: Dead Apple (2018)</td>\n",
       "      <td>3.500000</td>\n",
       "    </tr>\n",
       "    <tr>\n",
       "      <th>9741</th>\n",
       "      <td>193609</td>\n",
       "      <td>Andrew Dice Clay: Dice Rules (1991)</td>\n",
       "      <td>4.000000</td>\n",
       "    </tr>\n",
       "  </tbody>\n",
       "</table>\n",
       "<p>9724 rows × 3 columns</p>\n",
       "</div>"
      ],
      "text/plain": [
       "      movieId                                      title    rating\n",
       "0           1                           Toy Story (1995)  3.920930\n",
       "1           2                             Jumanji (1995)  3.431818\n",
       "2           3                    Grumpier Old Men (1995)  3.259615\n",
       "3           4                   Waiting to Exhale (1995)  2.357143\n",
       "4           5         Father of the Bride Part II (1995)  3.071429\n",
       "...       ...                                        ...       ...\n",
       "9737   193581  Black Butler: Book of the Atlantic (2017)  4.000000\n",
       "9738   193583               No Game No Life: Zero (2017)  3.500000\n",
       "9739   193585                               Flint (2017)  3.500000\n",
       "9740   193587        Bungo Stray Dogs: Dead Apple (2018)  3.500000\n",
       "9741   193609        Andrew Dice Clay: Dice Rules (1991)  4.000000\n",
       "\n",
       "[9724 rows x 3 columns]"
      ]
     },
     "execution_count": 9,
     "metadata": {},
     "output_type": "execute_result"
    }
   ],
   "source": [
    "movie_rate_with_title = pd.merge(movie, movie_rate,\n",
    "                                 left_on='movieId',\n",
    "                                 right_index=True,\n",
    "                                 how='inner')\n",
    "movie_rate_with_title = movie_rate_with_title.drop('genres', axis=1)\n",
    "movie_rate_with_title"
   ]
  },
  {
   "cell_type": "markdown",
   "metadata": {},
   "source": [
    "## 4. 평균 평점이 가장 높은 영화의 제목을 출력하세요\n",
    "단, 동률이 있을 경우 모두 출력하고 title을 기준으로 오름차순 정렬하세요"
   ]
  },
  {
   "cell_type": "code",
   "execution_count": 10,
   "metadata": {
    "pycharm": {
     "name": "#%%\n"
    }
   },
   "outputs": [],
   "source": [
    "top_rating = movie_rate.max()  # 3번에서 구한 영화별 평균평점에서 최대값 : 5\n",
    "top_movie_lst = movie_rate[movie_rate==top_rating] # 평균평점이 5인 영화의 리스트"
   ]
  },
  {
   "cell_type": "code",
   "execution_count": 11,
   "metadata": {
    "pycharm": {
     "name": "#%%\n"
    }
   },
   "outputs": [
    {
     "data": {
      "text/html": [
       "<div>\n",
       "<style scoped>\n",
       "    .dataframe tbody tr th:only-of-type {\n",
       "        vertical-align: middle;\n",
       "    }\n",
       "\n",
       "    .dataframe tbody tr th {\n",
       "        vertical-align: top;\n",
       "    }\n",
       "\n",
       "    .dataframe thead th {\n",
       "        text-align: right;\n",
       "    }\n",
       "</style>\n",
       "<table border=\"1\" class=\"dataframe\">\n",
       "  <thead>\n",
       "    <tr style=\"text-align: right;\">\n",
       "      <th></th>\n",
       "      <th>movieId</th>\n",
       "      <th>title</th>\n",
       "      <th>rating</th>\n",
       "    </tr>\n",
       "  </thead>\n",
       "  <tbody>\n",
       "    <tr>\n",
       "      <th>5690</th>\n",
       "      <td>27751</td>\n",
       "      <td>'Salem's Lot (2004)</td>\n",
       "      <td>5.0</td>\n",
       "    </tr>\n",
       "    <tr>\n",
       "      <th>7332</th>\n",
       "      <td>77846</td>\n",
       "      <td>12 Angry Men (1997)</td>\n",
       "      <td>5.0</td>\n",
       "    </tr>\n",
       "    <tr>\n",
       "      <th>9046</th>\n",
       "      <td>141816</td>\n",
       "      <td>12 Chairs (1976)</td>\n",
       "      <td>5.0</td>\n",
       "    </tr>\n",
       "    <tr>\n",
       "      <th>3893</th>\n",
       "      <td>5468</td>\n",
       "      <td>20 Million Miles to Earth (1957)</td>\n",
       "      <td>5.0</td>\n",
       "    </tr>\n",
       "    <tr>\n",
       "      <th>5639</th>\n",
       "      <td>27373</td>\n",
       "      <td>61* (2001)</td>\n",
       "      <td>5.0</td>\n",
       "    </tr>\n",
       "    <tr>\n",
       "      <th>...</th>\n",
       "      <td>...</td>\n",
       "      <td>...</td>\n",
       "      <td>...</td>\n",
       "    </tr>\n",
       "    <tr>\n",
       "      <th>9711</th>\n",
       "      <td>187717</td>\n",
       "      <td>Won't You Be My Neighbor? (2018)</td>\n",
       "      <td>5.0</td>\n",
       "    </tr>\n",
       "    <tr>\n",
       "      <th>8355</th>\n",
       "      <td>108795</td>\n",
       "      <td>Wonder Woman (2009)</td>\n",
       "      <td>5.0</td>\n",
       "    </tr>\n",
       "    <tr>\n",
       "      <th>9289</th>\n",
       "      <td>158398</td>\n",
       "      <td>World of Glory (1991)</td>\n",
       "      <td>5.0</td>\n",
       "    </tr>\n",
       "    <tr>\n",
       "      <th>9560</th>\n",
       "      <td>173351</td>\n",
       "      <td>Wow! A Talking Fish! (1983)</td>\n",
       "      <td>5.0</td>\n",
       "    </tr>\n",
       "    <tr>\n",
       "      <th>7521</th>\n",
       "      <td>84273</td>\n",
       "      <td>Zeitgeist: Moving Forward (2011)</td>\n",
       "      <td>5.0</td>\n",
       "    </tr>\n",
       "  </tbody>\n",
       "</table>\n",
       "<p>296 rows × 3 columns</p>\n",
       "</div>"
      ],
      "text/plain": [
       "      movieId                             title  rating\n",
       "5690    27751               'Salem's Lot (2004)     5.0\n",
       "7332    77846               12 Angry Men (1997)     5.0\n",
       "9046   141816                  12 Chairs (1976)     5.0\n",
       "3893     5468  20 Million Miles to Earth (1957)     5.0\n",
       "5639    27373                        61* (2001)     5.0\n",
       "...       ...                               ...     ...\n",
       "9711   187717  Won't You Be My Neighbor? (2018)     5.0\n",
       "8355   108795               Wonder Woman (2009)     5.0\n",
       "9289   158398             World of Glory (1991)     5.0\n",
       "9560   173351       Wow! A Talking Fish! (1983)     5.0\n",
       "7521    84273  Zeitgeist: Moving Forward (2011)     5.0\n",
       "\n",
       "[296 rows x 3 columns]"
      ]
     },
     "execution_count": 11,
     "metadata": {},
     "output_type": "execute_result"
    }
   ],
   "source": [
    "top_movie = pd.merge(movie, top_movie_lst,\n",
    "                     left_on='movieId',\n",
    "                     right_index=True,\n",
    "                     how='inner')\n",
    "top_movie = top_movie.sort_values(by='title', ascending=True)\n",
    "top_movie = top_movie.drop('genres', axis=1)\n",
    "top_movie"
   ]
  },
  {
   "cell_type": "markdown",
   "metadata": {},
   "source": [
    "## 5. Comedy 영화 중 가장 평점이 낮은 영화의 제목을 출력하세요\n",
    "단, 동률이 있을 경우 모두 출력하고 title을 기준으로 오름차순 정렬하세요"
   ]
  },
  {
   "cell_type": "code",
   "execution_count": 12,
   "metadata": {
    "pycharm": {
     "name": "#%%\n"
    }
   },
   "outputs": [
    {
     "data": {
      "text/html": [
       "<div>\n",
       "<style scoped>\n",
       "    .dataframe tbody tr th:only-of-type {\n",
       "        vertical-align: middle;\n",
       "    }\n",
       "\n",
       "    .dataframe tbody tr th {\n",
       "        vertical-align: top;\n",
       "    }\n",
       "\n",
       "    .dataframe thead th {\n",
       "        text-align: right;\n",
       "    }\n",
       "</style>\n",
       "<table border=\"1\" class=\"dataframe\">\n",
       "  <thead>\n",
       "    <tr style=\"text-align: right;\">\n",
       "      <th></th>\n",
       "      <th>movieId</th>\n",
       "      <th>title</th>\n",
       "      <th>genres</th>\n",
       "      <th>rating</th>\n",
       "    </tr>\n",
       "  </thead>\n",
       "  <tbody>\n",
       "    <tr>\n",
       "      <th>0</th>\n",
       "      <td>1</td>\n",
       "      <td>Toy Story (1995)</td>\n",
       "      <td>Adventure|Animation|Children|Comedy|Fantasy</td>\n",
       "      <td>3.920930</td>\n",
       "    </tr>\n",
       "    <tr>\n",
       "      <th>1</th>\n",
       "      <td>2</td>\n",
       "      <td>Jumanji (1995)</td>\n",
       "      <td>Adventure|Children|Fantasy</td>\n",
       "      <td>3.431818</td>\n",
       "    </tr>\n",
       "    <tr>\n",
       "      <th>2</th>\n",
       "      <td>3</td>\n",
       "      <td>Grumpier Old Men (1995)</td>\n",
       "      <td>Comedy|Romance</td>\n",
       "      <td>3.259615</td>\n",
       "    </tr>\n",
       "    <tr>\n",
       "      <th>3</th>\n",
       "      <td>4</td>\n",
       "      <td>Waiting to Exhale (1995)</td>\n",
       "      <td>Comedy|Drama|Romance</td>\n",
       "      <td>2.357143</td>\n",
       "    </tr>\n",
       "    <tr>\n",
       "      <th>4</th>\n",
       "      <td>5</td>\n",
       "      <td>Father of the Bride Part II (1995)</td>\n",
       "      <td>Comedy</td>\n",
       "      <td>3.071429</td>\n",
       "    </tr>\n",
       "    <tr>\n",
       "      <th>...</th>\n",
       "      <td>...</td>\n",
       "      <td>...</td>\n",
       "      <td>...</td>\n",
       "      <td>...</td>\n",
       "    </tr>\n",
       "    <tr>\n",
       "      <th>9737</th>\n",
       "      <td>193581</td>\n",
       "      <td>Black Butler: Book of the Atlantic (2017)</td>\n",
       "      <td>Action|Animation|Comedy|Fantasy</td>\n",
       "      <td>4.000000</td>\n",
       "    </tr>\n",
       "    <tr>\n",
       "      <th>9738</th>\n",
       "      <td>193583</td>\n",
       "      <td>No Game No Life: Zero (2017)</td>\n",
       "      <td>Animation|Comedy|Fantasy</td>\n",
       "      <td>3.500000</td>\n",
       "    </tr>\n",
       "    <tr>\n",
       "      <th>9739</th>\n",
       "      <td>193585</td>\n",
       "      <td>Flint (2017)</td>\n",
       "      <td>Drama</td>\n",
       "      <td>3.500000</td>\n",
       "    </tr>\n",
       "    <tr>\n",
       "      <th>9740</th>\n",
       "      <td>193587</td>\n",
       "      <td>Bungo Stray Dogs: Dead Apple (2018)</td>\n",
       "      <td>Action|Animation</td>\n",
       "      <td>3.500000</td>\n",
       "    </tr>\n",
       "    <tr>\n",
       "      <th>9741</th>\n",
       "      <td>193609</td>\n",
       "      <td>Andrew Dice Clay: Dice Rules (1991)</td>\n",
       "      <td>Comedy</td>\n",
       "      <td>4.000000</td>\n",
       "    </tr>\n",
       "  </tbody>\n",
       "</table>\n",
       "<p>9724 rows × 4 columns</p>\n",
       "</div>"
      ],
      "text/plain": [
       "      movieId                                      title  \\\n",
       "0           1                           Toy Story (1995)   \n",
       "1           2                             Jumanji (1995)   \n",
       "2           3                    Grumpier Old Men (1995)   \n",
       "3           4                   Waiting to Exhale (1995)   \n",
       "4           5         Father of the Bride Part II (1995)   \n",
       "...       ...                                        ...   \n",
       "9737   193581  Black Butler: Book of the Atlantic (2017)   \n",
       "9738   193583               No Game No Life: Zero (2017)   \n",
       "9739   193585                               Flint (2017)   \n",
       "9740   193587        Bungo Stray Dogs: Dead Apple (2018)   \n",
       "9741   193609        Andrew Dice Clay: Dice Rules (1991)   \n",
       "\n",
       "                                           genres    rating  \n",
       "0     Adventure|Animation|Children|Comedy|Fantasy  3.920930  \n",
       "1                      Adventure|Children|Fantasy  3.431818  \n",
       "2                                  Comedy|Romance  3.259615  \n",
       "3                            Comedy|Drama|Romance  2.357143  \n",
       "4                                          Comedy  3.071429  \n",
       "...                                           ...       ...  \n",
       "9737              Action|Animation|Comedy|Fantasy  4.000000  \n",
       "9738                     Animation|Comedy|Fantasy  3.500000  \n",
       "9739                                        Drama  3.500000  \n",
       "9740                             Action|Animation  3.500000  \n",
       "9741                                       Comedy  4.000000  \n",
       "\n",
       "[9724 rows x 4 columns]"
      ]
     },
     "execution_count": 12,
     "metadata": {},
     "output_type": "execute_result"
    }
   ],
   "source": [
    "movie_info = pd.merge(movie, movie_rate,\n",
    "                      left_on='movieId',\n",
    "                      right_index=True,\n",
    "                      how='inner')\n",
    "movie_info # 영화 테이블에 3번에서 구한 영화별 평균평점을 조인시켜 영화 정보 데이터 프레임을 만듦"
   ]
  },
  {
   "cell_type": "code",
   "execution_count": 13,
   "metadata": {
    "pycharm": {
     "name": "#%%\n"
    }
   },
   "outputs": [],
   "source": [
    "comedy = movie_info[movie_info['genres'].str.contains('Comedy')] # genres 컬럼에서 comedy를 포함하는 영화를 추출.\n",
    "nojam_comedy = comedy[comedy['rating']==comedy['rating'].min()] # comedy영화의 DataFrame에서 평점평균이 가장 낮는 영화를 boolean index.\n",
    "nojam_comedy = nojam_comedy.sort_values(by='title', ascending=True) # 제목 기준 오름차순 정렬\n",
    "nojam_comedy = nojam_comedy.drop('rating', axis=1)"
   ]
  },
  {
   "cell_type": "code",
   "execution_count": 14,
   "metadata": {},
   "outputs": [
    {
     "data": {
      "text/html": [
       "<div>\n",
       "<style scoped>\n",
       "    .dataframe tbody tr th:only-of-type {\n",
       "        vertical-align: middle;\n",
       "    }\n",
       "\n",
       "    .dataframe tbody tr th {\n",
       "        vertical-align: top;\n",
       "    }\n",
       "\n",
       "    .dataframe thead th {\n",
       "        text-align: right;\n",
       "    }\n",
       "</style>\n",
       "<table border=\"1\" class=\"dataframe\">\n",
       "  <thead>\n",
       "    <tr style=\"text-align: right;\">\n",
       "      <th></th>\n",
       "      <th>movieId</th>\n",
       "      <th>title</th>\n",
       "      <th>genres</th>\n",
       "    </tr>\n",
       "  </thead>\n",
       "  <tbody>\n",
       "    <tr>\n",
       "      <th>8893</th>\n",
       "      <td>134528</td>\n",
       "      <td>Aloha (2015)</td>\n",
       "      <td>Comedy|Drama|Romance</td>\n",
       "    </tr>\n",
       "    <tr>\n",
       "      <th>5777</th>\n",
       "      <td>31422</td>\n",
       "      <td>Are We There Yet? (2005)</td>\n",
       "      <td>Children|Comedy</td>\n",
       "    </tr>\n",
       "    <tr>\n",
       "      <th>7762</th>\n",
       "      <td>91414</td>\n",
       "      <td>Arthur Christmas (2011)</td>\n",
       "      <td>Animation|Children|Comedy|Drama</td>\n",
       "    </tr>\n",
       "    <tr>\n",
       "      <th>9419</th>\n",
       "      <td>165645</td>\n",
       "      <td>Bad Santa 2 (2016)</td>\n",
       "      <td>Comedy</td>\n",
       "    </tr>\n",
       "    <tr>\n",
       "      <th>4439</th>\n",
       "      <td>6557</td>\n",
       "      <td>Born to Be Wild (1995)</td>\n",
       "      <td>Adventure|Children|Comedy|Drama</td>\n",
       "    </tr>\n",
       "    <tr>\n",
       "      <th>5409</th>\n",
       "      <td>25782</td>\n",
       "      <td>Boudu Saved From Drowning (Boudu sauvé des eau...</td>\n",
       "      <td>Comedy</td>\n",
       "    </tr>\n",
       "    <tr>\n",
       "      <th>6554</th>\n",
       "      <td>54934</td>\n",
       "      <td>Brothers Solomon, The (2007)</td>\n",
       "      <td>Comedy</td>\n",
       "    </tr>\n",
       "    <tr>\n",
       "      <th>5453</th>\n",
       "      <td>26095</td>\n",
       "      <td>Carabineers, The (Carabiniers, Les) (1963)</td>\n",
       "      <td>Comedy|Drama|War</td>\n",
       "    </tr>\n",
       "    <tr>\n",
       "      <th>6545</th>\n",
       "      <td>54768</td>\n",
       "      <td>Daddy Day Camp (2007)</td>\n",
       "      <td>Children|Comedy</td>\n",
       "    </tr>\n",
       "    <tr>\n",
       "      <th>4881</th>\n",
       "      <td>7312</td>\n",
       "      <td>Follow Me, Boys! (1966)</td>\n",
       "      <td>Comedy|Drama</td>\n",
       "    </tr>\n",
       "    <tr>\n",
       "      <th>7553</th>\n",
       "      <td>85334</td>\n",
       "      <td>Hard Ticket to Hawaii (1987)</td>\n",
       "      <td>Action|Comedy</td>\n",
       "    </tr>\n",
       "    <tr>\n",
       "      <th>8417</th>\n",
       "      <td>110773</td>\n",
       "      <td>Haunted House 2, A (2014)</td>\n",
       "      <td>Comedy|Horror</td>\n",
       "    </tr>\n",
       "    <tr>\n",
       "      <th>5662</th>\n",
       "      <td>27595</td>\n",
       "      <td>Jesus Christ Vampire Hunter (2001)</td>\n",
       "      <td>Action|Comedy|Horror|Musical</td>\n",
       "    </tr>\n",
       "    <tr>\n",
       "      <th>8984</th>\n",
       "      <td>138798</td>\n",
       "      <td>Joe Dirt 2: Beautiful Loser (2015)</td>\n",
       "      <td>Comedy</td>\n",
       "    </tr>\n",
       "    <tr>\n",
       "      <th>7820</th>\n",
       "      <td>92681</td>\n",
       "      <td>Journey 2: The Mysterious Island (2012)</td>\n",
       "      <td>Action|Adventure|Comedy|Sci-Fi|IMAX</td>\n",
       "    </tr>\n",
       "    <tr>\n",
       "      <th>6160</th>\n",
       "      <td>44243</td>\n",
       "      <td>Leprechaun 4: In Space (1997)</td>\n",
       "      <td>Comedy|Fantasy|Horror|Sci-Fi</td>\n",
       "    </tr>\n",
       "    <tr>\n",
       "      <th>8248</th>\n",
       "      <td>104644</td>\n",
       "      <td>Maria Bamford: The Special Special Special! (2...</td>\n",
       "      <td>Comedy</td>\n",
       "    </tr>\n",
       "    <tr>\n",
       "      <th>7201</th>\n",
       "      <td>72696</td>\n",
       "      <td>Old Dogs (2009)</td>\n",
       "      <td>Comedy</td>\n",
       "    </tr>\n",
       "    <tr>\n",
       "      <th>9056</th>\n",
       "      <td>141994</td>\n",
       "      <td>Saving Christmas (2014)</td>\n",
       "      <td>Children|Comedy</td>\n",
       "    </tr>\n",
       "    <tr>\n",
       "      <th>5258</th>\n",
       "      <td>8632</td>\n",
       "      <td>Secret Society (2002)</td>\n",
       "      <td>Comedy</td>\n",
       "    </tr>\n",
       "    <tr>\n",
       "      <th>9590</th>\n",
       "      <td>175475</td>\n",
       "      <td>The Emoji Movie (2017)</td>\n",
       "      <td>Animation|Children|Comedy</td>\n",
       "    </tr>\n",
       "    <tr>\n",
       "      <th>8908</th>\n",
       "      <td>135216</td>\n",
       "      <td>The Star Wars Holiday Special (1978)</td>\n",
       "      <td>Adventure|Children|Comedy|Sci-Fi</td>\n",
       "    </tr>\n",
       "    <tr>\n",
       "      <th>8676</th>\n",
       "      <td>122246</td>\n",
       "      <td>Tooth Fairy 2 (2012)</td>\n",
       "      <td>Children|Comedy</td>\n",
       "    </tr>\n",
       "    <tr>\n",
       "      <th>5795</th>\n",
       "      <td>31692</td>\n",
       "      <td>Uncle Nino (2003)</td>\n",
       "      <td>Comedy</td>\n",
       "    </tr>\n",
       "    <tr>\n",
       "      <th>6784</th>\n",
       "      <td>60363</td>\n",
       "      <td>Zombie Strippers! (2008)</td>\n",
       "      <td>Comedy|Horror</td>\n",
       "    </tr>\n",
       "  </tbody>\n",
       "</table>\n",
       "</div>"
      ],
      "text/plain": [
       "      movieId                                              title  \\\n",
       "8893   134528                                       Aloha (2015)   \n",
       "5777    31422                           Are We There Yet? (2005)   \n",
       "7762    91414                            Arthur Christmas (2011)   \n",
       "9419   165645                                 Bad Santa 2 (2016)   \n",
       "4439     6557                             Born to Be Wild (1995)   \n",
       "5409    25782  Boudu Saved From Drowning (Boudu sauvé des eau...   \n",
       "6554    54934                       Brothers Solomon, The (2007)   \n",
       "5453    26095         Carabineers, The (Carabiniers, Les) (1963)   \n",
       "6545    54768                              Daddy Day Camp (2007)   \n",
       "4881     7312                            Follow Me, Boys! (1966)   \n",
       "7553    85334                       Hard Ticket to Hawaii (1987)   \n",
       "8417   110773                          Haunted House 2, A (2014)   \n",
       "5662    27595                 Jesus Christ Vampire Hunter (2001)   \n",
       "8984   138798                 Joe Dirt 2: Beautiful Loser (2015)   \n",
       "7820    92681            Journey 2: The Mysterious Island (2012)   \n",
       "6160    44243                      Leprechaun 4: In Space (1997)   \n",
       "8248   104644  Maria Bamford: The Special Special Special! (2...   \n",
       "7201    72696                                    Old Dogs (2009)   \n",
       "9056   141994                            Saving Christmas (2014)   \n",
       "5258     8632                              Secret Society (2002)   \n",
       "9590   175475                             The Emoji Movie (2017)   \n",
       "8908   135216               The Star Wars Holiday Special (1978)   \n",
       "8676   122246                               Tooth Fairy 2 (2012)   \n",
       "5795    31692                                  Uncle Nino (2003)   \n",
       "6784    60363                           Zombie Strippers! (2008)   \n",
       "\n",
       "                                   genres  \n",
       "8893                 Comedy|Drama|Romance  \n",
       "5777                      Children|Comedy  \n",
       "7762      Animation|Children|Comedy|Drama  \n",
       "9419                               Comedy  \n",
       "4439      Adventure|Children|Comedy|Drama  \n",
       "5409                               Comedy  \n",
       "6554                               Comedy  \n",
       "5453                     Comedy|Drama|War  \n",
       "6545                      Children|Comedy  \n",
       "4881                         Comedy|Drama  \n",
       "7553                        Action|Comedy  \n",
       "8417                        Comedy|Horror  \n",
       "5662         Action|Comedy|Horror|Musical  \n",
       "8984                               Comedy  \n",
       "7820  Action|Adventure|Comedy|Sci-Fi|IMAX  \n",
       "6160         Comedy|Fantasy|Horror|Sci-Fi  \n",
       "8248                               Comedy  \n",
       "7201                               Comedy  \n",
       "9056                      Children|Comedy  \n",
       "5258                               Comedy  \n",
       "9590            Animation|Children|Comedy  \n",
       "8908     Adventure|Children|Comedy|Sci-Fi  \n",
       "8676                      Children|Comedy  \n",
       "5795                               Comedy  \n",
       "6784                        Comedy|Horror  "
      ]
     },
     "execution_count": 14,
     "metadata": {},
     "output_type": "execute_result"
    }
   ],
   "source": [
    "nojam_comedy"
   ]
  },
  {
   "cell_type": "markdown",
   "metadata": {},
   "source": [
    "## 6. 2015년에 평가된 모든 Romance 영화의 평균 평점은?"
   ]
  },
  {
   "cell_type": "code",
   "execution_count": 15,
   "metadata": {
    "pycharm": {
     "name": "#%%\n"
    }
   },
   "outputs": [
    {
     "data": {
      "text/html": [
       "<div>\n",
       "<style scoped>\n",
       "    .dataframe tbody tr th:only-of-type {\n",
       "        vertical-align: middle;\n",
       "    }\n",
       "\n",
       "    .dataframe tbody tr th {\n",
       "        vertical-align: top;\n",
       "    }\n",
       "\n",
       "    .dataframe thead th {\n",
       "        text-align: right;\n",
       "    }\n",
       "</style>\n",
       "<table border=\"1\" class=\"dataframe\">\n",
       "  <thead>\n",
       "    <tr style=\"text-align: right;\">\n",
       "      <th></th>\n",
       "      <th>userId</th>\n",
       "      <th>movieId</th>\n",
       "      <th>rating</th>\n",
       "      <th>timestamp</th>\n",
       "    </tr>\n",
       "  </thead>\n",
       "  <tbody>\n",
       "    <tr>\n",
       "      <th>232</th>\n",
       "      <td>2</td>\n",
       "      <td>318</td>\n",
       "      <td>3.0</td>\n",
       "      <td>1445714835</td>\n",
       "    </tr>\n",
       "    <tr>\n",
       "      <th>233</th>\n",
       "      <td>2</td>\n",
       "      <td>333</td>\n",
       "      <td>4.0</td>\n",
       "      <td>1445715029</td>\n",
       "    </tr>\n",
       "    <tr>\n",
       "      <th>234</th>\n",
       "      <td>2</td>\n",
       "      <td>1704</td>\n",
       "      <td>4.5</td>\n",
       "      <td>1445715228</td>\n",
       "    </tr>\n",
       "    <tr>\n",
       "      <th>235</th>\n",
       "      <td>2</td>\n",
       "      <td>3578</td>\n",
       "      <td>4.0</td>\n",
       "      <td>1445714885</td>\n",
       "    </tr>\n",
       "    <tr>\n",
       "      <th>236</th>\n",
       "      <td>2</td>\n",
       "      <td>6874</td>\n",
       "      <td>4.0</td>\n",
       "      <td>1445714952</td>\n",
       "    </tr>\n",
       "    <tr>\n",
       "      <th>...</th>\n",
       "      <td>...</td>\n",
       "      <td>...</td>\n",
       "      <td>...</td>\n",
       "      <td>...</td>\n",
       "    </tr>\n",
       "    <tr>\n",
       "      <th>95936</th>\n",
       "      <td>601</td>\n",
       "      <td>79132</td>\n",
       "      <td>5.0</td>\n",
       "      <td>1441639524</td>\n",
       "    </tr>\n",
       "    <tr>\n",
       "      <th>95947</th>\n",
       "      <td>601</td>\n",
       "      <td>109487</td>\n",
       "      <td>5.0</td>\n",
       "      <td>1441639184</td>\n",
       "    </tr>\n",
       "    <tr>\n",
       "      <th>95948</th>\n",
       "      <td>601</td>\n",
       "      <td>112556</td>\n",
       "      <td>4.0</td>\n",
       "      <td>1441639189</td>\n",
       "    </tr>\n",
       "    <tr>\n",
       "      <th>95951</th>\n",
       "      <td>601</td>\n",
       "      <td>116797</td>\n",
       "      <td>4.0</td>\n",
       "      <td>1441639186</td>\n",
       "    </tr>\n",
       "    <tr>\n",
       "      <th>95955</th>\n",
       "      <td>601</td>\n",
       "      <td>141846</td>\n",
       "      <td>4.0</td>\n",
       "      <td>1441639208</td>\n",
       "    </tr>\n",
       "  </tbody>\n",
       "</table>\n",
       "<p>6615 rows × 4 columns</p>\n",
       "</div>"
      ],
      "text/plain": [
       "       userId  movieId  rating   timestamp\n",
       "232         2      318     3.0  1445714835\n",
       "233         2      333     4.0  1445715029\n",
       "234         2     1704     4.5  1445715228\n",
       "235         2     3578     4.0  1445714885\n",
       "236         2     6874     4.0  1445714952\n",
       "...       ...      ...     ...         ...\n",
       "95936     601    79132     5.0  1441639524\n",
       "95947     601   109487     5.0  1441639184\n",
       "95948     601   112556     4.0  1441639189\n",
       "95951     601   116797     4.0  1441639186\n",
       "95955     601   141846     4.0  1441639208\n",
       "\n",
       "[6615 rows x 4 columns]"
      ]
     },
     "execution_count": 15,
     "metadata": {},
     "output_type": "execute_result"
    }
   ],
   "source": [
    "import datetime as dt\n",
    "import time\n",
    "start = dt.datetime(2015,1,1,0,0,0) # 2015년 1월 1일 0시 0분 0초\n",
    "end = dt.datetime(2016,1,1,0,0,0) # 2016년 1월 1일 0시 0분 0초\n",
    "start_timestamp = time.mktime(start.timetuple()) # 1420038000.0\n",
    "end_timestamp = time.mktime(end.timetuple())  # 1451574000.0\n",
    "\n",
    "# timestamp가 start 이상, end 미만인 행을 boolean indexing\n",
    "# rate_2015 = rating[rating['timestamp'] >= start_timestamp] # 2015년 이상\n",
    "# rate_2015 = rate_2015[rate_2015['timestamp'] < end_timestamp] # 2016년 미만\n",
    "rate_2015 = rating[(rating['timestamp'] >= start_timestamp) & (rating['timestamp'] < end_timestamp)]\n",
    "rate_2015 # 2015년에 평가된 모든 정보"
   ]
  },
  {
   "cell_type": "code",
   "execution_count": 16,
   "metadata": {
    "pycharm": {
     "name": "#%%\n"
    }
   },
   "outputs": [
    {
     "data": {
      "text/html": [
       "<div>\n",
       "<style scoped>\n",
       "    .dataframe tbody tr th:only-of-type {\n",
       "        vertical-align: middle;\n",
       "    }\n",
       "\n",
       "    .dataframe tbody tr th {\n",
       "        vertical-align: top;\n",
       "    }\n",
       "\n",
       "    .dataframe thead th {\n",
       "        text-align: right;\n",
       "    }\n",
       "</style>\n",
       "<table border=\"1\" class=\"dataframe\">\n",
       "  <thead>\n",
       "    <tr style=\"text-align: right;\">\n",
       "      <th></th>\n",
       "      <th>movieId</th>\n",
       "      <th>title</th>\n",
       "      <th>genres</th>\n",
       "    </tr>\n",
       "  </thead>\n",
       "  <tbody>\n",
       "    <tr>\n",
       "      <th>2</th>\n",
       "      <td>3</td>\n",
       "      <td>Grumpier Old Men (1995)</td>\n",
       "      <td>Comedy|Romance</td>\n",
       "    </tr>\n",
       "    <tr>\n",
       "      <th>3</th>\n",
       "      <td>4</td>\n",
       "      <td>Waiting to Exhale (1995)</td>\n",
       "      <td>Comedy|Drama|Romance</td>\n",
       "    </tr>\n",
       "    <tr>\n",
       "      <th>6</th>\n",
       "      <td>7</td>\n",
       "      <td>Sabrina (1995)</td>\n",
       "      <td>Comedy|Romance</td>\n",
       "    </tr>\n",
       "    <tr>\n",
       "      <th>10</th>\n",
       "      <td>11</td>\n",
       "      <td>American President, The (1995)</td>\n",
       "      <td>Comedy|Drama|Romance</td>\n",
       "    </tr>\n",
       "    <tr>\n",
       "      <th>14</th>\n",
       "      <td>15</td>\n",
       "      <td>Cutthroat Island (1995)</td>\n",
       "      <td>Action|Adventure|Romance</td>\n",
       "    </tr>\n",
       "    <tr>\n",
       "      <th>...</th>\n",
       "      <td>...</td>\n",
       "      <td>...</td>\n",
       "      <td>...</td>\n",
       "    </tr>\n",
       "    <tr>\n",
       "      <th>9639</th>\n",
       "      <td>179511</td>\n",
       "      <td>Emerald Green (2016)</td>\n",
       "      <td>Adventure|Drama|Fantasy|Romance</td>\n",
       "    </tr>\n",
       "    <tr>\n",
       "      <th>9660</th>\n",
       "      <td>181315</td>\n",
       "      <td>Phantom Thread (2017)</td>\n",
       "      <td>Drama|Romance</td>\n",
       "    </tr>\n",
       "    <tr>\n",
       "      <th>9691</th>\n",
       "      <td>184349</td>\n",
       "      <td>Elsa &amp; Fred (2005)</td>\n",
       "      <td>Comedy|Drama|Romance</td>\n",
       "    </tr>\n",
       "    <tr>\n",
       "      <th>9715</th>\n",
       "      <td>188751</td>\n",
       "      <td>Mamma Mia: Here We Go Again! (2018)</td>\n",
       "      <td>Comedy|Romance</td>\n",
       "    </tr>\n",
       "    <tr>\n",
       "      <th>9725</th>\n",
       "      <td>190207</td>\n",
       "      <td>Tilt (2011)</td>\n",
       "      <td>Drama|Romance</td>\n",
       "    </tr>\n",
       "  </tbody>\n",
       "</table>\n",
       "<p>1596 rows × 3 columns</p>\n",
       "</div>"
      ],
      "text/plain": [
       "      movieId                                title  \\\n",
       "2           3              Grumpier Old Men (1995)   \n",
       "3           4             Waiting to Exhale (1995)   \n",
       "6           7                       Sabrina (1995)   \n",
       "10         11       American President, The (1995)   \n",
       "14         15              Cutthroat Island (1995)   \n",
       "...       ...                                  ...   \n",
       "9639   179511                 Emerald Green (2016)   \n",
       "9660   181315                Phantom Thread (2017)   \n",
       "9691   184349                   Elsa & Fred (2005)   \n",
       "9715   188751  Mamma Mia: Here We Go Again! (2018)   \n",
       "9725   190207                          Tilt (2011)   \n",
       "\n",
       "                               genres  \n",
       "2                      Comedy|Romance  \n",
       "3                Comedy|Drama|Romance  \n",
       "6                      Comedy|Romance  \n",
       "10               Comedy|Drama|Romance  \n",
       "14           Action|Adventure|Romance  \n",
       "...                               ...  \n",
       "9639  Adventure|Drama|Fantasy|Romance  \n",
       "9660                    Drama|Romance  \n",
       "9691             Comedy|Drama|Romance  \n",
       "9715                   Comedy|Romance  \n",
       "9725                    Drama|Romance  \n",
       "\n",
       "[1596 rows x 3 columns]"
      ]
     },
     "execution_count": 16,
     "metadata": {},
     "output_type": "execute_result"
    }
   ],
   "source": [
    "romance = movie[movie['genres'].str.contains('Romance')] # 장르가 Romance인 모든 영화\n",
    "romance"
   ]
  },
  {
   "cell_type": "code",
   "execution_count": 17,
   "metadata": {
    "pycharm": {
     "name": "#%%\n"
    }
   },
   "outputs": [
    {
     "data": {
      "text/html": [
       "<div>\n",
       "<style scoped>\n",
       "    .dataframe tbody tr th:only-of-type {\n",
       "        vertical-align: middle;\n",
       "    }\n",
       "\n",
       "    .dataframe tbody tr th {\n",
       "        vertical-align: top;\n",
       "    }\n",
       "\n",
       "    .dataframe thead th {\n",
       "        text-align: right;\n",
       "    }\n",
       "</style>\n",
       "<table border=\"1\" class=\"dataframe\">\n",
       "  <thead>\n",
       "    <tr style=\"text-align: right;\">\n",
       "      <th></th>\n",
       "      <th>movieId</th>\n",
       "      <th>title</th>\n",
       "      <th>genres</th>\n",
       "      <th>userId</th>\n",
       "      <th>rating</th>\n",
       "      <th>timestamp</th>\n",
       "    </tr>\n",
       "  </thead>\n",
       "  <tbody>\n",
       "    <tr>\n",
       "      <th>0</th>\n",
       "      <td>3</td>\n",
       "      <td>Grumpier Old Men (1995)</td>\n",
       "      <td>Comedy|Romance</td>\n",
       "      <td>308</td>\n",
       "      <td>0.5</td>\n",
       "      <td>1421374465</td>\n",
       "    </tr>\n",
       "    <tr>\n",
       "      <th>1</th>\n",
       "      <td>7</td>\n",
       "      <td>Sabrina (1995)</td>\n",
       "      <td>Comedy|Romance</td>\n",
       "      <td>177</td>\n",
       "      <td>1.0</td>\n",
       "      <td>1435534432</td>\n",
       "    </tr>\n",
       "    <tr>\n",
       "      <th>2</th>\n",
       "      <td>11</td>\n",
       "      <td>American President, The (1995)</td>\n",
       "      <td>Comedy|Drama|Romance</td>\n",
       "      <td>177</td>\n",
       "      <td>3.0</td>\n",
       "      <td>1435890660</td>\n",
       "    </tr>\n",
       "    <tr>\n",
       "      <th>3</th>\n",
       "      <td>17</td>\n",
       "      <td>Sense and Sensibility (1995)</td>\n",
       "      <td>Drama|Romance</td>\n",
       "      <td>227</td>\n",
       "      <td>3.5</td>\n",
       "      <td>1447210004</td>\n",
       "    </tr>\n",
       "    <tr>\n",
       "      <th>4</th>\n",
       "      <td>17</td>\n",
       "      <td>Sense and Sensibility (1995)</td>\n",
       "      <td>Drama|Romance</td>\n",
       "      <td>323</td>\n",
       "      <td>3.5</td>\n",
       "      <td>1422640288</td>\n",
       "    </tr>\n",
       "    <tr>\n",
       "      <th>...</th>\n",
       "      <td>...</td>\n",
       "      <td>...</td>\n",
       "      <td>...</td>\n",
       "      <td>...</td>\n",
       "      <td>...</td>\n",
       "      <td>...</td>\n",
       "    </tr>\n",
       "    <tr>\n",
       "      <th>1264</th>\n",
       "      <td>139747</td>\n",
       "      <td>Before We Go (2014)</td>\n",
       "      <td>Romance</td>\n",
       "      <td>563</td>\n",
       "      <td>3.5</td>\n",
       "      <td>1448243169</td>\n",
       "    </tr>\n",
       "    <tr>\n",
       "      <th>1265</th>\n",
       "      <td>139915</td>\n",
       "      <td>How to Make Love Like an Englishman (2014)</td>\n",
       "      <td>Comedy|Romance</td>\n",
       "      <td>21</td>\n",
       "      <td>2.5</td>\n",
       "      <td>1441393919</td>\n",
       "    </tr>\n",
       "    <tr>\n",
       "      <th>1266</th>\n",
       "      <td>140162</td>\n",
       "      <td>Love (2015)</td>\n",
       "      <td>Drama|Romance</td>\n",
       "      <td>318</td>\n",
       "      <td>4.5</td>\n",
       "      <td>1450717949</td>\n",
       "    </tr>\n",
       "    <tr>\n",
       "      <th>1267</th>\n",
       "      <td>140301</td>\n",
       "      <td>The Escort (2015)</td>\n",
       "      <td>Comedy|Romance</td>\n",
       "      <td>21</td>\n",
       "      <td>3.0</td>\n",
       "      <td>1441393974</td>\n",
       "    </tr>\n",
       "    <tr>\n",
       "      <th>1268</th>\n",
       "      <td>146024</td>\n",
       "      <td>A Man from Boulevard des Capucines (1987)</td>\n",
       "      <td>Comedy|Romance|Western</td>\n",
       "      <td>256</td>\n",
       "      <td>4.0</td>\n",
       "      <td>1446579860</td>\n",
       "    </tr>\n",
       "  </tbody>\n",
       "</table>\n",
       "<p>1269 rows × 6 columns</p>\n",
       "</div>"
      ],
      "text/plain": [
       "      movieId                                       title  \\\n",
       "0           3                     Grumpier Old Men (1995)   \n",
       "1           7                              Sabrina (1995)   \n",
       "2          11              American President, The (1995)   \n",
       "3          17                Sense and Sensibility (1995)   \n",
       "4          17                Sense and Sensibility (1995)   \n",
       "...       ...                                         ...   \n",
       "1264   139747                         Before We Go (2014)   \n",
       "1265   139915  How to Make Love Like an Englishman (2014)   \n",
       "1266   140162                                 Love (2015)   \n",
       "1267   140301                           The Escort (2015)   \n",
       "1268   146024   A Man from Boulevard des Capucines (1987)   \n",
       "\n",
       "                      genres  userId  rating   timestamp  \n",
       "0             Comedy|Romance     308     0.5  1421374465  \n",
       "1             Comedy|Romance     177     1.0  1435534432  \n",
       "2       Comedy|Drama|Romance     177     3.0  1435890660  \n",
       "3              Drama|Romance     227     3.5  1447210004  \n",
       "4              Drama|Romance     323     3.5  1422640288  \n",
       "...                      ...     ...     ...         ...  \n",
       "1264                 Romance     563     3.5  1448243169  \n",
       "1265          Comedy|Romance      21     2.5  1441393919  \n",
       "1266           Drama|Romance     318     4.5  1450717949  \n",
       "1267          Comedy|Romance      21     3.0  1441393974  \n",
       "1268  Comedy|Romance|Western     256     4.0  1446579860  \n",
       "\n",
       "[1269 rows x 6 columns]"
      ]
     },
     "execution_count": 17,
     "metadata": {},
     "output_type": "execute_result"
    }
   ],
   "source": [
    "romance_2015 = pd.merge(romance, rate_2015,\n",
    "                        on='movieId',\n",
    "                        how='inner')  # 2015년에 평가된 정보와 Romance 장르의 영화를 movieId로 inner join함.\n",
    "# 2015년에 평가되었지만 로맨스 장르가 아닌 영화와 로맨스 장르이지만 2015년에 평가되지 않은 영화를 제외.\n",
    "romance_2015 # 2015년에 평가된 모든 Romance 장르 영화의 DataFrame"
   ]
  },
  {
   "cell_type": "code",
   "execution_count": 18,
   "metadata": {
    "pycharm": {
     "name": "#%%\n"
    }
   },
   "outputs": [
    {
     "data": {
      "text/plain": [
       "3.396375098502758"
      ]
     },
     "execution_count": 18,
     "metadata": {},
     "output_type": "execute_result"
    }
   ],
   "source": [
    "romance_2015['rating'].mean()"
   ]
  },
  {
   "cell_type": "markdown",
   "metadata": {},
   "source": [
    "## 7. 모든 영화장르 중 사용자 평점이 가장 좋은 영화장르는 무엇인가요?\n",
    "동률이 잇으면 영화장르를 기준으로 오름차순 정렬하세요"
   ]
  },
  {
   "cell_type": "code",
   "execution_count": 19,
   "metadata": {
    "pycharm": {
     "name": "#%%\n"
    }
   },
   "outputs": [
    {
     "data": {
      "text/plain": [
       "array(['Adventure|Animation|Children|Comedy|Fantasy',\n",
       "       'Adventure|Children|Fantasy', 'Comedy|Romance',\n",
       "       'Comedy|Drama|Romance', 'Comedy', 'Action|Crime|Thriller',\n",
       "       'Adventure|Children', 'Action', 'Action|Adventure|Thriller',\n",
       "       'Comedy|Horror', 'Adventure|Animation|Children', 'Drama',\n",
       "       'Action|Adventure|Romance', 'Crime|Drama', 'Drama|Romance',\n",
       "       'Action|Comedy|Crime|Drama|Thriller', 'Comedy|Crime|Thriller',\n",
       "       'Crime|Drama|Horror|Mystery|Thriller', 'Drama|Sci-Fi',\n",
       "       'Children|Drama', 'Adventure|Drama|Fantasy|Mystery|Sci-Fi',\n",
       "       'Mystery|Sci-Fi|Thriller', 'Children|Comedy', 'Drama|War',\n",
       "       'Action|Crime|Drama', 'Action|Adventure|Fantasy',\n",
       "       'Comedy|Drama|Thriller', 'Mystery|Thriller',\n",
       "       'Animation|Children|Drama|Musical|Romance',\n",
       "       'Crime|Mystery|Thriller', 'Adventure|Drama', 'Drama|Thriller',\n",
       "       'Comedy|Crime', 'Action|Sci-Fi|Thriller',\n",
       "       'Action|Comedy|Horror|Thriller', 'Comedy|Drama', 'Documentary',\n",
       "       'Action|Crime|Drama|Thriller', 'Crime|Drama|Romance',\n",
       "       'Action|Adventure|Drama', 'Action|Thriller',\n",
       "       'Drama|Horror|Thriller', 'Comedy|Horror|Romance',\n",
       "       'Adventure|Comedy|Crime|Romance',\n",
       "       'Adventure|Children|Comedy|Musical', 'Action|Drama|War',\n",
       "       'Crime|Drama|Thriller', 'Action|Adventure|Comedy|Crime',\n",
       "       'Drama|Mystery', 'Drama|Mystery|Romance', 'Thriller',\n",
       "       'Adventure|Drama|IMAX', 'Action|Drama|Romance|War', 'Drama|Horror',\n",
       "       'Adventure|Drama|War', 'Comedy|War', 'Crime|Drama|Mystery',\n",
       "       'Action|Adventure|Mystery|Sci-Fi', 'Drama|Thriller|War',\n",
       "       'Action|Romance|Western', 'Crime|Film-Noir|Mystery|Thriller',\n",
       "       'Comedy|Crime|Drama', 'Action|Drama|Romance',\n",
       "       'Adventure|Children|Drama', 'Action|Adventure|Crime|Thriller',\n",
       "       'Action|Crime|Sci-Fi', 'Horror', 'Action|Children',\n",
       "       'Comedy|Horror|Thriller', 'Fantasy|Horror|Mystery',\n",
       "       'Comedy|Fantasy', 'Horror|Sci-Fi',\n",
       "       'Action|Crime|Drama|Mystery|Sci-Fi|Thriller',\n",
       "       'Drama|Musical|Romance', 'Drama|Fantasy',\n",
       "       'Action|Adventure|Sci-Fi', 'Western',\n",
       "       'Adventure|Comedy|Crime|Mystery', 'Adventure|Comedy',\n",
       "       'Action|Comedy|Romance', 'Animation|Children|Comedy|Romance',\n",
       "       'Drama|Musical', 'Children|Comedy|Fantasy', 'Comedy|Sci-Fi',\n",
       "       'Adventure|Children|Comedy|Fantasy|Romance',\n",
       "       'Drama|Fantasy|Romance', 'Drama|Romance|War|Western',\n",
       "       'Drama|Horror|Sci-Fi', 'Action|Crime',\n",
       "       'Action|Drama|Sci-Fi|Thriller', 'Comedy|Crime|Drama|Thriller',\n",
       "       'Action|Thriller|Western', 'Horror|Thriller', 'Animation|Children',\n",
       "       'Children|Drama|Fantasy|Mystery', 'Action|Drama|Thriller',\n",
       "       'Comedy|Drama|Fantasy', 'Film-Noir|Thriller',\n",
       "       'Action|Comedy|Sci-Fi', 'Adventure|Drama|Sci-Fi',\n",
       "       'Action|Crime|Horror', 'Children', 'Drama|Film-Noir|Romance',\n",
       "       'Drama|Mystery|Thriller', 'Action|Crime|Fantasy|Thriller',\n",
       "       'Comedy|Drama|Romance|War', 'Action|Comedy',\n",
       "       'Adventure|Children|Romance',\n",
       "       'Adventure|Animation|Children|Drama|Musical|IMAX',\n",
       "       'Drama|Horror|Mystery|Thriller', 'Action|Comedy|Crime|Fantasy',\n",
       "       'Adventure|Comedy|Western', 'Action|Romance|Thriller',\n",
       "       'Action|Adventure|Comedy|Romance|Thriller',\n",
       "       'Drama|Horror|Romance|Thriller', 'Drama|Romance|War',\n",
       "       'Action|Fantasy', 'Comedy|Thriller',\n",
       "       'Action|Comedy|Crime|Thriller', 'Horror|Sci-Fi|Thriller',\n",
       "       'Drama|Mystery|Romance|Thriller', 'Action|Comedy|Drama',\n",
       "       'Drama|Western', 'Action|Adventure|Crime|Drama|Romance|Thriller',\n",
       "       'Action|Comedy|War', 'Action|Adventure|Sci-Fi|Thriller',\n",
       "       'Action|Adventure|Comedy|Fantasy', 'Comedy|Western',\n",
       "       'Comedy|Mystery', 'Comedy|Drama|Romance|Thriller',\n",
       "       'Action|Children|Romance', 'Action|Drama|Sci-Fi', 'Action|Drama',\n",
       "       'Comedy|Mystery|Romance', 'Action|Drama|Mystery',\n",
       "       'Action|Crime|Drama|Sci-Fi|Thriller', 'Crime|Thriller',\n",
       "       'Comedy|Crime|Horror', 'Action|Adventure|Fantasy|Mystery',\n",
       "       'Comedy|Romance|Thriller',\n",
       "       'Action|Adventure|Children|Comedy|Fantasy|Sci-Fi',\n",
       "       'Action|Mystery|Thriller', 'Animation|Children|Fantasy|Musical',\n",
       "       'Action|Adventure|Comedy|Romance', 'Action|Drama|Western',\n",
       "       'Action|Adventure|Animation|Children|Fantasy',\n",
       "       'Comedy|Drama|Fantasy|Romance|Thriller',\n",
       "       'Adventure|Animation|Children|Comedy|Musical', 'Action|Sci-Fi',\n",
       "       'Adventure|Drama|Western', 'Crime|Horror|Thriller',\n",
       "       'Animation|Children|Drama|Fantasy|Musical',\n",
       "       'Animation|Children|Fantasy|Musical|Romance|IMAX',\n",
       "       'Adventure|Western', 'Action|Comedy|Crime', 'Fantasy|Horror',\n",
       "       'Action|Adventure|Animation|Horror|Sci-Fi', 'Action|Horror|Sci-Fi',\n",
       "       'Crime|Drama|Mystery|Thriller',\n",
       "       'Adventure|Animation|Children|Fantasy|Musical|Romance', 'Romance',\n",
       "       'Action|Crime|Drama|War', 'Action|Adventure|Mystery|Thriller',\n",
       "       'Adventure|Animation|Children|Fantasy|Musical', 'Comedy|Drama|War',\n",
       "       'Adventure|Animation|Children|Comedy|Fantasy|Sci-Fi',\n",
       "       'Adventure|Comedy|Sci-Fi', 'Drama|Mystery|Romance|Sci-Fi|Thriller',\n",
       "       'Action|Adventure|Comedy|War', 'Action|Adventure',\n",
       "       'Drama|Mystery|Western', 'Comedy|Fantasy|Sci-Fi',\n",
       "       'Adventure|Animation|Comedy', 'Drama|Fantasy|Horror|Thriller',\n",
       "       'Action|Adventure|Romance|Thriller', 'Animation|Sci-Fi',\n",
       "       'Animation|Children|Comedy', 'Horror|Mystery',\n",
       "       'Comedy|Fantasy|Romance|Sci-Fi', 'Action|Adventure|Drama|Thriller',\n",
       "       'Comedy|Fantasy|Musical', 'Crime|Drama|Romance|Thriller',\n",
       "       'Crime|Drama|Musical|Thriller', 'Sci-Fi|Thriller',\n",
       "       'Children|Drama|Fantasy', 'Adventure|Animation|Children|Musical',\n",
       "       'Adventure|Drama|Romance|War', 'Comedy|Musical|Romance',\n",
       "       'Musical|Romance', 'Comedy|Musical',\n",
       "       'Action|Adventure|Mystery|Romance|Thriller',\n",
       "       'Comedy|Crime|Mystery|Romance|Thriller', 'Film-Noir|Mystery',\n",
       "       'Comedy|Drama|Musical|Romance', 'Musical',\n",
       "       'Adventure|Children|Fantasy|Musical',\n",
       "       'Drama|Film-Noir|Mystery|Thriller', 'Film-Noir|Romance|Thriller',\n",
       "       'Mystery|Romance|Thriller', 'Crime|Mystery|Romance|Thriller',\n",
       "       'Adventure', 'Crime|Film-Noir|Mystery', 'Drama|Romance|Western',\n",
       "       'Children|Drama|Fantasy|Romance', 'Adventure|Comedy|Romance|War',\n",
       "       'Adventure|Comedy|Crime|Drama|Romance', 'Romance|War',\n",
       "       'Crime|Film-Noir', 'Children|Comedy|Western',\n",
       "       'Children|Comedy|Fantasy|Romance', 'Children|Comedy|Romance',\n",
       "       'Children|Comedy|Drama', 'Children|Comedy|Mystery',\n",
       "       'Animation|Children|Fantasy|Musical|Romance',\n",
       "       'Animation|Children|Musical', 'Children|Comedy|Fantasy|Musical',\n",
       "       'Animation|Children|Drama|Musical', 'Adventure|Children|Musical',\n",
       "       'Animation|Children|Drama', 'Action|Horror|Sci-Fi|Thriller',\n",
       "       'Documentary|Drama',\n",
       "       'Animation|Children|Comedy|Fantasy|Musical|Romance',\n",
       "       'Drama|Romance|Thriller', 'Children|Drama|Sci-Fi',\n",
       "       'Action|Romance', 'Adventure|Comedy|Fantasy',\n",
       "       'Animation|Children|Comedy|Crime',\n",
       "       'Animation|Comedy|Drama|Fantasy', 'Crime|Drama|Film-Noir',\n",
       "       'Documentary|Musical', 'Action|Adventure|Comedy|Fantasy|Romance',\n",
       "       'Fantasy|Sci-Fi', 'Action|Adventure|Horror|Sci-Fi',\n",
       "       'Action|Adventure|Western', 'Crime|Drama|Sci-Fi|Thriller',\n",
       "       'Film-Noir|Mystery|Thriller',\n",
       "       'Action|Adventure|Comedy|Fantasy|Horror',\n",
       "       'Adventure|Drama|Romance', 'Crime|Horror', 'Action|Comedy|Musical',\n",
       "       'Adventure|Animation|Children|Comedy|Sci-Fi',\n",
       "       'Drama|Mystery|Sci-Fi', 'Comedy|Fantasy|Horror',\n",
       "       'Crime|Drama|Film-Noir|Thriller', 'Crime|Film-Noir|Thriller',\n",
       "       'Action|Crime|Romance|Thriller', 'Drama|Sci-Fi|Thriller',\n",
       "       'Action|Adventure|Drama|Western', 'Comedy|Horror|Sci-Fi',\n",
       "       'Comedy|Musical|War', 'Action|Comedy|Fantasy|Horror',\n",
       "       'Action|Adventure|Drama|War',\n",
       "       'Action|Drama|Mystery|Romance|Thriller', 'Comedy|Fantasy|Romance',\n",
       "       'Crime|Thriller|War', 'Comedy|Mystery|Thriller',\n",
       "       'Comedy|Drama|Film-Noir', 'Action|Adventure|Animation|Sci-Fi',\n",
       "       'Action|Western', 'Fantasy|Horror|Romance|Thriller',\n",
       "       'Drama|Fantasy|Horror', 'Horror|Mystery|Thriller',\n",
       "       'Adventure|Children|Comedy', 'Adventure|Sci-Fi',\n",
       "       'Action|Mystery|Sci-Fi', 'Action|Comedy|Western', 'Action|Horror',\n",
       "       'Action|Comedy|Crime|Drama|Sci-Fi',\n",
       "       'Adventure|Animation|Comedy|Crime',\n",
       "       'Comedy|Horror|Mystery|Thriller', 'Action|Romance|War|Western',\n",
       "       'Comedy|Drama|Fantasy|Romance', 'Action|Adventure|Comedy|Thriller',\n",
       "       'Crime', 'Crime|Drama|Fantasy|Film-Noir|Mystery|Romance',\n",
       "       'Action|Comedy|Crime|Drama', 'Action|Romance|Sci-Fi|Thriller',\n",
       "       'Comedy|Drama|Mystery|Romance', 'Action|Adventure|Children',\n",
       "       'Comedy|Crime|Romance', 'Action|Adventure|Comedy',\n",
       "       'Action|Adventure|Comedy|Sci-Fi',\n",
       "       'Action|Adventure|Fantasy|Thriller', 'Children|Fantasy',\n",
       "       'Adventure|Romance', 'Action|Thriller|War',\n",
       "       'Children|Comedy|Romance|Sci-Fi', 'Romance|Thriller',\n",
       "       'Comedy|Drama|Sci-Fi',\n",
       "       'Adventure|Animation|Children|Drama|Musical',\n",
       "       'Action|Adventure|Drama|Sci-Fi', 'Action|Children|Comedy',\n",
       "       'Adventure|Film-Noir|Sci-Fi|Thriller',\n",
       "       'Crime|Drama|Fantasy|Thriller', 'Crime|Romance|Thriller',\n",
       "       'Crime|Drama|Mystery|Romance|Thriller', 'Documentary|IMAX',\n",
       "       'Comedy|Crime|Drama|Mystery|Thriller', 'Comedy|Documentary',\n",
       "       'Adventure|Children|Comedy|Fantasy', 'Crime|Drama|Romance|War',\n",
       "       'Adventure|Comedy|Drama', 'Adventure|Comedy|Romance',\n",
       "       'Adventure|Animation|Children|Comedy|Drama|Musical|Romance',\n",
       "       'Action|Crime|Mystery|Sci-Fi|Thriller',\n",
       "       'Comedy|Crime|Drama|Romance|Thriller',\n",
       "       'Animation|Children|Fantasy|War', 'Comedy|Drama|Musical',\n",
       "       'Adventure|Fantasy|Musical',\n",
       "       'Action|Adventure|Children|Comedy|Fantasy',\n",
       "       'Drama|Mystery|Sci-Fi|Thriller', 'Adventure|Comedy|Sci-Fi|Western',\n",
       "       'Children|Fantasy|Musical', 'Adventure|Animation|Children|Fantasy',\n",
       "       'Children|Sci-Fi', 'Children|Comedy|Sci-Fi',\n",
       "       'Action|Adventure|Children|Comedy', 'Adventure|Children|Sci-Fi',\n",
       "       'Action|Animation|Children|Crime',\n",
       "       'Children|Comedy|Fantasy|Horror',\n",
       "       'Adventure|Children|Comedy|Fantasy|Sci-Fi',\n",
       "       'Action|Crime|Drama|Mystery|Thriller', 'Film-Noir',\n",
       "       'Drama|Fantasy|Mystery', 'Animation|Children|Comedy|Musical',\n",
       "       'Animation|Children|Comedy|Musical|Romance',\n",
       "       'Children|Comedy|Musical', 'Children|Musical',\n",
       "       'Adventure|Comedy|Musical',\n",
       "       'Adventure|Animation|Children|Crime|Drama',\n",
       "       'Children|Drama|Fantasy|Mystery|Thriller',\n",
       "       'Adventure|Children|Fantasy|Western',\n",
       "       'Animation|Children|Comedy|Drama|Fantasy',\n",
       "       'Action|Crime|Mystery|Thriller',\n",
       "       'Adventure|Animation|Children|Drama|Fantasy',\n",
       "       'Adventure|Animation|Children|Drama', 'Adventure|Fantasy',\n",
       "       'Adventure|Animation|Children|Comedy',\n",
       "       'Adventure|Animation|Children|Musical|Western',\n",
       "       'Adventure|Fantasy|Romance', 'Adventure|Drama|Fantasy',\n",
       "       'Action|Comedy|Drama|Horror', 'Action|Horror|Thriller',\n",
       "       'Drama|Film-Noir|Thriller', 'Adventure|Drama|Mystery|Thriller',\n",
       "       'Horror|Mystery|Sci-Fi|Thriller', 'Drama|Fantasy|Thriller',\n",
       "       'Adventure|Drama|Fantasy|Romance', 'Sci-Fi',\n",
       "       'Drama|Fantasy|Mystery|Romance', 'Action|Sci-Fi|War',\n",
       "       'Fantasy|Horror|Thriller', 'Horror|Western',\n",
       "       'Action|Adventure|Fantasy|Horror',\n",
       "       'Adventure|Fantasy|Romance|Sci-Fi|Thriller',\n",
       "       'Comedy|Crime|Mystery', 'Action|Drama|Romance|Sci-Fi',\n",
       "       'Animation|Musical', 'Action|Adventure|Thriller|War',\n",
       "       'Comedy|Crime|Mystery|Thriller',\n",
       "       'Action|Adventure|Children|Fantasy|Mystery|Thriller',\n",
       "       'Action|Adventure|Children|Drama',\n",
       "       'Action|Adventure|Drama|Fantasy|Thriller', 'Horror|Mystery|Sci-Fi',\n",
       "       'Drama|Horror|Sci-Fi|Thriller', 'Action|Comedy|Romance|Thriller',\n",
       "       'Action|War', 'Adventure|Comedy|Thriller',\n",
       "       'Action|Sci-Fi|Thriller|Western', 'Drama|Romance|Sci-Fi|Thriller',\n",
       "       'Drama|Film-Noir',\n",
       "       'Action|Adventure|Comedy|Fantasy|Horror|Thriller',\n",
       "       'Action|Adventure|Crime|Sci-Fi|Thriller',\n",
       "       'Adventure|Drama|Mystery', 'Horror|Romance',\n",
       "       'Comedy|Horror|Musical|Sci-Fi', 'War', 'Comedy|Romance|Sci-Fi',\n",
       "       'Animation|Comedy|Musical', 'Action|Comedy|Sci-Fi|Western',\n",
       "       'Action|Comedy|Fantasy', 'Adventure|Drama|Thriller',\n",
       "       'Action|Adventure|Comedy|Fantasy|Mystery', 'Comedy|Horror|Musical',\n",
       "       'Adventure|Animation|Children|Drama|Sci-Fi',\n",
       "       'Drama|Horror|Mystery', 'Action|Mystery',\n",
       "       'Comedy|Horror|Romance|Thriller', 'Action|Drama|Romance|Thriller',\n",
       "       'Animation|Horror|Mystery|Thriller',\n",
       "       'Adventure|Children|Comedy|Drama', 'Adventure|Sci-Fi|Thriller',\n",
       "       'Adventure|Animation|Comedy|Fantasy|Musical',\n",
       "       'Animation|Children|Fantasy', 'Action|Adventure|Comedy|Drama|War',\n",
       "       'Crime|Drama|Western', 'Comedy|Crime|Drama|Fantasy',\n",
       "       'Drama|Film-Noir|Mystery|Romance', 'Musical|Romance|War',\n",
       "       'Adventure|Comedy|Fantasy|Sci-Fi', 'Drama|Fantasy|Musical',\n",
       "       'Action|Crime|Sci-Fi|Thriller',\n",
       "       'Adventure|Animation|Children|Comedy|Crime|Fantasy|Mystery',\n",
       "       'Action|Adventure|Animation|Drama|Fantasy',\n",
       "       'Adventure|Animation|Children|Fantasy|Sci-Fi',\n",
       "       'Fantasy|Horror|Mystery|Romance',\n",
       "       'Action|Fantasy|Horror|Mystery|Thriller', 'Drama|Romance|Sci-Fi',\n",
       "       'Animation|Children|Musical|IMAX', 'Action|Comedy|Horror',\n",
       "       'Action|Crime|Thriller|Western', 'Fantasy|Horror|Mystery|Thriller',\n",
       "       'Romance|Western', 'Adventure|Crime|Drama|Romance',\n",
       "       'Adventure|Crime|Drama', 'Animation|Comedy',\n",
       "       'Action|Children|Comedy|Fantasy|Sci-Fi', 'Action|Children|Fantasy',\n",
       "       'Action|Adventure|Drama|Thriller|Western',\n",
       "       'Crime|Horror|Mystery|Thriller', 'Action|Adventure|Comedy|Western',\n",
       "       'Action|Drama|Thriller|Western',\n",
       "       'Adventure|Animation|Fantasy|Sci-Fi',\n",
       "       'Comedy|Horror|Sci-Fi|Thriller', 'Adventure|Drama|Romance|Sci-Fi',\n",
       "       'Film-Noir|Horror|Mystery|Thriller',\n",
       "       'Action|Adventure|Animation|Children|Sci-Fi',\n",
       "       'Action|Fantasy|Horror|Sci-Fi|Thriller',\n",
       "       'Action|Comedy|Crime|Romance', 'Adventure|Horror|Sci-Fi',\n",
       "       'Adventure|Animation|Children|Sci-Fi', 'Adventure|Comedy|Crime',\n",
       "       'Action|Drama|War|Western',\n",
       "       'Action|Crime|Mystery|Romance|Thriller', 'Romance|Sci-Fi',\n",
       "       'Fantasy|Romance', 'Action|Adventure|Fantasy|Sci-Fi',\n",
       "       'Adventure|Comedy|Horror', 'Animation|Comedy|Fantasy',\n",
       "       'Action|Adventure|War', 'Action|Crime|Drama|Horror|Thriller',\n",
       "       'Crime|Mystery', 'Adventure|Comedy|Mystery|Romance',\n",
       "       'Adventure|Animation|Children|Comedy|Fantasy|Romance',\n",
       "       'Adventure|War|Western', 'Comedy|Drama|Mystery|Thriller',\n",
       "       'Comedy|Drama|Romance|Western', 'Action|Comedy|Sci-Fi|Thriller',\n",
       "       'Adventure|Documentary|IMAX', 'Animation|Drama|Sci-Fi|IMAX',\n",
       "       'Action|Comedy|Horror|Sci-Fi', 'Comedy|Musical|Sci-Fi',\n",
       "       'Drama|Musical|Mystery', 'Crime|Musical', 'Comedy|Musical|Western',\n",
       "       'Action|Animation|Comedy|Crime|Drama|Romance|Thriller',\n",
       "       'Action|Adventure|Drama|Romance',\n",
       "       'Comedy|Fantasy|Horror|Musical|Thriller', 'Crime|Horror|Mystery',\n",
       "       'Action|Adventure|Drama|Romance|Thriller',\n",
       "       'Action|Comedy|Romance|War', 'Action|Adventure|Comedy|Drama',\n",
       "       'Adventure|Thriller', 'Crime|Drama|Film-Noir|Mystery|Thriller',\n",
       "       'Action|Animation|Sci-Fi', 'Animation|Drama|Fantasy',\n",
       "       'Drama|Fantasy|Mystery|Sci-Fi',\n",
       "       'Drama|Fantasy|Horror|Thriller|War', 'Fantasy|Mystery|Thriller',\n",
       "       'Action|Adventure|Comedy|Drama|Romance|Thriller',\n",
       "       'Mystery|Romance|Sci-Fi|Thriller',\n",
       "       'Adventure|Crime|Drama|Thriller', 'Comedy|Drama|Mystery',\n",
       "       'Animation|Fantasy', 'Drama|Fantasy|Horror|Mystery|Thriller',\n",
       "       'Drama|Fantasy|Mystery|Romance|Thriller',\n",
       "       'Animation|Fantasy|Horror|Sci-Fi', 'Documentary|War',\n",
       "       'Children|Horror|Mystery|Thriller', 'Musical|Western',\n",
       "       'Action|Adventure|Sci-Fi|IMAX',\n",
       "       'Adventure|Animation|Children|Western',\n",
       "       'Adventure|Children|Comedy|Fantasy|Mystery',\n",
       "       'Adventure|Drama|Horror|Mystery|Thriller',\n",
       "       'Comedy|Sci-Fi|Thriller', 'Action|Animation|Children|Comedy',\n",
       "       'Children|Drama|Musical', 'Comedy|Drama|Fantasy|Sci-Fi',\n",
       "       'Action|Adventure|Fantasy|Romance',\n",
       "       'Comedy|Crime|Romance|Thriller', 'Adventure|War',\n",
       "       'Comedy|Crime|Musical|Mystery', 'Adventure|Animation|Fantasy',\n",
       "       'Animation|Comedy|War', 'Action|Adventure|Comedy|Crime|Drama',\n",
       "       'Animation|Drama|War', 'Documentary|Horror',\n",
       "       'Action|Horror|Mystery|Sci-Fi', 'Action|Comedy|Documentary',\n",
       "       'Adventure|Animation|Children|Sci-Fi|IMAX', 'Comedy|Drama|Horror',\n",
       "       'Animation|Children|Drama|Fantasy', 'Comedy|Crime|Drama|Musical',\n",
       "       'Action|Adventure|Animation|Fantasy|Sci-Fi',\n",
       "       'Action|Adventure|Crime|Drama|Thriller',\n",
       "       'Comedy|Crime|Drama|Romance', 'Comedy|Documentary|Musical',\n",
       "       'Action|Animation|Sci-Fi|Thriller',\n",
       "       'Adventure|Children|Comedy|Mystery', 'Mystery|Sci-Fi',\n",
       "       'Adventure|Children|Comedy|Fantasy|Musical',\n",
       "       'Action|Adventure|Animation|Children|Fantasy|Sci-Fi',\n",
       "       'Action|Adventure|Sci-Fi|Thriller|IMAX',\n",
       "       'Action|Drama|Horror|Sci-Fi|Thriller', 'Drama|War|Western',\n",
       "       'Comedy|Crime|Mystery|Romance', 'Comedy|War|Western',\n",
       "       'Action|Adventure|Comedy|Crime|Thriller', 'Action|Fantasy|Sci-Fi',\n",
       "       'Action|Comedy|Thriller', 'Comedy|Crime|Drama|War',\n",
       "       'Adventure|Comedy|Crime|Thriller',\n",
       "       'Action|Adventure|Children|Fantasy',\n",
       "       'Drama|Fantasy|Musical|Romance', 'Animation|Drama|Romance',\n",
       "       'Comedy|Romance|Sci-Fi|Thriller', 'Action|Fantasy|Horror',\n",
       "       'Fantasy|Horror|Sci-Fi|Thriller', 'Comedy|Musical|Romance|Western',\n",
       "       'Drama|Fantasy|Sci-Fi', 'Children|Comedy|Crime|Musical',\n",
       "       'Action|Adventure|Animation|Fantasy', 'Crime|Documentary',\n",
       "       'Adventure|Comedy|Drama|Fantasy|Mystery|Sci-Fi|Thriller',\n",
       "       'Action|Animation|Children|Fantasy', 'Comedy|Mystery|Sci-Fi',\n",
       "       'Adventure|Thriller|Western', 'Comedy|Crime|Drama|Mystery|Romance',\n",
       "       'Action|Crime|Fantasy|Sci-Fi|Thriller', 'Crime|Fantasy|Horror',\n",
       "       'Action|Drama|Horror|Thriller', 'Comedy|Fantasy|Horror|Thriller',\n",
       "       'Action|Drama|Romance|Western',\n",
       "       'Adventure|Animation|Drama|Fantasy|Sci-Fi',\n",
       "       'Animation|Drama|Sci-Fi|War', 'Action|Adventure|Drama|Fantasy',\n",
       "       'Adventure|Drama|Romance|Thriller|War',\n",
       "       'Crime|Drama|Film-Noir|Romance|Thriller',\n",
       "       'Drama|Film-Noir|Mystery',\n",
       "       'Action|Comedy|Crime|Drama|Horror|Thriller',\n",
       "       'Adventure|Documentary', 'Action|Adventure|Children|Comedy|Crime',\n",
       "       'Animation|Comedy|Fantasy|Musical',\n",
       "       'Action|Adventure|Children|Comedy|Mystery', 'Action|Drama|Horror',\n",
       "       'Musical|Romance|Western', 'Action|Drama|Thriller|War',\n",
       "       'Comedy|Crime|Drama|Musical|Mystery|Romance',\n",
       "       'Adventure|Comedy|War', 'Fantasy|Musical|Romance',\n",
       "       'Drama|Thriller|Western', 'Crime|Horror|Sci-Fi',\n",
       "       'Animation|Fantasy|Thriller', 'Children|Comedy|Fantasy|Sci-Fi',\n",
       "       'Mystery', 'Action|Adventure|Animation|Comedy|Crime|Mystery',\n",
       "       'Adventure|Animation|Children|Comedy|Musical|Romance',\n",
       "       'Action|Adventure|Drama|Sci-Fi|Thriller', 'Adventure|Fantasy|IMAX',\n",
       "       'Action|Crime|Horror|Mystery|Thriller', 'Comedy|Fantasy|Thriller',\n",
       "       'Animation|Comedy|Drama|Fantasy|Sci-Fi',\n",
       "       'Comedy|Documentary|Drama', 'Crime|Drama|Film-Noir|Romance',\n",
       "       'Action|Adventure|Drama|Romance|Thriller|Western',\n",
       "       'Crime|Drama|Horror', 'Adventure|Comedy|Fantasy|Musical',\n",
       "       'Adventure|Animation|Drama', 'Comedy|Drama|Fantasy|Mystery',\n",
       "       'Action|Crime|Fantasy', 'Comedy|Drama|Sci-Fi|War',\n",
       "       'Adventure|Fantasy|Sci-Fi',\n",
       "       'Adventure|Drama|Horror|Sci-Fi|Thriller',\n",
       "       'Action|Adventure|Animation|Comedy',\n",
       "       'Action|Adventure|Animation|Children|Comedy',\n",
       "       'Adventure|Animation|Children|Fantasy|IMAX',\n",
       "       'Action|Adventure|Drama|Mystery|Thriller',\n",
       "       'Action|Fantasy|Horror|Thriller', 'Fantasy',\n",
       "       'Crime|Documentary|War', 'Children|Comedy|Musical|Romance',\n",
       "       'Drama|Horror|War', 'Action|Adventure|Comedy|Drama|Romance|War',\n",
       "       'Fantasy|Western', 'Adventure|Comedy|Horror|Romance',\n",
       "       'Action|Adventure|Animation|Children|Comedy|Fantasy',\n",
       "       'Action|Adventure|Children|Crime|Mystery|Thriller',\n",
       "       'Adventure|Children|Fantasy|Sci-Fi',\n",
       "       'Action|Fantasy|Horror|Romance', 'Animation|Fantasy|Mystery',\n",
       "       'Action|Animation|Crime|Drama|Film-Noir|Mystery|Sci-Fi|Thriller',\n",
       "       'Animation|Drama', 'Action|Fantasy|Sci-Fi|Thriller|War',\n",
       "       'Adventure|Animation|Comedy|Fantasy|Romance',\n",
       "       'Drama|Romance|Thriller|War',\n",
       "       'Adventure|Drama|Fantasy|Horror|Sci-Fi',\n",
       "       'Drama|Fantasy|Horror|Mystery|Sci-Fi|Thriller', 'Action|Animation',\n",
       "       'Adventure|Animation|Children|Musical|Romance',\n",
       "       'Action|Documentary|Drama|Thriller',\n",
       "       'Action|Adventure|Comedy|Sci-Fi|Thriller',\n",
       "       'Action|Adventure|Drama|Fantasy|Romance',\n",
       "       'Action|Animation|Drama|Fantasy|Sci-Fi',\n",
       "       'Drama|Fantasy|Romance|Sci-Fi',\n",
       "       'Action|Animation|Crime|Sci-Fi|Thriller',\n",
       "       'Drama|Horror|Mystery|Romance|Thriller',\n",
       "       'Action|Comedy|Crime|Fantasy|Thriller',\n",
       "       'Crime|Drama|Mystery|Thriller|War', 'Comedy|Drama|Romance|Sci-Fi',\n",
       "       'Action|Animation|Horror', 'Comedy|Crime|Horror|Mystery|Thriller',\n",
       "       'Comedy|Fantasy|Mystery|Sci-Fi',\n",
       "       'Comedy|Crime|Drama|Sci-Fi|Thriller',\n",
       "       'Action|Comedy|Horror|Musical', 'Drama|Sci-Fi|War',\n",
       "       'Action|Animation|Drama|Sci-Fi',\n",
       "       'Action|Comedy|Horror|Sci-Fi|Thriller|Western',\n",
       "       'Action|Comedy|Drama|War', 'Drama|Mystery|Romance|War',\n",
       "       'Action|Animation|Drama|Sci-Fi|Thriller',\n",
       "       'Children|Comedy|Crime|Drama|Fantasy', 'Action|Horror|Sci-Fi|War',\n",
       "       'Animation|Drama|Mystery|Sci-Fi|Thriller',\n",
       "       'Action|Drama|Fantasy|Sci-Fi', 'Comedy|Crime|Drama|Horror|Mystery',\n",
       "       'Adventure|Children|Comedy|Fantasy|IMAX', 'Animation|Documentary',\n",
       "       'Drama|Horror|Mystery|Sci-Fi|Thriller',\n",
       "       'Animation|Fantasy|Sci-Fi|War', 'Action|Animation|Fantasy|Sci-Fi',\n",
       "       'Action|Adventure|Crime|Drama',\n",
       "       'Action|Adventure|Comedy|Crime|Romance|Thriller',\n",
       "       'Action|Adventure|Drama|Romance|War',\n",
       "       'Adventure|Animation|Fantasy|Romance',\n",
       "       'Action|Fantasy|Horror|Mystery|Sci-Fi|Thriller',\n",
       "       'Adventure|Comedy|Crime|Drama|Mystery|Thriller',\n",
       "       'Comedy|Crime|Drama|Mystery', 'Comedy|Crime|Musical',\n",
       "       'Adventure|Animation|Children|Comedy|Fantasy|Sci-Fi|IMAX',\n",
       "       'Adventure|Comedy|Documentary', 'Comedy|Crime|Drama|Western',\n",
       "       'Adventure|Drama|War|Western', 'Animation|Fantasy|Sci-Fi|Thriller',\n",
       "       'Action|Crime|Film-Noir|Mystery|Thriller',\n",
       "       'Animation|Comedy|Sci-Fi', 'Animation|Fantasy|Horror',\n",
       "       'Children|Documentary', 'Action|Crime|IMAX',\n",
       "       'Adventure|Animation|Children|Comedy|Fantasy|War',\n",
       "       'Action|Adventure|Horror|Mystery|Sci-Fi|Thriller',\n",
       "       'Action|Crime|Drama|Thriller|War',\n",
       "       'Fantasy|Mystery|Romance|Thriller', 'Crime|Drama|Horror|Thriller',\n",
       "       'Animation|Comedy|Fantasy|Musical|Romance',\n",
       "       'Adventure|Children|Drama|Fantasy',\n",
       "       'Action|Horror|Mystery|Thriller',\n",
       "       'Adventure|Comedy|Fantasy|Horror',\n",
       "       'Action|Adventure|Animation|Children|Comedy|Sci-Fi',\n",
       "       'Adventure|Drama|Horror|Thriller',\n",
       "       'Adventure|Fantasy|Thriller|IMAX', 'Crime|Drama|Thriller|War',\n",
       "       'Action|Adventure|Comedy|Drama|Romance',\n",
       "       'Animation|Drama|Romance|Sci-Fi', 'Fantasy|Mystery|Western',\n",
       "       'Adventure|Comedy|Drama|Fantasy', 'Action|Comedy|Crime|Western',\n",
       "       'Action|Crime|Drama|Horror', 'Action|Fantasy|Sci-Fi|Thriller',\n",
       "       'Action|Drama|Fantasy|Horror|Mystery|Sci-Fi|Thriller',\n",
       "       'Action|Animation|Children|Sci-Fi', 'Action|Sci-Fi|Thriller|IMAX',\n",
       "       'Comedy|Fantasy|Horror|Sci-Fi', 'Action|Crime|Mystery',\n",
       "       'Crime|Drama|Film-Noir|Mystery',\n",
       "       'Action|Animation|Film-Noir|Sci-Fi|Thriller',\n",
       "       'Action|Adventure|Thriller|IMAX',\n",
       "       'Adventure|Comedy|Drama|Fantasy|Romance',\n",
       "       'Children|Comedy|Drama|Musical|Romance',\n",
       "       'Comedy|Documentary|Romance', 'Animation|Children|Fantasy|Mystery',\n",
       "       'Comedy|Fantasy|Mystery', 'Action|Comedy|Fantasy|IMAX',\n",
       "       'Adventure|Animation|Children|Comedy|Fantasy|IMAX',\n",
       "       'Adventure|Animation|Comedy|Fantasy|Romance|Sci-Fi',\n",
       "       'Crime|Drama|Musical', 'Adventure|Comedy|Sci-Fi|Thriller',\n",
       "       'Adventure|Animation|Children|Comedy|IMAX',\n",
       "       'Documentary|Drama|War', 'Crime|Western',\n",
       "       'Action|Adventure|Crime|Drama|Thriller|War',\n",
       "       'Children|Comedy|Drama|Fantasy', 'Drama|Fantasy|Horror|Romance',\n",
       "       'Action|Fantasy|Thriller', 'Action|Comedy|Crime|Mystery',\n",
       "       'Action|Comedy|Drama|Horror|Thriller', 'Action|Fantasy|War|IMAX',\n",
       "       'Comedy|Drama|Horror|Sci-Fi|Thriller',\n",
       "       'Drama|Fantasy|Mystery|Thriller',\n",
       "       'Action|Crime|Horror|Sci-Fi|Thriller',\n",
       "       'Adventure|Drama|Sci-Fi|Thriller',\n",
       "       'Action|Adventure|Animation|Comedy|Fantasy|Mystery|Sci-Fi',\n",
       "       'Crime|Drama|Fantasy|Mystery|Thriller',\n",
       "       'Action|Crime|Horror|Thriller', 'Animation|Mystery|Sci-Fi',\n",
       "       'Adventure|Crime|Thriller',\n",
       "       'Action|Adventure|Crime|Horror|Thriller',\n",
       "       'Adventure|Drama|Fantasy|IMAX', 'Adventure|Comedy|Fantasy|Romance',\n",
       "       'Action|Adventure|Fantasy|War', 'Action|Crime|Drama|Western',\n",
       "       'Action|Adventure|Comedy|Drama|Thriller',\n",
       "       'Action|Adventure|Animation|Crime|Fantasy',\n",
       "       'Action|Adventure|Animation|Fantasy|IMAX',\n",
       "       'Comedy|Drama|Sci-Fi|Thriller',\n",
       "       'Adventure|Animation|Children|Comedy|Fantasy|Musical|Romance',\n",
       "       'Action|Horror|Sci-Fi|Thriller|IMAX',\n",
       "       'Drama|Horror|Musical|Thriller', 'Action|Mystery|Sci-Fi|Thriller',\n",
       "       'Adventure|Animation|Drama|Horror',\n",
       "       'Animation|Comedy|Drama|Romance|Sci-Fi', 'Crime|Sci-Fi',\n",
       "       'Adventure|Children|Drama|Fantasy|IMAX',\n",
       "       'Adventure|Romance|Thriller', 'Crime|Drama|War',\n",
       "       'Action|Crime|Drama|IMAX', 'Documentary|Musical|IMAX',\n",
       "       'Action|Children|Sci-Fi|IMAX',\n",
       "       'Action|Animation|Children|Comedy|IMAX',\n",
       "       'Comedy|Crime|Drama|Horror', 'Action|Comedy|Drama|Thriller',\n",
       "       'Adventure|Animation|Children|Romance|Sci-Fi',\n",
       "       'Action|Adventure|Comedy|Crime|Fantasy',\n",
       "       'Action|Animation|Comedy|Romance|Sci-Fi',\n",
       "       'Children|Comedy|Drama|Mystery',\n",
       "       'Animation|Children|Comedy|Fantasy|Musical',\n",
       "       'Action|Adventure|Horror|Sci-Fi|Thriller',\n",
       "       'Adventure|Children|Comedy|Romance|Sci-Fi',\n",
       "       'Action|Comedy|Fantasy|Horror|Thriller',\n",
       "       'Action|Drama|Mystery|Sci-Fi|Thriller|IMAX',\n",
       "       'Adventure|Fantasy|Thriller', 'Action|Animation|Crime',\n",
       "       'Adventure|Comedy|Drama|Romance',\n",
       "       'Animation|Documentary|Drama|War',\n",
       "       'Action|Comedy|Fantasy|Thriller', 'Action|Animation|Comedy|Horror',\n",
       "       'Action|Crime|Thriller|IMAX', 'Animation|Comedy|Fantasy|Sci-Fi',\n",
       "       'Action|Adventure|Animation|Comedy|Fantasy|Sci-Fi',\n",
       "       'Action|Adventure|Animation|Children|Comedy|IMAX',\n",
       "       'Children|Fantasy|Musical|Romance',\n",
       "       'Drama|Fantasy|Romance|Thriller',\n",
       "       'Adventure|Animation|Comedy|Fantasy', 'Drama|Sci-Fi|Thriller|IMAX',\n",
       "       'Action|Adventure|Animation', 'Action|Animation|Comedy|Sci-Fi',\n",
       "       'Animation', 'Adventure|Comedy|Mystery',\n",
       "       'Comedy|Drama|Musical|Sci-Fi', 'Comedy|Crime|Horror|Thriller',\n",
       "       'Action|Drama|Mystery|Sci-Fi|Thriller', 'Animation|Sci-Fi|IMAX',\n",
       "       'Drama|Fantasy|Sci-Fi|Thriller', 'Action|Comedy|IMAX',\n",
       "       'Adventure|Fantasy|Musical|Romance',\n",
       "       'Action|Animation|Mystery|Sci-Fi',\n",
       "       'Action|Adventure|Animation|Drama',\n",
       "       'Action|Adventure|Comedy|Horror',\n",
       "       'Action|Adventure|Animation|Children|Comedy|Romance',\n",
       "       'Action|Adventure|Animation|Horror',\n",
       "       'Adventure|Fantasy|Mystery|Romance|IMAX',\n",
       "       'Adventure|Children|Fantasy|Sci-Fi|Thriller',\n",
       "       'Comedy|Documentary|Drama|Romance', 'Adventure|Animation|Sci-Fi',\n",
       "       'Animation|Children|Fantasy|IMAX',\n",
       "       'Action|Animation|Comedy|Horror|Thriller',\n",
       "       'Animation|Comedy|Drama',\n",
       "       'Action|Adventure|Drama|Fantasy|Romance|Sci-Fi|Thriller',\n",
       "       'Action|Comedy|Drama|Romance',\n",
       "       'Adventure|Animation|Children|Comedy|Crime',\n",
       "       'Animation|Children|Drama|Fantasy|IMAX',\n",
       "       'Animation|Children|Comedy|Fantasy',\n",
       "       'Drama|Fantasy|Horror|Romance|Thriller',\n",
       "       'Action|Adventure|Animation|Comedy|Thriller',\n",
       "       'Crime|Drama|Fantasy|Horror|Thriller', 'Children|Drama|Romance',\n",
       "       'Horror|Thriller|Western', 'Comedy|Musical|Sci-Fi|Western',\n",
       "       'Action|Adventure|Fantasy|Romance|IMAX',\n",
       "       'Fantasy|Romance|Thriller|IMAX',\n",
       "       'Action|Crime|Drama|Mystery|Sci-Fi|Thriller|IMAX',\n",
       "       'Action|Children|Drama', 'Action|Comedy|Fantasy|Musical|Romance',\n",
       "       'Documentary|Drama|Mystery', 'Adventure|Animation|Fantasy|IMAX',\n",
       "       'Documentary|Mystery',\n",
       "       'Action|Adventure|Comedy|Crime|Drama|Film-Noir|Horror|Mystery|Thriller|Western',\n",
       "       'Horror|IMAX', 'Action|Animation|Children|Comedy|Sci-Fi|IMAX',\n",
       "       'Action|Adventure|Fantasy|IMAX',\n",
       "       'Animation|Children|Comedy|Fantasy|Musical|Romance|IMAX',\n",
       "       'Crime|Romance', 'Adventure|Documentary|Western',\n",
       "       'Action|Comedy|Crime|Fantasy|Thriller|IMAX',\n",
       "       'Action|Fantasy|Western', 'Action|Sci-Fi|Thriller|Western|IMAX',\n",
       "       'Action|Adventure|Animation|Children|Comedy|Western',\n",
       "       'Romance|Sci-Fi|Thriller', 'Adventure|Animation|Comedy|Sci-Fi',\n",
       "       'Action|Adventure|Animation|Children|Comedy|Sci-Fi|IMAX',\n",
       "       'Action|Fantasy|Thriller|IMAX', 'Animation|Children|Comedy|Horror',\n",
       "       'Action|Adventure|Drama|Fantasy|IMAX',\n",
       "       'Action|Crime|Drama|Thriller|IMAX', 'Drama|Mystery|War',\n",
       "       'Action|Adventure|Sci-Fi|Thriller|War',\n",
       "       'Mystery|Sci-Fi|Thriller|IMAX', 'Action|Adventure|Sci-Fi|War|IMAX',\n",
       "       'Action|Adventure|Drama|Fantasy|Mystery|IMAX',\n",
       "       'Horror|Thriller|IMAX', 'Sci-Fi|Thriller|IMAX',\n",
       "       'Action|Drama|Sci-Fi|IMAX', 'Crime|Sci-Fi|Thriller',\n",
       "       'Action|Drama|Mystery|Thriller',\n",
       "       'Adventure|Animation|Comedy|Fantasy|IMAX',\n",
       "       'Action|Animation|Mystery|IMAX', 'Children|Drama|Mystery',\n",
       "       'Action|Drama|Fantasy', 'Animation|Children|Comedy|IMAX',\n",
       "       'Animation|Children|Comedy|Drama', 'Action|Crime|Film-Noir',\n",
       "       'Action|Adventure|Crime|IMAX',\n",
       "       'Action|Adventure|Drama|Thriller|IMAX',\n",
       "       'Action|Adventure|Comedy|Crime|Mystery|Thriller',\n",
       "       'Action|Fantasy|Horror|IMAX', 'Crime|Drama|Fantasy',\n",
       "       'Action|Adventure|Comedy|Sci-Fi|IMAX', 'Action|Adventure|Horror',\n",
       "       'Crime|Thriller|Western', 'Animation|Fantasy|Musical|IMAX',\n",
       "       'Action|Animation|Fantasy', 'Comedy|Horror|IMAX',\n",
       "       'Action|Comedy|Sci-Fi|IMAX', 'Action|Horror|Sci-Fi|IMAX',\n",
       "       'Action|Adventure|Animation|Children',\n",
       "       'Action|Adventure|Animation|Sci-Fi|Thriller',\n",
       "       'Comedy|Drama|Musical|IMAX', 'Children|Musical|Mystery',\n",
       "       'Drama|Fantasy|Musical|Mystery|Sci-Fi',\n",
       "       'Animation|Comedy|Horror|IMAX', 'Drama|Sci-Fi|IMAX',\n",
       "       'Action|Adventure|Comedy|Documentary|Fantasy',\n",
       "       'Action|Adventure|Crime', 'Children|Crime|Drama',\n",
       "       'Adventure|Drama|Fantasy|Romance|IMAX', 'Animation|Comedy|Romance',\n",
       "       'Drama|Musical|Romance|IMAX',\n",
       "       'Adventure|Comedy|Fantasy|Romance|IMAX',\n",
       "       'Animation|Comedy|Horror|Musical', 'Action|Animation|Comedy',\n",
       "       'Children|Horror|Sci-Fi', 'Action|Drama|IMAX',\n",
       "       'Documentary|Fantasy', 'Action|Adventure|Fantasy|Sci-Fi|IMAX',\n",
       "       'Action|Drama|Horror|IMAX', 'Action|Drama|Thriller|IMAX',\n",
       "       'Action|Adventure|Western|IMAX', 'Drama|Fantasy|Thriller|War',\n",
       "       'Action|IMAX', 'Action|Sci-Fi|IMAX',\n",
       "       'Adventure|Comedy|Musical|Sci-Fi', 'Adventure|Drama|Thriller|IMAX',\n",
       "       'Children|Drama|War',\n",
       "       'Adventure|Animation|Comedy|Fantasy|Musical|Romance',\n",
       "       'Action|Animation|Drama', 'Drama|Horror|Romance',\n",
       "       'Action|Animation|Fantasy|IMAX', 'Adventure|Romance|Sci-Fi|IMAX',\n",
       "       'Adventure|Animation|Children|Comedy|Drama|Romance',\n",
       "       'Action|Fantasy|Sci-Fi|IMAX', 'Action|Crime|Sci-Fi|IMAX',\n",
       "       'Animation|Comedy|Drama|Romance', 'Sci-Fi|IMAX',\n",
       "       'Animation|Romance', 'Action|Drama|War|IMAX',\n",
       "       'Action|Animation|Children|Comedy|Musical',\n",
       "       'Action|Adventure|Children|IMAX', 'Action|Animation|Children',\n",
       "       'Animation|Drama|Fantasy|Mystery',\n",
       "       'Action|Animation|Crime|Thriller', 'Documentary|Drama|Musical',\n",
       "       '(no genres listed)', 'Adventure|Animation',\n",
       "       'Adventure|Animation|Romance',\n",
       "       'Animation|Children|Comedy|Musical|Sci-Fi',\n",
       "       'Action|Adventure|Comedy|Drama|Fantasy|Thriller',\n",
       "       'Documentary|Drama|Thriller', 'Adventure|Mystery|Thriller',\n",
       "       'Horror|Romance|Thriller', 'Animation|Children|Mystery',\n",
       "       'Comedy|Drama|Fantasy|Mystery|Romance',\n",
       "       'Crime|Drama|Horror|Mystery', 'Adventure|Romance|Sci-Fi',\n",
       "       'Horror|Sci-Fi|Western', 'Action|Adventure|Children|Comedy|Sci-Fi',\n",
       "       'Action|Adventure|Animation|Comedy|Sci-Fi',\n",
       "       'Horror|Romance|Sci-Fi',\n",
       "       'Action|Adventure|Children|Mystery|Sci-Fi', 'Comedy|Crime|Sci-Fi',\n",
       "       'Action|Comedy|Fantasy|Sci-Fi',\n",
       "       'Adventure|Animation|Children|Comedy|Drama|Fantasy',\n",
       "       'Adventure|Children|Comedy|Sci-Fi',\n",
       "       'Action|Animation|Crime|Sci-Fi', 'Action|Adventure|Romance|Sci-Fi',\n",
       "       'Action|Crime|Drama|Sci-Fi',\n",
       "       'Animation|Children|Comedy|Drama|Romance',\n",
       "       'Action|Fantasy|Mystery', 'Comedy|Horror|Mystery',\n",
       "       'Comedy|Crime|Fantasy', 'Animation|Horror|Mystery',\n",
       "       'Comedy|Romance|Western', 'Adventure|Drama|Fantasy|Sci-Fi',\n",
       "       'Adventure|Children|Drama|Sci-Fi',\n",
       "       'Adventure|Children|Comedy|Drama|Fantasy|Sci-Fi',\n",
       "       'Animation|Fantasy|Horror|Mystery',\n",
       "       'Adventure|Animation|Fantasy|Horror|Sci-Fi',\n",
       "       'Action|Animation|Crime|Drama',\n",
       "       'Action|Adventure|Animation|Drama|Fantasy|Sci-Fi',\n",
       "       'Action|Animation|Mystery', 'Animation|Drama|Sci-Fi',\n",
       "       'Animation|Drama|Fantasy|Romance',\n",
       "       'Action|Adventure|Comedy|Fantasy|Sci-Fi|Thriller',\n",
       "       'Action|Adventure|Fantasy|Horror|Thriller', 'Comedy|Sci-Fi|War',\n",
       "       'Comedy|Mystery|Romance|Thriller', 'Fantasy|Horror|Sci-Fi|Western',\n",
       "       'Animation|Crime|Drama', 'Adventure|Mystery|Sci-Fi|Thriller',\n",
       "       'Action|Comedy|Crime|Horror', 'Action|Adventure|Children|Sci-Fi',\n",
       "       'Action|Adventure|Comedy|Fantasy|Sci-Fi',\n",
       "       'Action|Animation|Comedy|Fantasy'], dtype=object)"
      ]
     },
     "metadata": {},
     "output_type": "display_data"
    },
    {
     "name": "stdout",
     "output_type": "stream",
     "text": [
      "<class 'numpy.ndarray'>\n"
     ]
    }
   ],
   "source": [
    "genres = movie['genres'].unique()  # 장르 컬럼의 값들이 형태 : 한 영화에 한 장르가 아니라 여러 장르가 |로 구분되어서 표시되고 있음\n",
    "display(genres)\n",
    "print(type(genres))"
   ]
  },
  {
   "cell_type": "code",
   "execution_count": 20,
   "metadata": {
    "pycharm": {
     "name": "#%%\n"
    }
   },
   "outputs": [
    {
     "name": "stdout",
     "output_type": "stream",
     "text": [
      "['Adventure', 'Animation', 'Children', 'Comedy', 'Fantasy', 'Romance', 'Drama', 'Action', 'Crime', 'Thriller', 'Horror', 'Mystery', 'Sci-Fi', 'War', 'Musical', 'Documentary', 'IMAX', 'Western', 'Film-Noir', '(no genres listed)']\n"
     ]
    }
   ],
   "source": [
    "genres_list = []\n",
    "for genre in genres :\n",
    "    temp = list(genre.split(\"|\"))\n",
    "    for x in temp :\n",
    "        if x not in genres_list:\n",
    "            genres_list.append(x)\n",
    "\n",
    "print(genres_list) # |로 나누어 영화 장르의 리스트를 만듦."
   ]
  },
  {
   "cell_type": "code",
   "execution_count": 21,
   "metadata": {
    "pycharm": {
     "name": "#%%\n"
    }
   },
   "outputs": [
    {
     "data": {
      "text/html": [
       "<div>\n",
       "<style scoped>\n",
       "    .dataframe tbody tr th:only-of-type {\n",
       "        vertical-align: middle;\n",
       "    }\n",
       "\n",
       "    .dataframe tbody tr th {\n",
       "        vertical-align: top;\n",
       "    }\n",
       "\n",
       "    .dataframe thead th {\n",
       "        text-align: right;\n",
       "    }\n",
       "</style>\n",
       "<table border=\"1\" class=\"dataframe\">\n",
       "  <thead>\n",
       "    <tr style=\"text-align: right;\">\n",
       "      <th></th>\n",
       "      <th>movieId</th>\n",
       "      <th>title</th>\n",
       "      <th>genres</th>\n",
       "      <th>rating</th>\n",
       "    </tr>\n",
       "  </thead>\n",
       "  <tbody>\n",
       "    <tr>\n",
       "      <th>0</th>\n",
       "      <td>1</td>\n",
       "      <td>Toy Story (1995)</td>\n",
       "      <td>Adventure|Animation|Children|Comedy|Fantasy</td>\n",
       "      <td>3.920930</td>\n",
       "    </tr>\n",
       "    <tr>\n",
       "      <th>1</th>\n",
       "      <td>2</td>\n",
       "      <td>Jumanji (1995)</td>\n",
       "      <td>Adventure|Children|Fantasy</td>\n",
       "      <td>3.431818</td>\n",
       "    </tr>\n",
       "    <tr>\n",
       "      <th>2</th>\n",
       "      <td>3</td>\n",
       "      <td>Grumpier Old Men (1995)</td>\n",
       "      <td>Comedy|Romance</td>\n",
       "      <td>3.259615</td>\n",
       "    </tr>\n",
       "    <tr>\n",
       "      <th>3</th>\n",
       "      <td>4</td>\n",
       "      <td>Waiting to Exhale (1995)</td>\n",
       "      <td>Comedy|Drama|Romance</td>\n",
       "      <td>2.357143</td>\n",
       "    </tr>\n",
       "    <tr>\n",
       "      <th>4</th>\n",
       "      <td>5</td>\n",
       "      <td>Father of the Bride Part II (1995)</td>\n",
       "      <td>Comedy</td>\n",
       "      <td>3.071429</td>\n",
       "    </tr>\n",
       "    <tr>\n",
       "      <th>...</th>\n",
       "      <td>...</td>\n",
       "      <td>...</td>\n",
       "      <td>...</td>\n",
       "      <td>...</td>\n",
       "    </tr>\n",
       "    <tr>\n",
       "      <th>9737</th>\n",
       "      <td>193581</td>\n",
       "      <td>Black Butler: Book of the Atlantic (2017)</td>\n",
       "      <td>Action|Animation|Comedy|Fantasy</td>\n",
       "      <td>4.000000</td>\n",
       "    </tr>\n",
       "    <tr>\n",
       "      <th>9738</th>\n",
       "      <td>193583</td>\n",
       "      <td>No Game No Life: Zero (2017)</td>\n",
       "      <td>Animation|Comedy|Fantasy</td>\n",
       "      <td>3.500000</td>\n",
       "    </tr>\n",
       "    <tr>\n",
       "      <th>9739</th>\n",
       "      <td>193585</td>\n",
       "      <td>Flint (2017)</td>\n",
       "      <td>Drama</td>\n",
       "      <td>3.500000</td>\n",
       "    </tr>\n",
       "    <tr>\n",
       "      <th>9740</th>\n",
       "      <td>193587</td>\n",
       "      <td>Bungo Stray Dogs: Dead Apple (2018)</td>\n",
       "      <td>Action|Animation</td>\n",
       "      <td>3.500000</td>\n",
       "    </tr>\n",
       "    <tr>\n",
       "      <th>9741</th>\n",
       "      <td>193609</td>\n",
       "      <td>Andrew Dice Clay: Dice Rules (1991)</td>\n",
       "      <td>Comedy</td>\n",
       "      <td>4.000000</td>\n",
       "    </tr>\n",
       "  </tbody>\n",
       "</table>\n",
       "<p>9724 rows × 4 columns</p>\n",
       "</div>"
      ],
      "text/plain": [
       "      movieId                                      title  \\\n",
       "0           1                           Toy Story (1995)   \n",
       "1           2                             Jumanji (1995)   \n",
       "2           3                    Grumpier Old Men (1995)   \n",
       "3           4                   Waiting to Exhale (1995)   \n",
       "4           5         Father of the Bride Part II (1995)   \n",
       "...       ...                                        ...   \n",
       "9737   193581  Black Butler: Book of the Atlantic (2017)   \n",
       "9738   193583               No Game No Life: Zero (2017)   \n",
       "9739   193585                               Flint (2017)   \n",
       "9740   193587        Bungo Stray Dogs: Dead Apple (2018)   \n",
       "9741   193609        Andrew Dice Clay: Dice Rules (1991)   \n",
       "\n",
       "                                           genres    rating  \n",
       "0     Adventure|Animation|Children|Comedy|Fantasy  3.920930  \n",
       "1                      Adventure|Children|Fantasy  3.431818  \n",
       "2                                  Comedy|Romance  3.259615  \n",
       "3                            Comedy|Drama|Romance  2.357143  \n",
       "4                                          Comedy  3.071429  \n",
       "...                                           ...       ...  \n",
       "9737              Action|Animation|Comedy|Fantasy  4.000000  \n",
       "9738                     Animation|Comedy|Fantasy  3.500000  \n",
       "9739                                        Drama  3.500000  \n",
       "9740                             Action|Animation  3.500000  \n",
       "9741                                       Comedy  4.000000  \n",
       "\n",
       "[9724 rows x 4 columns]"
      ]
     },
     "execution_count": 21,
     "metadata": {},
     "output_type": "execute_result"
    }
   ],
   "source": [
    "movie_info # 위에서 만든 영화별 평점평균을 포함한 데이터프레임"
   ]
  },
  {
   "cell_type": "code",
   "execution_count": 22,
   "metadata": {
    "pycharm": {
     "name": "#%%\n"
    }
   },
   "outputs": [
    {
     "name": "stdout",
     "output_type": "stream",
     "text": [
      "[3.215229808197848, 3.497119150128774, 3.1076903605293134, 3.181716291867792, 3.218843125330386, 3.3648703259133232, 3.4209053471055375, 3.0944984491955134, 3.301843831031174, 3.1561160994630257, 2.9189646997100778, 3.3303636065388313, 3.1026374537884083, 3.5716549384975464, 3.2963709618468595, 3.7816816901269963, 3.3119963710928855, 3.3833889087601268, 3.6704709375189575, 3.3711484593837535]\n"
     ]
    }
   ],
   "source": [
    "genres_rate = []\n",
    "for genre in genres_list :\n",
    "    rate = movie_info[movie_info['genres'].str.contains(genre)]['rating'].mean() # genres_list를 이용하여 장르별 평점평균을 구하고\n",
    "    genres_rate.append(rate) # 구한 평점평균을 새로운 리스트에 저장함.\n",
    "\n",
    "print(genres_rate)"
   ]
  },
  {
   "cell_type": "code",
   "execution_count": 23,
   "metadata": {
    "pycharm": {
     "name": "#%%\n"
    }
   },
   "outputs": [
    {
     "data": {
      "text/plain": [
       "Documentary    3.781682\n",
       "dtype: float64"
      ]
     },
     "execution_count": 23,
     "metadata": {},
     "output_type": "execute_result"
    }
   ],
   "source": [
    "genres_rate_ranking = pd.Series(genres_rate,\n",
    "                                index=genres_list) # genres_rate는 genres_list와 동일한 순서로 생성되었으므로 list를 index로 하는 Series를 만듦.\n",
    "top_genres = genres_rate_ranking[genres_rate_ranking==genres_rate_ranking.max()] # Series에서 가장 높은 rating에 해당하는 장르를 추출\n",
    "top_genres = top_genres.sort_index() # 제목 순 정렬\n",
    "top_genres"
   ]
  },
  {
   "cell_type": "markdown",
   "metadata": {},
   "source": [
    "---\n",
    "# Self Study"
   ]
  },
  {
   "cell_type": "markdown",
   "metadata": {
    "pycharm": {
     "name": "#%% md\n"
    }
   },
   "source": [
    "### 장르별 평균평점 시각화\n",
    "어떤 장르가 가장 인기가 많을지"
   ]
  },
  {
   "cell_type": "code",
   "execution_count": 24,
   "metadata": {
    "pycharm": {
     "name": "#%%\n"
    }
   },
   "outputs": [
    {
     "data": {
      "text/plain": [
       "Adventure             3.215230\n",
       "Animation             3.497119\n",
       "Children              3.107690\n",
       "Comedy                3.181716\n",
       "Fantasy               3.218843\n",
       "Romance               3.364870\n",
       "Drama                 3.420905\n",
       "Action                3.094498\n",
       "Crime                 3.301844\n",
       "Thriller              3.156116\n",
       "Horror                2.918965\n",
       "Mystery               3.330364\n",
       "Sci-Fi                3.102637\n",
       "War                   3.571655\n",
       "Musical               3.296371\n",
       "Documentary           3.781682\n",
       "IMAX                  3.311996\n",
       "Western               3.383389\n",
       "Film-Noir             3.670471\n",
       "(no genres listed)    3.371148\n",
       "dtype: float64"
      ]
     },
     "execution_count": 24,
     "metadata": {},
     "output_type": "execute_result"
    }
   ],
   "source": [
    "# 바로 위 7번에서 구한 장르별 평균평점\n",
    "genres_rate_ranking"
   ]
  },
  {
   "cell_type": "code",
   "execution_count": 25,
   "metadata": {
    "pycharm": {
     "name": "#%%\n"
    }
   },
   "outputs": [],
   "source": [
    "# 오름차순 정렬\n",
    "genres_rate_ranking.sort_values(ascending=True, inplace=True) # ascending=True 오름차순 default"
   ]
  },
  {
   "cell_type": "code",
   "execution_count": 26,
   "metadata": {
    "pycharm": {
     "name": "#%%\n"
    }
   },
   "outputs": [
    {
     "data": {
      "text/plain": [
       "Horror                2.918965\n",
       "Action                3.094498\n",
       "Sci-Fi                3.102637\n",
       "Children              3.107690\n",
       "Thriller              3.156116\n",
       "Comedy                3.181716\n",
       "Adventure             3.215230\n",
       "Fantasy               3.218843\n",
       "Musical               3.296371\n",
       "Crime                 3.301844\n",
       "IMAX                  3.311996\n",
       "Mystery               3.330364\n",
       "Romance               3.364870\n",
       "(no genres listed)    3.371148\n",
       "Western               3.383389\n",
       "Drama                 3.420905\n",
       "Animation             3.497119\n",
       "War                   3.571655\n",
       "Film-Noir             3.670471\n",
       "Documentary           3.781682\n",
       "dtype: float64"
      ]
     },
     "execution_count": 26,
     "metadata": {},
     "output_type": "execute_result"
    }
   ],
   "source": [
    "genres_rate_ranking"
   ]
  },
  {
   "cell_type": "code",
   "execution_count": 27,
   "metadata": {
    "pycharm": {
     "name": "#%%\n"
    }
   },
   "outputs": [
    {
     "data": {
      "image/png": "[encoded data removed]",
      "text/plain": [
       "<Figure size 1152x432 with 1 Axes>"
      ]
     },
     "metadata": {
      "needs_background": "light"
     },
     "output_type": "display_data"
    }
   ],
   "source": [
    "plt.figure(figsize=(16,6))\n",
    "plt.style.use('ggplot')\n",
    "plt.bar(genres_rate_ranking.index, genres_rate_ranking.values)\n",
    "plt.title('장르별 평균평점')\n",
    "plt.xlabel('장르')\n",
    "plt.ylabel('평균평점')\n",
    "plt.xticks(rotation='45', fontsize=15)\n",
    "plt.show()"
   ]
  },
  {
   "cell_type": "markdown",
   "metadata": {},
   "source": [
    "### 시간에 따른 리뷰 개수 추이"
   ]
  },
  {
   "cell_type": "code",
   "execution_count": 28,
   "metadata": {
    "pycharm": {
     "name": "#%%\n"
    }
   },
   "outputs": [
    {
     "data": {
      "text/html": [
       "<div>\n",
       "<style scoped>\n",
       "    .dataframe tbody tr th:only-of-type {\n",
       "        vertical-align: middle;\n",
       "    }\n",
       "\n",
       "    .dataframe tbody tr th {\n",
       "        vertical-align: top;\n",
       "    }\n",
       "\n",
       "    .dataframe thead th {\n",
       "        text-align: right;\n",
       "    }\n",
       "</style>\n",
       "<table border=\"1\" class=\"dataframe\">\n",
       "  <thead>\n",
       "    <tr style=\"text-align: right;\">\n",
       "      <th></th>\n",
       "      <th>userId</th>\n",
       "      <th>movieId</th>\n",
       "      <th>rating</th>\n",
       "      <th>timestamp</th>\n",
       "    </tr>\n",
       "  </thead>\n",
       "  <tbody>\n",
       "    <tr>\n",
       "      <th>0</th>\n",
       "      <td>1</td>\n",
       "      <td>1</td>\n",
       "      <td>4.0</td>\n",
       "      <td>964982703</td>\n",
       "    </tr>\n",
       "    <tr>\n",
       "      <th>1</th>\n",
       "      <td>1</td>\n",
       "      <td>3</td>\n",
       "      <td>4.0</td>\n",
       "      <td>964981247</td>\n",
       "    </tr>\n",
       "    <tr>\n",
       "      <th>2</th>\n",
       "      <td>1</td>\n",
       "      <td>6</td>\n",
       "      <td>4.0</td>\n",
       "      <td>964982224</td>\n",
       "    </tr>\n",
       "    <tr>\n",
       "      <th>3</th>\n",
       "      <td>1</td>\n",
       "      <td>47</td>\n",
       "      <td>5.0</td>\n",
       "      <td>964983815</td>\n",
       "    </tr>\n",
       "    <tr>\n",
       "      <th>4</th>\n",
       "      <td>1</td>\n",
       "      <td>50</td>\n",
       "      <td>5.0</td>\n",
       "      <td>964982931</td>\n",
       "    </tr>\n",
       "  </tbody>\n",
       "</table>\n",
       "</div>"
      ],
      "text/plain": [
       "   userId  movieId  rating  timestamp\n",
       "0       1        1     4.0  964982703\n",
       "1       1        3     4.0  964981247\n",
       "2       1        6     4.0  964982224\n",
       "3       1       47     5.0  964983815\n",
       "4       1       50     5.0  964982931"
      ]
     },
     "execution_count": 28,
     "metadata": {},
     "output_type": "execute_result"
    }
   ],
   "source": [
    "rating.head()"
   ]
  },
  {
   "cell_type": "code",
   "execution_count": 29,
   "metadata": {
    "pycharm": {
     "name": "#%%\n"
    }
   },
   "outputs": [],
   "source": [
    "datetime_rating = rating.copy()\n",
    "# # timestamp를 datetime으로 바꾸어 복사한 datetime_rating dataframe에 컬럼을 추가\n",
    "\n",
    "# 1. list comprehension\n",
    "# datetime_rating['datetime'] = [ dt.datetime.fromtimestamp(timestamp) for timestamp in datetime_rating['timestamp'] ]"
   ]
  },
  {
   "cell_type": "code",
   "execution_count": 30,
   "metadata": {
    "pycharm": {
     "name": "#%%\n"
    }
   },
   "outputs": [],
   "source": [
    "def timestamp_to_datetime(t) :\n",
    "    return dt.datetime.fromtimestamp(t)\n",
    "## map 함수 이용\n",
    "datetime_rating['datetime'] = datetime_rating['timestamp'].map(timestamp_to_datetime)"
   ]
  },
  {
   "cell_type": "code",
   "execution_count": 31,
   "metadata": {
    "pycharm": {
     "name": "#%%\n"
    }
   },
   "outputs": [
    {
     "data": {
      "text/html": [
       "<div>\n",
       "<style scoped>\n",
       "    .dataframe tbody tr th:only-of-type {\n",
       "        vertical-align: middle;\n",
       "    }\n",
       "\n",
       "    .dataframe tbody tr th {\n",
       "        vertical-align: top;\n",
       "    }\n",
       "\n",
       "    .dataframe thead th {\n",
       "        text-align: right;\n",
       "    }\n",
       "</style>\n",
       "<table border=\"1\" class=\"dataframe\">\n",
       "  <thead>\n",
       "    <tr style=\"text-align: right;\">\n",
       "      <th></th>\n",
       "      <th>userId</th>\n",
       "      <th>movieId</th>\n",
       "      <th>rating</th>\n",
       "      <th>datetime</th>\n",
       "    </tr>\n",
       "  </thead>\n",
       "  <tbody>\n",
       "    <tr>\n",
       "      <th>0</th>\n",
       "      <td>1</td>\n",
       "      <td>1</td>\n",
       "      <td>4.0</td>\n",
       "      <td>2000-07-31 03:45:03</td>\n",
       "    </tr>\n",
       "    <tr>\n",
       "      <th>1</th>\n",
       "      <td>1</td>\n",
       "      <td>3</td>\n",
       "      <td>4.0</td>\n",
       "      <td>2000-07-31 03:20:47</td>\n",
       "    </tr>\n",
       "    <tr>\n",
       "      <th>2</th>\n",
       "      <td>1</td>\n",
       "      <td>6</td>\n",
       "      <td>4.0</td>\n",
       "      <td>2000-07-31 03:37:04</td>\n",
       "    </tr>\n",
       "    <tr>\n",
       "      <th>3</th>\n",
       "      <td>1</td>\n",
       "      <td>47</td>\n",
       "      <td>5.0</td>\n",
       "      <td>2000-07-31 04:03:35</td>\n",
       "    </tr>\n",
       "    <tr>\n",
       "      <th>4</th>\n",
       "      <td>1</td>\n",
       "      <td>50</td>\n",
       "      <td>5.0</td>\n",
       "      <td>2000-07-31 03:48:51</td>\n",
       "    </tr>\n",
       "    <tr>\n",
       "      <th>...</th>\n",
       "      <td>...</td>\n",
       "      <td>...</td>\n",
       "      <td>...</td>\n",
       "      <td>...</td>\n",
       "    </tr>\n",
       "    <tr>\n",
       "      <th>100831</th>\n",
       "      <td>610</td>\n",
       "      <td>166534</td>\n",
       "      <td>4.0</td>\n",
       "      <td>2017-05-04 06:53:22</td>\n",
       "    </tr>\n",
       "    <tr>\n",
       "      <th>100832</th>\n",
       "      <td>610</td>\n",
       "      <td>168248</td>\n",
       "      <td>5.0</td>\n",
       "      <td>2017-05-04 07:21:31</td>\n",
       "    </tr>\n",
       "    <tr>\n",
       "      <th>100833</th>\n",
       "      <td>610</td>\n",
       "      <td>168250</td>\n",
       "      <td>5.0</td>\n",
       "      <td>2017-05-09 04:50:47</td>\n",
       "    </tr>\n",
       "    <tr>\n",
       "      <th>100834</th>\n",
       "      <td>610</td>\n",
       "      <td>168252</td>\n",
       "      <td>5.0</td>\n",
       "      <td>2017-05-04 06:19:12</td>\n",
       "    </tr>\n",
       "    <tr>\n",
       "      <th>100835</th>\n",
       "      <td>610</td>\n",
       "      <td>170875</td>\n",
       "      <td>3.0</td>\n",
       "      <td>2017-05-04 06:20:15</td>\n",
       "    </tr>\n",
       "  </tbody>\n",
       "</table>\n",
       "<p>100836 rows × 4 columns</p>\n",
       "</div>"
      ],
      "text/plain": [
       "        userId  movieId  rating            datetime\n",
       "0            1        1     4.0 2000-07-31 03:45:03\n",
       "1            1        3     4.0 2000-07-31 03:20:47\n",
       "2            1        6     4.0 2000-07-31 03:37:04\n",
       "3            1       47     5.0 2000-07-31 04:03:35\n",
       "4            1       50     5.0 2000-07-31 03:48:51\n",
       "...        ...      ...     ...                 ...\n",
       "100831     610   166534     4.0 2017-05-04 06:53:22\n",
       "100832     610   168248     5.0 2017-05-04 07:21:31\n",
       "100833     610   168250     5.0 2017-05-09 04:50:47\n",
       "100834     610   168252     5.0 2017-05-04 06:19:12\n",
       "100835     610   170875     3.0 2017-05-04 06:20:15\n",
       "\n",
       "[100836 rows x 4 columns]"
      ]
     },
     "execution_count": 31,
     "metadata": {},
     "output_type": "execute_result"
    }
   ],
   "source": [
    "# timestamp 컬럼은 이제 필요없으니 지워줌\n",
    "datetime_rating.drop('timestamp', axis=1, inplace=True)\n",
    "# 결과확인\n",
    "datetime_rating"
   ]
  },
  {
   "cell_type": "code",
   "execution_count": 32,
   "metadata": {
    "pycharm": {
     "name": "#%%\n"
    }
   },
   "outputs": [
    {
     "data": {
      "text/html": [
       "<div>\n",
       "<style scoped>\n",
       "    .dataframe tbody tr th:only-of-type {\n",
       "        vertical-align: middle;\n",
       "    }\n",
       "\n",
       "    .dataframe tbody tr th {\n",
       "        vertical-align: top;\n",
       "    }\n",
       "\n",
       "    .dataframe thead th {\n",
       "        text-align: right;\n",
       "    }\n",
       "</style>\n",
       "<table border=\"1\" class=\"dataframe\">\n",
       "  <thead>\n",
       "    <tr style=\"text-align: right;\">\n",
       "      <th></th>\n",
       "      <th>userId</th>\n",
       "      <th>movieId</th>\n",
       "      <th>rating</th>\n",
       "      <th>datetime</th>\n",
       "      <th>year</th>\n",
       "    </tr>\n",
       "  </thead>\n",
       "  <tbody>\n",
       "    <tr>\n",
       "      <th>0</th>\n",
       "      <td>1</td>\n",
       "      <td>1</td>\n",
       "      <td>4.0</td>\n",
       "      <td>2000-07-31 03:45:03</td>\n",
       "      <td>2000</td>\n",
       "    </tr>\n",
       "    <tr>\n",
       "      <th>1</th>\n",
       "      <td>1</td>\n",
       "      <td>3</td>\n",
       "      <td>4.0</td>\n",
       "      <td>2000-07-31 03:20:47</td>\n",
       "      <td>2000</td>\n",
       "    </tr>\n",
       "    <tr>\n",
       "      <th>2</th>\n",
       "      <td>1</td>\n",
       "      <td>6</td>\n",
       "      <td>4.0</td>\n",
       "      <td>2000-07-31 03:37:04</td>\n",
       "      <td>2000</td>\n",
       "    </tr>\n",
       "    <tr>\n",
       "      <th>3</th>\n",
       "      <td>1</td>\n",
       "      <td>47</td>\n",
       "      <td>5.0</td>\n",
       "      <td>2000-07-31 04:03:35</td>\n",
       "      <td>2000</td>\n",
       "    </tr>\n",
       "    <tr>\n",
       "      <th>4</th>\n",
       "      <td>1</td>\n",
       "      <td>50</td>\n",
       "      <td>5.0</td>\n",
       "      <td>2000-07-31 03:48:51</td>\n",
       "      <td>2000</td>\n",
       "    </tr>\n",
       "    <tr>\n",
       "      <th>...</th>\n",
       "      <td>...</td>\n",
       "      <td>...</td>\n",
       "      <td>...</td>\n",
       "      <td>...</td>\n",
       "      <td>...</td>\n",
       "    </tr>\n",
       "    <tr>\n",
       "      <th>100831</th>\n",
       "      <td>610</td>\n",
       "      <td>166534</td>\n",
       "      <td>4.0</td>\n",
       "      <td>2017-05-04 06:53:22</td>\n",
       "      <td>2017</td>\n",
       "    </tr>\n",
       "    <tr>\n",
       "      <th>100832</th>\n",
       "      <td>610</td>\n",
       "      <td>168248</td>\n",
       "      <td>5.0</td>\n",
       "      <td>2017-05-04 07:21:31</td>\n",
       "      <td>2017</td>\n",
       "    </tr>\n",
       "    <tr>\n",
       "      <th>100833</th>\n",
       "      <td>610</td>\n",
       "      <td>168250</td>\n",
       "      <td>5.0</td>\n",
       "      <td>2017-05-09 04:50:47</td>\n",
       "      <td>2017</td>\n",
       "    </tr>\n",
       "    <tr>\n",
       "      <th>100834</th>\n",
       "      <td>610</td>\n",
       "      <td>168252</td>\n",
       "      <td>5.0</td>\n",
       "      <td>2017-05-04 06:19:12</td>\n",
       "      <td>2017</td>\n",
       "    </tr>\n",
       "    <tr>\n",
       "      <th>100835</th>\n",
       "      <td>610</td>\n",
       "      <td>170875</td>\n",
       "      <td>3.0</td>\n",
       "      <td>2017-05-04 06:20:15</td>\n",
       "      <td>2017</td>\n",
       "    </tr>\n",
       "  </tbody>\n",
       "</table>\n",
       "<p>100836 rows × 5 columns</p>\n",
       "</div>"
      ],
      "text/plain": [
       "        userId  movieId  rating            datetime  year\n",
       "0            1        1     4.0 2000-07-31 03:45:03  2000\n",
       "1            1        3     4.0 2000-07-31 03:20:47  2000\n",
       "2            1        6     4.0 2000-07-31 03:37:04  2000\n",
       "3            1       47     5.0 2000-07-31 04:03:35  2000\n",
       "4            1       50     5.0 2000-07-31 03:48:51  2000\n",
       "...        ...      ...     ...                 ...   ...\n",
       "100831     610   166534     4.0 2017-05-04 06:53:22  2017\n",
       "100832     610   168248     5.0 2017-05-04 07:21:31  2017\n",
       "100833     610   168250     5.0 2017-05-09 04:50:47  2017\n",
       "100834     610   168252     5.0 2017-05-04 06:19:12  2017\n",
       "100835     610   170875     3.0 2017-05-04 06:20:15  2017\n",
       "\n",
       "[100836 rows x 5 columns]"
      ]
     },
     "execution_count": 32,
     "metadata": {},
     "output_type": "execute_result"
    }
   ],
   "source": [
    "## 연도별 평가의 수를 비교할 것이므로 datetime에서 연도만 빼서 새로운 컬럼으로 만들어 줌\n",
    "# datetime.year => datetime에서 년도만 리턴함.\n",
    "# 1. list comprehension\n",
    "datetime_rating['year'] = [time.year for time in datetime_rating['datetime']]\n",
    "datetime_rating\n",
    "\n",
    "# map을 이용해서 다르게 표현할 수 있음\n",
    "# def extract_year(t) :\n",
    "#     return t.year\n",
    "# datetime_rating['year'] = datetime_rating['datetime'].map(extract_year)"
   ]
  },
  {
   "cell_type": "markdown",
   "metadata": {},
   "source": [
    "연도별 개수를 세는 과정(아래의 몇 줄) == ... 필요없는 과정\n",
    "-> groupby로 한줄로 해결가능\n",
    "\n",
    "\n",
    "```python\n",
    "year_cnt = datetime_rating.groupby(['year'])['rating'].count()\n",
    "```"
   ]
  },
  {
   "cell_type": "code",
   "execution_count": 72,
   "metadata": {
    "pycharm": {
     "name": "#%%\n"
    }
   },
   "outputs": [
    {
     "name": "stdout",
     "output_type": "stream",
     "text": [
      "23\n"
     ]
    },
    {
     "data": {
      "text/plain": [
       "numpy.ndarray"
      ]
     },
     "execution_count": 72,
     "metadata": {},
     "output_type": "execute_result"
    }
   ],
   "source": [
    "# 연도의 값들을 중복없이 years에 따로 저장. years의 타입은 ndarray\n",
    "years = datetime_rating['year'].unique()\n",
    "print(len(years))\n",
    "type(years)"
   ]
  },
  {
   "cell_type": "code",
   "execution_count": 34,
   "metadata": {
    "pycharm": {
     "name": "#%%\n"
    }
   },
   "outputs": [
    {
     "data": {
      "text/plain": [
       "array([1996, 1997, 1998, 1999, 2000, 2001, 2002, 2003, 2004, 2005, 2006,\n",
       "       2007, 2008, 2009, 2010, 2011, 2012, 2013, 2014, 2015, 2016, 2017,\n",
       "       2018], dtype=int64)"
      ]
     },
     "execution_count": 34,
     "metadata": {},
     "output_type": "execute_result"
    }
   ],
   "source": [
    "years.sort() # 오름차순 정렬\n",
    "years"
   ]
  },
  {
   "cell_type": "code",
   "execution_count": 35,
   "metadata": {
    "pycharm": {
     "name": "#%%\n"
    }
   },
   "outputs": [
    {
     "data": {
      "text/plain": [
       "6031"
      ]
     },
     "execution_count": 35,
     "metadata": {},
     "output_type": "execute_result"
    }
   ],
   "source": [
    "sum(datetime_rating['year']==1996)  # 한 해에 존재하는 리뷰의 수를 세는 방법"
   ]
  },
  {
   "cell_type": "code",
   "execution_count": 36,
   "metadata": {
    "pycharm": {
     "name": "#%%\n"
    }
   },
   "outputs": [
    {
     "data": {
      "text/plain": [
       "0         False\n",
       "1         False\n",
       "2         False\n",
       "3         False\n",
       "4         False\n",
       "          ...  \n",
       "100831    False\n",
       "100832    False\n",
       "100833    False\n",
       "100834    False\n",
       "100835    False\n",
       "Name: year, Length: 100836, dtype: bool"
      ]
     },
     "execution_count": 36,
     "metadata": {},
     "output_type": "execute_result"
    }
   ],
   "source": [
    "datetime_rating['year']==1996 # boolean mask"
   ]
  },
  {
   "cell_type": "code",
   "execution_count": 37,
   "metadata": {
    "pycharm": {
     "name": "#%%\n"
    }
   },
   "outputs": [
    {
     "data": {
      "text/plain": [
       "23"
      ]
     },
     "execution_count": 37,
     "metadata": {},
     "output_type": "execute_result"
    }
   ],
   "source": [
    "# 모든 해에 대해서 리뷰의 수를 세어 year_cnt로 저장.\n",
    "year_cnt = [sum(datetime_rating['year']==y) for y in years]\n",
    "len(year_cnt) # 모두 잘 세어졌는지 확인"
   ]
  },
  {
   "cell_type": "code",
   "execution_count": 38,
   "metadata": {
    "pycharm": {
     "name": "#%%\n"
    }
   },
   "outputs": [
    {
     "data": {
      "text/html": [
       "<div>\n",
       "<style scoped>\n",
       "    .dataframe tbody tr th:only-of-type {\n",
       "        vertical-align: middle;\n",
       "    }\n",
       "\n",
       "    .dataframe tbody tr th {\n",
       "        vertical-align: top;\n",
       "    }\n",
       "\n",
       "    .dataframe thead th {\n",
       "        text-align: right;\n",
       "    }\n",
       "</style>\n",
       "<table border=\"1\" class=\"dataframe\">\n",
       "  <thead>\n",
       "    <tr style=\"text-align: right;\">\n",
       "      <th></th>\n",
       "      <th>reviews num</th>\n",
       "    </tr>\n",
       "  </thead>\n",
       "  <tbody>\n",
       "    <tr>\n",
       "      <th>1996</th>\n",
       "      <td>6031</td>\n",
       "    </tr>\n",
       "    <tr>\n",
       "      <th>1997</th>\n",
       "      <td>1925</td>\n",
       "    </tr>\n",
       "    <tr>\n",
       "      <th>1998</th>\n",
       "      <td>507</td>\n",
       "    </tr>\n",
       "    <tr>\n",
       "      <th>1999</th>\n",
       "      <td>2439</td>\n",
       "    </tr>\n",
       "    <tr>\n",
       "      <th>2000</th>\n",
       "      <td>10061</td>\n",
       "    </tr>\n",
       "    <tr>\n",
       "      <th>2001</th>\n",
       "      <td>3922</td>\n",
       "    </tr>\n",
       "    <tr>\n",
       "      <th>2002</th>\n",
       "      <td>3478</td>\n",
       "    </tr>\n",
       "    <tr>\n",
       "      <th>2003</th>\n",
       "      <td>4012</td>\n",
       "    </tr>\n",
       "    <tr>\n",
       "      <th>2004</th>\n",
       "      <td>3276</td>\n",
       "    </tr>\n",
       "    <tr>\n",
       "      <th>2005</th>\n",
       "      <td>5818</td>\n",
       "    </tr>\n",
       "    <tr>\n",
       "      <th>2006</th>\n",
       "      <td>4059</td>\n",
       "    </tr>\n",
       "    <tr>\n",
       "      <th>2007</th>\n",
       "      <td>7109</td>\n",
       "    </tr>\n",
       "    <tr>\n",
       "      <th>2008</th>\n",
       "      <td>4350</td>\n",
       "    </tr>\n",
       "    <tr>\n",
       "      <th>2009</th>\n",
       "      <td>4163</td>\n",
       "    </tr>\n",
       "    <tr>\n",
       "      <th>2010</th>\n",
       "      <td>2301</td>\n",
       "    </tr>\n",
       "    <tr>\n",
       "      <th>2011</th>\n",
       "      <td>1690</td>\n",
       "    </tr>\n",
       "    <tr>\n",
       "      <th>2012</th>\n",
       "      <td>4657</td>\n",
       "    </tr>\n",
       "    <tr>\n",
       "      <th>2013</th>\n",
       "      <td>1664</td>\n",
       "    </tr>\n",
       "    <tr>\n",
       "      <th>2014</th>\n",
       "      <td>1439</td>\n",
       "    </tr>\n",
       "    <tr>\n",
       "      <th>2015</th>\n",
       "      <td>6615</td>\n",
       "    </tr>\n",
       "    <tr>\n",
       "      <th>2016</th>\n",
       "      <td>6702</td>\n",
       "    </tr>\n",
       "    <tr>\n",
       "      <th>2017</th>\n",
       "      <td>8200</td>\n",
       "    </tr>\n",
       "    <tr>\n",
       "      <th>2018</th>\n",
       "      <td>6418</td>\n",
       "    </tr>\n",
       "  </tbody>\n",
       "</table>\n",
       "</div>"
      ],
      "text/plain": [
       "      reviews num\n",
       "1996         6031\n",
       "1997         1925\n",
       "1998          507\n",
       "1999         2439\n",
       "2000        10061\n",
       "2001         3922\n",
       "2002         3478\n",
       "2003         4012\n",
       "2004         3276\n",
       "2005         5818\n",
       "2006         4059\n",
       "2007         7109\n",
       "2008         4350\n",
       "2009         4163\n",
       "2010         2301\n",
       "2011         1690\n",
       "2012         4657\n",
       "2013         1664\n",
       "2014         1439\n",
       "2015         6615\n",
       "2016         6702\n",
       "2017         8200\n",
       "2018         6418"
      ]
     },
     "execution_count": 38,
     "metadata": {},
     "output_type": "execute_result"
    }
   ],
   "source": [
    "# year과 year_cnt로 dateframe을 만듦\n",
    "year_df = pd.DataFrame(year_cnt,\n",
    "                       index=years,\n",
    "                       columns=['reviews num'])\n",
    "year_df"
   ]
  },
  {
   "cell_type": "code",
   "execution_count": 39,
   "metadata": {
    "pycharm": {
     "name": "#%%\n"
    }
   },
   "outputs": [
    {
     "data": {
      "image/png": "[encoded data removed]",
      "text/plain": [
       "<Figure size 1440x576 with 1 Axes>"
      ]
     },
     "metadata": {},
     "output_type": "display_data"
    }
   ],
   "source": [
    "# line chart로 추세 확인\n",
    "\n",
    "plt.figure(figsize=(20,8))\n",
    "plt.plot(years ,year_cnt)\n",
    "plt.title('연도별 리뷰 개수')\n",
    "plt.show()"
   ]
  },
  {
   "cell_type": "markdown",
   "metadata": {},
   "source": [
    "### 평점데이터 분석"
   ]
  },
  {
   "cell_type": "code",
   "execution_count": 40,
   "metadata": {
    "pycharm": {
     "name": "#%%\n"
    }
   },
   "outputs": [
    {
     "data": {
      "text/plain": [
       "pandas.core.series.Series"
      ]
     },
     "execution_count": 40,
     "metadata": {},
     "output_type": "execute_result"
    }
   ],
   "source": [
    "score = rating['rating']\n",
    "type(score)"
   ]
  },
  {
   "cell_type": "code",
   "execution_count": 41,
   "metadata": {
    "pycharm": {
     "name": "#%%\n"
    }
   },
   "outputs": [
    {
     "data": {
      "text/plain": [
       "3.501556983616962"
      ]
     },
     "execution_count": 41,
     "metadata": {},
     "output_type": "execute_result"
    }
   ],
   "source": [
    "# 평균\n",
    "score.mean()"
   ]
  },
  {
   "cell_type": "code",
   "execution_count": 42,
   "metadata": {
    "pycharm": {
     "name": "#%%\n"
    }
   },
   "outputs": [
    {
     "data": {
      "text/plain": [
       "3.5"
      ]
     },
     "execution_count": 42,
     "metadata": {},
     "output_type": "execute_result"
    }
   ],
   "source": [
    "# 중위값\n",
    "np.median(score)"
   ]
  },
  {
   "cell_type": "code",
   "execution_count": 43,
   "metadata": {
    "pycharm": {
     "name": "#%%\n"
    }
   },
   "outputs": [
    {
     "data": {
      "text/plain": [
       "0    4.0\n",
       "Name: rating, dtype: float64"
      ]
     },
     "execution_count": 43,
     "metadata": {},
     "output_type": "execute_result"
    }
   ],
   "source": [
    "# 최빈값\n",
    "score.mode()"
   ]
  },
  {
   "cell_type": "code",
   "execution_count": 44,
   "metadata": {
    "pycharm": {
     "name": "#%%\n"
    }
   },
   "outputs": [
    {
     "data": {
      "text/plain": [
       "0         0.498443\n",
       "1         0.498443\n",
       "2         0.498443\n",
       "3         1.498443\n",
       "4         1.498443\n",
       "            ...   \n",
       "100831    0.498443\n",
       "100832    1.498443\n",
       "100833    1.498443\n",
       "100834    1.498443\n",
       "100835   -0.501557\n",
       "Name: rating, Length: 100836, dtype: float64"
      ]
     },
     "execution_count": 44,
     "metadata": {},
     "output_type": "execute_result"
    }
   ],
   "source": [
    "# 편차\n",
    "score - score.mean()"
   ]
  },
  {
   "cell_type": "code",
   "execution_count": 45,
   "metadata": {
    "pycharm": {
     "name": "#%%\n"
    }
   },
   "outputs": [
    {
     "data": {
      "text/plain": [
       "1.0868564357327866"
      ]
     },
     "execution_count": 45,
     "metadata": {},
     "output_type": "execute_result"
    }
   ],
   "source": [
    "# 표본분산\n",
    "score.var(ddof=0)"
   ]
  },
  {
   "cell_type": "code",
   "execution_count": 46,
   "metadata": {
    "pycharm": {
     "name": "#%%\n"
    }
   },
   "outputs": [
    {
     "data": {
      "text/plain": [
       "1.08686721429614"
      ]
     },
     "execution_count": 46,
     "metadata": {},
     "output_type": "execute_result"
    }
   ],
   "source": [
    "# 불편분산\n",
    "score.var()"
   ]
  },
  {
   "cell_type": "markdown",
   "metadata": {},
   "source": [
    "n = 100836이라 표본분산과 불편분산의 값이 크게 차이나지 않음"
   ]
  },
  {
   "cell_type": "code",
   "execution_count": 47,
   "metadata": {
    "pycharm": {
     "name": "#%%\n"
    }
   },
   "outputs": [
    {
     "data": {
      "text/plain": [
       "1.0425292390605359"
      ]
     },
     "execution_count": 47,
     "metadata": {},
     "output_type": "execute_result"
    }
   ],
   "source": [
    "# 표준편차\n",
    "score.std()"
   ]
  },
  {
   "cell_type": "code",
   "execution_count": 48,
   "metadata": {
    "pycharm": {
     "name": "#%%\n"
    }
   },
   "outputs": [
    {
     "data": {
      "text/plain": [
       "1.0425292390605359"
      ]
     },
     "execution_count": 48,
     "metadata": {},
     "output_type": "execute_result"
    }
   ],
   "source": [
    "# 표준편차2\n",
    "score.var() ** (1/2)"
   ]
  },
  {
   "cell_type": "code",
   "execution_count": 49,
   "metadata": {
    "pycharm": {
     "name": "#%%\n"
    }
   },
   "outputs": [
    {
     "name": "stdout",
     "output_type": "stream",
     "text": [
      "Q1 :  3.0\n",
      "Q2 :  3.5\n",
      "Q3 :  4.0\n"
     ]
    }
   ],
   "source": [
    "# 사분위값\n",
    "print('Q1 : ', np.percentile(score, 25))\n",
    "print('Q2 : ', np.percentile(score, 50))\n",
    "print('Q3 : ', np.percentile(score, 75))"
   ]
  },
  {
   "cell_type": "code",
   "execution_count": 50,
   "metadata": {
    "pycharm": {
     "name": "#%%\n"
    }
   },
   "outputs": [
    {
     "name": "stdout",
     "output_type": "stream",
     "text": [
      "[0, 1370, 2811, 1791, 7551, 5550, 20047, 13136, 26818, 8551, 13211]\n",
      "11\n",
      "11\n"
     ]
    }
   ],
   "source": [
    "# 시각화\n",
    "idx = [0, 0.5, 1, 1.5, 2, 2.5, 3, 3.5, 4, 4.5, 5]\n",
    "freq = [sum(rating['rating']==s) for s in idx]\n",
    "print(freq)\n",
    "print(len(idx))\n",
    "print(len(freq))"
   ]
  },
  {
   "cell_type": "markdown",
   "metadata": {},
   "source": [
    "이렇게 셋는데 알고보니 groupby로 하면 되는 거였음"
   ]
  },
  {
   "cell_type": "code",
   "execution_count": 51,
   "metadata": {
    "pycharm": {
     "name": "#%%\n"
    }
   },
   "outputs": [
    {
     "data": {
      "text/plain": [
       "rating\n",
       "0.5     1370\n",
       "1.0     2811\n",
       "1.5     1791\n",
       "2.0     7551\n",
       "2.5     5550\n",
       "3.0    20047\n",
       "3.5    13136\n",
       "4.0    26818\n",
       "4.5     8551\n",
       "5.0    13211\n",
       "Name: userId, dtype: int64"
      ]
     },
     "execution_count": 51,
     "metadata": {},
     "output_type": "execute_result"
    }
   ],
   "source": [
    "babo = rating.groupby('rating')['userId'].count()\n",
    "babo"
   ]
  },
  {
   "cell_type": "code",
   "execution_count": 52,
   "metadata": {
    "pycharm": {
     "name": "#%%\n"
    }
   },
   "outputs": [
    {
     "data": {
      "text/html": [
       "<div>\n",
       "<style scoped>\n",
       "    .dataframe tbody tr th:only-of-type {\n",
       "        vertical-align: middle;\n",
       "    }\n",
       "\n",
       "    .dataframe tbody tr th {\n",
       "        vertical-align: top;\n",
       "    }\n",
       "\n",
       "    .dataframe thead th {\n",
       "        text-align: right;\n",
       "    }\n",
       "</style>\n",
       "<table border=\"1\" class=\"dataframe\">\n",
       "  <thead>\n",
       "    <tr style=\"text-align: right;\">\n",
       "      <th></th>\n",
       "      <th>reviews</th>\n",
       "    </tr>\n",
       "  </thead>\n",
       "  <tbody>\n",
       "    <tr>\n",
       "      <th>0.0</th>\n",
       "      <td>0</td>\n",
       "    </tr>\n",
       "    <tr>\n",
       "      <th>0.5</th>\n",
       "      <td>1370</td>\n",
       "    </tr>\n",
       "    <tr>\n",
       "      <th>1.0</th>\n",
       "      <td>2811</td>\n",
       "    </tr>\n",
       "    <tr>\n",
       "      <th>1.5</th>\n",
       "      <td>1791</td>\n",
       "    </tr>\n",
       "    <tr>\n",
       "      <th>2.0</th>\n",
       "      <td>7551</td>\n",
       "    </tr>\n",
       "    <tr>\n",
       "      <th>2.5</th>\n",
       "      <td>5550</td>\n",
       "    </tr>\n",
       "    <tr>\n",
       "      <th>3.0</th>\n",
       "      <td>20047</td>\n",
       "    </tr>\n",
       "    <tr>\n",
       "      <th>3.5</th>\n",
       "      <td>13136</td>\n",
       "    </tr>\n",
       "    <tr>\n",
       "      <th>4.0</th>\n",
       "      <td>26818</td>\n",
       "    </tr>\n",
       "    <tr>\n",
       "      <th>4.5</th>\n",
       "      <td>8551</td>\n",
       "    </tr>\n",
       "    <tr>\n",
       "      <th>5.0</th>\n",
       "      <td>13211</td>\n",
       "    </tr>\n",
       "  </tbody>\n",
       "</table>\n",
       "</div>"
      ],
      "text/plain": [
       "     reviews\n",
       "0.0        0\n",
       "0.5     1370\n",
       "1.0     2811\n",
       "1.5     1791\n",
       "2.0     7551\n",
       "2.5     5550\n",
       "3.0    20047\n",
       "3.5    13136\n",
       "4.0    26818\n",
       "4.5     8551\n",
       "5.0    13211"
      ]
     },
     "execution_count": 52,
     "metadata": {},
     "output_type": "execute_result"
    }
   ],
   "source": [
    "# 어쨌든 표 만들기\n",
    "freq_table = pd.DataFrame({'reviews':freq},\n",
    "                          index=idx)\n",
    "freq_table"
   ]
  },
  {
   "cell_type": "code",
   "execution_count": 53,
   "metadata": {
    "pycharm": {
     "name": "#%%\n"
    }
   },
   "outputs": [
    {
     "data": {
      "text/plain": [
       "<BarContainer object of 11 artists>"
      ]
     },
     "execution_count": 53,
     "metadata": {},
     "output_type": "execute_result"
    },
    {
     "data": {
      "image/png": "[encoded data removed]",
      "text/plain": [
       "<Figure size 432x288 with 1 Axes>"
      ]
     },
     "metadata": {},
     "output_type": "display_data"
    }
   ],
   "source": [
    "# bar chart\n",
    "plt.bar(idx, freq)"
   ]
  },
  {
   "cell_type": "markdown",
   "metadata": {},
   "source": [
    "idx가 숫자로 인식되어 범위로 나타남..."
   ]
  },
  {
   "cell_type": "code",
   "execution_count": 54,
   "metadata": {
    "pycharm": {
     "name": "#%%\n"
    }
   },
   "outputs": [
    {
     "data": {
      "text/plain": [
       "numpy.str_"
      ]
     },
     "execution_count": 54,
     "metadata": {},
     "output_type": "execute_result"
    }
   ],
   "source": [
    "# 문자타입으로 변환\n",
    "type(idx) # list\n",
    "idx = np.array(idx)\n",
    "type(idx) # ndarray\n",
    "\n",
    "idx=idx.astype(np.str)\n",
    "type(idx[0])"
   ]
  },
  {
   "cell_type": "code",
   "execution_count": 55,
   "metadata": {
    "pycharm": {
     "name": "#%%\n"
    }
   },
   "outputs": [
    {
     "data": {
      "image/png": "[encoded data removed]",
      "text/plain": [
       "<Figure size 432x288 with 1 Axes>"
      ]
     },
     "metadata": {},
     "output_type": "display_data"
    }
   ],
   "source": [
    "# bar chart 다시 그리기\n",
    "plt.bar(idx, freq)\n",
    "plt.title('평점 분포')\n",
    "plt.show()"
   ]
  },
  {
   "cell_type": "code",
   "execution_count": 56,
   "metadata": {
    "pycharm": {
     "name": "#%%\n"
    }
   },
   "outputs": [
    {
     "data": {
      "image/png": "[encoded data removed]",
      "text/plain": [
       "<Figure size 720x432 with 1 Axes>"
      ]
     },
     "metadata": {},
     "output_type": "display_data"
    }
   ],
   "source": [
    "# box plot\n",
    "plt.figure(figsize=(10,6))\n",
    "plt.boxplot(x=[rating['rating']])\n",
    "plt.show()"
   ]
  },
  {
   "cell_type": "markdown",
   "metadata": {},
   "source": [
    "### 리뷰수가 가장 많은 사용자를 찾고\n",
    "### 그 사용자의 선호 장르 찾기 (평점을 높게준 5개 장르)"
   ]
  },
  {
   "cell_type": "code",
   "execution_count": 57,
   "metadata": {
    "pycharm": {
     "name": "#%%\n"
    }
   },
   "outputs": [
    {
     "data": {
      "text/html": [
       "<div>\n",
       "<style scoped>\n",
       "    .dataframe tbody tr th:only-of-type {\n",
       "        vertical-align: middle;\n",
       "    }\n",
       "\n",
       "    .dataframe tbody tr th {\n",
       "        vertical-align: top;\n",
       "    }\n",
       "\n",
       "    .dataframe thead th {\n",
       "        text-align: right;\n",
       "    }\n",
       "</style>\n",
       "<table border=\"1\" class=\"dataframe\">\n",
       "  <thead>\n",
       "    <tr style=\"text-align: right;\">\n",
       "      <th></th>\n",
       "      <th>movieId</th>\n",
       "      <th>rating</th>\n",
       "      <th>timestamp</th>\n",
       "    </tr>\n",
       "    <tr>\n",
       "      <th>userId</th>\n",
       "      <th></th>\n",
       "      <th></th>\n",
       "      <th></th>\n",
       "    </tr>\n",
       "  </thead>\n",
       "  <tbody>\n",
       "    <tr>\n",
       "      <th>1</th>\n",
       "      <td>232</td>\n",
       "      <td>232</td>\n",
       "      <td>232</td>\n",
       "    </tr>\n",
       "    <tr>\n",
       "      <th>2</th>\n",
       "      <td>29</td>\n",
       "      <td>29</td>\n",
       "      <td>29</td>\n",
       "    </tr>\n",
       "    <tr>\n",
       "      <th>3</th>\n",
       "      <td>39</td>\n",
       "      <td>39</td>\n",
       "      <td>39</td>\n",
       "    </tr>\n",
       "    <tr>\n",
       "      <th>4</th>\n",
       "      <td>216</td>\n",
       "      <td>216</td>\n",
       "      <td>216</td>\n",
       "    </tr>\n",
       "    <tr>\n",
       "      <th>5</th>\n",
       "      <td>44</td>\n",
       "      <td>44</td>\n",
       "      <td>44</td>\n",
       "    </tr>\n",
       "    <tr>\n",
       "      <th>...</th>\n",
       "      <td>...</td>\n",
       "      <td>...</td>\n",
       "      <td>...</td>\n",
       "    </tr>\n",
       "    <tr>\n",
       "      <th>606</th>\n",
       "      <td>1115</td>\n",
       "      <td>1115</td>\n",
       "      <td>1115</td>\n",
       "    </tr>\n",
       "    <tr>\n",
       "      <th>607</th>\n",
       "      <td>187</td>\n",
       "      <td>187</td>\n",
       "      <td>187</td>\n",
       "    </tr>\n",
       "    <tr>\n",
       "      <th>608</th>\n",
       "      <td>831</td>\n",
       "      <td>831</td>\n",
       "      <td>831</td>\n",
       "    </tr>\n",
       "    <tr>\n",
       "      <th>609</th>\n",
       "      <td>37</td>\n",
       "      <td>37</td>\n",
       "      <td>37</td>\n",
       "    </tr>\n",
       "    <tr>\n",
       "      <th>610</th>\n",
       "      <td>1302</td>\n",
       "      <td>1302</td>\n",
       "      <td>1302</td>\n",
       "    </tr>\n",
       "  </tbody>\n",
       "</table>\n",
       "<p>610 rows × 3 columns</p>\n",
       "</div>"
      ],
      "text/plain": [
       "        movieId  rating  timestamp\n",
       "userId                            \n",
       "1           232     232        232\n",
       "2            29      29         29\n",
       "3            39      39         39\n",
       "4           216     216        216\n",
       "5            44      44         44\n",
       "...         ...     ...        ...\n",
       "606        1115    1115       1115\n",
       "607         187     187        187\n",
       "608         831     831        831\n",
       "609          37      37         37\n",
       "610        1302    1302       1302\n",
       "\n",
       "[610 rows x 3 columns]"
      ]
     },
     "execution_count": 57,
     "metadata": {},
     "output_type": "execute_result"
    }
   ],
   "source": [
    "user_review_cnt = rating.groupby('userId').count()\n",
    "\n",
    "user_review_cnt"
   ]
  },
  {
   "cell_type": "code",
   "execution_count": 58,
   "metadata": {
    "pycharm": {
     "name": "#%%\n"
    }
   },
   "outputs": [
    {
     "data": {
      "text/html": [
       "<div>\n",
       "<style scoped>\n",
       "    .dataframe tbody tr th:only-of-type {\n",
       "        vertical-align: middle;\n",
       "    }\n",
       "\n",
       "    .dataframe tbody tr th {\n",
       "        vertical-align: top;\n",
       "    }\n",
       "\n",
       "    .dataframe thead th {\n",
       "        text-align: right;\n",
       "    }\n",
       "</style>\n",
       "<table border=\"1\" class=\"dataframe\">\n",
       "  <thead>\n",
       "    <tr style=\"text-align: right;\">\n",
       "      <th></th>\n",
       "      <th>rating</th>\n",
       "    </tr>\n",
       "    <tr>\n",
       "      <th>userId</th>\n",
       "      <th></th>\n",
       "    </tr>\n",
       "  </thead>\n",
       "  <tbody>\n",
       "    <tr>\n",
       "      <th>1</th>\n",
       "      <td>232</td>\n",
       "    </tr>\n",
       "    <tr>\n",
       "      <th>2</th>\n",
       "      <td>29</td>\n",
       "    </tr>\n",
       "    <tr>\n",
       "      <th>3</th>\n",
       "      <td>39</td>\n",
       "    </tr>\n",
       "    <tr>\n",
       "      <th>4</th>\n",
       "      <td>216</td>\n",
       "    </tr>\n",
       "    <tr>\n",
       "      <th>5</th>\n",
       "      <td>44</td>\n",
       "    </tr>\n",
       "    <tr>\n",
       "      <th>...</th>\n",
       "      <td>...</td>\n",
       "    </tr>\n",
       "    <tr>\n",
       "      <th>606</th>\n",
       "      <td>1115</td>\n",
       "    </tr>\n",
       "    <tr>\n",
       "      <th>607</th>\n",
       "      <td>187</td>\n",
       "    </tr>\n",
       "    <tr>\n",
       "      <th>608</th>\n",
       "      <td>831</td>\n",
       "    </tr>\n",
       "    <tr>\n",
       "      <th>609</th>\n",
       "      <td>37</td>\n",
       "    </tr>\n",
       "    <tr>\n",
       "      <th>610</th>\n",
       "      <td>1302</td>\n",
       "    </tr>\n",
       "  </tbody>\n",
       "</table>\n",
       "<p>610 rows × 1 columns</p>\n",
       "</div>"
      ],
      "text/plain": [
       "        rating\n",
       "userId        \n",
       "1          232\n",
       "2           29\n",
       "3           39\n",
       "4          216\n",
       "5           44\n",
       "...        ...\n",
       "606       1115\n",
       "607        187\n",
       "608        831\n",
       "609         37\n",
       "610       1302\n",
       "\n",
       "[610 rows x 1 columns]"
      ]
     },
     "execution_count": 58,
     "metadata": {},
     "output_type": "execute_result"
    }
   ],
   "source": [
    "user_review_cnt.drop(['movieId', 'timestamp'], axis=1, inplace=True)\n",
    "user_review_cnt"
   ]
  },
  {
   "cell_type": "code",
   "execution_count": 59,
   "metadata": {
    "pycharm": {
     "name": "#%%\n"
    }
   },
   "outputs": [
    {
     "data": {
      "text/html": [
       "<div>\n",
       "<style scoped>\n",
       "    .dataframe tbody tr th:only-of-type {\n",
       "        vertical-align: middle;\n",
       "    }\n",
       "\n",
       "    .dataframe tbody tr th {\n",
       "        vertical-align: top;\n",
       "    }\n",
       "\n",
       "    .dataframe thead th {\n",
       "        text-align: right;\n",
       "    }\n",
       "</style>\n",
       "<table border=\"1\" class=\"dataframe\">\n",
       "  <thead>\n",
       "    <tr style=\"text-align: right;\">\n",
       "      <th></th>\n",
       "      <th>rating</th>\n",
       "    </tr>\n",
       "    <tr>\n",
       "      <th>userId</th>\n",
       "      <th></th>\n",
       "    </tr>\n",
       "  </thead>\n",
       "  <tbody>\n",
       "    <tr>\n",
       "      <th>414</th>\n",
       "      <td>2698</td>\n",
       "    </tr>\n",
       "  </tbody>\n",
       "</table>\n",
       "</div>"
      ],
      "text/plain": [
       "        rating\n",
       "userId        \n",
       "414       2698"
      ]
     },
     "execution_count": 59,
     "metadata": {},
     "output_type": "execute_result"
    }
   ],
   "source": [
    "user_review_cnt[user_review_cnt['rating']==user_review_cnt['rating'].max()]"
   ]
  },
  {
   "cell_type": "code",
   "execution_count": 60,
   "metadata": {
    "pycharm": {
     "name": "#%%\n"
    }
   },
   "outputs": [
    {
     "data": {
      "text/html": [
       "<div>\n",
       "<style scoped>\n",
       "    .dataframe tbody tr th:only-of-type {\n",
       "        vertical-align: middle;\n",
       "    }\n",
       "\n",
       "    .dataframe tbody tr th {\n",
       "        vertical-align: top;\n",
       "    }\n",
       "\n",
       "    .dataframe thead th {\n",
       "        text-align: right;\n",
       "    }\n",
       "</style>\n",
       "<table border=\"1\" class=\"dataframe\">\n",
       "  <thead>\n",
       "    <tr style=\"text-align: right;\">\n",
       "      <th></th>\n",
       "      <th>userId</th>\n",
       "      <th>movieId</th>\n",
       "      <th>rating</th>\n",
       "      <th>timestamp</th>\n",
       "    </tr>\n",
       "  </thead>\n",
       "  <tbody>\n",
       "    <tr>\n",
       "      <th>62294</th>\n",
       "      <td>414</td>\n",
       "      <td>1</td>\n",
       "      <td>4.0</td>\n",
       "      <td>961438127</td>\n",
       "    </tr>\n",
       "    <tr>\n",
       "      <th>62295</th>\n",
       "      <td>414</td>\n",
       "      <td>2</td>\n",
       "      <td>3.0</td>\n",
       "      <td>961594981</td>\n",
       "    </tr>\n",
       "    <tr>\n",
       "      <th>62296</th>\n",
       "      <td>414</td>\n",
       "      <td>3</td>\n",
       "      <td>4.0</td>\n",
       "      <td>961439278</td>\n",
       "    </tr>\n",
       "    <tr>\n",
       "      <th>62297</th>\n",
       "      <td>414</td>\n",
       "      <td>5</td>\n",
       "      <td>2.0</td>\n",
       "      <td>961437647</td>\n",
       "    </tr>\n",
       "    <tr>\n",
       "      <th>62298</th>\n",
       "      <td>414</td>\n",
       "      <td>6</td>\n",
       "      <td>3.0</td>\n",
       "      <td>961515642</td>\n",
       "    </tr>\n",
       "    <tr>\n",
       "      <th>...</th>\n",
       "      <td>...</td>\n",
       "      <td>...</td>\n",
       "      <td>...</td>\n",
       "      <td>...</td>\n",
       "    </tr>\n",
       "    <tr>\n",
       "      <th>64987</th>\n",
       "      <td>414</td>\n",
       "      <td>180045</td>\n",
       "      <td>4.0</td>\n",
       "      <td>1515207301</td>\n",
       "    </tr>\n",
       "    <tr>\n",
       "      <th>64988</th>\n",
       "      <td>414</td>\n",
       "      <td>180497</td>\n",
       "      <td>4.0</td>\n",
       "      <td>1525548614</td>\n",
       "    </tr>\n",
       "    <tr>\n",
       "      <th>64989</th>\n",
       "      <td>414</td>\n",
       "      <td>180985</td>\n",
       "      <td>3.5</td>\n",
       "      <td>1527978072</td>\n",
       "    </tr>\n",
       "    <tr>\n",
       "      <th>64990</th>\n",
       "      <td>414</td>\n",
       "      <td>184791</td>\n",
       "      <td>2.5</td>\n",
       "      <td>1519592410</td>\n",
       "    </tr>\n",
       "    <tr>\n",
       "      <th>64991</th>\n",
       "      <td>414</td>\n",
       "      <td>187595</td>\n",
       "      <td>3.5</td>\n",
       "      <td>1527977920</td>\n",
       "    </tr>\n",
       "  </tbody>\n",
       "</table>\n",
       "<p>2698 rows × 4 columns</p>\n",
       "</div>"
      ],
      "text/plain": [
       "       userId  movieId  rating   timestamp\n",
       "62294     414        1     4.0   961438127\n",
       "62295     414        2     3.0   961594981\n",
       "62296     414        3     4.0   961439278\n",
       "62297     414        5     2.0   961437647\n",
       "62298     414        6     3.0   961515642\n",
       "...       ...      ...     ...         ...\n",
       "64987     414   180045     4.0  1515207301\n",
       "64988     414   180497     4.0  1525548614\n",
       "64989     414   180985     3.5  1527978072\n",
       "64990     414   184791     2.5  1519592410\n",
       "64991     414   187595     3.5  1527977920\n",
       "\n",
       "[2698 rows x 4 columns]"
      ]
     },
     "execution_count": 60,
     "metadata": {},
     "output_type": "execute_result"
    }
   ],
   "source": [
    "best_user = rating[rating['userId']==414]\n",
    "best_user"
   ]
  },
  {
   "cell_type": "code",
   "execution_count": 61,
   "metadata": {
    "pycharm": {
     "name": "#%%\n"
    }
   },
   "outputs": [
    {
     "data": {
      "text/html": [
       "<div>\n",
       "<style scoped>\n",
       "    .dataframe tbody tr th:only-of-type {\n",
       "        vertical-align: middle;\n",
       "    }\n",
       "\n",
       "    .dataframe tbody tr th {\n",
       "        vertical-align: top;\n",
       "    }\n",
       "\n",
       "    .dataframe thead th {\n",
       "        text-align: right;\n",
       "    }\n",
       "</style>\n",
       "<table border=\"1\" class=\"dataframe\">\n",
       "  <thead>\n",
       "    <tr style=\"text-align: right;\">\n",
       "      <th></th>\n",
       "      <th>rating</th>\n",
       "      <th>movieId</th>\n",
       "      <th>genres</th>\n",
       "    </tr>\n",
       "  </thead>\n",
       "  <tbody>\n",
       "    <tr>\n",
       "      <th>0</th>\n",
       "      <td>4.0</td>\n",
       "      <td>1</td>\n",
       "      <td>Adventure|Animation|Children|Comedy|Fantasy</td>\n",
       "    </tr>\n",
       "    <tr>\n",
       "      <th>1</th>\n",
       "      <td>3.0</td>\n",
       "      <td>2</td>\n",
       "      <td>Adventure|Children|Fantasy</td>\n",
       "    </tr>\n",
       "    <tr>\n",
       "      <th>2</th>\n",
       "      <td>4.0</td>\n",
       "      <td>3</td>\n",
       "      <td>Comedy|Romance</td>\n",
       "    </tr>\n",
       "    <tr>\n",
       "      <th>3</th>\n",
       "      <td>2.0</td>\n",
       "      <td>5</td>\n",
       "      <td>Comedy</td>\n",
       "    </tr>\n",
       "    <tr>\n",
       "      <th>4</th>\n",
       "      <td>3.0</td>\n",
       "      <td>6</td>\n",
       "      <td>Action|Crime|Thriller</td>\n",
       "    </tr>\n",
       "    <tr>\n",
       "      <th>...</th>\n",
       "      <td>...</td>\n",
       "      <td>...</td>\n",
       "      <td>...</td>\n",
       "    </tr>\n",
       "    <tr>\n",
       "      <th>2693</th>\n",
       "      <td>4.0</td>\n",
       "      <td>180045</td>\n",
       "      <td>Drama</td>\n",
       "    </tr>\n",
       "    <tr>\n",
       "      <th>2694</th>\n",
       "      <td>4.0</td>\n",
       "      <td>180497</td>\n",
       "      <td>Drama|Thriller</td>\n",
       "    </tr>\n",
       "    <tr>\n",
       "      <th>2695</th>\n",
       "      <td>3.5</td>\n",
       "      <td>180985</td>\n",
       "      <td>Drama</td>\n",
       "    </tr>\n",
       "    <tr>\n",
       "      <th>2696</th>\n",
       "      <td>2.5</td>\n",
       "      <td>184791</td>\n",
       "      <td>Comedy</td>\n",
       "    </tr>\n",
       "    <tr>\n",
       "      <th>2697</th>\n",
       "      <td>3.5</td>\n",
       "      <td>187595</td>\n",
       "      <td>Action|Adventure|Children|Sci-Fi</td>\n",
       "    </tr>\n",
       "  </tbody>\n",
       "</table>\n",
       "<p>2698 rows × 3 columns</p>\n",
       "</div>"
      ],
      "text/plain": [
       "      rating  movieId                                       genres\n",
       "0        4.0        1  Adventure|Animation|Children|Comedy|Fantasy\n",
       "1        3.0        2                   Adventure|Children|Fantasy\n",
       "2        4.0        3                               Comedy|Romance\n",
       "3        2.0        5                                       Comedy\n",
       "4        3.0        6                        Action|Crime|Thriller\n",
       "...      ...      ...                                          ...\n",
       "2693     4.0   180045                                        Drama\n",
       "2694     4.0   180497                               Drama|Thriller\n",
       "2695     3.5   180985                                        Drama\n",
       "2696     2.5   184791                                       Comedy\n",
       "2697     3.5   187595             Action|Adventure|Children|Sci-Fi\n",
       "\n",
       "[2698 rows x 3 columns]"
      ]
     },
     "execution_count": 61,
     "metadata": {},
     "output_type": "execute_result"
    }
   ],
   "source": [
    "best_user_recommend = pd.merge(best_user, movie,\n",
    "                               on='movieId',\n",
    "                               how='inner')\n",
    "best_user_recommend = best_user_recommend[['rating', 'movieId', 'genres']]\n",
    "best_user_recommend"
   ]
  },
  {
   "cell_type": "code",
   "execution_count": 62,
   "metadata": {
    "pycharm": {
     "name": "#%%\n"
    }
   },
   "outputs": [
    {
     "data": {
      "text/plain": [
       "['Adventure',\n",
       " 'Animation',\n",
       " 'Children',\n",
       " 'Comedy',\n",
       " 'Fantasy',\n",
       " 'Romance',\n",
       " 'Drama',\n",
       " 'Action',\n",
       " 'Crime',\n",
       " 'Thriller',\n",
       " 'Horror',\n",
       " 'Mystery',\n",
       " 'Sci-Fi',\n",
       " 'War',\n",
       " 'Musical',\n",
       " 'Documentary',\n",
       " 'IMAX',\n",
       " 'Western',\n",
       " 'Film-Noir',\n",
       " '(no genres listed)']"
      ]
     },
     "execution_count": 62,
     "metadata": {},
     "output_type": "execute_result"
    }
   ],
   "source": [
    "# 위에서 풀었던 내용 반복\n",
    "# genres = movie['genres'].unique()\n",
    "# genres_list = []\n",
    "# for genre in genres :\n",
    "#     temp = list(genre.split(\"|\"))\n",
    "#     for x in temp :\n",
    "#         if x not in genres_list:\n",
    "#             genres_list.append(x)\n",
    "\n",
    "# genres_list 활용\n",
    "genres_list"
   ]
  },
  {
   "cell_type": "code",
   "execution_count": 63,
   "metadata": {
    "pycharm": {
     "name": "#%%\n"
    }
   },
   "outputs": [
    {
     "data": {
      "text/html": [
       "<div>\n",
       "<style scoped>\n",
       "    .dataframe tbody tr th:only-of-type {\n",
       "        vertical-align: middle;\n",
       "    }\n",
       "\n",
       "    .dataframe tbody tr th {\n",
       "        vertical-align: top;\n",
       "    }\n",
       "\n",
       "    .dataframe thead th {\n",
       "        text-align: right;\n",
       "    }\n",
       "</style>\n",
       "<table border=\"1\" class=\"dataframe\">\n",
       "  <thead>\n",
       "    <tr style=\"text-align: right;\">\n",
       "      <th></th>\n",
       "      <th>rating</th>\n",
       "      <th>movieId</th>\n",
       "      <th>genres</th>\n",
       "    </tr>\n",
       "  </thead>\n",
       "  <tbody>\n",
       "    <tr>\n",
       "      <th>4</th>\n",
       "      <td>3.0</td>\n",
       "      <td>6</td>\n",
       "      <td>Action|Crime|Thriller</td>\n",
       "    </tr>\n",
       "    <tr>\n",
       "      <th>7</th>\n",
       "      <td>3.0</td>\n",
       "      <td>10</td>\n",
       "      <td>Action|Adventure|Thriller</td>\n",
       "    </tr>\n",
       "    <tr>\n",
       "      <th>9</th>\n",
       "      <td>2.0</td>\n",
       "      <td>15</td>\n",
       "      <td>Action|Adventure|Romance</td>\n",
       "    </tr>\n",
       "    <tr>\n",
       "      <th>15</th>\n",
       "      <td>2.0</td>\n",
       "      <td>23</td>\n",
       "      <td>Action|Crime|Thriller</td>\n",
       "    </tr>\n",
       "    <tr>\n",
       "      <th>24</th>\n",
       "      <td>2.0</td>\n",
       "      <td>42</td>\n",
       "      <td>Action|Crime|Drama</td>\n",
       "    </tr>\n",
       "    <tr>\n",
       "      <th>...</th>\n",
       "      <td>...</td>\n",
       "      <td>...</td>\n",
       "      <td>...</td>\n",
       "    </tr>\n",
       "    <tr>\n",
       "      <th>2681</th>\n",
       "      <td>5.0</td>\n",
       "      <td>174055</td>\n",
       "      <td>Action|Drama|Thriller|War</td>\n",
       "    </tr>\n",
       "    <tr>\n",
       "      <th>2682</th>\n",
       "      <td>4.0</td>\n",
       "      <td>175569</td>\n",
       "      <td>Action|Crime|Mystery|Thriller</td>\n",
       "    </tr>\n",
       "    <tr>\n",
       "      <th>2683</th>\n",
       "      <td>3.0</td>\n",
       "      <td>175661</td>\n",
       "      <td>Action|Comedy</td>\n",
       "    </tr>\n",
       "    <tr>\n",
       "      <th>2691</th>\n",
       "      <td>4.5</td>\n",
       "      <td>179819</td>\n",
       "      <td>Action|Adventure|Fantasy|Sci-Fi</td>\n",
       "    </tr>\n",
       "    <tr>\n",
       "      <th>2697</th>\n",
       "      <td>3.5</td>\n",
       "      <td>187595</td>\n",
       "      <td>Action|Adventure|Children|Sci-Fi</td>\n",
       "    </tr>\n",
       "  </tbody>\n",
       "</table>\n",
       "<p>668 rows × 3 columns</p>\n",
       "</div>"
      ],
      "text/plain": [
       "      rating  movieId                            genres\n",
       "4        3.0        6             Action|Crime|Thriller\n",
       "7        3.0       10         Action|Adventure|Thriller\n",
       "9        2.0       15          Action|Adventure|Romance\n",
       "15       2.0       23             Action|Crime|Thriller\n",
       "24       2.0       42                Action|Crime|Drama\n",
       "...      ...      ...                               ...\n",
       "2681     5.0   174055         Action|Drama|Thriller|War\n",
       "2682     4.0   175569     Action|Crime|Mystery|Thriller\n",
       "2683     3.0   175661                     Action|Comedy\n",
       "2691     4.5   179819   Action|Adventure|Fantasy|Sci-Fi\n",
       "2697     3.5   187595  Action|Adventure|Children|Sci-Fi\n",
       "\n",
       "[668 rows x 3 columns]"
      ]
     },
     "metadata": {},
     "output_type": "display_data"
    },
    {
     "data": {
      "text/plain": [
       "rating         3.281437\n",
       "movieId    25072.571856\n",
       "dtype: float64"
      ]
     },
     "execution_count": 63,
     "metadata": {},
     "output_type": "execute_result"
    }
   ],
   "source": [
    "#test\n",
    "temp = best_user_recommend[best_user_recommend['genres'].str.contains('Action')]\n",
    "display(temp)\n",
    "temp.mean()"
   ]
  },
  {
   "cell_type": "code",
   "execution_count": 64,
   "metadata": {
    "pycharm": {
     "name": "#%%\n"
    }
   },
   "outputs": [
    {
     "name": "stdout",
     "output_type": "stream",
     "text": [
      "[3.423413566739606, 3.786290322580645, 3.4152542372881354, 3.2710843373493974, 3.411504424778761, 3.3762278978388998, 3.5614973262032086, 3.281437125748503, 3.4759615384615383, 3.2904, 3.0833333333333335, 3.5733333333333333, 3.4024767801857587, 3.8306451612903225, 3.4545454545454546, 3.6774193548387095, 3.719298245614035, 3.576923076923077, 3.857142857142857, 4.25]\n"
     ]
    }
   ],
   "source": [
    "best_user_genres_rate = []\n",
    "for genre in genres_list :\n",
    "    rate = best_user_recommend[best_user_recommend['genres'].str.contains(genre)]['rating'].mean() # genres_list를 이용하여 장르별 평점평균을 구하고\n",
    "    best_user_genres_rate.append(rate) # 구한 평점평균을 새로운 리스트에 저장함.\n",
    "\n",
    "print(best_user_genres_rate)"
   ]
  },
  {
   "cell_type": "code",
   "execution_count": 65,
   "metadata": {
    "pycharm": {
     "name": "#%%\n"
    }
   },
   "outputs": [
    {
     "data": {
      "text/html": [
       "<div>\n",
       "<style scoped>\n",
       "    .dataframe tbody tr th:only-of-type {\n",
       "        vertical-align: middle;\n",
       "    }\n",
       "\n",
       "    .dataframe tbody tr th {\n",
       "        vertical-align: top;\n",
       "    }\n",
       "\n",
       "    .dataframe thead th {\n",
       "        text-align: right;\n",
       "    }\n",
       "</style>\n",
       "<table border=\"1\" class=\"dataframe\">\n",
       "  <thead>\n",
       "    <tr style=\"text-align: right;\">\n",
       "      <th></th>\n",
       "      <th>average rate</th>\n",
       "    </tr>\n",
       "  </thead>\n",
       "  <tbody>\n",
       "    <tr>\n",
       "      <th>Adventure</th>\n",
       "      <td>3.423414</td>\n",
       "    </tr>\n",
       "    <tr>\n",
       "      <th>Animation</th>\n",
       "      <td>3.786290</td>\n",
       "    </tr>\n",
       "    <tr>\n",
       "      <th>Children</th>\n",
       "      <td>3.415254</td>\n",
       "    </tr>\n",
       "    <tr>\n",
       "      <th>Comedy</th>\n",
       "      <td>3.271084</td>\n",
       "    </tr>\n",
       "    <tr>\n",
       "      <th>Fantasy</th>\n",
       "      <td>3.411504</td>\n",
       "    </tr>\n",
       "    <tr>\n",
       "      <th>Romance</th>\n",
       "      <td>3.376228</td>\n",
       "    </tr>\n",
       "    <tr>\n",
       "      <th>Drama</th>\n",
       "      <td>3.561497</td>\n",
       "    </tr>\n",
       "    <tr>\n",
       "      <th>Action</th>\n",
       "      <td>3.281437</td>\n",
       "    </tr>\n",
       "    <tr>\n",
       "      <th>Crime</th>\n",
       "      <td>3.475962</td>\n",
       "    </tr>\n",
       "    <tr>\n",
       "      <th>Thriller</th>\n",
       "      <td>3.290400</td>\n",
       "    </tr>\n",
       "    <tr>\n",
       "      <th>Horror</th>\n",
       "      <td>3.083333</td>\n",
       "    </tr>\n",
       "    <tr>\n",
       "      <th>Mystery</th>\n",
       "      <td>3.573333</td>\n",
       "    </tr>\n",
       "    <tr>\n",
       "      <th>Sci-Fi</th>\n",
       "      <td>3.402477</td>\n",
       "    </tr>\n",
       "    <tr>\n",
       "      <th>War</th>\n",
       "      <td>3.830645</td>\n",
       "    </tr>\n",
       "    <tr>\n",
       "      <th>Musical</th>\n",
       "      <td>3.454545</td>\n",
       "    </tr>\n",
       "    <tr>\n",
       "      <th>Documentary</th>\n",
       "      <td>3.677419</td>\n",
       "    </tr>\n",
       "    <tr>\n",
       "      <th>IMAX</th>\n",
       "      <td>3.719298</td>\n",
       "    </tr>\n",
       "    <tr>\n",
       "      <th>Western</th>\n",
       "      <td>3.576923</td>\n",
       "    </tr>\n",
       "    <tr>\n",
       "      <th>Film-Noir</th>\n",
       "      <td>3.857143</td>\n",
       "    </tr>\n",
       "    <tr>\n",
       "      <th>(no genres listed)</th>\n",
       "      <td>4.250000</td>\n",
       "    </tr>\n",
       "  </tbody>\n",
       "</table>\n",
       "</div>"
      ],
      "text/plain": [
       "                    average rate\n",
       "Adventure               3.423414\n",
       "Animation               3.786290\n",
       "Children                3.415254\n",
       "Comedy                  3.271084\n",
       "Fantasy                 3.411504\n",
       "Romance                 3.376228\n",
       "Drama                   3.561497\n",
       "Action                  3.281437\n",
       "Crime                   3.475962\n",
       "Thriller                3.290400\n",
       "Horror                  3.083333\n",
       "Mystery                 3.573333\n",
       "Sci-Fi                  3.402477\n",
       "War                     3.830645\n",
       "Musical                 3.454545\n",
       "Documentary             3.677419\n",
       "IMAX                    3.719298\n",
       "Western                 3.576923\n",
       "Film-Noir               3.857143\n",
       "(no genres listed)      4.250000"
      ]
     },
     "execution_count": 65,
     "metadata": {},
     "output_type": "execute_result"
    }
   ],
   "source": [
    "best_user_df = pd.DataFrame({'average rate' : best_user_genres_rate},\n",
    "                            index=genres_list)\n",
    "best_user_df"
   ]
  },
  {
   "cell_type": "code",
   "execution_count": 66,
   "metadata": {
    "pycharm": {
     "name": "#%%\n"
    }
   },
   "outputs": [],
   "source": [
    "best_user_df.sort_values(by='average rate', ascending=False, inplace=True) # 내림차순 정렬"
   ]
  },
  {
   "cell_type": "code",
   "execution_count": 67,
   "metadata": {
    "pycharm": {
     "name": "#%%\n"
    }
   },
   "outputs": [
    {
     "data": {
      "text/html": [
       "<div>\n",
       "<style scoped>\n",
       "    .dataframe tbody tr th:only-of-type {\n",
       "        vertical-align: middle;\n",
       "    }\n",
       "\n",
       "    .dataframe tbody tr th {\n",
       "        vertical-align: top;\n",
       "    }\n",
       "\n",
       "    .dataframe thead th {\n",
       "        text-align: right;\n",
       "    }\n",
       "</style>\n",
       "<table border=\"1\" class=\"dataframe\">\n",
       "  <thead>\n",
       "    <tr style=\"text-align: right;\">\n",
       "      <th></th>\n",
       "      <th>average rate</th>\n",
       "    </tr>\n",
       "  </thead>\n",
       "  <tbody>\n",
       "    <tr>\n",
       "      <th>(no genres listed)</th>\n",
       "      <td>4.250000</td>\n",
       "    </tr>\n",
       "    <tr>\n",
       "      <th>Film-Noir</th>\n",
       "      <td>3.857143</td>\n",
       "    </tr>\n",
       "    <tr>\n",
       "      <th>War</th>\n",
       "      <td>3.830645</td>\n",
       "    </tr>\n",
       "    <tr>\n",
       "      <th>Animation</th>\n",
       "      <td>3.786290</td>\n",
       "    </tr>\n",
       "    <tr>\n",
       "      <th>IMAX</th>\n",
       "      <td>3.719298</td>\n",
       "    </tr>\n",
       "    <tr>\n",
       "      <th>Documentary</th>\n",
       "      <td>3.677419</td>\n",
       "    </tr>\n",
       "    <tr>\n",
       "      <th>Western</th>\n",
       "      <td>3.576923</td>\n",
       "    </tr>\n",
       "    <tr>\n",
       "      <th>Mystery</th>\n",
       "      <td>3.573333</td>\n",
       "    </tr>\n",
       "    <tr>\n",
       "      <th>Drama</th>\n",
       "      <td>3.561497</td>\n",
       "    </tr>\n",
       "    <tr>\n",
       "      <th>Crime</th>\n",
       "      <td>3.475962</td>\n",
       "    </tr>\n",
       "    <tr>\n",
       "      <th>Musical</th>\n",
       "      <td>3.454545</td>\n",
       "    </tr>\n",
       "    <tr>\n",
       "      <th>Adventure</th>\n",
       "      <td>3.423414</td>\n",
       "    </tr>\n",
       "    <tr>\n",
       "      <th>Children</th>\n",
       "      <td>3.415254</td>\n",
       "    </tr>\n",
       "    <tr>\n",
       "      <th>Fantasy</th>\n",
       "      <td>3.411504</td>\n",
       "    </tr>\n",
       "    <tr>\n",
       "      <th>Sci-Fi</th>\n",
       "      <td>3.402477</td>\n",
       "    </tr>\n",
       "    <tr>\n",
       "      <th>Romance</th>\n",
       "      <td>3.376228</td>\n",
       "    </tr>\n",
       "    <tr>\n",
       "      <th>Thriller</th>\n",
       "      <td>3.290400</td>\n",
       "    </tr>\n",
       "    <tr>\n",
       "      <th>Action</th>\n",
       "      <td>3.281437</td>\n",
       "    </tr>\n",
       "    <tr>\n",
       "      <th>Comedy</th>\n",
       "      <td>3.271084</td>\n",
       "    </tr>\n",
       "    <tr>\n",
       "      <th>Horror</th>\n",
       "      <td>3.083333</td>\n",
       "    </tr>\n",
       "  </tbody>\n",
       "</table>\n",
       "</div>"
      ],
      "text/plain": [
       "                    average rate\n",
       "(no genres listed)      4.250000\n",
       "Film-Noir               3.857143\n",
       "War                     3.830645\n",
       "Animation               3.786290\n",
       "IMAX                    3.719298\n",
       "Documentary             3.677419\n",
       "Western                 3.576923\n",
       "Mystery                 3.573333\n",
       "Drama                   3.561497\n",
       "Crime                   3.475962\n",
       "Musical                 3.454545\n",
       "Adventure               3.423414\n",
       "Children                3.415254\n",
       "Fantasy                 3.411504\n",
       "Sci-Fi                  3.402477\n",
       "Romance                 3.376228\n",
       "Thriller                3.290400\n",
       "Action                  3.281437\n",
       "Comedy                  3.271084\n",
       "Horror                  3.083333"
      ]
     },
     "execution_count": 67,
     "metadata": {},
     "output_type": "execute_result"
    }
   ],
   "source": [
    "best_user_df"
   ]
  },
  {
   "cell_type": "code",
   "execution_count": 68,
   "metadata": {
    "pycharm": {
     "name": "#%%\n"
    },
    "scrolled": true
   },
   "outputs": [
    {
     "data": {
      "text/html": [
       "<div>\n",
       "<style scoped>\n",
       "    .dataframe tbody tr th:only-of-type {\n",
       "        vertical-align: middle;\n",
       "    }\n",
       "\n",
       "    .dataframe tbody tr th {\n",
       "        vertical-align: top;\n",
       "    }\n",
       "\n",
       "    .dataframe thead th {\n",
       "        text-align: right;\n",
       "    }\n",
       "</style>\n",
       "<table border=\"1\" class=\"dataframe\">\n",
       "  <thead>\n",
       "    <tr style=\"text-align: right;\">\n",
       "      <th></th>\n",
       "      <th>average rate</th>\n",
       "    </tr>\n",
       "  </thead>\n",
       "  <tbody>\n",
       "    <tr>\n",
       "      <th>(no genres listed)</th>\n",
       "      <td>4.250000</td>\n",
       "    </tr>\n",
       "    <tr>\n",
       "      <th>Film-Noir</th>\n",
       "      <td>3.857143</td>\n",
       "    </tr>\n",
       "    <tr>\n",
       "      <th>War</th>\n",
       "      <td>3.830645</td>\n",
       "    </tr>\n",
       "    <tr>\n",
       "      <th>Animation</th>\n",
       "      <td>3.786290</td>\n",
       "    </tr>\n",
       "    <tr>\n",
       "      <th>IMAX</th>\n",
       "      <td>3.719298</td>\n",
       "    </tr>\n",
       "  </tbody>\n",
       "</table>\n",
       "</div>"
      ],
      "text/plain": [
       "                    average rate\n",
       "(no genres listed)      4.250000\n",
       "Film-Noir               3.857143\n",
       "War                     3.830645\n",
       "Animation               3.786290\n",
       "IMAX                    3.719298"
      ]
     },
     "execution_count": 68,
     "metadata": {},
     "output_type": "execute_result"
    }
   ],
   "source": [
    "favorite_genres = best_user_df.iloc[:5]\n",
    "favorite_genres"
   ]
  },
  {
   "cell_type": "code",
   "execution_count": null,
   "metadata": {},
   "outputs": [],
   "source": []
  },
  {
   "cell_type": "code",
   "execution_count": 69,
   "metadata": {
    "pycharm": {
     "name": "#%%\n"
    }
   },
   "outputs": [
    {
     "data": {
      "text/html": [
       "<div>\n",
       "<style scoped>\n",
       "    .dataframe tbody tr th:only-of-type {\n",
       "        vertical-align: middle;\n",
       "    }\n",
       "\n",
       "    .dataframe tbody tr th {\n",
       "        vertical-align: top;\n",
       "    }\n",
       "\n",
       "    .dataframe thead th {\n",
       "        text-align: right;\n",
       "    }\n",
       "</style>\n",
       "<table border=\"1\" class=\"dataframe\">\n",
       "  <thead>\n",
       "    <tr style=\"text-align: right;\">\n",
       "      <th></th>\n",
       "      <th>rating</th>\n",
       "      <th>movieId</th>\n",
       "      <th>genres</th>\n",
       "    </tr>\n",
       "  </thead>\n",
       "  <tbody>\n",
       "    <tr>\n",
       "      <th>2665</th>\n",
       "      <td>4.5</td>\n",
       "      <td>166024</td>\n",
       "      <td>(no genres listed)</td>\n",
       "    </tr>\n",
       "    <tr>\n",
       "      <th>2670</th>\n",
       "      <td>4.0</td>\n",
       "      <td>167570</td>\n",
       "      <td>(no genres listed)</td>\n",
       "    </tr>\n",
       "  </tbody>\n",
       "</table>\n",
       "</div>"
      ],
      "text/plain": [
       "      rating  movieId              genres\n",
       "2665     4.5   166024  (no genres listed)\n",
       "2670     4.0   167570  (no genres listed)"
      ]
     },
     "execution_count": 69,
     "metadata": {},
     "output_type": "execute_result"
    }
   ],
   "source": [
    "best_user_recommend[best_user_recommend['genres']=='(no genres listed)']"
   ]
  },
  {
   "cell_type": "code",
   "execution_count": 70,
   "metadata": {
    "pycharm": {
     "name": "#%%\n"
    }
   },
   "outputs": [
    {
     "data": {
      "text/html": [
       "<div>\n",
       "<style scoped>\n",
       "    .dataframe tbody tr th:only-of-type {\n",
       "        vertical-align: middle;\n",
       "    }\n",
       "\n",
       "    .dataframe tbody tr th {\n",
       "        vertical-align: top;\n",
       "    }\n",
       "\n",
       "    .dataframe thead th {\n",
       "        text-align: right;\n",
       "    }\n",
       "</style>\n",
       "<table border=\"1\" class=\"dataframe\">\n",
       "  <thead>\n",
       "    <tr style=\"text-align: right;\">\n",
       "      <th></th>\n",
       "      <th>movieId</th>\n",
       "      <th>title</th>\n",
       "      <th>genres</th>\n",
       "    </tr>\n",
       "  </thead>\n",
       "  <tbody>\n",
       "    <tr>\n",
       "      <th>9426</th>\n",
       "      <td>166024</td>\n",
       "      <td>Whiplash (2013)</td>\n",
       "      <td>(no genres listed)</td>\n",
       "    </tr>\n",
       "  </tbody>\n",
       "</table>\n",
       "</div>"
      ],
      "text/plain": [
       "      movieId            title              genres\n",
       "9426   166024  Whiplash (2013)  (no genres listed)"
      ]
     },
     "execution_count": 70,
     "metadata": {},
     "output_type": "execute_result"
    }
   ],
   "source": [
    "movie[movie['movieId']==166024]"
   ]
  },
  {
   "cell_type": "markdown",
   "metadata": {},
   "source": [
    "=> 단편"
   ]
  },
  {
   "cell_type": "code",
   "execution_count": 71,
   "metadata": {
    "pycharm": {
     "name": "#%%\n"
    }
   },
   "outputs": [
    {
     "data": {
      "text/html": [
       "<div>\n",
       "<style scoped>\n",
       "    .dataframe tbody tr th:only-of-type {\n",
       "        vertical-align: middle;\n",
       "    }\n",
       "\n",
       "    .dataframe tbody tr th {\n",
       "        vertical-align: top;\n",
       "    }\n",
       "\n",
       "    .dataframe thead th {\n",
       "        text-align: right;\n",
       "    }\n",
       "</style>\n",
       "<table border=\"1\" class=\"dataframe\">\n",
       "  <thead>\n",
       "    <tr style=\"text-align: right;\">\n",
       "      <th></th>\n",
       "      <th>movieId</th>\n",
       "      <th>title</th>\n",
       "      <th>genres</th>\n",
       "    </tr>\n",
       "  </thead>\n",
       "  <tbody>\n",
       "    <tr>\n",
       "      <th>9448</th>\n",
       "      <td>167570</td>\n",
       "      <td>The OA</td>\n",
       "      <td>(no genres listed)</td>\n",
       "    </tr>\n",
       "  </tbody>\n",
       "</table>\n",
       "</div>"
      ],
      "text/plain": [
       "      movieId   title              genres\n",
       "9448   167570  The OA  (no genres listed)"
      ]
     },
     "execution_count": 71,
     "metadata": {},
     "output_type": "execute_result"
    }
   ],
   "source": [
    "movie[movie['movieId']==167570]"
   ]
  },
  {
   "cell_type": "markdown",
   "metadata": {
    "pycharm": {
     "name": "#%% md\n"
    }
   },
   "source": [
    "=> 미스터리, 영화아닌데"
   ]
  }
 ],
 "metadata": {
  "kernelspec": {
   "display_name": "Python 3 (ipykernel)",
   "language": "python",
   "name": "python3"
  },
  "language_info": {
   "codemirror_mode": {
    "name": "ipython",
    "version": 3
   },
   "file_extension": ".py",
   "mimetype": "text/x-python",
   "name": "python",
   "nbconvert_exporter": "python",
   "pygments_lexer": "ipython3",
   "version": "3.8.12"
  }
 },
 "nbformat": 4,
 "nbformat_minor": 1
}