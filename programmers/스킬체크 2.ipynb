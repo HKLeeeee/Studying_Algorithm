{
 "cells": [
  {
   "cell_type": "code",
   "execution_count": 31,
   "metadata": {
    "collapsed": true,
    "pycharm": {
     "name": "#%%\n"
    }
   },
   "outputs": [],
   "source": [
    "from itertools import combinations\n",
    "def solution(number, k):\n",
    "    k = len(number) - k\n",
    "    number = list(combinations(number, k))\n",
    "    combi = []\n",
    "    for n in number:\n",
    "        combi.append(''.join(n))\n",
    "    return str(max(combi))"
   ]
  },
  {
   "cell_type": "code",
   "execution_count": 32,
   "outputs": [],
   "source": [
    "def solution(number, k):\n",
    "    sorted_number = sorted(list(number), reverse=True)\n",
    "    top = sorted_number[:len(number)-k]\n",
    "    anwser = ''\n",
    "    for n in number:\n",
    "        if n in top :\n",
    "            anwser += n\n",
    "            top.remove(n)\n",
    "    return anwser"
   ],
   "metadata": {
    "collapsed": false,
    "pycharm": {
     "name": "#%%\n"
    }
   }
  },
  {
   "cell_type": "code",
   "execution_count": 33,
   "outputs": [
    {
     "data": {
      "text/plain": "'477584'"
     },
     "execution_count": 33,
     "metadata": {},
     "output_type": "execute_result"
    }
   ],
   "source": [
    "solution('4177252841', 4)"
   ],
   "metadata": {
    "collapsed": false,
    "pycharm": {
     "name": "#%%\n"
    }
   }
  },
  {
   "cell_type": "code",
   "execution_count": 34,
   "outputs": [
    {
     "data": {
      "text/plain": "['8', '7', '7', '5']"
     },
     "execution_count": 34,
     "metadata": {},
     "output_type": "execute_result"
    }
   ],
   "source": [
    "number = '4177252841'\n",
    "temp = sorted(list(number), reverse=True)\n",
    "temp[:4]"
   ],
   "metadata": {
    "collapsed": false,
    "pycharm": {
     "name": "#%%\n"
    }
   }
  },
  {
   "cell_type": "code",
   "execution_count": 35,
   "outputs": [
    {
     "data": {
      "text/plain": "['8', '7', '7', '5', '4', '4', '2', '2', '1', '1']"
     },
     "execution_count": 35,
     "metadata": {},
     "output_type": "execute_result"
    }
   ],
   "source": [
    "temp"
   ],
   "metadata": {
    "collapsed": false,
    "pycharm": {
     "name": "#%%\n"
    }
   }
  },
  {
   "cell_type": "code",
   "execution_count": 36,
   "outputs": [
    {
     "data": {
      "text/plain": "3"
     },
     "execution_count": 36,
     "metadata": {},
     "output_type": "execute_result"
    }
   ],
   "source": [
    "temp.index('5')"
   ],
   "metadata": {
    "collapsed": false,
    "pycharm": {
     "name": "#%%\n"
    }
   }
  },
  {
   "cell_type": "code",
   "execution_count": 37,
   "outputs": [],
   "source": [
    "from itertools import combinations\n",
    "def solution(number, k):\n",
    "    k = len(number) - k\n",
    "    number = combinations(number, k)\n",
    "    combi = map(lambda x : ''.join(x), number)\n",
    "    return str(max(combi))"
   ],
   "metadata": {
    "collapsed": false,
    "pycharm": {
     "name": "#%%\n"
    }
   }
  },
  {
   "cell_type": "code",
   "execution_count": 38,
   "outputs": [
    {
     "data": {
      "text/plain": "'775841'"
     },
     "execution_count": 38,
     "metadata": {},
     "output_type": "execute_result"
    }
   ],
   "source": [
    "solution('4177252841', 4)"
   ],
   "metadata": {
    "collapsed": false,
    "pycharm": {
     "name": "#%%\n"
    }
   }
  },
  {
   "cell_type": "code",
   "execution_count": null,
   "outputs": [],
   "source": [
    "def sol(n) :\n",
    "    answer = [[0 for _ in range(i)] for i in range(1, n+1)]\n",
    "    cnt = 1\n",
    "    col, row = 0,0\n",
    "    case = 1\n",
    "    while n > 1 :\n",
    "        if case == 1:\n",
    "            if cnt != 1 :\n",
    "                col += 1\n",
    "                row += 1\n",
    "                n -= 1\n",
    "            for _ in range(n) :\n",
    "                answer[row][col] = cnt\n",
    "                cnt += 1\n",
    "                row += 1\n",
    "            case += 1\n",
    "            row -= 1\n",
    "        elif case == 2 :\n",
    "            col += 1\n",
    "            n -= 1\n",
    "            for _ in range(n):\n",
    "                answer[row][col] = cnt\n",
    "                cnt += 1\n",
    "                col += 1\n",
    "            case += 1\n",
    "            col -= 1\n",
    "        else :\n",
    "            row -= 1\n",
    "            col -= 1\n",
    "            n -= 1\n",
    "            for _ in range(n) :\n",
    "                answer[row][col] = cnt\n",
    "                cnt += 1\n",
    "                row -= 1\n",
    "                col -= 1\n",
    "            case = 1\n",
    "    return answer"
   ],
   "metadata": {
    "collapsed": false,
    "pycharm": {
     "name": "#%%\n"
    }
   }
  },
  {
   "cell_type": "code",
   "execution_count": 65,
   "outputs": [],
   "source": [
    "import math\n",
    "def solution(w,h):\n",
    "    answer = 0\n",
    "    start = h\n",
    "    for x in range(1, w+1) :\n",
    "        y = - (h/w) * x + h\n",
    "        bottom = math.floor(y)\n",
    "        answer += start - bottom\n",
    "        start = math.ceil(y)\n",
    "    return w*h - answer"
   ],
   "metadata": {
    "collapsed": false,
    "pycharm": {
     "name": "#%%\n"
    }
   }
  },
  {
   "cell_type": "code",
   "execution_count": 64,
   "outputs": [
    {
     "name": "stdout",
     "output_type": "stream",
     "text": [
      "s, 4\n",
      "b, 3\n",
      "s, 3\n",
      "b, 2\n",
      "s, 2\n",
      "b, 1\n",
      "s, 1\n",
      "b, 0\n"
     ]
    },
    {
     "data": {
      "text/plain": "12"
     },
     "execution_count": 64,
     "metadata": {},
     "output_type": "execute_result"
    }
   ],
   "source": [
    "solution(4,4)"
   ],
   "metadata": {
    "collapsed": false,
    "pycharm": {
     "name": "#%%\n"
    }
   }
  },
  {
   "cell_type": "code",
   "execution_count": 61,
   "outputs": [],
   "source": [],
   "metadata": {
    "collapsed": false,
    "pycharm": {
     "name": "#%%\n"
    }
   }
  },
  {
   "cell_type": "code",
   "execution_count": 62,
   "outputs": [],
   "source": [],
   "metadata": {
    "collapsed": false,
    "pycharm": {
     "name": "#%%\n"
    }
   }
  },
  {
   "cell_type": "code",
   "execution_count": null,
   "outputs": [],
   "source": [],
   "metadata": {
    "collapsed": false,
    "pycharm": {
     "name": "#%%\n"
    }
   }
  }
 ],
 "metadata": {
  "kernelspec": {
   "display_name": "Python 3",
   "language": "python",
   "name": "python3"
  },
  "language_info": {
   "codemirror_mode": {
    "name": "ipython",
    "version": 2
   },
   "file_extension": ".py",
   "mimetype": "text/x-python",
   "name": "python",
   "nbconvert_exporter": "python",
   "pygments_lexer": "ipython2",
   "version": "2.7.6"
  }
 },
 "nbformat": 4,
 "nbformat_minor": 0
}