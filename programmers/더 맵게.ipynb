{
 "cells": [
  {
   "cell_type": "code",
   "execution_count": 15,
   "metadata": {
    "collapsed": true
   },
   "outputs": [],
   "source": [
    "import heapq\n",
    "def solution(scoville, K):\n",
    "    heap = []\n",
    "    for s in scoville :\n",
    "        heapq.heappush(heap, s)\n",
    "\n",
    "    cnt = 0\n",
    "    while len(heap)>=2 :\n",
    "        min1 = heapq.heappop(heap)\n",
    "        min2 = heapq.heappop(heap)\n",
    "        result = min1 + 2*min2\n",
    "        heapq.heappush(heap, result)\n",
    "        cnt += 1\n",
    "        if heap[0] >= K :\n",
    "            return cnt\n",
    "    if cnt == len(scoville)-1 :\n",
    "        return -1\n",
    "    return cnt"
   ]
  },
  {
   "cell_type": "code",
   "execution_count": 16,
   "outputs": [
    {
     "name": "stdout",
     "output_type": "stream",
     "text": [
      "5\n",
      "13\n",
      "29\n",
      "38\n",
      "105\n"
     ]
    },
    {
     "data": {
      "text/plain": "-1"
     },
     "execution_count": 16,
     "metadata": {},
     "output_type": "execute_result"
    }
   ],
   "source": [
    "solution([1, 2, 3, 9, 10, 12], 100000)"
   ],
   "metadata": {
    "collapsed": false,
    "pycharm": {
     "name": "#%%\n"
    }
   }
  },
  {
   "cell_type": "code",
   "execution_count": null,
   "outputs": [],
   "source": [],
   "metadata": {
    "collapsed": false,
    "pycharm": {
     "name": "#%%\n"
    }
   }
  }
 ],
 "metadata": {
  "kernelspec": {
   "display_name": "Python 3",
   "language": "python",
   "name": "python3"
  },
  "language_info": {
   "codemirror_mode": {
    "name": "ipython",
    "version": 2
   },
   "file_extension": ".py",
   "mimetype": "text/x-python",
   "name": "python",
   "nbconvert_exporter": "python",
   "pygments_lexer": "ipython2",
   "version": "2.7.6"
  }
 },
 "nbformat": 4,
 "nbformat_minor": 0
}