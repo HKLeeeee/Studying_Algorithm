{
 "cells": [
  {
   "cell_type": "code",
   "execution_count": null,
   "outputs": [],
   "source": [
    "# brown + yellow = r*c\n",
    "# brown = 2(r+c) - 4"
   ],
   "metadata": {
    "collapsed": false,
    "pycharm": {
     "name": "#%%\n"
    }
   }
  },
  {
   "cell_type": "code",
   "execution_count": 32,
   "outputs": [],
   "source": [
    "def solution(brown, yellow):\n",
    "    #print(brown//2+1, brown+yellow)\n",
    "    for r in range(brown//2+1, 0, -1) :\n",
    "        c = int((brown + 4 - 2*r)/2)\n",
    "        #print(r,\"->\", c, \":\", r*c)\n",
    "\n",
    "        if r*c == (brown + yellow) :\n",
    "            #print('!!')\n",
    "            return [r,c]\n",
    "    return False"
   ],
   "metadata": {
    "collapsed": false,
    "pycharm": {
     "name": "#%%\n"
    }
   }
  }
 ],
 "metadata": {
  "kernelspec": {
   "display_name": "Python 3",
   "language": "python",
   "name": "python3"
  },
  "language_info": {
   "codemirror_mode": {
    "name": "ipython",
    "version": 2
   },
   "file_extension": ".py",
   "mimetype": "text/x-python",
   "name": "python",
   "nbconvert_exporter": "python",
   "pygments_lexer": "ipython2",
   "version": "2.7.6"
  }
 },
 "nbformat": 4,
 "nbformat_minor": 0
}