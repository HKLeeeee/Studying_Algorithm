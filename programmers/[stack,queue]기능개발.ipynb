{
 "cells": [
  {
   "cell_type": "code",
   "execution_count": null,
   "metadata": {},
   "outputs": [],
   "source": [
    "def solution(progresses, speeds):\n",
    "    idx = 0\n",
    "    answer = []\n",
    "    while(idx < len(progresses)) :\n",
    "        cnt = 0\n",
    "        for i in range(idx, len(progresses)) :\n",
    "            progresses[i] += speeds[i]\n",
    "            \n",
    "        if progresses[idx] >= 100 :\n",
    "            idx += 1\n",
    "            cnt += 1\n",
    "            while(idx<len(progresses) and progresses[idx]>=100) :\n",
    "                idx += 1\n",
    "                cnt += 1\n",
    "            answer.append(cnt)\n",
    "            print(cnt)\n",
    "    return answer"
   ]
  }
 ],
 "metadata": {
  "kernelspec": {
   "display_name": "Python 3",
   "language": "python",
   "name": "python3"
  },
  "language_info": {
   "codemirror_mode": {
    "name": "ipython",
    "version": 3
   },
   "file_extension": ".py",
   "mimetype": "text/x-python",
   "name": "python",
   "nbconvert_exporter": "python",
   "pygments_lexer": "ipython3",
   "version": "3.8.5"
  }
 },
 "nbformat": 4,
 "nbformat_minor": 4
}
